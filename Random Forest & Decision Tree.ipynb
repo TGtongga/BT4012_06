{
  "cells": [
    {
      "cell_type": "markdown",
      "metadata": {},
      "source": [
        "<h1> Ramdom Forest and Decision Tree </h1>\n",
        "\n",
        "<h3> Author: Tong Zhongyi </h3>\n",
        "\n",
        "<h3> Date: 2023-11-21 </h3>"
      ]
    },
    {
      "cell_type": "code",
      "execution_count": 71,
      "metadata": {},
      "outputs": [],
      "source": [
        "import pandas as pd\n",
        "import numpy as np\n",
        "from sklearn.metrics import accuracy_score, precision_score, recall_score, f1_score, make_scorer\n",
        "from sklearn.ensemble import RandomForestClassifier\n",
        "from sklearn.tree import DecisionTreeClassifier\n",
        "from sklearn.model_selection import RandomizedSearchCV\n",
        "\n",
        "import warnings\n",
        "warnings.filterwarnings('ignore')"
      ]
    },
    {
      "cell_type": "code",
      "execution_count": 9,
      "metadata": {
        "id": "tq3e_teimjm2"
      },
      "outputs": [],
      "source": [
        "df = pd.read_csv('./Data/train_non_embedded.csv', index_col=None)"
      ]
    },
    {
      "cell_type": "code",
      "execution_count": 10,
      "metadata": {
        "id": "1VIm_O7Sojcr"
      },
      "outputs": [],
      "source": [
        "test = pd.read_csv('./Data/test_non_embedded.csv', index_col=None)"
      ]
    },
    {
      "cell_type": "code",
      "execution_count": 11,
      "metadata": {
        "id": "xrgtPwM-mwcX"
      },
      "outputs": [],
      "source": [
        "X_train = df.drop('fraudulent',axis = 1)\n",
        "y_train = df[['fraudulent']]\n",
        "X_test = test.drop('fraudulent',axis = 1)\n",
        "y_test = test[['fraudulent']]"
      ]
    },
    {
      "cell_type": "markdown",
      "metadata": {
        "id": "AQbTnaFco4n2"
      },
      "source": [
        "<h1> Random Forest\n"
      ]
    },
    {
      "cell_type": "code",
      "execution_count": 43,
      "metadata": {
        "colab": {
          "base_uri": "https://localhost:8080/"
        },
        "id": "Kfm40j0cnkzT",
        "outputId": "ba1ba47c-1723-433d-fabd-a5c6c7723708"
      },
      "outputs": [
        {
          "name": "stdout",
          "output_type": "stream",
          "text": [
            "Fitting 5 folds for each of 50 candidates, totalling 250 fits\n"
          ]
        },
        {
          "name": "stderr",
          "output_type": "stream",
          "text": [
            "/Users/zhongyitong/Library/Python/3.11/lib/python/site-packages/sklearn/base.py:1152: DataConversionWarning: A column-vector y was passed when a 1d array was expected. Please change the shape of y to (n_samples,), for example using ravel().\n",
            "  return fit_method(estimator, *args, **kwargs)\n",
            "/Users/zhongyitong/Library/Python/3.11/lib/python/site-packages/sklearn/base.py:1152: DataConversionWarning: A column-vector y was passed when a 1d array was expected. Please change the shape of y to (n_samples,), for example using ravel().\n",
            "  return fit_method(estimator, *args, **kwargs)\n",
            "/Users/zhongyitong/Library/Python/3.11/lib/python/site-packages/sklearn/base.py:1152: DataConversionWarning: A column-vector y was passed when a 1d array was expected. Please change the shape of y to (n_samples,), for example using ravel().\n",
            "  return fit_method(estimator, *args, **kwargs)\n",
            "/Users/zhongyitong/Library/Python/3.11/lib/python/site-packages/sklearn/base.py:1152: DataConversionWarning: A column-vector y was passed when a 1d array was expected. Please change the shape of y to (n_samples,), for example using ravel().\n",
            "  return fit_method(estimator, *args, **kwargs)\n",
            "/Users/zhongyitong/Library/Python/3.11/lib/python/site-packages/sklearn/base.py:1152: DataConversionWarning: A column-vector y was passed when a 1d array was expected. Please change the shape of y to (n_samples,), for example using ravel().\n",
            "  return fit_method(estimator, *args, **kwargs)\n",
            "/Users/zhongyitong/Library/Python/3.11/lib/python/site-packages/sklearn/base.py:1152: DataConversionWarning: A column-vector y was passed when a 1d array was expected. Please change the shape of y to (n_samples,), for example using ravel().\n",
            "  return fit_method(estimator, *args, **kwargs)\n",
            "/Users/zhongyitong/Library/Python/3.11/lib/python/site-packages/sklearn/base.py:1152: DataConversionWarning: A column-vector y was passed when a 1d array was expected. Please change the shape of y to (n_samples,), for example using ravel().\n",
            "  return fit_method(estimator, *args, **kwargs)\n",
            "/Users/zhongyitong/Library/Python/3.11/lib/python/site-packages/sklearn/base.py:1152: DataConversionWarning: A column-vector y was passed when a 1d array was expected. Please change the shape of y to (n_samples,), for example using ravel().\n",
            "  return fit_method(estimator, *args, **kwargs)\n",
            "/Users/zhongyitong/Library/Python/3.11/lib/python/site-packages/sklearn/base.py:1152: DataConversionWarning: A column-vector y was passed when a 1d array was expected. Please change the shape of y to (n_samples,), for example using ravel().\n",
            "  return fit_method(estimator, *args, **kwargs)\n",
            "/Users/zhongyitong/Library/Python/3.11/lib/python/site-packages/sklearn/base.py:1152: DataConversionWarning: A column-vector y was passed when a 1d array was expected. Please change the shape of y to (n_samples,), for example using ravel().\n",
            "  return fit_method(estimator, *args, **kwargs)\n"
          ]
        },
        {
          "name": "stdout",
          "output_type": "stream",
          "text": [
            "[CV] END class_weight={0: 1, 1: 1000000}, max_depth=40, min_samples_leaf=3, min_samples_split=7, n_estimators=207; total time=  11.0s\n",
            "[CV] END class_weight={0: 1, 1: 1000000}, max_depth=40, min_samples_leaf=3, min_samples_split=7, n_estimators=207; total time=  11.0s\n",
            "[CV] END class_weight={0: 1, 1: 1000000}, max_depth=40, min_samples_leaf=3, min_samples_split=7, n_estimators=207; total time=  11.2s\n",
            "[CV] END class_weight={0: 1, 1: 1000000}, max_depth=40, min_samples_leaf=3, min_samples_split=7, n_estimators=207; total time=  11.1s\n"
          ]
        },
        {
          "name": "stderr",
          "output_type": "stream",
          "text": [
            "/Users/zhongyitong/Library/Python/3.11/lib/python/site-packages/sklearn/base.py:1152: DataConversionWarning: A column-vector y was passed when a 1d array was expected. Please change the shape of y to (n_samples,), for example using ravel().\n",
            "  return fit_method(estimator, *args, **kwargs)\n",
            "/Users/zhongyitong/Library/Python/3.11/lib/python/site-packages/sklearn/base.py:1152: DataConversionWarning: A column-vector y was passed when a 1d array was expected. Please change the shape of y to (n_samples,), for example using ravel().\n",
            "  return fit_method(estimator, *args, **kwargs)\n",
            "/Users/zhongyitong/Library/Python/3.11/lib/python/site-packages/sklearn/base.py:1152: DataConversionWarning: A column-vector y was passed when a 1d array was expected. Please change the shape of y to (n_samples,), for example using ravel().\n",
            "  return fit_method(estimator, *args, **kwargs)\n",
            "/Users/zhongyitong/Library/Python/3.11/lib/python/site-packages/sklearn/base.py:1152: DataConversionWarning: A column-vector y was passed when a 1d array was expected. Please change the shape of y to (n_samples,), for example using ravel().\n",
            "  return fit_method(estimator, *args, **kwargs)\n"
          ]
        },
        {
          "name": "stdout",
          "output_type": "stream",
          "text": [
            "[CV] END class_weight={0: 1, 1: 1000000}, max_depth=40, min_samples_leaf=3, min_samples_split=7, n_estimators=207; total time=  11.3s\n"
          ]
        },
        {
          "name": "stderr",
          "output_type": "stream",
          "text": [
            "/Users/zhongyitong/Library/Python/3.11/lib/python/site-packages/sklearn/base.py:1152: DataConversionWarning: A column-vector y was passed when a 1d array was expected. Please change the shape of y to (n_samples,), for example using ravel().\n",
            "  return fit_method(estimator, *args, **kwargs)\n"
          ]
        },
        {
          "name": "stdout",
          "output_type": "stream",
          "text": [
            "[CV] END class_weight={0: 1, 1: 100}, max_depth=20, min_samples_leaf=3, min_samples_split=2, n_estimators=405; total time=   9.3s\n"
          ]
        },
        {
          "name": "stderr",
          "output_type": "stream",
          "text": [
            "/Users/zhongyitong/Library/Python/3.11/lib/python/site-packages/sklearn/base.py:1152: DataConversionWarning: A column-vector y was passed when a 1d array was expected. Please change the shape of y to (n_samples,), for example using ravel().\n",
            "  return fit_method(estimator, *args, **kwargs)\n"
          ]
        },
        {
          "name": "stdout",
          "output_type": "stream",
          "text": [
            "[CV] END class_weight={0: 1, 1: 100}, max_depth=20, min_samples_leaf=3, min_samples_split=2, n_estimators=405; total time=   9.6s\n",
            "[CV] END class_weight={0: 1, 1: 100}, max_depth=20, min_samples_leaf=3, min_samples_split=2, n_estimators=405; total time=   9.5s\n",
            "[CV] END class_weight={0: 1, 1: 100}, max_depth=20, min_samples_leaf=3, min_samples_split=2, n_estimators=405; total time=   9.7s\n"
          ]
        },
        {
          "name": "stderr",
          "output_type": "stream",
          "text": [
            "/Users/zhongyitong/Library/Python/3.11/lib/python/site-packages/sklearn/base.py:1152: DataConversionWarning: A column-vector y was passed when a 1d array was expected. Please change the shape of y to (n_samples,), for example using ravel().\n",
            "  return fit_method(estimator, *args, **kwargs)\n",
            "/Users/zhongyitong/Library/Python/3.11/lib/python/site-packages/sklearn/base.py:1152: DataConversionWarning: A column-vector y was passed when a 1d array was expected. Please change the shape of y to (n_samples,), for example using ravel().\n",
            "  return fit_method(estimator, *args, **kwargs)\n",
            "/Users/zhongyitong/Library/Python/3.11/lib/python/site-packages/sklearn/base.py:1152: DataConversionWarning: A column-vector y was passed when a 1d array was expected. Please change the shape of y to (n_samples,), for example using ravel().\n",
            "  return fit_method(estimator, *args, **kwargs)\n"
          ]
        },
        {
          "name": "stdout",
          "output_type": "stream",
          "text": [
            "[CV] END class_weight={0: 1, 1: 100}, max_depth=20, min_samples_leaf=3, min_samples_split=2, n_estimators=405; total time=   9.8s\n",
            "[CV] END class_weight={0: 1, 1: 1000}, max_depth=100, min_samples_leaf=1, min_samples_split=2, n_estimators=602; total time=  21.3s\n"
          ]
        },
        {
          "name": "stderr",
          "output_type": "stream",
          "text": [
            "/Users/zhongyitong/Library/Python/3.11/lib/python/site-packages/sklearn/base.py:1152: DataConversionWarning: A column-vector y was passed when a 1d array was expected. Please change the shape of y to (n_samples,), for example using ravel().\n",
            "  return fit_method(estimator, *args, **kwargs)\n",
            "/Users/zhongyitong/Library/Python/3.11/lib/python/site-packages/sklearn/base.py:1152: DataConversionWarning: A column-vector y was passed when a 1d array was expected. Please change the shape of y to (n_samples,), for example using ravel().\n",
            "  return fit_method(estimator, *args, **kwargs)\n"
          ]
        },
        {
          "name": "stdout",
          "output_type": "stream",
          "text": [
            "[CV] END class_weight={0: 1, 1: 1000}, max_depth=100, min_samples_leaf=1, min_samples_split=2, n_estimators=602; total time=  21.4s\n",
            "[CV] END class_weight={0: 1, 1: 1000}, max_depth=100, min_samples_leaf=1, min_samples_split=2, n_estimators=602; total time=  21.6s\n"
          ]
        },
        {
          "name": "stderr",
          "output_type": "stream",
          "text": [
            "/Users/zhongyitong/Library/Python/3.11/lib/python/site-packages/sklearn/base.py:1152: DataConversionWarning: A column-vector y was passed when a 1d array was expected. Please change the shape of y to (n_samples,), for example using ravel().\n",
            "  return fit_method(estimator, *args, **kwargs)\n",
            "/Users/zhongyitong/Library/Python/3.11/lib/python/site-packages/sklearn/base.py:1152: DataConversionWarning: A column-vector y was passed when a 1d array was expected. Please change the shape of y to (n_samples,), for example using ravel().\n",
            "  return fit_method(estimator, *args, **kwargs)\n"
          ]
        },
        {
          "name": "stdout",
          "output_type": "stream",
          "text": [
            "[CV] END class_weight={0: 1, 1: 1000}, max_depth=100, min_samples_leaf=1, min_samples_split=2, n_estimators=602; total time=  22.4s\n"
          ]
        },
        {
          "name": "stderr",
          "output_type": "stream",
          "text": [
            "/Users/zhongyitong/Library/Python/3.11/lib/python/site-packages/sklearn/base.py:1152: DataConversionWarning: A column-vector y was passed when a 1d array was expected. Please change the shape of y to (n_samples,), for example using ravel().\n",
            "  return fit_method(estimator, *args, **kwargs)\n"
          ]
        },
        {
          "name": "stdout",
          "output_type": "stream",
          "text": [
            "[CV] END class_weight={0: 1, 1: 1000}, max_depth=100, min_samples_leaf=1, min_samples_split=2, n_estimators=602; total time=  22.7s\n"
          ]
        },
        {
          "name": "stderr",
          "output_type": "stream",
          "text": [
            "/Users/zhongyitong/Library/Python/3.11/lib/python/site-packages/sklearn/base.py:1152: DataConversionWarning: A column-vector y was passed when a 1d array was expected. Please change the shape of y to (n_samples,), for example using ravel().\n",
            "  return fit_method(estimator, *args, **kwargs)\n"
          ]
        },
        {
          "name": "stdout",
          "output_type": "stream",
          "text": [
            "[CV] END class_weight={0: 1, 1: 100}, max_depth=50, min_samples_leaf=1, min_samples_split=7, n_estimators=207; total time=   5.1s\n"
          ]
        },
        {
          "name": "stderr",
          "output_type": "stream",
          "text": [
            "/Users/zhongyitong/Library/Python/3.11/lib/python/site-packages/sklearn/base.py:1152: DataConversionWarning: A column-vector y was passed when a 1d array was expected. Please change the shape of y to (n_samples,), for example using ravel().\n",
            "  return fit_method(estimator, *args, **kwargs)\n"
          ]
        },
        {
          "name": "stdout",
          "output_type": "stream",
          "text": [
            "[CV] END class_weight={0: 1, 1: 100}, max_depth=50, min_samples_leaf=1, min_samples_split=7, n_estimators=207; total time=   5.5s\n",
            "[CV] END class_weight={0: 1, 1: 100}, max_depth=50, min_samples_leaf=1, min_samples_split=7, n_estimators=207; total time=   5.4s\n"
          ]
        },
        {
          "name": "stderr",
          "output_type": "stream",
          "text": [
            "/Users/zhongyitong/Library/Python/3.11/lib/python/site-packages/sklearn/base.py:1152: DataConversionWarning: A column-vector y was passed when a 1d array was expected. Please change the shape of y to (n_samples,), for example using ravel().\n",
            "  return fit_method(estimator, *args, **kwargs)\n",
            "/Users/zhongyitong/Library/Python/3.11/lib/python/site-packages/sklearn/base.py:1152: DataConversionWarning: A column-vector y was passed when a 1d array was expected. Please change the shape of y to (n_samples,), for example using ravel().\n",
            "  return fit_method(estimator, *args, **kwargs)\n"
          ]
        },
        {
          "name": "stdout",
          "output_type": "stream",
          "text": [
            "[CV] END class_weight={0: 1, 1: 100}, max_depth=50, min_samples_leaf=1, min_samples_split=7, n_estimators=207; total time=   5.6s\n",
            "[CV] END class_weight={0: 1, 1: 100}, max_depth=50, min_samples_leaf=1, min_samples_split=7, n_estimators=207; total time=   5.5s\n"
          ]
        },
        {
          "name": "stderr",
          "output_type": "stream",
          "text": [
            "/Users/zhongyitong/Library/Python/3.11/lib/python/site-packages/sklearn/base.py:1152: DataConversionWarning: A column-vector y was passed when a 1d array was expected. Please change the shape of y to (n_samples,), for example using ravel().\n",
            "  return fit_method(estimator, *args, **kwargs)\n",
            "/Users/zhongyitong/Library/Python/3.11/lib/python/site-packages/sklearn/base.py:1152: DataConversionWarning: A column-vector y was passed when a 1d array was expected. Please change the shape of y to (n_samples,), for example using ravel().\n",
            "  return fit_method(estimator, *args, **kwargs)\n"
          ]
        },
        {
          "name": "stdout",
          "output_type": "stream",
          "text": [
            "[CV] END class_weight={0: 1, 1: 1000}, max_depth=90, min_samples_leaf=3, min_samples_split=2, n_estimators=405; total time=  13.4s\n"
          ]
        },
        {
          "name": "stderr",
          "output_type": "stream",
          "text": [
            "/Users/zhongyitong/Library/Python/3.11/lib/python/site-packages/sklearn/base.py:1152: DataConversionWarning: A column-vector y was passed when a 1d array was expected. Please change the shape of y to (n_samples,), for example using ravel().\n",
            "  return fit_method(estimator, *args, **kwargs)\n"
          ]
        },
        {
          "name": "stdout",
          "output_type": "stream",
          "text": [
            "[CV] END class_weight={0: 1, 1: 1000}, max_depth=90, min_samples_leaf=3, min_samples_split=2, n_estimators=405; total time=  13.3s\n",
            "[CV] END class_weight={0: 1, 1: 1000}, max_depth=90, min_samples_leaf=3, min_samples_split=2, n_estimators=405; total time=  13.5s\n"
          ]
        },
        {
          "name": "stderr",
          "output_type": "stream",
          "text": [
            "/Users/zhongyitong/Library/Python/3.11/lib/python/site-packages/sklearn/base.py:1152: DataConversionWarning: A column-vector y was passed when a 1d array was expected. Please change the shape of y to (n_samples,), for example using ravel().\n",
            "  return fit_method(estimator, *args, **kwargs)\n",
            "/Users/zhongyitong/Library/Python/3.11/lib/python/site-packages/sklearn/base.py:1152: DataConversionWarning: A column-vector y was passed when a 1d array was expected. Please change the shape of y to (n_samples,), for example using ravel().\n",
            "  return fit_method(estimator, *args, **kwargs)\n"
          ]
        },
        {
          "name": "stdout",
          "output_type": "stream",
          "text": [
            "[CV] END class_weight={0: 1, 1: 1000}, max_depth=90, min_samples_leaf=3, min_samples_split=2, n_estimators=405; total time=  14.0s\n",
            "[CV] END class_weight={0: 1, 1: 1000}, max_depth=90, min_samples_leaf=3, min_samples_split=2, n_estimators=405; total time=  14.1s\n"
          ]
        },
        {
          "name": "stderr",
          "output_type": "stream",
          "text": [
            "/Users/zhongyitong/Library/Python/3.11/lib/python/site-packages/sklearn/base.py:1152: DataConversionWarning: A column-vector y was passed when a 1d array was expected. Please change the shape of y to (n_samples,), for example using ravel().\n",
            "  return fit_method(estimator, *args, **kwargs)\n",
            "/Users/zhongyitong/Library/Python/3.11/lib/python/site-packages/sklearn/base.py:1152: DataConversionWarning: A column-vector y was passed when a 1d array was expected. Please change the shape of y to (n_samples,), for example using ravel().\n",
            "  return fit_method(estimator, *args, **kwargs)\n"
          ]
        },
        {
          "name": "stdout",
          "output_type": "stream",
          "text": [
            "[CV] END class_weight={0: 1, 1: 1000}, max_depth=100, min_samples_leaf=3, min_samples_split=7, n_estimators=800; total time=  25.6s\n"
          ]
        },
        {
          "name": "stderr",
          "output_type": "stream",
          "text": [
            "/Users/zhongyitong/Library/Python/3.11/lib/python/site-packages/sklearn/base.py:1152: DataConversionWarning: A column-vector y was passed when a 1d array was expected. Please change the shape of y to (n_samples,), for example using ravel().\n",
            "  return fit_method(estimator, *args, **kwargs)\n"
          ]
        },
        {
          "name": "stdout",
          "output_type": "stream",
          "text": [
            "[CV] END class_weight={0: 1, 1: 1000}, max_depth=100, min_samples_leaf=3, min_samples_split=7, n_estimators=800; total time=  26.1s\n",
            "[CV] END class_weight={0: 1, 1: 1000}, max_depth=100, min_samples_leaf=3, min_samples_split=7, n_estimators=800; total time=  26.1s\n"
          ]
        },
        {
          "name": "stderr",
          "output_type": "stream",
          "text": [
            "/Users/zhongyitong/Library/Python/3.11/lib/python/site-packages/sklearn/base.py:1152: DataConversionWarning: A column-vector y was passed when a 1d array was expected. Please change the shape of y to (n_samples,), for example using ravel().\n",
            "  return fit_method(estimator, *args, **kwargs)\n",
            "/Users/zhongyitong/Library/Python/3.11/lib/python/site-packages/sklearn/base.py:1152: DataConversionWarning: A column-vector y was passed when a 1d array was expected. Please change the shape of y to (n_samples,), for example using ravel().\n",
            "  return fit_method(estimator, *args, **kwargs)\n"
          ]
        },
        {
          "name": "stdout",
          "output_type": "stream",
          "text": [
            "[CV] END class_weight={0: 1, 1: 1000}, max_depth=100, min_samples_leaf=3, min_samples_split=7, n_estimators=800; total time=  27.0s\n"
          ]
        },
        {
          "name": "stderr",
          "output_type": "stream",
          "text": [
            "/Users/zhongyitong/Library/Python/3.11/lib/python/site-packages/sklearn/base.py:1152: DataConversionWarning: A column-vector y was passed when a 1d array was expected. Please change the shape of y to (n_samples,), for example using ravel().\n",
            "  return fit_method(estimator, *args, **kwargs)\n"
          ]
        },
        {
          "name": "stdout",
          "output_type": "stream",
          "text": [
            "[CV] END class_weight={0: 1, 1: 1000}, max_depth=100, min_samples_leaf=3, min_samples_split=7, n_estimators=800; total time=  27.6s\n"
          ]
        },
        {
          "name": "stderr",
          "output_type": "stream",
          "text": [
            "/Users/zhongyitong/Library/Python/3.11/lib/python/site-packages/sklearn/base.py:1152: DataConversionWarning: A column-vector y was passed when a 1d array was expected. Please change the shape of y to (n_samples,), for example using ravel().\n",
            "  return fit_method(estimator, *args, **kwargs)\n"
          ]
        },
        {
          "name": "stdout",
          "output_type": "stream",
          "text": [
            "[CV] END class_weight={0: 1, 1: 100}, max_depth=30, min_samples_leaf=3, min_samples_split=2, n_estimators=602; total time=  14.6s\n",
            "[CV] END class_weight={0: 1, 1: 100}, max_depth=30, min_samples_leaf=3, min_samples_split=2, n_estimators=602; total time=  14.0s\n"
          ]
        },
        {
          "name": "stderr",
          "output_type": "stream",
          "text": [
            "/Users/zhongyitong/Library/Python/3.11/lib/python/site-packages/sklearn/base.py:1152: DataConversionWarning: A column-vector y was passed when a 1d array was expected. Please change the shape of y to (n_samples,), for example using ravel().\n",
            "  return fit_method(estimator, *args, **kwargs)\n",
            "/Users/zhongyitong/Library/Python/3.11/lib/python/site-packages/sklearn/base.py:1152: DataConversionWarning: A column-vector y was passed when a 1d array was expected. Please change the shape of y to (n_samples,), for example using ravel().\n",
            "  return fit_method(estimator, *args, **kwargs)\n"
          ]
        },
        {
          "name": "stdout",
          "output_type": "stream",
          "text": [
            "[CV] END class_weight={0: 1, 1: 100}, max_depth=30, min_samples_leaf=3, min_samples_split=2, n_estimators=602; total time=  14.5s\n"
          ]
        },
        {
          "name": "stderr",
          "output_type": "stream",
          "text": [
            "/Users/zhongyitong/Library/Python/3.11/lib/python/site-packages/sklearn/base.py:1152: DataConversionWarning: A column-vector y was passed when a 1d array was expected. Please change the shape of y to (n_samples,), for example using ravel().\n",
            "  return fit_method(estimator, *args, **kwargs)\n"
          ]
        },
        {
          "name": "stdout",
          "output_type": "stream",
          "text": [
            "[CV] END class_weight={0: 1, 1: 100}, max_depth=60, min_samples_leaf=1, min_samples_split=2, n_estimators=405; total time=  10.2s\n"
          ]
        },
        {
          "name": "stderr",
          "output_type": "stream",
          "text": [
            "/Users/zhongyitong/Library/Python/3.11/lib/python/site-packages/sklearn/base.py:1152: DataConversionWarning: A column-vector y was passed when a 1d array was expected. Please change the shape of y to (n_samples,), for example using ravel().\n",
            "  return fit_method(estimator, *args, **kwargs)\n"
          ]
        },
        {
          "name": "stdout",
          "output_type": "stream",
          "text": [
            "[CV] END class_weight={0: 1, 1: 100}, max_depth=60, min_samples_leaf=1, min_samples_split=2, n_estimators=405; total time=  10.3s\n",
            "[CV] END class_weight={0: 1, 1: 100}, max_depth=30, min_samples_leaf=3, min_samples_split=2, n_estimators=602; total time=  14.9s\n"
          ]
        },
        {
          "name": "stderr",
          "output_type": "stream",
          "text": [
            "/Users/zhongyitong/Library/Python/3.11/lib/python/site-packages/sklearn/base.py:1152: DataConversionWarning: A column-vector y was passed when a 1d array was expected. Please change the shape of y to (n_samples,), for example using ravel().\n",
            "  return fit_method(estimator, *args, **kwargs)\n",
            "/Users/zhongyitong/Library/Python/3.11/lib/python/site-packages/sklearn/base.py:1152: DataConversionWarning: A column-vector y was passed when a 1d array was expected. Please change the shape of y to (n_samples,), for example using ravel().\n",
            "  return fit_method(estimator, *args, **kwargs)\n"
          ]
        },
        {
          "name": "stdout",
          "output_type": "stream",
          "text": [
            "[CV] END class_weight={0: 1, 1: 100}, max_depth=30, min_samples_leaf=3, min_samples_split=2, n_estimators=602; total time=  15.4s\n",
            "[CV] END class_weight={0: 1, 1: 100}, max_depth=60, min_samples_leaf=1, min_samples_split=2, n_estimators=405; total time=  10.8s\n"
          ]
        },
        {
          "name": "stderr",
          "output_type": "stream",
          "text": [
            "/Users/zhongyitong/Library/Python/3.11/lib/python/site-packages/sklearn/base.py:1152: DataConversionWarning: A column-vector y was passed when a 1d array was expected. Please change the shape of y to (n_samples,), for example using ravel().\n",
            "  return fit_method(estimator, *args, **kwargs)\n",
            "/Users/zhongyitong/Library/Python/3.11/lib/python/site-packages/sklearn/base.py:1152: DataConversionWarning: A column-vector y was passed when a 1d array was expected. Please change the shape of y to (n_samples,), for example using ravel().\n",
            "  return fit_method(estimator, *args, **kwargs)\n"
          ]
        },
        {
          "name": "stdout",
          "output_type": "stream",
          "text": [
            "[CV] END class_weight={0: 1, 1: 100}, max_depth=60, min_samples_leaf=1, min_samples_split=2, n_estimators=405; total time=  10.8s\n"
          ]
        },
        {
          "name": "stderr",
          "output_type": "stream",
          "text": [
            "/Users/zhongyitong/Library/Python/3.11/lib/python/site-packages/sklearn/base.py:1152: DataConversionWarning: A column-vector y was passed when a 1d array was expected. Please change the shape of y to (n_samples,), for example using ravel().\n",
            "  return fit_method(estimator, *args, **kwargs)\n"
          ]
        },
        {
          "name": "stdout",
          "output_type": "stream",
          "text": [
            "[CV] END class_weight={0: 1, 1: 100}, max_depth=60, min_samples_leaf=1, min_samples_split=2, n_estimators=405; total time=  11.0s\n"
          ]
        },
        {
          "name": "stderr",
          "output_type": "stream",
          "text": [
            "/Users/zhongyitong/Library/Python/3.11/lib/python/site-packages/sklearn/base.py:1152: DataConversionWarning: A column-vector y was passed when a 1d array was expected. Please change the shape of y to (n_samples,), for example using ravel().\n",
            "  return fit_method(estimator, *args, **kwargs)\n"
          ]
        },
        {
          "name": "stdout",
          "output_type": "stream",
          "text": [
            "[CV] END class_weight={0: 1, 1: 1000}, max_depth=80, min_samples_leaf=1, min_samples_split=2, n_estimators=207; total time=   7.2s\n",
            "[CV] END class_weight={0: 1, 1: 1000}, max_depth=80, min_samples_leaf=1, min_samples_split=2, n_estimators=207; total time=   7.2s\n"
          ]
        },
        {
          "name": "stderr",
          "output_type": "stream",
          "text": [
            "/Users/zhongyitong/Library/Python/3.11/lib/python/site-packages/sklearn/base.py:1152: DataConversionWarning: A column-vector y was passed when a 1d array was expected. Please change the shape of y to (n_samples,), for example using ravel().\n",
            "  return fit_method(estimator, *args, **kwargs)\n",
            "/Users/zhongyitong/Library/Python/3.11/lib/python/site-packages/sklearn/base.py:1152: DataConversionWarning: A column-vector y was passed when a 1d array was expected. Please change the shape of y to (n_samples,), for example using ravel().\n",
            "  return fit_method(estimator, *args, **kwargs)\n"
          ]
        },
        {
          "name": "stdout",
          "output_type": "stream",
          "text": [
            "[CV] END class_weight={0: 1, 1: 1000}, max_depth=80, min_samples_leaf=1, min_samples_split=2, n_estimators=207; total time=   7.5s\n"
          ]
        },
        {
          "name": "stderr",
          "output_type": "stream",
          "text": [
            "/Users/zhongyitong/Library/Python/3.11/lib/python/site-packages/sklearn/base.py:1152: DataConversionWarning: A column-vector y was passed when a 1d array was expected. Please change the shape of y to (n_samples,), for example using ravel().\n",
            "  return fit_method(estimator, *args, **kwargs)\n"
          ]
        },
        {
          "name": "stdout",
          "output_type": "stream",
          "text": [
            "[CV] END class_weight={0: 1, 1: 1000}, max_depth=80, min_samples_leaf=1, min_samples_split=2, n_estimators=207; total time=   8.2s\n"
          ]
        },
        {
          "name": "stderr",
          "output_type": "stream",
          "text": [
            "/Users/zhongyitong/Library/Python/3.11/lib/python/site-packages/sklearn/base.py:1152: DataConversionWarning: A column-vector y was passed when a 1d array was expected. Please change the shape of y to (n_samples,), for example using ravel().\n",
            "  return fit_method(estimator, *args, **kwargs)\n"
          ]
        },
        {
          "name": "stdout",
          "output_type": "stream",
          "text": [
            "[CV] END class_weight={0: 1, 1: 1000}, max_depth=80, min_samples_leaf=1, min_samples_split=2, n_estimators=207; total time=   7.9s\n"
          ]
        },
        {
          "name": "stderr",
          "output_type": "stream",
          "text": [
            "/Users/zhongyitong/Library/Python/3.11/lib/python/site-packages/sklearn/base.py:1152: DataConversionWarning: A column-vector y was passed when a 1d array was expected. Please change the shape of y to (n_samples,), for example using ravel().\n",
            "  return fit_method(estimator, *args, **kwargs)\n"
          ]
        },
        {
          "name": "stdout",
          "output_type": "stream",
          "text": [
            "[CV] END class_weight={0: 1, 1: 100}, max_depth=40, min_samples_leaf=3, min_samples_split=2, n_estimators=602; total time=  14.8s\n"
          ]
        },
        {
          "name": "stderr",
          "output_type": "stream",
          "text": [
            "/Users/zhongyitong/Library/Python/3.11/lib/python/site-packages/sklearn/base.py:1152: DataConversionWarning: A column-vector y was passed when a 1d array was expected. Please change the shape of y to (n_samples,), for example using ravel().\n",
            "  return fit_method(estimator, *args, **kwargs)\n"
          ]
        },
        {
          "name": "stdout",
          "output_type": "stream",
          "text": [
            "[CV] END class_weight={0: 1, 1: 100}, max_depth=40, min_samples_leaf=3, min_samples_split=2, n_estimators=602; total time=  15.2s\n",
            "[CV] END class_weight={0: 1, 1: 100}, max_depth=40, min_samples_leaf=3, min_samples_split=2, n_estimators=602; total time=  15.1s\n"
          ]
        },
        {
          "name": "stderr",
          "output_type": "stream",
          "text": [
            "/Users/zhongyitong/Library/Python/3.11/lib/python/site-packages/sklearn/base.py:1152: DataConversionWarning: A column-vector y was passed when a 1d array was expected. Please change the shape of y to (n_samples,), for example using ravel().\n",
            "  return fit_method(estimator, *args, **kwargs)\n",
            "/Users/zhongyitong/Library/Python/3.11/lib/python/site-packages/sklearn/base.py:1152: DataConversionWarning: A column-vector y was passed when a 1d array was expected. Please change the shape of y to (n_samples,), for example using ravel().\n",
            "  return fit_method(estimator, *args, **kwargs)\n"
          ]
        },
        {
          "name": "stdout",
          "output_type": "stream",
          "text": [
            "[CV] END class_weight={0: 1, 1: 100}, max_depth=40, min_samples_leaf=3, min_samples_split=2, n_estimators=602; total time=  16.1s\n"
          ]
        },
        {
          "name": "stderr",
          "output_type": "stream",
          "text": [
            "/Users/zhongyitong/Library/Python/3.11/lib/python/site-packages/sklearn/base.py:1152: DataConversionWarning: A column-vector y was passed when a 1d array was expected. Please change the shape of y to (n_samples,), for example using ravel().\n",
            "  return fit_method(estimator, *args, **kwargs)\n"
          ]
        },
        {
          "name": "stdout",
          "output_type": "stream",
          "text": [
            "[CV] END class_weight={0: 1, 1: 100}, max_depth=40, min_samples_leaf=3, min_samples_split=2, n_estimators=602; total time=  15.9s\n"
          ]
        },
        {
          "name": "stderr",
          "output_type": "stream",
          "text": [
            "/Users/zhongyitong/Library/Python/3.11/lib/python/site-packages/sklearn/base.py:1152: DataConversionWarning: A column-vector y was passed when a 1d array was expected. Please change the shape of y to (n_samples,), for example using ravel().\n",
            "  return fit_method(estimator, *args, **kwargs)\n"
          ]
        },
        {
          "name": "stdout",
          "output_type": "stream",
          "text": [
            "[CV] END class_weight={0: 1, 1: 10000}, max_depth=90, min_samples_leaf=3, min_samples_split=7, n_estimators=207; total time=  10.7s\n"
          ]
        },
        {
          "name": "stderr",
          "output_type": "stream",
          "text": [
            "/Users/zhongyitong/Library/Python/3.11/lib/python/site-packages/sklearn/base.py:1152: DataConversionWarning: A column-vector y was passed when a 1d array was expected. Please change the shape of y to (n_samples,), for example using ravel().\n",
            "  return fit_method(estimator, *args, **kwargs)\n"
          ]
        },
        {
          "name": "stdout",
          "output_type": "stream",
          "text": [
            "[CV] END class_weight={0: 1, 1: 10000}, max_depth=90, min_samples_leaf=3, min_samples_split=7, n_estimators=207; total time=  10.9s\n"
          ]
        },
        {
          "name": "stderr",
          "output_type": "stream",
          "text": [
            "/Users/zhongyitong/Library/Python/3.11/lib/python/site-packages/sklearn/base.py:1152: DataConversionWarning: A column-vector y was passed when a 1d array was expected. Please change the shape of y to (n_samples,), for example using ravel().\n",
            "  return fit_method(estimator, *args, **kwargs)\n"
          ]
        },
        {
          "name": "stdout",
          "output_type": "stream",
          "text": [
            "[CV] END class_weight={0: 1, 1: 10000}, max_depth=90, min_samples_leaf=3, min_samples_split=7, n_estimators=207; total time=  11.5s\n"
          ]
        },
        {
          "name": "stderr",
          "output_type": "stream",
          "text": [
            "/Users/zhongyitong/Library/Python/3.11/lib/python/site-packages/sklearn/base.py:1152: DataConversionWarning: A column-vector y was passed when a 1d array was expected. Please change the shape of y to (n_samples,), for example using ravel().\n",
            "  return fit_method(estimator, *args, **kwargs)\n"
          ]
        },
        {
          "name": "stdout",
          "output_type": "stream",
          "text": [
            "[CV] END class_weight={0: 1, 1: 10000}, max_depth=90, min_samples_leaf=3, min_samples_split=7, n_estimators=207; total time=  12.3s\n"
          ]
        },
        {
          "name": "stderr",
          "output_type": "stream",
          "text": [
            "/Users/zhongyitong/Library/Python/3.11/lib/python/site-packages/sklearn/base.py:1152: DataConversionWarning: A column-vector y was passed when a 1d array was expected. Please change the shape of y to (n_samples,), for example using ravel().\n",
            "  return fit_method(estimator, *args, **kwargs)\n"
          ]
        },
        {
          "name": "stdout",
          "output_type": "stream",
          "text": [
            "[CV] END class_weight={0: 1, 1: 10000}, max_depth=90, min_samples_leaf=3, min_samples_split=7, n_estimators=207; total time=  11.9s\n"
          ]
        },
        {
          "name": "stderr",
          "output_type": "stream",
          "text": [
            "/Users/zhongyitong/Library/Python/3.11/lib/python/site-packages/sklearn/base.py:1152: DataConversionWarning: A column-vector y was passed when a 1d array was expected. Please change the shape of y to (n_samples,), for example using ravel().\n",
            "  return fit_method(estimator, *args, **kwargs)\n"
          ]
        },
        {
          "name": "stdout",
          "output_type": "stream",
          "text": [
            "[CV] END class_weight={0: 1, 1: 1000000}, max_depth=50, min_samples_leaf=1, min_samples_split=2, n_estimators=207; total time=  13.8s\n"
          ]
        },
        {
          "name": "stderr",
          "output_type": "stream",
          "text": [
            "/Users/zhongyitong/Library/Python/3.11/lib/python/site-packages/sklearn/base.py:1152: DataConversionWarning: A column-vector y was passed when a 1d array was expected. Please change the shape of y to (n_samples,), for example using ravel().\n",
            "  return fit_method(estimator, *args, **kwargs)\n"
          ]
        },
        {
          "name": "stdout",
          "output_type": "stream",
          "text": [
            "[CV] END class_weight={0: 1, 1: 1000000}, max_depth=50, min_samples_leaf=1, min_samples_split=2, n_estimators=207; total time=  13.6s\n"
          ]
        },
        {
          "name": "stderr",
          "output_type": "stream",
          "text": [
            "/Users/zhongyitong/Library/Python/3.11/lib/python/site-packages/sklearn/base.py:1152: DataConversionWarning: A column-vector y was passed when a 1d array was expected. Please change the shape of y to (n_samples,), for example using ravel().\n",
            "  return fit_method(estimator, *args, **kwargs)\n"
          ]
        },
        {
          "name": "stdout",
          "output_type": "stream",
          "text": [
            "[CV] END class_weight={0: 1, 1: 1000000}, max_depth=50, min_samples_leaf=1, min_samples_split=2, n_estimators=207; total time=  12.9s\n"
          ]
        },
        {
          "name": "stderr",
          "output_type": "stream",
          "text": [
            "/Users/zhongyitong/Library/Python/3.11/lib/python/site-packages/sklearn/base.py:1152: DataConversionWarning: A column-vector y was passed when a 1d array was expected. Please change the shape of y to (n_samples,), for example using ravel().\n",
            "  return fit_method(estimator, *args, **kwargs)\n"
          ]
        },
        {
          "name": "stdout",
          "output_type": "stream",
          "text": [
            "[CV] END class_weight={0: 1, 1: 1000000}, max_depth=50, min_samples_leaf=1, min_samples_split=2, n_estimators=207; total time=  18.6s\n"
          ]
        },
        {
          "name": "stderr",
          "output_type": "stream",
          "text": [
            "/Users/zhongyitong/Library/Python/3.11/lib/python/site-packages/sklearn/base.py:1152: DataConversionWarning: A column-vector y was passed when a 1d array was expected. Please change the shape of y to (n_samples,), for example using ravel().\n",
            "  return fit_method(estimator, *args, **kwargs)\n"
          ]
        },
        {
          "name": "stdout",
          "output_type": "stream",
          "text": [
            "[CV] END class_weight={0: 1, 1: 1000000}, max_depth=100, min_samples_leaf=1, min_samples_split=2, n_estimators=602; total time=  41.9s\n"
          ]
        },
        {
          "name": "stderr",
          "output_type": "stream",
          "text": [
            "/Users/zhongyitong/Library/Python/3.11/lib/python/site-packages/sklearn/base.py:1152: DataConversionWarning: A column-vector y was passed when a 1d array was expected. Please change the shape of y to (n_samples,), for example using ravel().\n",
            "  return fit_method(estimator, *args, **kwargs)\n"
          ]
        },
        {
          "name": "stdout",
          "output_type": "stream",
          "text": [
            "[CV] END class_weight={0: 1, 1: 1000000}, max_depth=100, min_samples_leaf=1, min_samples_split=2, n_estimators=602; total time=  42.5s\n",
            "[CV] END class_weight={0: 1, 1: 1000000}, max_depth=50, min_samples_leaf=1, min_samples_split=2, n_estimators=207; total time=  19.8s\n"
          ]
        },
        {
          "name": "stderr",
          "output_type": "stream",
          "text": [
            "/Users/zhongyitong/Library/Python/3.11/lib/python/site-packages/sklearn/base.py:1152: DataConversionWarning: A column-vector y was passed when a 1d array was expected. Please change the shape of y to (n_samples,), for example using ravel().\n",
            "  return fit_method(estimator, *args, **kwargs)\n",
            "/Users/zhongyitong/Library/Python/3.11/lib/python/site-packages/sklearn/base.py:1152: DataConversionWarning: A column-vector y was passed when a 1d array was expected. Please change the shape of y to (n_samples,), for example using ravel().\n",
            "  return fit_method(estimator, *args, **kwargs)\n"
          ]
        },
        {
          "name": "stdout",
          "output_type": "stream",
          "text": [
            "[CV] END class_weight={0: 1, 1: 1000000}, max_depth=100, min_samples_leaf=1, min_samples_split=2, n_estimators=602; total time=  43.6s\n"
          ]
        },
        {
          "name": "stderr",
          "output_type": "stream",
          "text": [
            "/Users/zhongyitong/Library/Python/3.11/lib/python/site-packages/sklearn/base.py:1152: DataConversionWarning: A column-vector y was passed when a 1d array was expected. Please change the shape of y to (n_samples,), for example using ravel().\n",
            "  return fit_method(estimator, *args, **kwargs)\n"
          ]
        },
        {
          "name": "stdout",
          "output_type": "stream",
          "text": [
            "[CV] END class_weight={0: 1, 1: 10}, max_depth=90, min_samples_leaf=3, min_samples_split=7, n_estimators=602; total time=  13.7s\n",
            "[CV] END class_weight={0: 1, 1: 10}, max_depth=90, min_samples_leaf=3, min_samples_split=7, n_estimators=602; total time=  13.6s\n"
          ]
        },
        {
          "name": "stderr",
          "output_type": "stream",
          "text": [
            "/Users/zhongyitong/Library/Python/3.11/lib/python/site-packages/sklearn/base.py:1152: DataConversionWarning: A column-vector y was passed when a 1d array was expected. Please change the shape of y to (n_samples,), for example using ravel().\n",
            "  return fit_method(estimator, *args, **kwargs)\n",
            "/Users/zhongyitong/Library/Python/3.11/lib/python/site-packages/sklearn/base.py:1152: DataConversionWarning: A column-vector y was passed when a 1d array was expected. Please change the shape of y to (n_samples,), for example using ravel().\n",
            "  return fit_method(estimator, *args, **kwargs)\n"
          ]
        },
        {
          "name": "stdout",
          "output_type": "stream",
          "text": [
            "[CV] END class_weight={0: 1, 1: 10}, max_depth=90, min_samples_leaf=3, min_samples_split=7, n_estimators=602; total time=  13.2s\n"
          ]
        },
        {
          "name": "stderr",
          "output_type": "stream",
          "text": [
            "/Users/zhongyitong/Library/Python/3.11/lib/python/site-packages/sklearn/base.py:1152: DataConversionWarning: A column-vector y was passed when a 1d array was expected. Please change the shape of y to (n_samples,), for example using ravel().\n",
            "  return fit_method(estimator, *args, **kwargs)\n"
          ]
        },
        {
          "name": "stdout",
          "output_type": "stream",
          "text": [
            "[CV] END class_weight={0: 1, 1: 100000}, max_depth=90, min_samples_leaf=3, min_samples_split=7, n_estimators=10; total time=   0.4s\n"
          ]
        },
        {
          "name": "stderr",
          "output_type": "stream",
          "text": [
            "/Users/zhongyitong/Library/Python/3.11/lib/python/site-packages/sklearn/base.py:1152: DataConversionWarning: A column-vector y was passed when a 1d array was expected. Please change the shape of y to (n_samples,), for example using ravel().\n",
            "  return fit_method(estimator, *args, **kwargs)\n"
          ]
        },
        {
          "name": "stdout",
          "output_type": "stream",
          "text": [
            "[CV] END class_weight={0: 1, 1: 100000}, max_depth=90, min_samples_leaf=3, min_samples_split=7, n_estimators=10; total time=   0.5s\n"
          ]
        },
        {
          "name": "stderr",
          "output_type": "stream",
          "text": [
            "/Users/zhongyitong/Library/Python/3.11/lib/python/site-packages/sklearn/base.py:1152: DataConversionWarning: A column-vector y was passed when a 1d array was expected. Please change the shape of y to (n_samples,), for example using ravel().\n",
            "  return fit_method(estimator, *args, **kwargs)\n"
          ]
        },
        {
          "name": "stdout",
          "output_type": "stream",
          "text": [
            "[CV] END class_weight={0: 1, 1: 100000}, max_depth=90, min_samples_leaf=3, min_samples_split=7, n_estimators=10; total time=   0.5s\n"
          ]
        },
        {
          "name": "stderr",
          "output_type": "stream",
          "text": [
            "/Users/zhongyitong/Library/Python/3.11/lib/python/site-packages/sklearn/base.py:1152: DataConversionWarning: A column-vector y was passed when a 1d array was expected. Please change the shape of y to (n_samples,), for example using ravel().\n",
            "  return fit_method(estimator, *args, **kwargs)\n"
          ]
        },
        {
          "name": "stdout",
          "output_type": "stream",
          "text": [
            "[CV] END class_weight={0: 1, 1: 100000}, max_depth=90, min_samples_leaf=3, min_samples_split=7, n_estimators=10; total time=   0.4s\n"
          ]
        },
        {
          "name": "stderr",
          "output_type": "stream",
          "text": [
            "/Users/zhongyitong/Library/Python/3.11/lib/python/site-packages/sklearn/base.py:1152: DataConversionWarning: A column-vector y was passed when a 1d array was expected. Please change the shape of y to (n_samples,), for example using ravel().\n",
            "  return fit_method(estimator, *args, **kwargs)\n"
          ]
        },
        {
          "name": "stdout",
          "output_type": "stream",
          "text": [
            "[CV] END class_weight={0: 1, 1: 100000}, max_depth=90, min_samples_leaf=3, min_samples_split=7, n_estimators=10; total time=   0.5s\n",
            "[CV] END class_weight={0: 1, 1: 1000000}, max_depth=100, min_samples_leaf=1, min_samples_split=2, n_estimators=602; total time=  54.1s\n"
          ]
        },
        {
          "name": "stderr",
          "output_type": "stream",
          "text": [
            "/Users/zhongyitong/Library/Python/3.11/lib/python/site-packages/sklearn/base.py:1152: DataConversionWarning: A column-vector y was passed when a 1d array was expected. Please change the shape of y to (n_samples,), for example using ravel().\n",
            "  return fit_method(estimator, *args, **kwargs)\n",
            "/Users/zhongyitong/Library/Python/3.11/lib/python/site-packages/sklearn/base.py:1152: DataConversionWarning: A column-vector y was passed when a 1d array was expected. Please change the shape of y to (n_samples,), for example using ravel().\n",
            "  return fit_method(estimator, *args, **kwargs)\n"
          ]
        },
        {
          "name": "stdout",
          "output_type": "stream",
          "text": [
            "[CV] END class_weight={0: 1, 1: 1}, max_depth=40, min_samples_leaf=1, min_samples_split=2, n_estimators=10; total time=   0.3s\n"
          ]
        },
        {
          "name": "stderr",
          "output_type": "stream",
          "text": [
            "/Users/zhongyitong/Library/Python/3.11/lib/python/site-packages/sklearn/base.py:1152: DataConversionWarning: A column-vector y was passed when a 1d array was expected. Please change the shape of y to (n_samples,), for example using ravel().\n",
            "  return fit_method(estimator, *args, **kwargs)\n"
          ]
        },
        {
          "name": "stdout",
          "output_type": "stream",
          "text": [
            "[CV] END class_weight={0: 1, 1: 1}, max_depth=40, min_samples_leaf=1, min_samples_split=2, n_estimators=10; total time=   0.3s\n",
            "[CV] END class_weight={0: 1, 1: 1}, max_depth=40, min_samples_leaf=1, min_samples_split=2, n_estimators=10; total time=   0.5s\n"
          ]
        },
        {
          "name": "stderr",
          "output_type": "stream",
          "text": [
            "/Users/zhongyitong/Library/Python/3.11/lib/python/site-packages/sklearn/base.py:1152: DataConversionWarning: A column-vector y was passed when a 1d array was expected. Please change the shape of y to (n_samples,), for example using ravel().\n",
            "  return fit_method(estimator, *args, **kwargs)\n",
            "/Users/zhongyitong/Library/Python/3.11/lib/python/site-packages/sklearn/base.py:1152: DataConversionWarning: A column-vector y was passed when a 1d array was expected. Please change the shape of y to (n_samples,), for example using ravel().\n",
            "  return fit_method(estimator, *args, **kwargs)\n"
          ]
        },
        {
          "name": "stdout",
          "output_type": "stream",
          "text": [
            "[CV] END class_weight={0: 1, 1: 1}, max_depth=40, min_samples_leaf=1, min_samples_split=2, n_estimators=10; total time=   0.3s\n",
            "[CV] END class_weight={0: 1, 1: 1000000}, max_depth=100, min_samples_leaf=1, min_samples_split=2, n_estimators=602; total time=  55.0s\n"
          ]
        },
        {
          "name": "stderr",
          "output_type": "stream",
          "text": [
            "/Users/zhongyitong/Library/Python/3.11/lib/python/site-packages/sklearn/base.py:1152: DataConversionWarning: A column-vector y was passed when a 1d array was expected. Please change the shape of y to (n_samples,), for example using ravel().\n",
            "  return fit_method(estimator, *args, **kwargs)\n",
            "/Users/zhongyitong/Library/Python/3.11/lib/python/site-packages/sklearn/base.py:1152: DataConversionWarning: A column-vector y was passed when a 1d array was expected. Please change the shape of y to (n_samples,), for example using ravel().\n",
            "  return fit_method(estimator, *args, **kwargs)\n"
          ]
        },
        {
          "name": "stdout",
          "output_type": "stream",
          "text": [
            "[CV] END class_weight={0: 1, 1: 1}, max_depth=40, min_samples_leaf=1, min_samples_split=2, n_estimators=10; total time=   0.6s\n"
          ]
        },
        {
          "name": "stderr",
          "output_type": "stream",
          "text": [
            "/Users/zhongyitong/Library/Python/3.11/lib/python/site-packages/sklearn/base.py:1152: DataConversionWarning: A column-vector y was passed when a 1d array was expected. Please change the shape of y to (n_samples,), for example using ravel().\n",
            "  return fit_method(estimator, *args, **kwargs)\n"
          ]
        },
        {
          "name": "stdout",
          "output_type": "stream",
          "text": [
            "[CV] END class_weight={0: 1, 1: 10}, max_depth=90, min_samples_leaf=3, min_samples_split=7, n_estimators=602; total time=  13.1s\n"
          ]
        },
        {
          "name": "stderr",
          "output_type": "stream",
          "text": [
            "/Users/zhongyitong/Library/Python/3.11/lib/python/site-packages/sklearn/base.py:1152: DataConversionWarning: A column-vector y was passed when a 1d array was expected. Please change the shape of y to (n_samples,), for example using ravel().\n",
            "  return fit_method(estimator, *args, **kwargs)\n"
          ]
        },
        {
          "name": "stdout",
          "output_type": "stream",
          "text": [
            "[CV] END class_weight={0: 1, 1: 10}, max_depth=30, min_samples_leaf=3, min_samples_split=7, n_estimators=800; total time=  17.1s\n"
          ]
        },
        {
          "name": "stderr",
          "output_type": "stream",
          "text": [
            "/Users/zhongyitong/Library/Python/3.11/lib/python/site-packages/sklearn/base.py:1152: DataConversionWarning: A column-vector y was passed when a 1d array was expected. Please change the shape of y to (n_samples,), for example using ravel().\n",
            "  return fit_method(estimator, *args, **kwargs)\n"
          ]
        },
        {
          "name": "stdout",
          "output_type": "stream",
          "text": [
            "[CV] END class_weight={0: 1, 1: 10}, max_depth=30, min_samples_leaf=3, min_samples_split=7, n_estimators=800; total time=  17.1s\n"
          ]
        },
        {
          "name": "stderr",
          "output_type": "stream",
          "text": [
            "/Users/zhongyitong/Library/Python/3.11/lib/python/site-packages/sklearn/base.py:1152: DataConversionWarning: A column-vector y was passed when a 1d array was expected. Please change the shape of y to (n_samples,), for example using ravel().\n",
            "  return fit_method(estimator, *args, **kwargs)\n"
          ]
        },
        {
          "name": "stdout",
          "output_type": "stream",
          "text": [
            "[CV] END class_weight={0: 1, 1: 1000}, max_depth=10, min_samples_leaf=3, min_samples_split=7, n_estimators=602; total time=   9.4s\n",
            "[CV] END class_weight={0: 1, 1: 10}, max_depth=90, min_samples_leaf=3, min_samples_split=7, n_estimators=602; total time=  24.8s\n"
          ]
        },
        {
          "name": "stderr",
          "output_type": "stream",
          "text": [
            "/Users/zhongyitong/Library/Python/3.11/lib/python/site-packages/sklearn/base.py:1152: DataConversionWarning: A column-vector y was passed when a 1d array was expected. Please change the shape of y to (n_samples,), for example using ravel().\n",
            "  return fit_method(estimator, *args, **kwargs)\n",
            "/Users/zhongyitong/Library/Python/3.11/lib/python/site-packages/sklearn/base.py:1152: DataConversionWarning: A column-vector y was passed when a 1d array was expected. Please change the shape of y to (n_samples,), for example using ravel().\n",
            "  return fit_method(estimator, *args, **kwargs)\n"
          ]
        },
        {
          "name": "stdout",
          "output_type": "stream",
          "text": [
            "[CV] END class_weight={0: 1, 1: 1000}, max_depth=10, min_samples_leaf=3, min_samples_split=7, n_estimators=602; total time=   9.7s\n"
          ]
        },
        {
          "name": "stderr",
          "output_type": "stream",
          "text": [
            "/Users/zhongyitong/Library/Python/3.11/lib/python/site-packages/sklearn/base.py:1152: DataConversionWarning: A column-vector y was passed when a 1d array was expected. Please change the shape of y to (n_samples,), for example using ravel().\n",
            "  return fit_method(estimator, *args, **kwargs)\n"
          ]
        },
        {
          "name": "stdout",
          "output_type": "stream",
          "text": [
            "[CV] END class_weight={0: 1, 1: 10}, max_depth=30, min_samples_leaf=3, min_samples_split=7, n_estimators=800; total time=  17.1s\n",
            "[CV] END class_weight={0: 1, 1: 10}, max_depth=30, min_samples_leaf=3, min_samples_split=7, n_estimators=800; total time=  17.0s\n"
          ]
        },
        {
          "name": "stderr",
          "output_type": "stream",
          "text": [
            "/Users/zhongyitong/Library/Python/3.11/lib/python/site-packages/sklearn/base.py:1152: DataConversionWarning: A column-vector y was passed when a 1d array was expected. Please change the shape of y to (n_samples,), for example using ravel().\n",
            "  return fit_method(estimator, *args, **kwargs)\n",
            "/Users/zhongyitong/Library/Python/3.11/lib/python/site-packages/sklearn/base.py:1152: DataConversionWarning: A column-vector y was passed when a 1d array was expected. Please change the shape of y to (n_samples,), for example using ravel().\n",
            "  return fit_method(estimator, *args, **kwargs)\n"
          ]
        },
        {
          "name": "stdout",
          "output_type": "stream",
          "text": [
            "[CV] END class_weight={0: 1, 1: 1000}, max_depth=10, min_samples_leaf=1, min_samples_split=2, n_estimators=207; total time=   3.4s\n"
          ]
        },
        {
          "name": "stderr",
          "output_type": "stream",
          "text": [
            "/Users/zhongyitong/Library/Python/3.11/lib/python/site-packages/sklearn/base.py:1152: DataConversionWarning: A column-vector y was passed when a 1d array was expected. Please change the shape of y to (n_samples,), for example using ravel().\n",
            "  return fit_method(estimator, *args, **kwargs)\n"
          ]
        },
        {
          "name": "stdout",
          "output_type": "stream",
          "text": [
            "[CV] END class_weight={0: 1, 1: 1000}, max_depth=10, min_samples_leaf=3, min_samples_split=7, n_estimators=602; total time=   9.8s\n"
          ]
        },
        {
          "name": "stderr",
          "output_type": "stream",
          "text": [
            "/Users/zhongyitong/Library/Python/3.11/lib/python/site-packages/sklearn/base.py:1152: DataConversionWarning: A column-vector y was passed when a 1d array was expected. Please change the shape of y to (n_samples,), for example using ravel().\n",
            "  return fit_method(estimator, *args, **kwargs)\n"
          ]
        },
        {
          "name": "stdout",
          "output_type": "stream",
          "text": [
            "[CV] END class_weight={0: 1, 1: 1000}, max_depth=10, min_samples_leaf=1, min_samples_split=2, n_estimators=207; total time=   3.3s\n"
          ]
        },
        {
          "name": "stderr",
          "output_type": "stream",
          "text": [
            "/Users/zhongyitong/Library/Python/3.11/lib/python/site-packages/sklearn/base.py:1152: DataConversionWarning: A column-vector y was passed when a 1d array was expected. Please change the shape of y to (n_samples,), for example using ravel().\n",
            "  return fit_method(estimator, *args, **kwargs)\n"
          ]
        },
        {
          "name": "stdout",
          "output_type": "stream",
          "text": [
            "[CV] END class_weight={0: 1, 1: 1000}, max_depth=10, min_samples_leaf=3, min_samples_split=7, n_estimators=602; total time=  18.8s\n"
          ]
        },
        {
          "name": "stderr",
          "output_type": "stream",
          "text": [
            "/Users/zhongyitong/Library/Python/3.11/lib/python/site-packages/sklearn/base.py:1152: DataConversionWarning: A column-vector y was passed when a 1d array was expected. Please change the shape of y to (n_samples,), for example using ravel().\n",
            "  return fit_method(estimator, *args, **kwargs)\n"
          ]
        },
        {
          "name": "stdout",
          "output_type": "stream",
          "text": [
            "[CV] END class_weight={0: 1, 1: 1000}, max_depth=10, min_samples_leaf=3, min_samples_split=7, n_estimators=602; total time=  18.9s\n"
          ]
        },
        {
          "name": "stderr",
          "output_type": "stream",
          "text": [
            "/Users/zhongyitong/Library/Python/3.11/lib/python/site-packages/sklearn/base.py:1152: DataConversionWarning: A column-vector y was passed when a 1d array was expected. Please change the shape of y to (n_samples,), for example using ravel().\n",
            "  return fit_method(estimator, *args, **kwargs)\n"
          ]
        },
        {
          "name": "stdout",
          "output_type": "stream",
          "text": [
            "[CV] END class_weight={0: 1, 1: 1000}, max_depth=10, min_samples_leaf=1, min_samples_split=2, n_estimators=207; total time=   3.3s\n"
          ]
        },
        {
          "name": "stderr",
          "output_type": "stream",
          "text": [
            "/Users/zhongyitong/Library/Python/3.11/lib/python/site-packages/sklearn/base.py:1152: DataConversionWarning: A column-vector y was passed when a 1d array was expected. Please change the shape of y to (n_samples,), for example using ravel().\n",
            "  return fit_method(estimator, *args, **kwargs)\n"
          ]
        },
        {
          "name": "stdout",
          "output_type": "stream",
          "text": [
            "[CV] END class_weight={0: 1, 1: 1000}, max_depth=10, min_samples_leaf=1, min_samples_split=2, n_estimators=207; total time=   3.5s\n"
          ]
        },
        {
          "name": "stderr",
          "output_type": "stream",
          "text": [
            "/Users/zhongyitong/Library/Python/3.11/lib/python/site-packages/sklearn/base.py:1152: DataConversionWarning: A column-vector y was passed when a 1d array was expected. Please change the shape of y to (n_samples,), for example using ravel().\n",
            "  return fit_method(estimator, *args, **kwargs)\n"
          ]
        },
        {
          "name": "stdout",
          "output_type": "stream",
          "text": [
            "[CV] END class_weight={0: 1, 1: 10}, max_depth=30, min_samples_leaf=3, min_samples_split=7, n_estimators=800; total time=  32.8s\n"
          ]
        },
        {
          "name": "stderr",
          "output_type": "stream",
          "text": [
            "/Users/zhongyitong/Library/Python/3.11/lib/python/site-packages/sklearn/base.py:1152: DataConversionWarning: A column-vector y was passed when a 1d array was expected. Please change the shape of y to (n_samples,), for example using ravel().\n",
            "  return fit_method(estimator, *args, **kwargs)\n"
          ]
        },
        {
          "name": "stdout",
          "output_type": "stream",
          "text": [
            "[CV] END class_weight={0: 1, 1: 1000}, max_depth=80, min_samples_leaf=1, min_samples_split=2, n_estimators=602; total time=  16.5s\n"
          ]
        },
        {
          "name": "stderr",
          "output_type": "stream",
          "text": [
            "/Users/zhongyitong/Library/Python/3.11/lib/python/site-packages/sklearn/base.py:1152: DataConversionWarning: A column-vector y was passed when a 1d array was expected. Please change the shape of y to (n_samples,), for example using ravel().\n",
            "  return fit_method(estimator, *args, **kwargs)\n"
          ]
        },
        {
          "name": "stdout",
          "output_type": "stream",
          "text": [
            "[CV] END class_weight={0: 1, 1: 1000}, max_depth=10, min_samples_leaf=1, min_samples_split=2, n_estimators=207; total time=   6.7s\n"
          ]
        },
        {
          "name": "stderr",
          "output_type": "stream",
          "text": [
            "/Users/zhongyitong/Library/Python/3.11/lib/python/site-packages/sklearn/base.py:1152: DataConversionWarning: A column-vector y was passed when a 1d array was expected. Please change the shape of y to (n_samples,), for example using ravel().\n",
            "  return fit_method(estimator, *args, **kwargs)\n"
          ]
        },
        {
          "name": "stdout",
          "output_type": "stream",
          "text": [
            "[CV] END class_weight={0: 1, 1: 1000}, max_depth=80, min_samples_leaf=1, min_samples_split=2, n_estimators=602; total time=  17.0s\n"
          ]
        },
        {
          "name": "stderr",
          "output_type": "stream",
          "text": [
            "/Users/zhongyitong/Library/Python/3.11/lib/python/site-packages/sklearn/base.py:1152: DataConversionWarning: A column-vector y was passed when a 1d array was expected. Please change the shape of y to (n_samples,), for example using ravel().\n",
            "  return fit_method(estimator, *args, **kwargs)\n"
          ]
        },
        {
          "name": "stdout",
          "output_type": "stream",
          "text": [
            "[CV] END class_weight={0: 1, 1: 1000000}, max_depth=10, min_samples_leaf=3, min_samples_split=2, n_estimators=405; total time=   7.2s\n"
          ]
        },
        {
          "name": "stderr",
          "output_type": "stream",
          "text": [
            "/Users/zhongyitong/Library/Python/3.11/lib/python/site-packages/sklearn/base.py:1152: DataConversionWarning: A column-vector y was passed when a 1d array was expected. Please change the shape of y to (n_samples,), for example using ravel().\n",
            "  return fit_method(estimator, *args, **kwargs)\n"
          ]
        },
        {
          "name": "stdout",
          "output_type": "stream",
          "text": [
            "[CV] END class_weight={0: 1, 1: 1000}, max_depth=80, min_samples_leaf=1, min_samples_split=2, n_estimators=602; total time=  18.1s\n"
          ]
        },
        {
          "name": "stderr",
          "output_type": "stream",
          "text": [
            "/Users/zhongyitong/Library/Python/3.11/lib/python/site-packages/sklearn/base.py:1152: DataConversionWarning: A column-vector y was passed when a 1d array was expected. Please change the shape of y to (n_samples,), for example using ravel().\n",
            "  return fit_method(estimator, *args, **kwargs)\n"
          ]
        },
        {
          "name": "stdout",
          "output_type": "stream",
          "text": [
            "[CV] END class_weight={0: 1, 1: 1000000}, max_depth=10, min_samples_leaf=3, min_samples_split=2, n_estimators=405; total time=   7.1s\n",
            "[CV] END class_weight={0: 1, 1: 1000}, max_depth=80, min_samples_leaf=1, min_samples_split=2, n_estimators=602; total time=  17.5s\n"
          ]
        },
        {
          "name": "stderr",
          "output_type": "stream",
          "text": [
            "/Users/zhongyitong/Library/Python/3.11/lib/python/site-packages/sklearn/base.py:1152: DataConversionWarning: A column-vector y was passed when a 1d array was expected. Please change the shape of y to (n_samples,), for example using ravel().\n",
            "  return fit_method(estimator, *args, **kwargs)\n",
            "/Users/zhongyitong/Library/Python/3.11/lib/python/site-packages/sklearn/base.py:1152: DataConversionWarning: A column-vector y was passed when a 1d array was expected. Please change the shape of y to (n_samples,), for example using ravel().\n",
            "  return fit_method(estimator, *args, **kwargs)\n"
          ]
        },
        {
          "name": "stdout",
          "output_type": "stream",
          "text": [
            "[CV] END class_weight={0: 1, 1: 1000000}, max_depth=10, min_samples_leaf=3, min_samples_split=2, n_estimators=405; total time=   7.0s\n"
          ]
        },
        {
          "name": "stderr",
          "output_type": "stream",
          "text": [
            "/Users/zhongyitong/Library/Python/3.11/lib/python/site-packages/sklearn/base.py:1152: DataConversionWarning: A column-vector y was passed when a 1d array was expected. Please change the shape of y to (n_samples,), for example using ravel().\n",
            "  return fit_method(estimator, *args, **kwargs)\n"
          ]
        },
        {
          "name": "stdout",
          "output_type": "stream",
          "text": [
            "[CV] END class_weight={0: 1, 1: 1000000}, max_depth=10, min_samples_leaf=3, min_samples_split=2, n_estimators=405; total time=  13.8s\n"
          ]
        },
        {
          "name": "stderr",
          "output_type": "stream",
          "text": [
            "/Users/zhongyitong/Library/Python/3.11/lib/python/site-packages/sklearn/base.py:1152: DataConversionWarning: A column-vector y was passed when a 1d array was expected. Please change the shape of y to (n_samples,), for example using ravel().\n",
            "  return fit_method(estimator, *args, **kwargs)\n"
          ]
        },
        {
          "name": "stdout",
          "output_type": "stream",
          "text": [
            "[CV] END class_weight={0: 1, 1: 10000}, max_depth=50, min_samples_leaf=1, min_samples_split=7, n_estimators=207; total time=   8.4s\n"
          ]
        },
        {
          "name": "stderr",
          "output_type": "stream",
          "text": [
            "/Users/zhongyitong/Library/Python/3.11/lib/python/site-packages/sklearn/base.py:1152: DataConversionWarning: A column-vector y was passed when a 1d array was expected. Please change the shape of y to (n_samples,), for example using ravel().\n",
            "  return fit_method(estimator, *args, **kwargs)\n"
          ]
        },
        {
          "name": "stdout",
          "output_type": "stream",
          "text": [
            "[CV] END class_weight={0: 1, 1: 10000}, max_depth=50, min_samples_leaf=1, min_samples_split=7, n_estimators=207; total time=   8.4s\n"
          ]
        },
        {
          "name": "stderr",
          "output_type": "stream",
          "text": [
            "/Users/zhongyitong/Library/Python/3.11/lib/python/site-packages/sklearn/base.py:1152: DataConversionWarning: A column-vector y was passed when a 1d array was expected. Please change the shape of y to (n_samples,), for example using ravel().\n",
            "  return fit_method(estimator, *args, **kwargs)\n"
          ]
        },
        {
          "name": "stdout",
          "output_type": "stream",
          "text": [
            "[CV] END class_weight={0: 1, 1: 1000000}, max_depth=10, min_samples_leaf=3, min_samples_split=2, n_estimators=405; total time=  13.8s\n",
            "[CV] END class_weight={0: 1, 1: 10000}, max_depth=50, min_samples_leaf=1, min_samples_split=7, n_estimators=207; total time=   8.8s\n",
            "[CV] END class_weight={0: 1, 1: 10000}, max_depth=50, min_samples_leaf=1, min_samples_split=7, n_estimators=207; total time=   8.6s\n"
          ]
        },
        {
          "name": "stderr",
          "output_type": "stream",
          "text": [
            "/Users/zhongyitong/Library/Python/3.11/lib/python/site-packages/sklearn/base.py:1152: DataConversionWarning: A column-vector y was passed when a 1d array was expected. Please change the shape of y to (n_samples,), for example using ravel().\n",
            "  return fit_method(estimator, *args, **kwargs)\n",
            "/Users/zhongyitong/Library/Python/3.11/lib/python/site-packages/sklearn/base.py:1152: DataConversionWarning: A column-vector y was passed when a 1d array was expected. Please change the shape of y to (n_samples,), for example using ravel().\n",
            "  return fit_method(estimator, *args, **kwargs)\n",
            "/Users/zhongyitong/Library/Python/3.11/lib/python/site-packages/sklearn/base.py:1152: DataConversionWarning: A column-vector y was passed when a 1d array was expected. Please change the shape of y to (n_samples,), for example using ravel().\n",
            "  return fit_method(estimator, *args, **kwargs)\n"
          ]
        },
        {
          "name": "stdout",
          "output_type": "stream",
          "text": [
            "[CV] END class_weight={0: 1, 1: 1000}, max_depth=80, min_samples_leaf=1, min_samples_split=2, n_estimators=602; total time=  31.7s\n"
          ]
        },
        {
          "name": "stderr",
          "output_type": "stream",
          "text": [
            "/Users/zhongyitong/Library/Python/3.11/lib/python/site-packages/sklearn/base.py:1152: DataConversionWarning: A column-vector y was passed when a 1d array was expected. Please change the shape of y to (n_samples,), for example using ravel().\n",
            "  return fit_method(estimator, *args, **kwargs)\n"
          ]
        },
        {
          "name": "stdout",
          "output_type": "stream",
          "text": [
            "[CV] END class_weight={0: 1, 1: 10000}, max_depth=50, min_samples_leaf=1, min_samples_split=7, n_estimators=207; total time=  15.7s\n"
          ]
        },
        {
          "name": "stderr",
          "output_type": "stream",
          "text": [
            "/Users/zhongyitong/Library/Python/3.11/lib/python/site-packages/sklearn/base.py:1152: DataConversionWarning: A column-vector y was passed when a 1d array was expected. Please change the shape of y to (n_samples,), for example using ravel().\n",
            "  return fit_method(estimator, *args, **kwargs)\n"
          ]
        },
        {
          "name": "stdout",
          "output_type": "stream",
          "text": [
            "[CV] END class_weight={0: 1, 1: 1000}, max_depth=20, min_samples_leaf=3, min_samples_split=2, n_estimators=602; total time=  12.9s\n"
          ]
        },
        {
          "name": "stderr",
          "output_type": "stream",
          "text": [
            "/Users/zhongyitong/Library/Python/3.11/lib/python/site-packages/sklearn/base.py:1152: DataConversionWarning: A column-vector y was passed when a 1d array was expected. Please change the shape of y to (n_samples,), for example using ravel().\n",
            "  return fit_method(estimator, *args, **kwargs)\n"
          ]
        },
        {
          "name": "stdout",
          "output_type": "stream",
          "text": [
            "[CV] END class_weight={0: 1, 1: 1000}, max_depth=20, min_samples_leaf=3, min_samples_split=2, n_estimators=602; total time=  13.4s\n"
          ]
        },
        {
          "name": "stderr",
          "output_type": "stream",
          "text": [
            "/Users/zhongyitong/Library/Python/3.11/lib/python/site-packages/sklearn/base.py:1152: DataConversionWarning: A column-vector y was passed when a 1d array was expected. Please change the shape of y to (n_samples,), for example using ravel().\n",
            "  return fit_method(estimator, *args, **kwargs)\n"
          ]
        },
        {
          "name": "stdout",
          "output_type": "stream",
          "text": [
            "[CV] END class_weight={0: 1, 1: 1}, max_depth=100, min_samples_leaf=1, min_samples_split=7, n_estimators=207; total time=   5.7s\n"
          ]
        },
        {
          "name": "stderr",
          "output_type": "stream",
          "text": [
            "/Users/zhongyitong/Library/Python/3.11/lib/python/site-packages/sklearn/base.py:1152: DataConversionWarning: A column-vector y was passed when a 1d array was expected. Please change the shape of y to (n_samples,), for example using ravel().\n",
            "  return fit_method(estimator, *args, **kwargs)\n"
          ]
        },
        {
          "name": "stdout",
          "output_type": "stream",
          "text": [
            "[CV] END class_weight={0: 1, 1: 1000}, max_depth=20, min_samples_leaf=3, min_samples_split=2, n_estimators=602; total time=  13.5s\n"
          ]
        },
        {
          "name": "stderr",
          "output_type": "stream",
          "text": [
            "/Users/zhongyitong/Library/Python/3.11/lib/python/site-packages/sklearn/base.py:1152: DataConversionWarning: A column-vector y was passed when a 1d array was expected. Please change the shape of y to (n_samples,), for example using ravel().\n",
            "  return fit_method(estimator, *args, **kwargs)\n"
          ]
        },
        {
          "name": "stdout",
          "output_type": "stream",
          "text": [
            "[CV] END class_weight={0: 1, 1: 1000}, max_depth=20, min_samples_leaf=3, min_samples_split=2, n_estimators=602; total time=  13.8s\n"
          ]
        },
        {
          "name": "stderr",
          "output_type": "stream",
          "text": [
            "/Users/zhongyitong/Library/Python/3.11/lib/python/site-packages/sklearn/base.py:1152: DataConversionWarning: A column-vector y was passed when a 1d array was expected. Please change the shape of y to (n_samples,), for example using ravel().\n",
            "  return fit_method(estimator, *args, **kwargs)\n"
          ]
        },
        {
          "name": "stdout",
          "output_type": "stream",
          "text": [
            "[CV] END class_weight={0: 1, 1: 1}, max_depth=100, min_samples_leaf=1, min_samples_split=7, n_estimators=207; total time=   5.9s\n"
          ]
        },
        {
          "name": "stderr",
          "output_type": "stream",
          "text": [
            "/Users/zhongyitong/Library/Python/3.11/lib/python/site-packages/sklearn/base.py:1152: DataConversionWarning: A column-vector y was passed when a 1d array was expected. Please change the shape of y to (n_samples,), for example using ravel().\n",
            "  return fit_method(estimator, *args, **kwargs)\n"
          ]
        },
        {
          "name": "stdout",
          "output_type": "stream",
          "text": [
            "[CV] END class_weight={0: 1, 1: 1}, max_depth=100, min_samples_leaf=1, min_samples_split=7, n_estimators=207; total time=   5.8s\n"
          ]
        },
        {
          "name": "stderr",
          "output_type": "stream",
          "text": [
            "/Users/zhongyitong/Library/Python/3.11/lib/python/site-packages/sklearn/base.py:1152: DataConversionWarning: A column-vector y was passed when a 1d array was expected. Please change the shape of y to (n_samples,), for example using ravel().\n",
            "  return fit_method(estimator, *args, **kwargs)\n"
          ]
        },
        {
          "name": "stdout",
          "output_type": "stream",
          "text": [
            "[CV] END class_weight={0: 1, 1: 1}, max_depth=100, min_samples_leaf=1, min_samples_split=7, n_estimators=207; total time=   6.1s\n"
          ]
        },
        {
          "name": "stderr",
          "output_type": "stream",
          "text": [
            "/Users/zhongyitong/Library/Python/3.11/lib/python/site-packages/sklearn/base.py:1152: DataConversionWarning: A column-vector y was passed when a 1d array was expected. Please change the shape of y to (n_samples,), for example using ravel().\n",
            "  return fit_method(estimator, *args, **kwargs)\n"
          ]
        },
        {
          "name": "stdout",
          "output_type": "stream",
          "text": [
            "[CV] END class_weight={0: 1, 1: 1}, max_depth=10, min_samples_leaf=3, min_samples_split=2, n_estimators=800; total time=  17.5s\n"
          ]
        },
        {
          "name": "stderr",
          "output_type": "stream",
          "text": [
            "/Users/zhongyitong/Library/Python/3.11/lib/python/site-packages/sklearn/base.py:1152: DataConversionWarning: A column-vector y was passed when a 1d array was expected. Please change the shape of y to (n_samples,), for example using ravel().\n",
            "  return fit_method(estimator, *args, **kwargs)\n"
          ]
        },
        {
          "name": "stdout",
          "output_type": "stream",
          "text": [
            "[CV] END class_weight={0: 1, 1: 1}, max_depth=10, min_samples_leaf=3, min_samples_split=2, n_estimators=800; total time=  17.7s\n"
          ]
        },
        {
          "name": "stderr",
          "output_type": "stream",
          "text": [
            "/Users/zhongyitong/Library/Python/3.11/lib/python/site-packages/sklearn/base.py:1152: DataConversionWarning: A column-vector y was passed when a 1d array was expected. Please change the shape of y to (n_samples,), for example using ravel().\n",
            "  return fit_method(estimator, *args, **kwargs)\n"
          ]
        },
        {
          "name": "stdout",
          "output_type": "stream",
          "text": [
            "[CV] END class_weight={0: 1, 1: 1}, max_depth=100, min_samples_leaf=1, min_samples_split=7, n_estimators=207; total time=   5.8s\n"
          ]
        },
        {
          "name": "stderr",
          "output_type": "stream",
          "text": [
            "/Users/zhongyitong/Library/Python/3.11/lib/python/site-packages/sklearn/base.py:1152: DataConversionWarning: A column-vector y was passed when a 1d array was expected. Please change the shape of y to (n_samples,), for example using ravel().\n",
            "  return fit_method(estimator, *args, **kwargs)\n"
          ]
        },
        {
          "name": "stdout",
          "output_type": "stream",
          "text": [
            "[CV] END class_weight={0: 1, 1: 1000}, max_depth=20, min_samples_leaf=3, min_samples_split=2, n_estimators=602; total time=  24.3s\n"
          ]
        },
        {
          "name": "stderr",
          "output_type": "stream",
          "text": [
            "/Users/zhongyitong/Library/Python/3.11/lib/python/site-packages/sklearn/base.py:1152: DataConversionWarning: A column-vector y was passed when a 1d array was expected. Please change the shape of y to (n_samples,), for example using ravel().\n",
            "  return fit_method(estimator, *args, **kwargs)\n"
          ]
        },
        {
          "name": "stdout",
          "output_type": "stream",
          "text": [
            "[CV] END class_weight={0: 1, 1: 10000}, max_depth=10, min_samples_leaf=1, min_samples_split=7, n_estimators=602; total time=  10.5s\n"
          ]
        },
        {
          "name": "stderr",
          "output_type": "stream",
          "text": [
            "/Users/zhongyitong/Library/Python/3.11/lib/python/site-packages/sklearn/base.py:1152: DataConversionWarning: A column-vector y was passed when a 1d array was expected. Please change the shape of y to (n_samples,), for example using ravel().\n",
            "  return fit_method(estimator, *args, **kwargs)\n"
          ]
        },
        {
          "name": "stdout",
          "output_type": "stream",
          "text": [
            "[CV] END class_weight={0: 1, 1: 1}, max_depth=10, min_samples_leaf=3, min_samples_split=2, n_estimators=800; total time=  31.8s\n"
          ]
        },
        {
          "name": "stderr",
          "output_type": "stream",
          "text": [
            "/Users/zhongyitong/Library/Python/3.11/lib/python/site-packages/sklearn/base.py:1152: DataConversionWarning: A column-vector y was passed when a 1d array was expected. Please change the shape of y to (n_samples,), for example using ravel().\n",
            "  return fit_method(estimator, *args, **kwargs)\n"
          ]
        },
        {
          "name": "stdout",
          "output_type": "stream",
          "text": [
            "[CV] END class_weight={0: 1, 1: 1}, max_depth=10, min_samples_leaf=3, min_samples_split=2, n_estimators=800; total time=  32.4s\n"
          ]
        },
        {
          "name": "stderr",
          "output_type": "stream",
          "text": [
            "/Users/zhongyitong/Library/Python/3.11/lib/python/site-packages/sklearn/base.py:1152: DataConversionWarning: A column-vector y was passed when a 1d array was expected. Please change the shape of y to (n_samples,), for example using ravel().\n",
            "  return fit_method(estimator, *args, **kwargs)\n"
          ]
        },
        {
          "name": "stdout",
          "output_type": "stream",
          "text": [
            "[CV] END class_weight={0: 1, 1: 1}, max_depth=10, min_samples_leaf=3, min_samples_split=2, n_estimators=800; total time=  32.7s\n"
          ]
        },
        {
          "name": "stderr",
          "output_type": "stream",
          "text": [
            "/Users/zhongyitong/Library/Python/3.11/lib/python/site-packages/sklearn/base.py:1152: DataConversionWarning: A column-vector y was passed when a 1d array was expected. Please change the shape of y to (n_samples,), for example using ravel().\n",
            "  return fit_method(estimator, *args, **kwargs)\n"
          ]
        },
        {
          "name": "stdout",
          "output_type": "stream",
          "text": [
            "[CV] END class_weight={0: 1, 1: 10000}, max_depth=10, min_samples_leaf=1, min_samples_split=7, n_estimators=602; total time=  19.3s\n",
            "[CV] END class_weight={0: 1, 1: 10000}, max_depth=70, min_samples_leaf=1, min_samples_split=2, n_estimators=602; total time=  25.4s\n"
          ]
        },
        {
          "name": "stderr",
          "output_type": "stream",
          "text": [
            "/Users/zhongyitong/Library/Python/3.11/lib/python/site-packages/sklearn/base.py:1152: DataConversionWarning: A column-vector y was passed when a 1d array was expected. Please change the shape of y to (n_samples,), for example using ravel().\n",
            "  return fit_method(estimator, *args, **kwargs)\n",
            "/Users/zhongyitong/Library/Python/3.11/lib/python/site-packages/sklearn/base.py:1152: DataConversionWarning: A column-vector y was passed when a 1d array was expected. Please change the shape of y to (n_samples,), for example using ravel().\n",
            "  return fit_method(estimator, *args, **kwargs)\n"
          ]
        },
        {
          "name": "stdout",
          "output_type": "stream",
          "text": [
            "[CV] END class_weight={0: 1, 1: 10000}, max_depth=10, min_samples_leaf=1, min_samples_split=7, n_estimators=602; total time=  10.2s\n"
          ]
        },
        {
          "name": "stderr",
          "output_type": "stream",
          "text": [
            "/Users/zhongyitong/Library/Python/3.11/lib/python/site-packages/sklearn/base.py:1152: DataConversionWarning: A column-vector y was passed when a 1d array was expected. Please change the shape of y to (n_samples,), for example using ravel().\n",
            "  return fit_method(estimator, *args, **kwargs)\n"
          ]
        },
        {
          "name": "stdout",
          "output_type": "stream",
          "text": [
            "[CV] END class_weight={0: 1, 1: 10000}, max_depth=70, min_samples_leaf=1, min_samples_split=2, n_estimators=602; total time=  25.2s\n"
          ]
        },
        {
          "name": "stderr",
          "output_type": "stream",
          "text": [
            "/Users/zhongyitong/Library/Python/3.11/lib/python/site-packages/sklearn/base.py:1152: DataConversionWarning: A column-vector y was passed when a 1d array was expected. Please change the shape of y to (n_samples,), for example using ravel().\n",
            "  return fit_method(estimator, *args, **kwargs)\n"
          ]
        },
        {
          "name": "stdout",
          "output_type": "stream",
          "text": [
            "[CV] END class_weight={0: 1, 1: 10000}, max_depth=70, min_samples_leaf=1, min_samples_split=2, n_estimators=602; total time=  26.4s\n"
          ]
        },
        {
          "name": "stderr",
          "output_type": "stream",
          "text": [
            "/Users/zhongyitong/Library/Python/3.11/lib/python/site-packages/sklearn/base.py:1152: DataConversionWarning: A column-vector y was passed when a 1d array was expected. Please change the shape of y to (n_samples,), for example using ravel().\n",
            "  return fit_method(estimator, *args, **kwargs)\n"
          ]
        },
        {
          "name": "stdout",
          "output_type": "stream",
          "text": [
            "[CV] END class_weight={0: 1, 1: 10000}, max_depth=70, min_samples_leaf=1, min_samples_split=2, n_estimators=602; total time=  26.8s\n"
          ]
        },
        {
          "name": "stderr",
          "output_type": "stream",
          "text": [
            "/Users/zhongyitong/Library/Python/3.11/lib/python/site-packages/sklearn/base.py:1152: DataConversionWarning: A column-vector y was passed when a 1d array was expected. Please change the shape of y to (n_samples,), for example using ravel().\n",
            "  return fit_method(estimator, *args, **kwargs)\n"
          ]
        },
        {
          "name": "stdout",
          "output_type": "stream",
          "text": [
            "[CV] END class_weight={0: 1, 1: 10000}, max_depth=70, min_samples_leaf=1, min_samples_split=2, n_estimators=602; total time=  28.0s\n"
          ]
        },
        {
          "name": "stderr",
          "output_type": "stream",
          "text": [
            "/Users/zhongyitong/Library/Python/3.11/lib/python/site-packages/sklearn/base.py:1152: DataConversionWarning: A column-vector y was passed when a 1d array was expected. Please change the shape of y to (n_samples,), for example using ravel().\n",
            "  return fit_method(estimator, *args, **kwargs)\n"
          ]
        },
        {
          "name": "stdout",
          "output_type": "stream",
          "text": [
            "[CV] END class_weight={0: 1, 1: 10000}, max_depth=10, min_samples_leaf=1, min_samples_split=7, n_estimators=602; total time=  19.9s\n"
          ]
        },
        {
          "name": "stderr",
          "output_type": "stream",
          "text": [
            "/Users/zhongyitong/Library/Python/3.11/lib/python/site-packages/sklearn/base.py:1152: DataConversionWarning: A column-vector y was passed when a 1d array was expected. Please change the shape of y to (n_samples,), for example using ravel().\n",
            "  return fit_method(estimator, *args, **kwargs)\n"
          ]
        },
        {
          "name": "stdout",
          "output_type": "stream",
          "text": [
            "[CV] END class_weight={0: 1, 1: 10000}, max_depth=10, min_samples_leaf=1, min_samples_split=7, n_estimators=602; total time=  19.1s\n"
          ]
        },
        {
          "name": "stderr",
          "output_type": "stream",
          "text": [
            "/Users/zhongyitong/Library/Python/3.11/lib/python/site-packages/sklearn/base.py:1152: DataConversionWarning: A column-vector y was passed when a 1d array was expected. Please change the shape of y to (n_samples,), for example using ravel().\n",
            "  return fit_method(estimator, *args, **kwargs)\n"
          ]
        },
        {
          "name": "stdout",
          "output_type": "stream",
          "text": [
            "[CV] END class_weight={0: 1, 1: 100000}, max_depth=20, min_samples_leaf=1, min_samples_split=2, n_estimators=602; total time=  17.4s\n"
          ]
        },
        {
          "name": "stderr",
          "output_type": "stream",
          "text": [
            "/Users/zhongyitong/Library/Python/3.11/lib/python/site-packages/sklearn/base.py:1152: DataConversionWarning: A column-vector y was passed when a 1d array was expected. Please change the shape of y to (n_samples,), for example using ravel().\n",
            "  return fit_method(estimator, *args, **kwargs)\n"
          ]
        },
        {
          "name": "stdout",
          "output_type": "stream",
          "text": [
            "[CV] END class_weight={0: 1, 1: 1}, max_depth=50, min_samples_leaf=1, min_samples_split=7, n_estimators=800; total time=  21.1s\n"
          ]
        },
        {
          "name": "stderr",
          "output_type": "stream",
          "text": [
            "/Users/zhongyitong/Library/Python/3.11/lib/python/site-packages/sklearn/base.py:1152: DataConversionWarning: A column-vector y was passed when a 1d array was expected. Please change the shape of y to (n_samples,), for example using ravel().\n",
            "  return fit_method(estimator, *args, **kwargs)\n"
          ]
        },
        {
          "name": "stdout",
          "output_type": "stream",
          "text": [
            "[CV] END class_weight={0: 1, 1: 1}, max_depth=50, min_samples_leaf=1, min_samples_split=7, n_estimators=800; total time=  22.7s\n",
            "[CV] END class_weight={0: 1, 1: 100000}, max_depth=20, min_samples_leaf=1, min_samples_split=2, n_estimators=602; total time=  17.7s\n"
          ]
        },
        {
          "name": "stderr",
          "output_type": "stream",
          "text": [
            "/Users/zhongyitong/Library/Python/3.11/lib/python/site-packages/sklearn/base.py:1152: DataConversionWarning: A column-vector y was passed when a 1d array was expected. Please change the shape of y to (n_samples,), for example using ravel().\n",
            "  return fit_method(estimator, *args, **kwargs)\n",
            "/Users/zhongyitong/Library/Python/3.11/lib/python/site-packages/sklearn/base.py:1152: DataConversionWarning: A column-vector y was passed when a 1d array was expected. Please change the shape of y to (n_samples,), for example using ravel().\n",
            "  return fit_method(estimator, *args, **kwargs)\n"
          ]
        },
        {
          "name": "stdout",
          "output_type": "stream",
          "text": [
            "[CV] END class_weight={0: 1, 1: 100000}, max_depth=20, min_samples_leaf=1, min_samples_split=2, n_estimators=602; total time=  17.6s\n"
          ]
        },
        {
          "name": "stderr",
          "output_type": "stream",
          "text": [
            "/Users/zhongyitong/Library/Python/3.11/lib/python/site-packages/sklearn/base.py:1152: DataConversionWarning: A column-vector y was passed when a 1d array was expected. Please change the shape of y to (n_samples,), for example using ravel().\n",
            "  return fit_method(estimator, *args, **kwargs)\n"
          ]
        },
        {
          "name": "stdout",
          "output_type": "stream",
          "text": [
            "[CV] END class_weight={0: 1, 1: 1}, max_depth=50, min_samples_leaf=1, min_samples_split=7, n_estimators=800; total time=  22.8s\n"
          ]
        },
        {
          "name": "stderr",
          "output_type": "stream",
          "text": [
            "/Users/zhongyitong/Library/Python/3.11/lib/python/site-packages/sklearn/base.py:1152: DataConversionWarning: A column-vector y was passed when a 1d array was expected. Please change the shape of y to (n_samples,), for example using ravel().\n",
            "  return fit_method(estimator, *args, **kwargs)\n"
          ]
        },
        {
          "name": "stdout",
          "output_type": "stream",
          "text": [
            "[CV] END class_weight={0: 1, 1: 1000}, max_depth=70, min_samples_leaf=3, min_samples_split=7, n_estimators=405; total time=  10.9s\n"
          ]
        },
        {
          "name": "stderr",
          "output_type": "stream",
          "text": [
            "/Users/zhongyitong/Library/Python/3.11/lib/python/site-packages/sklearn/base.py:1152: DataConversionWarning: A column-vector y was passed when a 1d array was expected. Please change the shape of y to (n_samples,), for example using ravel().\n",
            "  return fit_method(estimator, *args, **kwargs)\n"
          ]
        },
        {
          "name": "stdout",
          "output_type": "stream",
          "text": [
            "[CV] END class_weight={0: 1, 1: 10}, max_depth=90, min_samples_leaf=3, min_samples_split=2, n_estimators=800; total time=  18.5s\n"
          ]
        },
        {
          "name": "stderr",
          "output_type": "stream",
          "text": [
            "/Users/zhongyitong/Library/Python/3.11/lib/python/site-packages/sklearn/base.py:1152: DataConversionWarning: A column-vector y was passed when a 1d array was expected. Please change the shape of y to (n_samples,), for example using ravel().\n",
            "  return fit_method(estimator, *args, **kwargs)\n"
          ]
        },
        {
          "name": "stdout",
          "output_type": "stream",
          "text": [
            "[CV] END class_weight={0: 1, 1: 10}, max_depth=90, min_samples_leaf=3, min_samples_split=2, n_estimators=800; total time=  18.5s\n"
          ]
        },
        {
          "name": "stderr",
          "output_type": "stream",
          "text": [
            "/Users/zhongyitong/Library/Python/3.11/lib/python/site-packages/sklearn/base.py:1152: DataConversionWarning: A column-vector y was passed when a 1d array was expected. Please change the shape of y to (n_samples,), for example using ravel().\n",
            "  return fit_method(estimator, *args, **kwargs)\n"
          ]
        },
        {
          "name": "stdout",
          "output_type": "stream",
          "text": [
            "[CV] END class_weight={0: 1, 1: 10}, max_depth=90, min_samples_leaf=3, min_samples_split=2, n_estimators=800; total time=  18.1s\n"
          ]
        },
        {
          "name": "stderr",
          "output_type": "stream",
          "text": [
            "/Users/zhongyitong/Library/Python/3.11/lib/python/site-packages/sklearn/base.py:1152: DataConversionWarning: A column-vector y was passed when a 1d array was expected. Please change the shape of y to (n_samples,), for example using ravel().\n",
            "  return fit_method(estimator, *args, **kwargs)\n"
          ]
        },
        {
          "name": "stdout",
          "output_type": "stream",
          "text": [
            "[CV] END class_weight={0: 1, 1: 10}, max_depth=90, min_samples_leaf=3, min_samples_split=2, n_estimators=800; total time=  18.8s\n"
          ]
        },
        {
          "name": "stderr",
          "output_type": "stream",
          "text": [
            "/Users/zhongyitong/Library/Python/3.11/lib/python/site-packages/sklearn/base.py:1152: DataConversionWarning: A column-vector y was passed when a 1d array was expected. Please change the shape of y to (n_samples,), for example using ravel().\n",
            "  return fit_method(estimator, *args, **kwargs)\n"
          ]
        },
        {
          "name": "stdout",
          "output_type": "stream",
          "text": [
            "[CV] END class_weight={0: 1, 1: 1}, max_depth=50, min_samples_leaf=1, min_samples_split=7, n_estimators=800; total time=  45.4s\n",
            "[CV] END class_weight={0: 1, 1: 10}, max_depth=90, min_samples_leaf=3, min_samples_split=2, n_estimators=800; total time=  18.8s\n"
          ]
        },
        {
          "name": "stderr",
          "output_type": "stream",
          "text": [
            "/Users/zhongyitong/Library/Python/3.11/lib/python/site-packages/sklearn/base.py:1152: DataConversionWarning: A column-vector y was passed when a 1d array was expected. Please change the shape of y to (n_samples,), for example using ravel().\n",
            "  return fit_method(estimator, *args, **kwargs)\n",
            "/Users/zhongyitong/Library/Python/3.11/lib/python/site-packages/sklearn/base.py:1152: DataConversionWarning: A column-vector y was passed when a 1d array was expected. Please change the shape of y to (n_samples,), for example using ravel().\n",
            "  return fit_method(estimator, *args, **kwargs)\n"
          ]
        },
        {
          "name": "stdout",
          "output_type": "stream",
          "text": [
            "[CV] END class_weight={0: 1, 1: 1000}, max_depth=70, min_samples_leaf=3, min_samples_split=7, n_estimators=405; total time=  11.0s\n"
          ]
        },
        {
          "name": "stderr",
          "output_type": "stream",
          "text": [
            "/Users/zhongyitong/Library/Python/3.11/lib/python/site-packages/sklearn/base.py:1152: DataConversionWarning: A column-vector y was passed when a 1d array was expected. Please change the shape of y to (n_samples,), for example using ravel().\n",
            "  return fit_method(estimator, *args, **kwargs)\n"
          ]
        },
        {
          "name": "stdout",
          "output_type": "stream",
          "text": [
            "[CV] END class_weight={0: 1, 1: 1}, max_depth=50, min_samples_leaf=1, min_samples_split=7, n_estimators=800; total time=  48.2s\n"
          ]
        },
        {
          "name": "stderr",
          "output_type": "stream",
          "text": [
            "/Users/zhongyitong/Library/Python/3.11/lib/python/site-packages/sklearn/base.py:1152: DataConversionWarning: A column-vector y was passed when a 1d array was expected. Please change the shape of y to (n_samples,), for example using ravel().\n",
            "  return fit_method(estimator, *args, **kwargs)\n"
          ]
        },
        {
          "name": "stdout",
          "output_type": "stream",
          "text": [
            "[CV] END class_weight={0: 1, 1: 1000}, max_depth=70, min_samples_leaf=3, min_samples_split=7, n_estimators=405; total time=  10.5s\n"
          ]
        },
        {
          "name": "stderr",
          "output_type": "stream",
          "text": [
            "/Users/zhongyitong/Library/Python/3.11/lib/python/site-packages/sklearn/base.py:1152: DataConversionWarning: A column-vector y was passed when a 1d array was expected. Please change the shape of y to (n_samples,), for example using ravel().\n",
            "  return fit_method(estimator, *args, **kwargs)\n"
          ]
        },
        {
          "name": "stdout",
          "output_type": "stream",
          "text": [
            "[CV] END class_weight={0: 1, 1: 1000}, max_depth=70, min_samples_leaf=3, min_samples_split=7, n_estimators=405; total time=  11.4s\n"
          ]
        },
        {
          "name": "stderr",
          "output_type": "stream",
          "text": [
            "/Users/zhongyitong/Library/Python/3.11/lib/python/site-packages/sklearn/base.py:1152: DataConversionWarning: A column-vector y was passed when a 1d array was expected. Please change the shape of y to (n_samples,), for example using ravel().\n",
            "  return fit_method(estimator, *args, **kwargs)\n"
          ]
        },
        {
          "name": "stdout",
          "output_type": "stream",
          "text": [
            "[CV] END class_weight={0: 1, 1: 1000}, max_depth=70, min_samples_leaf=3, min_samples_split=7, n_estimators=405; total time=  11.0s\n"
          ]
        },
        {
          "name": "stderr",
          "output_type": "stream",
          "text": [
            "/Users/zhongyitong/Library/Python/3.11/lib/python/site-packages/sklearn/base.py:1152: DataConversionWarning: A column-vector y was passed when a 1d array was expected. Please change the shape of y to (n_samples,), for example using ravel().\n",
            "  return fit_method(estimator, *args, **kwargs)\n"
          ]
        },
        {
          "name": "stdout",
          "output_type": "stream",
          "text": [
            "[CV] END class_weight={0: 1, 1: 100000}, max_depth=20, min_samples_leaf=1, min_samples_split=2, n_estimators=602; total time=  40.3s\n"
          ]
        },
        {
          "name": "stderr",
          "output_type": "stream",
          "text": [
            "/Users/zhongyitong/Library/Python/3.11/lib/python/site-packages/sklearn/base.py:1152: DataConversionWarning: A column-vector y was passed when a 1d array was expected. Please change the shape of y to (n_samples,), for example using ravel().\n",
            "  return fit_method(estimator, *args, **kwargs)\n"
          ]
        },
        {
          "name": "stdout",
          "output_type": "stream",
          "text": [
            "[CV] END class_weight={0: 1, 1: 100000}, max_depth=20, min_samples_leaf=1, min_samples_split=2, n_estimators=602; total time=  39.0s\n"
          ]
        },
        {
          "name": "stderr",
          "output_type": "stream",
          "text": [
            "/Users/zhongyitong/Library/Python/3.11/lib/python/site-packages/sklearn/base.py:1152: DataConversionWarning: A column-vector y was passed when a 1d array was expected. Please change the shape of y to (n_samples,), for example using ravel().\n",
            "  return fit_method(estimator, *args, **kwargs)\n"
          ]
        },
        {
          "name": "stdout",
          "output_type": "stream",
          "text": [
            "[CV] END class_weight={0: 1, 1: 1}, max_depth=20, min_samples_leaf=1, min_samples_split=2, n_estimators=207; total time=   5.8s\n"
          ]
        },
        {
          "name": "stderr",
          "output_type": "stream",
          "text": [
            "/Users/zhongyitong/Library/Python/3.11/lib/python/site-packages/sklearn/base.py:1152: DataConversionWarning: A column-vector y was passed when a 1d array was expected. Please change the shape of y to (n_samples,), for example using ravel().\n",
            "  return fit_method(estimator, *args, **kwargs)\n"
          ]
        },
        {
          "name": "stdout",
          "output_type": "stream",
          "text": [
            "[CV] END class_weight={0: 1, 1: 10}, max_depth=60, min_samples_leaf=1, min_samples_split=2, n_estimators=10; total time=   0.2s\n"
          ]
        },
        {
          "name": "stderr",
          "output_type": "stream",
          "text": [
            "/Users/zhongyitong/Library/Python/3.11/lib/python/site-packages/sklearn/base.py:1152: DataConversionWarning: A column-vector y was passed when a 1d array was expected. Please change the shape of y to (n_samples,), for example using ravel().\n",
            "  return fit_method(estimator, *args, **kwargs)\n"
          ]
        },
        {
          "name": "stdout",
          "output_type": "stream",
          "text": [
            "[CV] END class_weight={0: 1, 1: 10}, max_depth=60, min_samples_leaf=1, min_samples_split=2, n_estimators=10; total time=   0.3s\n"
          ]
        },
        {
          "name": "stderr",
          "output_type": "stream",
          "text": [
            "/Users/zhongyitong/Library/Python/3.11/lib/python/site-packages/sklearn/base.py:1152: DataConversionWarning: A column-vector y was passed when a 1d array was expected. Please change the shape of y to (n_samples,), for example using ravel().\n",
            "  return fit_method(estimator, *args, **kwargs)\n"
          ]
        },
        {
          "name": "stdout",
          "output_type": "stream",
          "text": [
            "[CV] END class_weight={0: 1, 1: 10}, max_depth=60, min_samples_leaf=1, min_samples_split=2, n_estimators=10; total time=   0.2s\n"
          ]
        },
        {
          "name": "stderr",
          "output_type": "stream",
          "text": [
            "/Users/zhongyitong/Library/Python/3.11/lib/python/site-packages/sklearn/base.py:1152: DataConversionWarning: A column-vector y was passed when a 1d array was expected. Please change the shape of y to (n_samples,), for example using ravel().\n",
            "  return fit_method(estimator, *args, **kwargs)\n"
          ]
        },
        {
          "name": "stdout",
          "output_type": "stream",
          "text": [
            "[CV] END class_weight={0: 1, 1: 10}, max_depth=60, min_samples_leaf=1, min_samples_split=2, n_estimators=10; total time=   0.2s\n"
          ]
        },
        {
          "name": "stderr",
          "output_type": "stream",
          "text": [
            "/Users/zhongyitong/Library/Python/3.11/lib/python/site-packages/sklearn/base.py:1152: DataConversionWarning: A column-vector y was passed when a 1d array was expected. Please change the shape of y to (n_samples,), for example using ravel().\n",
            "  return fit_method(estimator, *args, **kwargs)\n"
          ]
        },
        {
          "name": "stdout",
          "output_type": "stream",
          "text": [
            "[CV] END class_weight={0: 1, 1: 10000}, max_depth=10, min_samples_leaf=1, min_samples_split=7, n_estimators=800; total time=  14.6s\n",
            "[CV] END class_weight={0: 1, 1: 10}, max_depth=60, min_samples_leaf=1, min_samples_split=2, n_estimators=10; total time=   0.3s\n"
          ]
        },
        {
          "name": "stderr",
          "output_type": "stream",
          "text": [
            "/Users/zhongyitong/Library/Python/3.11/lib/python/site-packages/sklearn/base.py:1152: DataConversionWarning: A column-vector y was passed when a 1d array was expected. Please change the shape of y to (n_samples,), for example using ravel().\n",
            "  return fit_method(estimator, *args, **kwargs)\n",
            "/Users/zhongyitong/Library/Python/3.11/lib/python/site-packages/sklearn/base.py:1152: DataConversionWarning: A column-vector y was passed when a 1d array was expected. Please change the shape of y to (n_samples,), for example using ravel().\n",
            "  return fit_method(estimator, *args, **kwargs)\n"
          ]
        },
        {
          "name": "stdout",
          "output_type": "stream",
          "text": [
            "[CV] END class_weight={0: 1, 1: 1}, max_depth=20, min_samples_leaf=1, min_samples_split=2, n_estimators=207; total time=   5.8s\n"
          ]
        },
        {
          "name": "stderr",
          "output_type": "stream",
          "text": [
            "/Users/zhongyitong/Library/Python/3.11/lib/python/site-packages/sklearn/base.py:1152: DataConversionWarning: A column-vector y was passed when a 1d array was expected. Please change the shape of y to (n_samples,), for example using ravel().\n",
            "  return fit_method(estimator, *args, **kwargs)\n"
          ]
        },
        {
          "name": "stdout",
          "output_type": "stream",
          "text": [
            "[CV] END class_weight={0: 1, 1: 10000}, max_depth=10, min_samples_leaf=1, min_samples_split=7, n_estimators=800; total time=  14.7s\n"
          ]
        },
        {
          "name": "stderr",
          "output_type": "stream",
          "text": [
            "/Users/zhongyitong/Library/Python/3.11/lib/python/site-packages/sklearn/base.py:1152: DataConversionWarning: A column-vector y was passed when a 1d array was expected. Please change the shape of y to (n_samples,), for example using ravel().\n",
            "  return fit_method(estimator, *args, **kwargs)\n"
          ]
        },
        {
          "name": "stdout",
          "output_type": "stream",
          "text": [
            "[CV] END class_weight={0: 1, 1: 1}, max_depth=20, min_samples_leaf=1, min_samples_split=2, n_estimators=207; total time=   5.9s\n"
          ]
        },
        {
          "name": "stderr",
          "output_type": "stream",
          "text": [
            "/Users/zhongyitong/Library/Python/3.11/lib/python/site-packages/sklearn/base.py:1152: DataConversionWarning: A column-vector y was passed when a 1d array was expected. Please change the shape of y to (n_samples,), for example using ravel().\n",
            "  return fit_method(estimator, *args, **kwargs)\n"
          ]
        },
        {
          "name": "stdout",
          "output_type": "stream",
          "text": [
            "[CV] END class_weight={0: 1, 1: 10000}, max_depth=10, min_samples_leaf=1, min_samples_split=7, n_estimators=800; total time=  14.4s\n"
          ]
        },
        {
          "name": "stderr",
          "output_type": "stream",
          "text": [
            "/Users/zhongyitong/Library/Python/3.11/lib/python/site-packages/sklearn/base.py:1152: DataConversionWarning: A column-vector y was passed when a 1d array was expected. Please change the shape of y to (n_samples,), for example using ravel().\n",
            "  return fit_method(estimator, *args, **kwargs)\n"
          ]
        },
        {
          "name": "stdout",
          "output_type": "stream",
          "text": [
            "[CV] END class_weight={0: 1, 1: 1}, max_depth=20, min_samples_leaf=1, min_samples_split=2, n_estimators=207; total time=  13.2s\n",
            "[CV] END class_weight={0: 1, 1: 100000}, max_depth=70, min_samples_leaf=3, min_samples_split=7, n_estimators=207; total time=   9.6s\n"
          ]
        },
        {
          "name": "stderr",
          "output_type": "stream",
          "text": [
            "/Users/zhongyitong/Library/Python/3.11/lib/python/site-packages/sklearn/base.py:1152: DataConversionWarning: A column-vector y was passed when a 1d array was expected. Please change the shape of y to (n_samples,), for example using ravel().\n",
            "  return fit_method(estimator, *args, **kwargs)\n",
            "/Users/zhongyitong/Library/Python/3.11/lib/python/site-packages/sklearn/base.py:1152: DataConversionWarning: A column-vector y was passed when a 1d array was expected. Please change the shape of y to (n_samples,), for example using ravel().\n",
            "  return fit_method(estimator, *args, **kwargs)\n",
            "/Users/zhongyitong/Library/Python/3.11/lib/python/site-packages/sklearn/base.py:1152: DataConversionWarning: A column-vector y was passed when a 1d array was expected. Please change the shape of y to (n_samples,), for example using ravel().\n",
            "  return fit_method(estimator, *args, **kwargs)\n"
          ]
        },
        {
          "name": "stdout",
          "output_type": "stream",
          "text": [
            "[CV] END class_weight={0: 1, 1: 100000}, max_depth=70, min_samples_leaf=3, min_samples_split=7, n_estimators=207; total time=   9.4s\n",
            "[CV] END class_weight={0: 1, 1: 100000}, max_depth=70, min_samples_leaf=3, min_samples_split=7, n_estimators=207; total time=   9.8s\n"
          ]
        },
        {
          "name": "stderr",
          "output_type": "stream",
          "text": [
            "/Users/zhongyitong/Library/Python/3.11/lib/python/site-packages/sklearn/base.py:1152: DataConversionWarning: A column-vector y was passed when a 1d array was expected. Please change the shape of y to (n_samples,), for example using ravel().\n",
            "  return fit_method(estimator, *args, **kwargs)\n"
          ]
        },
        {
          "name": "stdout",
          "output_type": "stream",
          "text": [
            "[CV] END class_weight={0: 1, 1: 100000}, max_depth=70, min_samples_leaf=3, min_samples_split=7, n_estimators=207; total time=  10.1s\n",
            "[CV] END class_weight={0: 1, 1: 1}, max_depth=20, min_samples_leaf=1, min_samples_split=2, n_estimators=207; total time=  12.8s\n",
            "[CV] END class_weight={0: 1, 1: 100000}, max_depth=70, min_samples_leaf=3, min_samples_split=7, n_estimators=207; total time=   9.7s\n"
          ]
        },
        {
          "name": "stderr",
          "output_type": "stream",
          "text": [
            "/Users/zhongyitong/Library/Python/3.11/lib/python/site-packages/sklearn/base.py:1152: DataConversionWarning: A column-vector y was passed when a 1d array was expected. Please change the shape of y to (n_samples,), for example using ravel().\n",
            "  return fit_method(estimator, *args, **kwargs)\n",
            "/Users/zhongyitong/Library/Python/3.11/lib/python/site-packages/sklearn/base.py:1152: DataConversionWarning: A column-vector y was passed when a 1d array was expected. Please change the shape of y to (n_samples,), for example using ravel().\n",
            "  return fit_method(estimator, *args, **kwargs)\n",
            "/Users/zhongyitong/Library/Python/3.11/lib/python/site-packages/sklearn/base.py:1152: DataConversionWarning: A column-vector y was passed when a 1d array was expected. Please change the shape of y to (n_samples,), for example using ravel().\n",
            "  return fit_method(estimator, *args, **kwargs)\n"
          ]
        },
        {
          "name": "stdout",
          "output_type": "stream",
          "text": [
            "[CV] END class_weight={0: 1, 1: 10000}, max_depth=10, min_samples_leaf=1, min_samples_split=7, n_estimators=800; total time=  28.8s\n"
          ]
        },
        {
          "name": "stderr",
          "output_type": "stream",
          "text": [
            "/Users/zhongyitong/Library/Python/3.11/lib/python/site-packages/sklearn/base.py:1152: DataConversionWarning: A column-vector y was passed when a 1d array was expected. Please change the shape of y to (n_samples,), for example using ravel().\n",
            "  return fit_method(estimator, *args, **kwargs)\n"
          ]
        },
        {
          "name": "stdout",
          "output_type": "stream",
          "text": [
            "[CV] END class_weight={0: 1, 1: 10000}, max_depth=10, min_samples_leaf=1, min_samples_split=7, n_estimators=800; total time=  28.5s\n"
          ]
        },
        {
          "name": "stderr",
          "output_type": "stream",
          "text": [
            "/Users/zhongyitong/Library/Python/3.11/lib/python/site-packages/sklearn/base.py:1152: DataConversionWarning: A column-vector y was passed when a 1d array was expected. Please change the shape of y to (n_samples,), for example using ravel().\n",
            "  return fit_method(estimator, *args, **kwargs)\n"
          ]
        },
        {
          "name": "stdout",
          "output_type": "stream",
          "text": [
            "[CV] END class_weight={0: 1, 1: 10}, max_depth=20, min_samples_leaf=3, min_samples_split=2, n_estimators=602; total time=  12.5s\n",
            "[CV] END class_weight={0: 1, 1: 1000000}, max_depth=90, min_samples_leaf=3, min_samples_split=7, n_estimators=405; total time=  18.3s\n"
          ]
        },
        {
          "name": "stderr",
          "output_type": "stream",
          "text": [
            "/Users/zhongyitong/Library/Python/3.11/lib/python/site-packages/sklearn/base.py:1152: DataConversionWarning: A column-vector y was passed when a 1d array was expected. Please change the shape of y to (n_samples,), for example using ravel().\n",
            "  return fit_method(estimator, *args, **kwargs)\n",
            "/Users/zhongyitong/Library/Python/3.11/lib/python/site-packages/sklearn/base.py:1152: DataConversionWarning: A column-vector y was passed when a 1d array was expected. Please change the shape of y to (n_samples,), for example using ravel().\n",
            "  return fit_method(estimator, *args, **kwargs)\n"
          ]
        },
        {
          "name": "stdout",
          "output_type": "stream",
          "text": [
            "[CV] END class_weight={0: 1, 1: 10}, max_depth=20, min_samples_leaf=3, min_samples_split=2, n_estimators=602; total time=  12.8s\n"
          ]
        },
        {
          "name": "stderr",
          "output_type": "stream",
          "text": [
            "/Users/zhongyitong/Library/Python/3.11/lib/python/site-packages/sklearn/base.py:1152: DataConversionWarning: A column-vector y was passed when a 1d array was expected. Please change the shape of y to (n_samples,), for example using ravel().\n",
            "  return fit_method(estimator, *args, **kwargs)\n"
          ]
        },
        {
          "name": "stdout",
          "output_type": "stream",
          "text": [
            "[CV] END class_weight={0: 1, 1: 1000000}, max_depth=90, min_samples_leaf=3, min_samples_split=7, n_estimators=405; total time=  17.9s\n"
          ]
        },
        {
          "name": "stderr",
          "output_type": "stream",
          "text": [
            "/Users/zhongyitong/Library/Python/3.11/lib/python/site-packages/sklearn/base.py:1152: DataConversionWarning: A column-vector y was passed when a 1d array was expected. Please change the shape of y to (n_samples,), for example using ravel().\n",
            "  return fit_method(estimator, *args, **kwargs)\n"
          ]
        },
        {
          "name": "stdout",
          "output_type": "stream",
          "text": [
            "[CV] END class_weight={0: 1, 1: 1000000}, max_depth=90, min_samples_leaf=3, min_samples_split=7, n_estimators=405; total time=  18.5s\n"
          ]
        },
        {
          "name": "stderr",
          "output_type": "stream",
          "text": [
            "/Users/zhongyitong/Library/Python/3.11/lib/python/site-packages/sklearn/base.py:1152: DataConversionWarning: A column-vector y was passed when a 1d array was expected. Please change the shape of y to (n_samples,), for example using ravel().\n",
            "  return fit_method(estimator, *args, **kwargs)\n"
          ]
        },
        {
          "name": "stdout",
          "output_type": "stream",
          "text": [
            "[CV] END class_weight={0: 1, 1: 1000}, max_depth=90, min_samples_leaf=3, min_samples_split=2, n_estimators=207; total time=   5.1s\n",
            "[CV] END class_weight={0: 1, 1: 1000000}, max_depth=90, min_samples_leaf=3, min_samples_split=7, n_estimators=405; total time=  19.0s\n",
            "[CV] END class_weight={0: 1, 1: 1000}, max_depth=90, min_samples_leaf=3, min_samples_split=2, n_estimators=207; total time=   5.2s\n"
          ]
        },
        {
          "name": "stderr",
          "output_type": "stream",
          "text": [
            "/Users/zhongyitong/Library/Python/3.11/lib/python/site-packages/sklearn/base.py:1152: DataConversionWarning: A column-vector y was passed when a 1d array was expected. Please change the shape of y to (n_samples,), for example using ravel().\n",
            "  return fit_method(estimator, *args, **kwargs)\n",
            "/Users/zhongyitong/Library/Python/3.11/lib/python/site-packages/sklearn/base.py:1152: DataConversionWarning: A column-vector y was passed when a 1d array was expected. Please change the shape of y to (n_samples,), for example using ravel().\n",
            "  return fit_method(estimator, *args, **kwargs)\n",
            "/Users/zhongyitong/Library/Python/3.11/lib/python/site-packages/sklearn/base.py:1152: DataConversionWarning: A column-vector y was passed when a 1d array was expected. Please change the shape of y to (n_samples,), for example using ravel().\n",
            "  return fit_method(estimator, *args, **kwargs)\n"
          ]
        },
        {
          "name": "stdout",
          "output_type": "stream",
          "text": [
            "[CV] END class_weight={0: 1, 1: 1000}, max_depth=90, min_samples_leaf=3, min_samples_split=2, n_estimators=207; total time=   5.0s\n"
          ]
        },
        {
          "name": "stderr",
          "output_type": "stream",
          "text": [
            "/Users/zhongyitong/Library/Python/3.11/lib/python/site-packages/sklearn/base.py:1152: DataConversionWarning: A column-vector y was passed when a 1d array was expected. Please change the shape of y to (n_samples,), for example using ravel().\n",
            "  return fit_method(estimator, *args, **kwargs)\n"
          ]
        },
        {
          "name": "stdout",
          "output_type": "stream",
          "text": [
            "[CV] END class_weight={0: 1, 1: 1000}, max_depth=90, min_samples_leaf=3, min_samples_split=2, n_estimators=207; total time=   5.6s\n"
          ]
        },
        {
          "name": "stderr",
          "output_type": "stream",
          "text": [
            "/Users/zhongyitong/Library/Python/3.11/lib/python/site-packages/sklearn/base.py:1152: DataConversionWarning: A column-vector y was passed when a 1d array was expected. Please change the shape of y to (n_samples,), for example using ravel().\n",
            "  return fit_method(estimator, *args, **kwargs)\n"
          ]
        },
        {
          "name": "stdout",
          "output_type": "stream",
          "text": [
            "[CV] END class_weight={0: 1, 1: 1000}, max_depth=90, min_samples_leaf=3, min_samples_split=2, n_estimators=207; total time=   5.4s\n"
          ]
        },
        {
          "name": "stderr",
          "output_type": "stream",
          "text": [
            "/Users/zhongyitong/Library/Python/3.11/lib/python/site-packages/sklearn/base.py:1152: DataConversionWarning: A column-vector y was passed when a 1d array was expected. Please change the shape of y to (n_samples,), for example using ravel().\n",
            "  return fit_method(estimator, *args, **kwargs)\n"
          ]
        },
        {
          "name": "stdout",
          "output_type": "stream",
          "text": [
            "[CV] END class_weight={0: 1, 1: 10}, max_depth=20, min_samples_leaf=3, min_samples_split=2, n_estimators=602; total time=  24.0s\n"
          ]
        },
        {
          "name": "stderr",
          "output_type": "stream",
          "text": [
            "/Users/zhongyitong/Library/Python/3.11/lib/python/site-packages/sklearn/base.py:1152: DataConversionWarning: A column-vector y was passed when a 1d array was expected. Please change the shape of y to (n_samples,), for example using ravel().\n",
            "  return fit_method(estimator, *args, **kwargs)\n"
          ]
        },
        {
          "name": "stdout",
          "output_type": "stream",
          "text": [
            "[CV] END class_weight={0: 1, 1: 1000}, max_depth=40, min_samples_leaf=3, min_samples_split=7, n_estimators=405; total time=   9.8s\n",
            "[CV] END class_weight={0: 1, 1: 1000}, max_depth=40, min_samples_leaf=3, min_samples_split=7, n_estimators=405; total time=   9.8s\n"
          ]
        },
        {
          "name": "stderr",
          "output_type": "stream",
          "text": [
            "/Users/zhongyitong/Library/Python/3.11/lib/python/site-packages/sklearn/base.py:1152: DataConversionWarning: A column-vector y was passed when a 1d array was expected. Please change the shape of y to (n_samples,), for example using ravel().\n",
            "  return fit_method(estimator, *args, **kwargs)\n",
            "/Users/zhongyitong/Library/Python/3.11/lib/python/site-packages/sklearn/base.py:1152: DataConversionWarning: A column-vector y was passed when a 1d array was expected. Please change the shape of y to (n_samples,), for example using ravel().\n",
            "  return fit_method(estimator, *args, **kwargs)\n"
          ]
        },
        {
          "name": "stdout",
          "output_type": "stream",
          "text": [
            "[CV] END class_weight={0: 1, 1: 1000}, max_depth=40, min_samples_leaf=3, min_samples_split=7, n_estimators=405; total time=  10.1s\n"
          ]
        },
        {
          "name": "stderr",
          "output_type": "stream",
          "text": [
            "/Users/zhongyitong/Library/Python/3.11/lib/python/site-packages/sklearn/base.py:1152: DataConversionWarning: A column-vector y was passed when a 1d array was expected. Please change the shape of y to (n_samples,), for example using ravel().\n",
            "  return fit_method(estimator, *args, **kwargs)\n"
          ]
        },
        {
          "name": "stdout",
          "output_type": "stream",
          "text": [
            "[CV] END class_weight={0: 1, 1: 10}, max_depth=20, min_samples_leaf=3, min_samples_split=2, n_estimators=602; total time=  24.9s\n",
            "[CV] END class_weight={0: 1, 1: 1000}, max_depth=40, min_samples_leaf=3, min_samples_split=7, n_estimators=405; total time=  11.0s\n"
          ]
        },
        {
          "name": "stderr",
          "output_type": "stream",
          "text": [
            "/Users/zhongyitong/Library/Python/3.11/lib/python/site-packages/sklearn/base.py:1152: DataConversionWarning: A column-vector y was passed when a 1d array was expected. Please change the shape of y to (n_samples,), for example using ravel().\n",
            "  return fit_method(estimator, *args, **kwargs)\n",
            "/Users/zhongyitong/Library/Python/3.11/lib/python/site-packages/sklearn/base.py:1152: DataConversionWarning: A column-vector y was passed when a 1d array was expected. Please change the shape of y to (n_samples,), for example using ravel().\n",
            "  return fit_method(estimator, *args, **kwargs)\n"
          ]
        },
        {
          "name": "stdout",
          "output_type": "stream",
          "text": [
            "[CV] END class_weight={0: 1, 1: 1000}, max_depth=40, min_samples_leaf=3, min_samples_split=7, n_estimators=405; total time=  10.4s\n"
          ]
        },
        {
          "name": "stderr",
          "output_type": "stream",
          "text": [
            "/Users/zhongyitong/Library/Python/3.11/lib/python/site-packages/sklearn/base.py:1152: DataConversionWarning: A column-vector y was passed when a 1d array was expected. Please change the shape of y to (n_samples,), for example using ravel().\n",
            "  return fit_method(estimator, *args, **kwargs)\n"
          ]
        },
        {
          "name": "stdout",
          "output_type": "stream",
          "text": [
            "[CV] END class_weight={0: 1, 1: 1000000}, max_depth=90, min_samples_leaf=3, min_samples_split=7, n_estimators=405; total time=  36.0s\n",
            "[CV] END class_weight={0: 1, 1: 10}, max_depth=20, min_samples_leaf=3, min_samples_split=2, n_estimators=602; total time=  25.3s\n"
          ]
        },
        {
          "name": "stderr",
          "output_type": "stream",
          "text": [
            "/Users/zhongyitong/Library/Python/3.11/lib/python/site-packages/sklearn/base.py:1152: DataConversionWarning: A column-vector y was passed when a 1d array was expected. Please change the shape of y to (n_samples,), for example using ravel().\n",
            "  return fit_method(estimator, *args, **kwargs)\n",
            "/Users/zhongyitong/Library/Python/3.11/lib/python/site-packages/sklearn/base.py:1152: DataConversionWarning: A column-vector y was passed when a 1d array was expected. Please change the shape of y to (n_samples,), for example using ravel().\n",
            "  return fit_method(estimator, *args, **kwargs)\n"
          ]
        },
        {
          "name": "stdout",
          "output_type": "stream",
          "text": [
            "[CV] END class_weight={0: 1, 1: 1000000}, max_depth=70, min_samples_leaf=3, min_samples_split=2, n_estimators=800; total time=  37.6s\n",
            "[CV] END class_weight={0: 1, 1: 1000000}, max_depth=80, min_samples_leaf=1, min_samples_split=7, n_estimators=800; total time=  44.0s\n"
          ]
        },
        {
          "name": "stderr",
          "output_type": "stream",
          "text": [
            "/Users/zhongyitong/Library/Python/3.11/lib/python/site-packages/sklearn/base.py:1152: DataConversionWarning: A column-vector y was passed when a 1d array was expected. Please change the shape of y to (n_samples,), for example using ravel().\n",
            "  return fit_method(estimator, *args, **kwargs)\n",
            "/Users/zhongyitong/Library/Python/3.11/lib/python/site-packages/sklearn/base.py:1152: DataConversionWarning: A column-vector y was passed when a 1d array was expected. Please change the shape of y to (n_samples,), for example using ravel().\n",
            "  return fit_method(estimator, *args, **kwargs)\n"
          ]
        },
        {
          "name": "stdout",
          "output_type": "stream",
          "text": [
            "[CV] END class_weight={0: 1, 1: 1000000}, max_depth=70, min_samples_leaf=3, min_samples_split=2, n_estimators=800; total time=  36.9s\n"
          ]
        },
        {
          "name": "stderr",
          "output_type": "stream",
          "text": [
            "/Users/zhongyitong/Library/Python/3.11/lib/python/site-packages/sklearn/base.py:1152: DataConversionWarning: A column-vector y was passed when a 1d array was expected. Please change the shape of y to (n_samples,), for example using ravel().\n",
            "  return fit_method(estimator, *args, **kwargs)\n"
          ]
        },
        {
          "name": "stdout",
          "output_type": "stream",
          "text": [
            "[CV] END class_weight={0: 1, 1: 1000000}, max_depth=80, min_samples_leaf=1, min_samples_split=7, n_estimators=800; total time=  44.4s\n"
          ]
        },
        {
          "name": "stderr",
          "output_type": "stream",
          "text": [
            "/Users/zhongyitong/Library/Python/3.11/lib/python/site-packages/sklearn/base.py:1152: DataConversionWarning: A column-vector y was passed when a 1d array was expected. Please change the shape of y to (n_samples,), for example using ravel().\n",
            "  return fit_method(estimator, *args, **kwargs)\n"
          ]
        },
        {
          "name": "stdout",
          "output_type": "stream",
          "text": [
            "[CV] END class_weight={0: 1, 1: 1000000}, max_depth=70, min_samples_leaf=3, min_samples_split=2, n_estimators=800; total time=  37.6s\n"
          ]
        },
        {
          "name": "stderr",
          "output_type": "stream",
          "text": [
            "/Users/zhongyitong/Library/Python/3.11/lib/python/site-packages/sklearn/base.py:1152: DataConversionWarning: A column-vector y was passed when a 1d array was expected. Please change the shape of y to (n_samples,), for example using ravel().\n",
            "  return fit_method(estimator, *args, **kwargs)\n"
          ]
        },
        {
          "name": "stdout",
          "output_type": "stream",
          "text": [
            "[CV] END class_weight={0: 1, 1: 1000000}, max_depth=80, min_samples_leaf=1, min_samples_split=7, n_estimators=800; total time=  44.9s\n"
          ]
        },
        {
          "name": "stderr",
          "output_type": "stream",
          "text": [
            "/Users/zhongyitong/Library/Python/3.11/lib/python/site-packages/sklearn/base.py:1152: DataConversionWarning: A column-vector y was passed when a 1d array was expected. Please change the shape of y to (n_samples,), for example using ravel().\n",
            "  return fit_method(estimator, *args, **kwargs)\n"
          ]
        },
        {
          "name": "stdout",
          "output_type": "stream",
          "text": [
            "[CV] END class_weight={0: 1, 1: 100000}, max_depth=40, min_samples_leaf=3, min_samples_split=7, n_estimators=10; total time=   0.5s\n"
          ]
        },
        {
          "name": "stderr",
          "output_type": "stream",
          "text": [
            "/Users/zhongyitong/Library/Python/3.11/lib/python/site-packages/sklearn/base.py:1152: DataConversionWarning: A column-vector y was passed when a 1d array was expected. Please change the shape of y to (n_samples,), for example using ravel().\n",
            "  return fit_method(estimator, *args, **kwargs)\n"
          ]
        },
        {
          "name": "stdout",
          "output_type": "stream",
          "text": [
            "[CV] END class_weight={0: 1, 1: 100000}, max_depth=40, min_samples_leaf=3, min_samples_split=7, n_estimators=10; total time=   0.4s\n"
          ]
        },
        {
          "name": "stderr",
          "output_type": "stream",
          "text": [
            "/Users/zhongyitong/Library/Python/3.11/lib/python/site-packages/sklearn/base.py:1152: DataConversionWarning: A column-vector y was passed when a 1d array was expected. Please change the shape of y to (n_samples,), for example using ravel().\n",
            "  return fit_method(estimator, *args, **kwargs)\n"
          ]
        },
        {
          "name": "stdout",
          "output_type": "stream",
          "text": [
            "[CV] END class_weight={0: 1, 1: 100000}, max_depth=40, min_samples_leaf=3, min_samples_split=7, n_estimators=10; total time=   0.5s\n"
          ]
        },
        {
          "name": "stderr",
          "output_type": "stream",
          "text": [
            "/Users/zhongyitong/Library/Python/3.11/lib/python/site-packages/sklearn/base.py:1152: DataConversionWarning: A column-vector y was passed when a 1d array was expected. Please change the shape of y to (n_samples,), for example using ravel().\n",
            "  return fit_method(estimator, *args, **kwargs)\n"
          ]
        },
        {
          "name": "stdout",
          "output_type": "stream",
          "text": [
            "[CV] END class_weight={0: 1, 1: 100000}, max_depth=40, min_samples_leaf=3, min_samples_split=7, n_estimators=10; total time=   0.5s\n"
          ]
        },
        {
          "name": "stderr",
          "output_type": "stream",
          "text": [
            "/Users/zhongyitong/Library/Python/3.11/lib/python/site-packages/sklearn/base.py:1152: DataConversionWarning: A column-vector y was passed when a 1d array was expected. Please change the shape of y to (n_samples,), for example using ravel().\n",
            "  return fit_method(estimator, *args, **kwargs)\n"
          ]
        },
        {
          "name": "stdout",
          "output_type": "stream",
          "text": [
            "[CV] END class_weight={0: 1, 1: 100000}, max_depth=40, min_samples_leaf=3, min_samples_split=7, n_estimators=10; total time=   0.4s\n"
          ]
        },
        {
          "name": "stderr",
          "output_type": "stream",
          "text": [
            "/Users/zhongyitong/Library/Python/3.11/lib/python/site-packages/sklearn/base.py:1152: DataConversionWarning: A column-vector y was passed when a 1d array was expected. Please change the shape of y to (n_samples,), for example using ravel().\n",
            "  return fit_method(estimator, *args, **kwargs)\n"
          ]
        },
        {
          "name": "stdout",
          "output_type": "stream",
          "text": [
            "[CV] END class_weight={0: 1, 1: 1000000}, max_depth=80, min_samples_leaf=1, min_samples_split=7, n_estimators=800; total time=  48.0s\n"
          ]
        },
        {
          "name": "stderr",
          "output_type": "stream",
          "text": [
            "/Users/zhongyitong/Library/Python/3.11/lib/python/site-packages/sklearn/base.py:1152: DataConversionWarning: A column-vector y was passed when a 1d array was expected. Please change the shape of y to (n_samples,), for example using ravel().\n",
            "  return fit_method(estimator, *args, **kwargs)\n"
          ]
        },
        {
          "name": "stdout",
          "output_type": "stream",
          "text": [
            "[CV] END class_weight={0: 1, 1: 10000}, max_depth=50, min_samples_leaf=3, min_samples_split=7, n_estimators=800; total time=  32.3s\n"
          ]
        },
        {
          "name": "stderr",
          "output_type": "stream",
          "text": [
            "/Users/zhongyitong/Library/Python/3.11/lib/python/site-packages/sklearn/base.py:1152: DataConversionWarning: A column-vector y was passed when a 1d array was expected. Please change the shape of y to (n_samples,), for example using ravel().\n",
            "  return fit_method(estimator, *args, **kwargs)\n"
          ]
        },
        {
          "name": "stdout",
          "output_type": "stream",
          "text": [
            "[CV] END class_weight={0: 1, 1: 10000}, max_depth=50, min_samples_leaf=3, min_samples_split=7, n_estimators=800; total time=  33.5s\n",
            "[CV] END class_weight={0: 1, 1: 1000000}, max_depth=70, min_samples_leaf=3, min_samples_split=2, n_estimators=800; total time= 1.2min\n"
          ]
        },
        {
          "name": "stderr",
          "output_type": "stream",
          "text": [
            "/Users/zhongyitong/Library/Python/3.11/lib/python/site-packages/sklearn/base.py:1152: DataConversionWarning: A column-vector y was passed when a 1d array was expected. Please change the shape of y to (n_samples,), for example using ravel().\n",
            "  return fit_method(estimator, *args, **kwargs)\n",
            "/Users/zhongyitong/Library/Python/3.11/lib/python/site-packages/sklearn/base.py:1152: DataConversionWarning: A column-vector y was passed when a 1d array was expected. Please change the shape of y to (n_samples,), for example using ravel().\n",
            "  return fit_method(estimator, *args, **kwargs)\n"
          ]
        },
        {
          "name": "stdout",
          "output_type": "stream",
          "text": [
            "[CV] END class_weight={0: 1, 1: 10000}, max_depth=50, min_samples_leaf=3, min_samples_split=7, n_estimators=800; total time=  31.6s\n"
          ]
        },
        {
          "name": "stderr",
          "output_type": "stream",
          "text": [
            "/Users/zhongyitong/Library/Python/3.11/lib/python/site-packages/sklearn/base.py:1152: DataConversionWarning: A column-vector y was passed when a 1d array was expected. Please change the shape of y to (n_samples,), for example using ravel().\n",
            "  return fit_method(estimator, *args, **kwargs)\n"
          ]
        },
        {
          "name": "stdout",
          "output_type": "stream",
          "text": [
            "[CV] END class_weight={0: 1, 1: 10000}, max_depth=30, min_samples_leaf=3, min_samples_split=7, n_estimators=800; total time=  28.0s\n"
          ]
        },
        {
          "name": "stderr",
          "output_type": "stream",
          "text": [
            "/Users/zhongyitong/Library/Python/3.11/lib/python/site-packages/sklearn/base.py:1152: DataConversionWarning: A column-vector y was passed when a 1d array was expected. Please change the shape of y to (n_samples,), for example using ravel().\n",
            "  return fit_method(estimator, *args, **kwargs)\n"
          ]
        },
        {
          "name": "stdout",
          "output_type": "stream",
          "text": [
            "[CV] END class_weight={0: 1, 1: 10000}, max_depth=30, min_samples_leaf=3, min_samples_split=7, n_estimators=800; total time=  28.6s\n"
          ]
        },
        {
          "name": "stderr",
          "output_type": "stream",
          "text": [
            "/Users/zhongyitong/Library/Python/3.11/lib/python/site-packages/sklearn/base.py:1152: DataConversionWarning: A column-vector y was passed when a 1d array was expected. Please change the shape of y to (n_samples,), for example using ravel().\n",
            "  return fit_method(estimator, *args, **kwargs)\n"
          ]
        },
        {
          "name": "stdout",
          "output_type": "stream",
          "text": [
            "[CV] END class_weight={0: 1, 1: 10000}, max_depth=50, min_samples_leaf=3, min_samples_split=7, n_estimators=800; total time=  34.3s\n",
            "[CV] END class_weight={0: 1, 1: 10000}, max_depth=50, min_samples_leaf=3, min_samples_split=7, n_estimators=800; total time=  35.0s\n"
          ]
        },
        {
          "name": "stderr",
          "output_type": "stream",
          "text": [
            "/Users/zhongyitong/Library/Python/3.11/lib/python/site-packages/sklearn/base.py:1152: DataConversionWarning: A column-vector y was passed when a 1d array was expected. Please change the shape of y to (n_samples,), for example using ravel().\n",
            "  return fit_method(estimator, *args, **kwargs)\n",
            "/Users/zhongyitong/Library/Python/3.11/lib/python/site-packages/sklearn/base.py:1152: DataConversionWarning: A column-vector y was passed when a 1d array was expected. Please change the shape of y to (n_samples,), for example using ravel().\n",
            "  return fit_method(estimator, *args, **kwargs)\n"
          ]
        },
        {
          "name": "stdout",
          "output_type": "stream",
          "text": [
            "[CV] END class_weight={0: 1, 1: 1000000}, max_depth=70, min_samples_leaf=3, min_samples_split=2, n_estimators=800; total time= 1.3min\n"
          ]
        },
        {
          "name": "stderr",
          "output_type": "stream",
          "text": [
            "/Users/zhongyitong/Library/Python/3.11/lib/python/site-packages/sklearn/base.py:1152: DataConversionWarning: A column-vector y was passed when a 1d array was expected. Please change the shape of y to (n_samples,), for example using ravel().\n",
            "  return fit_method(estimator, *args, **kwargs)\n"
          ]
        },
        {
          "name": "stdout",
          "output_type": "stream",
          "text": [
            "[CV] END class_weight={0: 1, 1: 1000000}, max_depth=10, min_samples_leaf=1, min_samples_split=2, n_estimators=602; total time=  12.0s\n"
          ]
        },
        {
          "name": "stderr",
          "output_type": "stream",
          "text": [
            "/Users/zhongyitong/Library/Python/3.11/lib/python/site-packages/sklearn/base.py:1152: DataConversionWarning: A column-vector y was passed when a 1d array was expected. Please change the shape of y to (n_samples,), for example using ravel().\n",
            "  return fit_method(estimator, *args, **kwargs)\n"
          ]
        },
        {
          "name": "stdout",
          "output_type": "stream",
          "text": [
            "[CV] END class_weight={0: 1, 1: 1000000}, max_depth=10, min_samples_leaf=1, min_samples_split=2, n_estimators=602; total time=  12.1s\n"
          ]
        },
        {
          "name": "stderr",
          "output_type": "stream",
          "text": [
            "/Users/zhongyitong/Library/Python/3.11/lib/python/site-packages/sklearn/base.py:1152: DataConversionWarning: A column-vector y was passed when a 1d array was expected. Please change the shape of y to (n_samples,), for example using ravel().\n",
            "  return fit_method(estimator, *args, **kwargs)\n"
          ]
        },
        {
          "name": "stdout",
          "output_type": "stream",
          "text": [
            "[CV] END class_weight={0: 1, 1: 1000000}, max_depth=10, min_samples_leaf=1, min_samples_split=2, n_estimators=602; total time=  12.0s\n"
          ]
        },
        {
          "name": "stderr",
          "output_type": "stream",
          "text": [
            "/Users/zhongyitong/Library/Python/3.11/lib/python/site-packages/sklearn/base.py:1152: DataConversionWarning: A column-vector y was passed when a 1d array was expected. Please change the shape of y to (n_samples,), for example using ravel().\n",
            "  return fit_method(estimator, *args, **kwargs)\n"
          ]
        },
        {
          "name": "stdout",
          "output_type": "stream",
          "text": [
            "[CV] END class_weight={0: 1, 1: 1000000}, max_depth=80, min_samples_leaf=1, min_samples_split=7, n_estimators=800; total time= 1.5min\n"
          ]
        },
        {
          "name": "stderr",
          "output_type": "stream",
          "text": [
            "/Users/zhongyitong/Library/Python/3.11/lib/python/site-packages/sklearn/base.py:1152: DataConversionWarning: A column-vector y was passed when a 1d array was expected. Please change the shape of y to (n_samples,), for example using ravel().\n",
            "  return fit_method(estimator, *args, **kwargs)\n"
          ]
        },
        {
          "name": "stdout",
          "output_type": "stream",
          "text": [
            "[CV] END class_weight={0: 1, 1: 1000000}, max_depth=10, min_samples_leaf=1, min_samples_split=2, n_estimators=602; total time=  11.8s\n",
            "[CV] END class_weight={0: 1, 1: 1000000}, max_depth=10, min_samples_leaf=1, min_samples_split=2, n_estimators=602; total time=  12.0s\n"
          ]
        },
        {
          "name": "stderr",
          "output_type": "stream",
          "text": [
            "/Users/zhongyitong/Library/Python/3.11/lib/python/site-packages/sklearn/base.py:1152: DataConversionWarning: A column-vector y was passed when a 1d array was expected. Please change the shape of y to (n_samples,), for example using ravel().\n",
            "  return fit_method(estimator, *args, **kwargs)\n",
            "/Users/zhongyitong/Library/Python/3.11/lib/python/site-packages/sklearn/base.py:1152: DataConversionWarning: A column-vector y was passed when a 1d array was expected. Please change the shape of y to (n_samples,), for example using ravel().\n",
            "  return fit_method(estimator, *args, **kwargs)\n"
          ]
        },
        {
          "name": "stdout",
          "output_type": "stream",
          "text": [
            "[CV] END class_weight={0: 1, 1: 10000}, max_depth=10, min_samples_leaf=3, min_samples_split=2, n_estimators=207; total time=   4.0s\n",
            "[CV] END class_weight={0: 1, 1: 10000}, max_depth=10, min_samples_leaf=3, min_samples_split=2, n_estimators=207; total time=   4.2s\n"
          ]
        },
        {
          "name": "stderr",
          "output_type": "stream",
          "text": [
            "/Users/zhongyitong/Library/Python/3.11/lib/python/site-packages/sklearn/base.py:1152: DataConversionWarning: A column-vector y was passed when a 1d array was expected. Please change the shape of y to (n_samples,), for example using ravel().\n",
            "  return fit_method(estimator, *args, **kwargs)\n",
            "/Users/zhongyitong/Library/Python/3.11/lib/python/site-packages/sklearn/base.py:1152: DataConversionWarning: A column-vector y was passed when a 1d array was expected. Please change the shape of y to (n_samples,), for example using ravel().\n",
            "  return fit_method(estimator, *args, **kwargs)\n"
          ]
        },
        {
          "name": "stdout",
          "output_type": "stream",
          "text": [
            "[CV] END class_weight={0: 1, 1: 10000}, max_depth=10, min_samples_leaf=3, min_samples_split=2, n_estimators=207; total time=   4.1s\n",
            "[CV] END class_weight={0: 1, 1: 10000}, max_depth=10, min_samples_leaf=3, min_samples_split=2, n_estimators=207; total time=   4.1s\n"
          ]
        },
        {
          "name": "stderr",
          "output_type": "stream",
          "text": [
            "/Users/zhongyitong/Library/Python/3.11/lib/python/site-packages/sklearn/base.py:1152: DataConversionWarning: A column-vector y was passed when a 1d array was expected. Please change the shape of y to (n_samples,), for example using ravel().\n",
            "  return fit_method(estimator, *args, **kwargs)\n",
            "/Users/zhongyitong/Library/Python/3.11/lib/python/site-packages/sklearn/base.py:1152: DataConversionWarning: A column-vector y was passed when a 1d array was expected. Please change the shape of y to (n_samples,), for example using ravel().\n",
            "  return fit_method(estimator, *args, **kwargs)\n"
          ]
        },
        {
          "name": "stdout",
          "output_type": "stream",
          "text": [
            "[CV] END class_weight={0: 1, 1: 10000}, max_depth=30, min_samples_leaf=3, min_samples_split=7, n_estimators=800; total time=  28.2s\n"
          ]
        },
        {
          "name": "stderr",
          "output_type": "stream",
          "text": [
            "/Users/zhongyitong/Library/Python/3.11/lib/python/site-packages/sklearn/base.py:1152: DataConversionWarning: A column-vector y was passed when a 1d array was expected. Please change the shape of y to (n_samples,), for example using ravel().\n",
            "  return fit_method(estimator, *args, **kwargs)\n"
          ]
        },
        {
          "name": "stdout",
          "output_type": "stream",
          "text": [
            "[CV] END class_weight={0: 1, 1: 10000}, max_depth=30, min_samples_leaf=3, min_samples_split=7, n_estimators=800; total time=  30.2s\n",
            "[CV] END class_weight={0: 1, 1: 10000}, max_depth=10, min_samples_leaf=3, min_samples_split=2, n_estimators=207; total time=   3.8s\n"
          ]
        },
        {
          "name": "stderr",
          "output_type": "stream",
          "text": [
            "/Users/zhongyitong/Library/Python/3.11/lib/python/site-packages/sklearn/base.py:1152: DataConversionWarning: A column-vector y was passed when a 1d array was expected. Please change the shape of y to (n_samples,), for example using ravel().\n",
            "  return fit_method(estimator, *args, **kwargs)\n",
            "/Users/zhongyitong/Library/Python/3.11/lib/python/site-packages/sklearn/base.py:1152: DataConversionWarning: A column-vector y was passed when a 1d array was expected. Please change the shape of y to (n_samples,), for example using ravel().\n",
            "  return fit_method(estimator, *args, **kwargs)\n"
          ]
        },
        {
          "name": "stdout",
          "output_type": "stream",
          "text": [
            "[CV] END class_weight={0: 1, 1: 1000000}, max_depth=100, min_samples_leaf=3, min_samples_split=2, n_estimators=207; total time=  10.5s\n"
          ]
        },
        {
          "name": "stderr",
          "output_type": "stream",
          "text": [
            "/Users/zhongyitong/Library/Python/3.11/lib/python/site-packages/sklearn/base.py:1152: DataConversionWarning: A column-vector y was passed when a 1d array was expected. Please change the shape of y to (n_samples,), for example using ravel().\n",
            "  return fit_method(estimator, *args, **kwargs)\n"
          ]
        },
        {
          "name": "stdout",
          "output_type": "stream",
          "text": [
            "[CV] END class_weight={0: 1, 1: 1000000}, max_depth=100, min_samples_leaf=3, min_samples_split=2, n_estimators=207; total time=  10.7s\n"
          ]
        },
        {
          "name": "stderr",
          "output_type": "stream",
          "text": [
            "/Users/zhongyitong/Library/Python/3.11/lib/python/site-packages/sklearn/base.py:1152: DataConversionWarning: A column-vector y was passed when a 1d array was expected. Please change the shape of y to (n_samples,), for example using ravel().\n",
            "  return fit_method(estimator, *args, **kwargs)\n"
          ]
        },
        {
          "name": "stdout",
          "output_type": "stream",
          "text": [
            "[CV] END class_weight={0: 1, 1: 1000000}, max_depth=100, min_samples_leaf=3, min_samples_split=2, n_estimators=207; total time=  10.6s\n"
          ]
        },
        {
          "name": "stderr",
          "output_type": "stream",
          "text": [
            "/Users/zhongyitong/Library/Python/3.11/lib/python/site-packages/sklearn/base.py:1152: DataConversionWarning: A column-vector y was passed when a 1d array was expected. Please change the shape of y to (n_samples,), for example using ravel().\n",
            "  return fit_method(estimator, *args, **kwargs)\n"
          ]
        },
        {
          "name": "stdout",
          "output_type": "stream",
          "text": [
            "[CV] END class_weight={0: 1, 1: 1000000}, max_depth=100, min_samples_leaf=3, min_samples_split=2, n_estimators=207; total time=  10.9s\n"
          ]
        },
        {
          "name": "stderr",
          "output_type": "stream",
          "text": [
            "/Users/zhongyitong/Library/Python/3.11/lib/python/site-packages/sklearn/base.py:1152: DataConversionWarning: A column-vector y was passed when a 1d array was expected. Please change the shape of y to (n_samples,), for example using ravel().\n",
            "  return fit_method(estimator, *args, **kwargs)\n"
          ]
        },
        {
          "name": "stdout",
          "output_type": "stream",
          "text": [
            "[CV] END class_weight={0: 1, 1: 1000000}, max_depth=100, min_samples_leaf=3, min_samples_split=2, n_estimators=207; total time=  10.8s\n"
          ]
        },
        {
          "name": "stderr",
          "output_type": "stream",
          "text": [
            "/Users/zhongyitong/Library/Python/3.11/lib/python/site-packages/sklearn/base.py:1152: DataConversionWarning: A column-vector y was passed when a 1d array was expected. Please change the shape of y to (n_samples,), for example using ravel().\n",
            "  return fit_method(estimator, *args, **kwargs)\n"
          ]
        },
        {
          "name": "stdout",
          "output_type": "stream",
          "text": [
            "[CV] END class_weight={0: 1, 1: 10}, max_depth=70, min_samples_leaf=1, min_samples_split=2, n_estimators=602; total time=  14.4s\n"
          ]
        },
        {
          "name": "stderr",
          "output_type": "stream",
          "text": [
            "/Users/zhongyitong/Library/Python/3.11/lib/python/site-packages/sklearn/base.py:1152: DataConversionWarning: A column-vector y was passed when a 1d array was expected. Please change the shape of y to (n_samples,), for example using ravel().\n",
            "  return fit_method(estimator, *args, **kwargs)\n"
          ]
        },
        {
          "name": "stdout",
          "output_type": "stream",
          "text": [
            "[CV] END class_weight={0: 1, 1: 10}, max_depth=70, min_samples_leaf=1, min_samples_split=2, n_estimators=602; total time=  14.2s\n"
          ]
        },
        {
          "name": "stderr",
          "output_type": "stream",
          "text": [
            "/Users/zhongyitong/Library/Python/3.11/lib/python/site-packages/sklearn/base.py:1152: DataConversionWarning: A column-vector y was passed when a 1d array was expected. Please change the shape of y to (n_samples,), for example using ravel().\n",
            "  return fit_method(estimator, *args, **kwargs)\n",
            "/Users/zhongyitong/Library/Python/3.11/lib/python/site-packages/sklearn/base.py:1152: DataConversionWarning: A column-vector y was passed when a 1d array was expected. Please change the shape of y to (n_samples,), for example using ravel().\n",
            "  return fit_method(estimator, *args, **kwargs)\n"
          ]
        },
        {
          "name": "stdout",
          "output_type": "stream",
          "text": [
            "[CV] END class_weight={0: 1, 1: 10}, max_depth=70, min_samples_leaf=1, min_samples_split=2, n_estimators=602; total time=  14.2s\n",
            "[CV] END class_weight={0: 1, 1: 1000000}, max_depth=30, min_samples_leaf=1, min_samples_split=7, n_estimators=10; total time=   0.5s\n"
          ]
        },
        {
          "name": "stderr",
          "output_type": "stream",
          "text": [
            "/Users/zhongyitong/Library/Python/3.11/lib/python/site-packages/sklearn/base.py:1152: DataConversionWarning: A column-vector y was passed when a 1d array was expected. Please change the shape of y to (n_samples,), for example using ravel().\n",
            "  return fit_method(estimator, *args, **kwargs)\n"
          ]
        },
        {
          "name": "stdout",
          "output_type": "stream",
          "text": [
            "[CV] END class_weight={0: 1, 1: 1000000}, max_depth=30, min_samples_leaf=1, min_samples_split=7, n_estimators=10; total time=   0.4s\n",
            "[CV] END class_weight={0: 1, 1: 1000000}, max_depth=30, min_samples_leaf=1, min_samples_split=7, n_estimators=10; total time=   0.4s\n"
          ]
        },
        {
          "name": "stderr",
          "output_type": "stream",
          "text": [
            "/Users/zhongyitong/Library/Python/3.11/lib/python/site-packages/sklearn/base.py:1152: DataConversionWarning: A column-vector y was passed when a 1d array was expected. Please change the shape of y to (n_samples,), for example using ravel().\n",
            "  return fit_method(estimator, *args, **kwargs)\n",
            "/Users/zhongyitong/Library/Python/3.11/lib/python/site-packages/sklearn/base.py:1152: DataConversionWarning: A column-vector y was passed when a 1d array was expected. Please change the shape of y to (n_samples,), for example using ravel().\n",
            "  return fit_method(estimator, *args, **kwargs)\n"
          ]
        },
        {
          "name": "stdout",
          "output_type": "stream",
          "text": [
            "[CV] END class_weight={0: 1, 1: 1000000}, max_depth=30, min_samples_leaf=1, min_samples_split=7, n_estimators=10; total time=   0.4s\n",
            "[CV] END class_weight={0: 1, 1: 1000000}, max_depth=30, min_samples_leaf=1, min_samples_split=7, n_estimators=10; total time=   0.4s\n",
            "[CV] END class_weight={0: 1, 1: 1000000}, max_depth=60, min_samples_leaf=1, min_samples_split=2, n_estimators=800; total time=  44.6s\n",
            "[CV] END class_weight={0: 1, 1: 1000000}, max_depth=60, min_samples_leaf=1, min_samples_split=2, n_estimators=800; total time=  46.8s\n",
            "[CV] END class_weight={0: 1, 1: 10}, max_depth=70, min_samples_leaf=1, min_samples_split=2, n_estimators=602; total time=  13.3s\n",
            "[CV] END class_weight={0: 1, 1: 10000}, max_depth=30, min_samples_leaf=3, min_samples_split=7, n_estimators=800; total time= 1.0min\n",
            "[CV] END class_weight={0: 1, 1: 1000000}, max_depth=60, min_samples_leaf=1, min_samples_split=2, n_estimators=800; total time=  46.9s\n",
            "[CV] END class_weight={0: 1, 1: 10}, max_depth=70, min_samples_leaf=1, min_samples_split=2, n_estimators=602; total time=  12.4s\n",
            "[CV] END class_weight={0: 1, 1: 1000000}, max_depth=60, min_samples_leaf=1, min_samples_split=2, n_estimators=800; total time= 1.1min\n",
            "[CV] END class_weight={0: 1, 1: 1000000}, max_depth=60, min_samples_leaf=1, min_samples_split=2, n_estimators=800; total time= 1.0min\n"
          ]
        },
        {
          "data": {
            "text/html": [
              "<style>#sk-container-id-8 {color: black;}#sk-container-id-8 pre{padding: 0;}#sk-container-id-8 div.sk-toggleable {background-color: white;}#sk-container-id-8 label.sk-toggleable__label {cursor: pointer;display: block;width: 100%;margin-bottom: 0;padding: 0.3em;box-sizing: border-box;text-align: center;}#sk-container-id-8 label.sk-toggleable__label-arrow:before {content: \"▸\";float: left;margin-right: 0.25em;color: #696969;}#sk-container-id-8 label.sk-toggleable__label-arrow:hover:before {color: black;}#sk-container-id-8 div.sk-estimator:hover label.sk-toggleable__label-arrow:before {color: black;}#sk-container-id-8 div.sk-toggleable__content {max-height: 0;max-width: 0;overflow: hidden;text-align: left;background-color: #f0f8ff;}#sk-container-id-8 div.sk-toggleable__content pre {margin: 0.2em;color: black;border-radius: 0.25em;background-color: #f0f8ff;}#sk-container-id-8 input.sk-toggleable__control:checked~div.sk-toggleable__content {max-height: 200px;max-width: 100%;overflow: auto;}#sk-container-id-8 input.sk-toggleable__control:checked~label.sk-toggleable__label-arrow:before {content: \"▾\";}#sk-container-id-8 div.sk-estimator input.sk-toggleable__control:checked~label.sk-toggleable__label {background-color: #d4ebff;}#sk-container-id-8 div.sk-label input.sk-toggleable__control:checked~label.sk-toggleable__label {background-color: #d4ebff;}#sk-container-id-8 input.sk-hidden--visually {border: 0;clip: rect(1px 1px 1px 1px);clip: rect(1px, 1px, 1px, 1px);height: 1px;margin: -1px;overflow: hidden;padding: 0;position: absolute;width: 1px;}#sk-container-id-8 div.sk-estimator {font-family: monospace;background-color: #f0f8ff;border: 1px dotted black;border-radius: 0.25em;box-sizing: border-box;margin-bottom: 0.5em;}#sk-container-id-8 div.sk-estimator:hover {background-color: #d4ebff;}#sk-container-id-8 div.sk-parallel-item::after {content: \"\";width: 100%;border-bottom: 1px solid gray;flex-grow: 1;}#sk-container-id-8 div.sk-label:hover label.sk-toggleable__label {background-color: #d4ebff;}#sk-container-id-8 div.sk-serial::before {content: \"\";position: absolute;border-left: 1px solid gray;box-sizing: border-box;top: 0;bottom: 0;left: 50%;z-index: 0;}#sk-container-id-8 div.sk-serial {display: flex;flex-direction: column;align-items: center;background-color: white;padding-right: 0.2em;padding-left: 0.2em;position: relative;}#sk-container-id-8 div.sk-item {position: relative;z-index: 1;}#sk-container-id-8 div.sk-parallel {display: flex;align-items: stretch;justify-content: center;background-color: white;position: relative;}#sk-container-id-8 div.sk-item::before, #sk-container-id-8 div.sk-parallel-item::before {content: \"\";position: absolute;border-left: 1px solid gray;box-sizing: border-box;top: 0;bottom: 0;left: 50%;z-index: -1;}#sk-container-id-8 div.sk-parallel-item {display: flex;flex-direction: column;z-index: 1;position: relative;background-color: white;}#sk-container-id-8 div.sk-parallel-item:first-child::after {align-self: flex-end;width: 50%;}#sk-container-id-8 div.sk-parallel-item:last-child::after {align-self: flex-start;width: 50%;}#sk-container-id-8 div.sk-parallel-item:only-child::after {width: 0;}#sk-container-id-8 div.sk-dashed-wrapped {border: 1px dashed gray;margin: 0 0.4em 0.5em 0.4em;box-sizing: border-box;padding-bottom: 0.4em;background-color: white;}#sk-container-id-8 div.sk-label label {font-family: monospace;font-weight: bold;display: inline-block;line-height: 1.2em;}#sk-container-id-8 div.sk-label-container {text-align: center;}#sk-container-id-8 div.sk-container {/* jupyter's `normalize.less` sets `[hidden] { display: none; }` but bootstrap.min.css set `[hidden] { display: none !important; }` so we also need the `!important` here to be able to override the default hidden behavior on the sphinx rendered scikit-learn.org. See: https://github.com/scikit-learn/scikit-learn/issues/21755 */display: inline-block !important;position: relative;}#sk-container-id-8 div.sk-text-repr-fallback {display: none;}</style><div id=\"sk-container-id-8\" class=\"sk-top-container\"><div class=\"sk-text-repr-fallback\"><pre>RandomizedSearchCV(cv=5, estimator=RandomForestClassifier(), n_iter=50,\n",
              "                   n_jobs=-1,\n",
              "                   param_distributions={&#x27;class_weight&#x27;: [{0: 1, 1: 1},\n",
              "                                                         {0: 1, 1: 10},\n",
              "                                                         {0: 1, 1: 100},\n",
              "                                                         {0: 1, 1: 1000},\n",
              "                                                         {0: 1, 1: 10000},\n",
              "                                                         {0: 1, 1: 100000},\n",
              "                                                         {0: 1, 1: 1000000}],\n",
              "                                        &#x27;max_depth&#x27;: [10, 20, 30, 40, 50, 60,\n",
              "                                                      70, 80, 90, 100, None],\n",
              "                                        &#x27;min_samples_leaf&#x27;: [1, 3],\n",
              "                                        &#x27;min_samples_split&#x27;: [2, 7],\n",
              "                                        &#x27;n_estimators&#x27;: [10, 207, 405, 602,\n",
              "                                                         800]},\n",
              "                   random_state=61, scoring=&#x27;f1&#x27;, verbose=2)</pre><b>In a Jupyter environment, please rerun this cell to show the HTML representation or trust the notebook. <br />On GitHub, the HTML representation is unable to render, please try loading this page with nbviewer.org.</b></div><div class=\"sk-container\" hidden><div class=\"sk-item sk-dashed-wrapped\"><div class=\"sk-label-container\"><div class=\"sk-label sk-toggleable\"><input class=\"sk-toggleable__control sk-hidden--visually\" id=\"sk-estimator-id-22\" type=\"checkbox\" ><label for=\"sk-estimator-id-22\" class=\"sk-toggleable__label sk-toggleable__label-arrow\">RandomizedSearchCV</label><div class=\"sk-toggleable__content\"><pre>RandomizedSearchCV(cv=5, estimator=RandomForestClassifier(), n_iter=50,\n",
              "                   n_jobs=-1,\n",
              "                   param_distributions={&#x27;class_weight&#x27;: [{0: 1, 1: 1},\n",
              "                                                         {0: 1, 1: 10},\n",
              "                                                         {0: 1, 1: 100},\n",
              "                                                         {0: 1, 1: 1000},\n",
              "                                                         {0: 1, 1: 10000},\n",
              "                                                         {0: 1, 1: 100000},\n",
              "                                                         {0: 1, 1: 1000000}],\n",
              "                                        &#x27;max_depth&#x27;: [10, 20, 30, 40, 50, 60,\n",
              "                                                      70, 80, 90, 100, None],\n",
              "                                        &#x27;min_samples_leaf&#x27;: [1, 3],\n",
              "                                        &#x27;min_samples_split&#x27;: [2, 7],\n",
              "                                        &#x27;n_estimators&#x27;: [10, 207, 405, 602,\n",
              "                                                         800]},\n",
              "                   random_state=61, scoring=&#x27;f1&#x27;, verbose=2)</pre></div></div></div><div class=\"sk-parallel\"><div class=\"sk-parallel-item\"><div class=\"sk-item\"><div class=\"sk-label-container\"><div class=\"sk-label sk-toggleable\"><input class=\"sk-toggleable__control sk-hidden--visually\" id=\"sk-estimator-id-23\" type=\"checkbox\" ><label for=\"sk-estimator-id-23\" class=\"sk-toggleable__label sk-toggleable__label-arrow\">estimator: RandomForestClassifier</label><div class=\"sk-toggleable__content\"><pre>RandomForestClassifier()</pre></div></div></div><div class=\"sk-serial\"><div class=\"sk-item\"><div class=\"sk-estimator sk-toggleable\"><input class=\"sk-toggleable__control sk-hidden--visually\" id=\"sk-estimator-id-24\" type=\"checkbox\" ><label for=\"sk-estimator-id-24\" class=\"sk-toggleable__label sk-toggleable__label-arrow\">RandomForestClassifier</label><div class=\"sk-toggleable__content\"><pre>RandomForestClassifier()</pre></div></div></div></div></div></div></div></div></div></div>"
            ],
            "text/plain": [
              "RandomizedSearchCV(cv=5, estimator=RandomForestClassifier(), n_iter=50,\n",
              "                   n_jobs=-1,\n",
              "                   param_distributions={'class_weight': [{0: 1, 1: 1},\n",
              "                                                         {0: 1, 1: 10},\n",
              "                                                         {0: 1, 1: 100},\n",
              "                                                         {0: 1, 1: 1000},\n",
              "                                                         {0: 1, 1: 10000},\n",
              "                                                         {0: 1, 1: 100000},\n",
              "                                                         {0: 1, 1: 1000000}],\n",
              "                                        'max_depth': [10, 20, 30, 40, 50, 60,\n",
              "                                                      70, 80, 90, 100, None],\n",
              "                                        'min_samples_leaf': [1, 3],\n",
              "                                        'min_samples_split': [2, 7],\n",
              "                                        'n_estimators': [10, 207, 405, 602,\n",
              "                                                         800]},\n",
              "                   random_state=61, scoring='f1', verbose=2)"
            ]
          },
          "execution_count": 43,
          "metadata": {},
          "output_type": "execute_result"
        }
      ],
      "source": [
        "# Number of trees in random forest\n",
        "n_estimators = [int(x) for x in np.linspace(start = 10, stop = 800, num = 5)]\n",
        "\n",
        "# Maximum number of levels in tree\n",
        "max_depth = [int(x) for x in np.linspace(10, 100, num = 10)]\n",
        "max_depth.append(None)\n",
        "\n",
        "# Minimum number of samples required to split a node\n",
        "min_samples_split = [2, 7]\n",
        "\n",
        "# Minimum number of samples required at each leaf node\n",
        "min_samples_leaf = [1, 3]\n",
        "\n",
        "# Define class weights\n",
        "class_weights = [{0:1, 1:1}, {0:1, 1:10}, {0:1, 1:100}, {0:1, 1:1000}, {0:1, 1:10000}, {0:1, 1:100000}, {0:1, 1:1000000}]\n",
        "\n",
        "# Create the random grid\n",
        "random_grid = {'n_estimators': n_estimators,\n",
        "               'max_depth': max_depth,\n",
        "               'min_samples_split': min_samples_split,\n",
        "               'min_samples_leaf': min_samples_leaf,\n",
        "                'class_weight': class_weights}\n",
        "\n",
        "# Use the random grid to search for best hyperparameters\n",
        "rf = RandomForestClassifier()\n",
        "\n",
        "# Random search of parameters, using 5 fold cross validation,\n",
        "# search across 100 different combinations, and use all available cores\n",
        "rf_random = RandomizedSearchCV(estimator = rf,\n",
        "                               param_distributions = random_grid,\n",
        "                               n_iter = 50,\n",
        "                               cv = 5,\n",
        "                               verbose=2,\n",
        "                               random_state=61,\n",
        "                               n_jobs = -1,\n",
        "                               scoring='f1')\n",
        "# Fit the random search model\n",
        "rf_random.fit(X_train, y_train)"
      ]
    },
    {
      "cell_type": "code",
      "execution_count": 45,
      "metadata": {},
      "outputs": [
        {
          "data": {
            "text/plain": [
              "{'n_estimators': 207,\n",
              " 'min_samples_split': 2,\n",
              " 'min_samples_leaf': 1,\n",
              " 'max_depth': 20,\n",
              " 'class_weight': {0: 1, 1: 1}}"
            ]
          },
          "execution_count": 45,
          "metadata": {},
          "output_type": "execute_result"
        }
      ],
      "source": [
        "# Get the best parameters\n",
        "rf_random.best_params_"
      ]
    },
    {
      "cell_type": "code",
      "execution_count": 46,
      "metadata": {},
      "outputs": [
        {
          "data": {
            "text/plain": [
              "0.7148153239335502"
            ]
          },
          "execution_count": 46,
          "metadata": {},
          "output_type": "execute_result"
        }
      ],
      "source": [
        "# Get the best train performance\n",
        "rf_random.best_score_"
      ]
    },
    {
      "cell_type": "code",
      "execution_count": 47,
      "metadata": {},
      "outputs": [
        {
          "name": "stdout",
          "output_type": "stream",
          "text": [
            "Accuracy:  0.9742729306487695\n",
            "Precision:  0.989010989010989\n",
            "Recall:  0.4972375690607735\n",
            "F1:  0.6617647058823529\n"
          ]
        }
      ],
      "source": [
        "# Get the performance metrics\n",
        "best_random = rf_random.best_estimator_\n",
        "y_pred = best_random.predict(X_test)\n",
        "print(\"Accuracy: \", accuracy_score(y_test, y_pred))\n",
        "print(\"Precision: \", precision_score(y_test, y_pred))\n",
        "print(\"Recall: \", recall_score(y_test, y_pred))\n",
        "print(\"F1: \", f1_score(y_test, y_pred))"
      ]
    },
    {
      "cell_type": "code",
      "execution_count": 67,
      "metadata": {},
      "outputs": [
        {
          "name": "stdout",
          "output_type": "stream",
          "text": [
            "Accuracy:  0.9739932885906041\n",
            "Precision:  1.0\n",
            "Recall:  0.4861878453038674\n",
            "F1:  0.6542750929368029\n"
          ]
        }
      ],
      "source": [
        "rf_model_test = RandomForestClassifier(n_estimators=207,\n",
        "                                        min_samples_split=2,\n",
        "                                        min_samples_leaf=1,\n",
        "                                        max_depth=20,\n",
        "                                        random_state=61,\n",
        "                                        class_weight={0:1, 1:1})\n",
        "\n",
        "rf_model_test.fit(X_train, y_train)\n",
        "\n",
        "y_pred = rf_model_test.predict(X_test)\n",
        "print(\"Accuracy: \", accuracy_score(y_test, y_pred))\n",
        "print(\"Precision: \", precision_score(y_test, y_pred))\n",
        "print(\"Recall: \", recall_score(y_test, y_pred))\n",
        "print(\"F1: \", f1_score(y_test, y_pred))"
      ]
    },
    {
      "cell_type": "code",
      "execution_count": 68,
      "metadata": {},
      "outputs": [
        {
          "data": {
            "text/html": [
              "<div>\n",
              "<style scoped>\n",
              "    .dataframe tbody tr th:only-of-type {\n",
              "        vertical-align: middle;\n",
              "    }\n",
              "\n",
              "    .dataframe tbody tr th {\n",
              "        vertical-align: top;\n",
              "    }\n",
              "\n",
              "    .dataframe thead th {\n",
              "        text-align: right;\n",
              "    }\n",
              "</style>\n",
              "<table border=\"1\" class=\"dataframe\">\n",
              "  <thead>\n",
              "    <tr style=\"text-align: right;\">\n",
              "      <th></th>\n",
              "      <th>importance</th>\n",
              "    </tr>\n",
              "  </thead>\n",
              "  <tbody>\n",
              "    <tr>\n",
              "      <th>department_mean_target</th>\n",
              "      <td>0.143439</td>\n",
              "    </tr>\n",
              "    <tr>\n",
              "      <th>industry_frequency</th>\n",
              "      <td>0.035442</td>\n",
              "    </tr>\n",
              "    <tr>\n",
              "      <th>country_ratio</th>\n",
              "      <td>0.027173</td>\n",
              "    </tr>\n",
              "    <tr>\n",
              "      <th>sentiment score_description</th>\n",
              "      <td>0.020996</td>\n",
              "    </tr>\n",
              "    <tr>\n",
              "      <th>num_of_nouns_description</th>\n",
              "      <td>0.020965</td>\n",
              "    </tr>\n",
              "    <tr>\n",
              "      <th>verbs_vs_length_description</th>\n",
              "      <td>0.020771</td>\n",
              "    </tr>\n",
              "    <tr>\n",
              "      <th>adjs_vs_words_description</th>\n",
              "      <td>0.019709</td>\n",
              "    </tr>\n",
              "    <tr>\n",
              "      <th>num_of_propns_description</th>\n",
              "      <td>0.019333</td>\n",
              "    </tr>\n",
              "    <tr>\n",
              "      <th>nouns_vs_words_company_profile</th>\n",
              "      <td>0.019304</td>\n",
              "    </tr>\n",
              "    <tr>\n",
              "      <th>nouns_vs_length_company_profile</th>\n",
              "      <td>0.019130</td>\n",
              "    </tr>\n",
              "    <tr>\n",
              "      <th>nouns_vs_words_description</th>\n",
              "      <td>0.018903</td>\n",
              "    </tr>\n",
              "    <tr>\n",
              "      <th>adjs_vs_words_company_profile</th>\n",
              "      <td>0.018765</td>\n",
              "    </tr>\n",
              "    <tr>\n",
              "      <th>verbs_vs_words_description</th>\n",
              "      <td>0.018697</td>\n",
              "    </tr>\n",
              "    <tr>\n",
              "      <th>propns_vs_words_description</th>\n",
              "      <td>0.018405</td>\n",
              "    </tr>\n",
              "    <tr>\n",
              "      <th>propns_vs_length_description</th>\n",
              "      <td>0.018339</td>\n",
              "    </tr>\n",
              "    <tr>\n",
              "      <th>nouns_vs_length_description</th>\n",
              "      <td>0.018274</td>\n",
              "    </tr>\n",
              "    <tr>\n",
              "      <th>adjs_vs_length_description</th>\n",
              "      <td>0.018218</td>\n",
              "    </tr>\n",
              "    <tr>\n",
              "      <th>verbs_vs_length_company_profile</th>\n",
              "      <td>0.016960</td>\n",
              "    </tr>\n",
              "    <tr>\n",
              "      <th>num_of_verbs_description</th>\n",
              "      <td>0.015943</td>\n",
              "    </tr>\n",
              "    <tr>\n",
              "      <th>adjs_vs_length_company_profile</th>\n",
              "      <td>0.015349</td>\n",
              "    </tr>\n",
              "  </tbody>\n",
              "</table>\n",
              "</div>"
            ],
            "text/plain": [
              "                                 importance\n",
              "department_mean_target             0.143439\n",
              "industry_frequency                 0.035442\n",
              "country_ratio                      0.027173\n",
              "sentiment score_description        0.020996\n",
              "num_of_nouns_description           0.020965\n",
              "verbs_vs_length_description        0.020771\n",
              "adjs_vs_words_description          0.019709\n",
              "num_of_propns_description          0.019333\n",
              "nouns_vs_words_company_profile     0.019304\n",
              "nouns_vs_length_company_profile    0.019130\n",
              "nouns_vs_words_description         0.018903\n",
              "adjs_vs_words_company_profile      0.018765\n",
              "verbs_vs_words_description         0.018697\n",
              "propns_vs_words_description        0.018405\n",
              "propns_vs_length_description       0.018339\n",
              "nouns_vs_length_description        0.018274\n",
              "adjs_vs_length_description         0.018218\n",
              "verbs_vs_length_company_profile    0.016960\n",
              "num_of_verbs_description           0.015943\n",
              "adjs_vs_length_company_profile     0.015349"
            ]
          },
          "execution_count": 68,
          "metadata": {},
          "output_type": "execute_result"
        }
      ],
      "source": [
        "# Get the most important features of best random forest model\n",
        "feature_importances = pd.DataFrame(best_random.feature_importances_,\n",
        "                                      index = X_train.columns,\n",
        "                                      columns=['importance']).sort_values('importance', ascending=False)\n",
        "feature_importances.head(20)"
      ]
    },
    {
      "cell_type": "code",
      "execution_count": 69,
      "metadata": {},
      "outputs": [
        {
          "data": {
            "text/html": [
              "<div>\n",
              "<style scoped>\n",
              "    .dataframe tbody tr th:only-of-type {\n",
              "        vertical-align: middle;\n",
              "    }\n",
              "\n",
              "    .dataframe tbody tr th {\n",
              "        vertical-align: top;\n",
              "    }\n",
              "\n",
              "    .dataframe thead th {\n",
              "        text-align: right;\n",
              "    }\n",
              "</style>\n",
              "<table border=\"1\" class=\"dataframe\">\n",
              "  <thead>\n",
              "    <tr style=\"text-align: right;\">\n",
              "      <th></th>\n",
              "      <th>importance</th>\n",
              "    </tr>\n",
              "  </thead>\n",
              "  <tbody>\n",
              "    <tr>\n",
              "      <th>department_mean_target</th>\n",
              "      <td>0.136432</td>\n",
              "    </tr>\n",
              "    <tr>\n",
              "      <th>industry_frequency</th>\n",
              "      <td>0.035399</td>\n",
              "    </tr>\n",
              "    <tr>\n",
              "      <th>country_ratio</th>\n",
              "      <td>0.026849</td>\n",
              "    </tr>\n",
              "    <tr>\n",
              "      <th>verbs_vs_length_description</th>\n",
              "      <td>0.021401</td>\n",
              "    </tr>\n",
              "    <tr>\n",
              "      <th>sentiment score_description</th>\n",
              "      <td>0.021326</td>\n",
              "    </tr>\n",
              "    <tr>\n",
              "      <th>nouns_vs_length_company_profile</th>\n",
              "      <td>0.020728</td>\n",
              "    </tr>\n",
              "    <tr>\n",
              "      <th>adjs_vs_length_description</th>\n",
              "      <td>0.019768</td>\n",
              "    </tr>\n",
              "    <tr>\n",
              "      <th>num_of_nouns_description</th>\n",
              "      <td>0.019685</td>\n",
              "    </tr>\n",
              "    <tr>\n",
              "      <th>num_of_propns_description</th>\n",
              "      <td>0.019652</td>\n",
              "    </tr>\n",
              "    <tr>\n",
              "      <th>verbs_vs_words_description</th>\n",
              "      <td>0.019637</td>\n",
              "    </tr>\n",
              "    <tr>\n",
              "      <th>nouns_vs_length_description</th>\n",
              "      <td>0.019406</td>\n",
              "    </tr>\n",
              "    <tr>\n",
              "      <th>adjs_vs_length_company_profile</th>\n",
              "      <td>0.019284</td>\n",
              "    </tr>\n",
              "    <tr>\n",
              "      <th>propns_vs_length_description</th>\n",
              "      <td>0.018991</td>\n",
              "    </tr>\n",
              "    <tr>\n",
              "      <th>nouns_vs_words_company_profile</th>\n",
              "      <td>0.018911</td>\n",
              "    </tr>\n",
              "    <tr>\n",
              "      <th>adjs_vs_words_description</th>\n",
              "      <td>0.018666</td>\n",
              "    </tr>\n",
              "    <tr>\n",
              "      <th>nouns_vs_words_description</th>\n",
              "      <td>0.018288</td>\n",
              "    </tr>\n",
              "    <tr>\n",
              "      <th>propns_vs_words_description</th>\n",
              "      <td>0.018180</td>\n",
              "    </tr>\n",
              "    <tr>\n",
              "      <th>adjs_vs_words_company_profile</th>\n",
              "      <td>0.017913</td>\n",
              "    </tr>\n",
              "    <tr>\n",
              "      <th>num_of_verbs_description</th>\n",
              "      <td>0.017142</td>\n",
              "    </tr>\n",
              "    <tr>\n",
              "      <th>verbs_vs_words_company_profile</th>\n",
              "      <td>0.016218</td>\n",
              "    </tr>\n",
              "  </tbody>\n",
              "</table>\n",
              "</div>"
            ],
            "text/plain": [
              "                                 importance\n",
              "department_mean_target             0.136432\n",
              "industry_frequency                 0.035399\n",
              "country_ratio                      0.026849\n",
              "verbs_vs_length_description        0.021401\n",
              "sentiment score_description        0.021326\n",
              "nouns_vs_length_company_profile    0.020728\n",
              "adjs_vs_length_description         0.019768\n",
              "num_of_nouns_description           0.019685\n",
              "num_of_propns_description          0.019652\n",
              "verbs_vs_words_description         0.019637\n",
              "nouns_vs_length_description        0.019406\n",
              "adjs_vs_length_company_profile     0.019284\n",
              "propns_vs_length_description       0.018991\n",
              "nouns_vs_words_company_profile     0.018911\n",
              "adjs_vs_words_description          0.018666\n",
              "nouns_vs_words_description         0.018288\n",
              "propns_vs_words_description        0.018180\n",
              "adjs_vs_words_company_profile      0.017913\n",
              "num_of_verbs_description           0.017142\n",
              "verbs_vs_words_company_profile     0.016218"
            ]
          },
          "execution_count": 69,
          "metadata": {},
          "output_type": "execute_result"
        }
      ],
      "source": [
        "# Get the most important features of rf model test\n",
        "feature_importances = pd.DataFrame(rf_model_test.feature_importances_,\n",
        "                                      index = X_train.columns,\n",
        "                                      columns=['importance']).sort_values('importance', ascending=False)\n",
        "feature_importances.head(20)"
      ]
    },
    {
      "cell_type": "code",
      "execution_count": 70,
      "metadata": {},
      "outputs": [
        {
          "name": "stdout",
          "output_type": "stream",
          "text": [
            "Accuracy:  0.9731543624161074\n",
            "Precision:  0.9473684210526315\n",
            "Recall:  0.4972375690607735\n",
            "F1:  0.6521739130434783\n"
          ]
        }
      ],
      "source": [
        "# Only keep the top 20 features\n",
        "top_20_features = feature_importances.head(20).index\n",
        "X_train_20 = X_train[top_20_features]\n",
        "X_test_20 = X_test[top_20_features]\n",
        "\n",
        "# Train the model with top 20 features\n",
        "rf_model_test.fit(X_train_20, y_train)\n",
        "\n",
        "y_pred = rf_model_test.predict(X_test_20)\n",
        "print(\"Accuracy: \", accuracy_score(y_test, y_pred))\n",
        "print(\"Precision: \", precision_score(y_test, y_pred))\n",
        "print(\"Recall: \", recall_score(y_test, y_pred))\n",
        "print(\"F1: \", f1_score(y_test, y_pred))"
      ]
    },
    {
      "cell_type": "markdown",
      "metadata": {
        "id": "B-9Hw3XPygrt"
      },
      "source": [
        "<h1>Decision Tree"
      ]
    },
    {
      "cell_type": "code",
      "execution_count": 73,
      "metadata": {
        "id": "LPvotEYmxQ1s"
      },
      "outputs": [
        {
          "name": "stdout",
          "output_type": "stream",
          "text": [
            "Fitting 5 folds for each of 50 candidates, totalling 250 fits\n",
            "[CV] END class_weight={0: 1, 1: 1000}, max_depth=70, min_samples_leaf=1, min_samples_split=7; total time=   0.4s\n",
            "[CV] END class_weight={0: 1, 1: 1000}, max_depth=70, min_samples_leaf=1, min_samples_split=7; total time=   0.5s\n",
            "[CV] END class_weight={0: 1, 1: 1000}, max_depth=70, min_samples_leaf=1, min_samples_split=7; total time=   0.5s\n",
            "[CV] END class_weight={0: 1, 1: 1000}, max_depth=70, min_samples_leaf=1, min_samples_split=7; total time=   0.5s\n",
            "[CV] END class_weight={0: 1, 1: 1000}, max_depth=70, min_samples_leaf=1, min_samples_split=7; total time=   0.5s\n",
            "[CV] END class_weight={0: 1, 1: 10000}, max_depth=90, min_samples_leaf=3, min_samples_split=2; total time=   0.6s\n",
            "[CV] END class_weight={0: 1, 1: 10000}, max_depth=90, min_samples_leaf=3, min_samples_split=2; total time=   0.7s\n",
            "[CV] END class_weight={0: 1, 1: 10000}, max_depth=90, min_samples_leaf=3, min_samples_split=2; total time=   0.7s\n",
            "[CV] END class_weight={0: 1, 1: 10000}, max_depth=90, min_samples_leaf=3, min_samples_split=2; total time=   0.8s\n",
            "[CV] END class_weight={0: 1, 1: 100}, max_depth=50, min_samples_leaf=1, min_samples_split=7; total time=   0.3s\n",
            "[CV] END class_weight={0: 1, 1: 10000}, max_depth=90, min_samples_leaf=3, min_samples_split=2; total time=   0.7s\n",
            "[CV] END class_weight={0: 1, 1: 100}, max_depth=50, min_samples_leaf=1, min_samples_split=7; total time=   0.3s\n",
            "[CV] END class_weight={0: 1, 1: 100}, max_depth=50, min_samples_leaf=1, min_samples_split=7; total time=   0.3s\n",
            "[CV] END class_weight={0: 1, 1: 100}, max_depth=50, min_samples_leaf=1, min_samples_split=7; total time=   0.3s\n",
            "[CV] END class_weight={0: 1, 1: 100}, max_depth=50, min_samples_leaf=1, min_samples_split=7; total time=   0.4s\n",
            "[CV] END class_weight={0: 1, 1: 1}, max_depth=10, min_samples_leaf=3, min_samples_split=2; total time=   0.3s\n",
            "[CV] END class_weight={0: 1, 1: 1}, max_depth=10, min_samples_leaf=3, min_samples_split=2; total time=   0.3s\n",
            "[CV] END class_weight={0: 1, 1: 1}, max_depth=10, min_samples_leaf=3, min_samples_split=2; total time=   0.4s\n",
            "[CV] END class_weight={0: 1, 1: 1}, max_depth=10, min_samples_leaf=3, min_samples_split=2; total time=   0.4s\n",
            "[CV] END class_weight={0: 1, 1: 1}, max_depth=10, min_samples_leaf=3, min_samples_split=2; total time=   0.5s\n",
            "[CV] END class_weight={0: 1, 1: 1}, max_depth=80, min_samples_leaf=3, min_samples_split=7; total time=   0.5s\n",
            "[CV] END class_weight={0: 1, 1: 1}, max_depth=80, min_samples_leaf=3, min_samples_split=7; total time=   0.6s\n",
            "[CV] END class_weight={0: 1, 1: 1}, max_depth=80, min_samples_leaf=3, min_samples_split=7; total time=   0.6s\n",
            "[CV] END class_weight={0: 1, 1: 1}, max_depth=90, min_samples_leaf=1, min_samples_split=7; total time=   0.6s\n",
            "[CV] END class_weight={0: 1, 1: 1}, max_depth=80, min_samples_leaf=3, min_samples_split=7; total time=   0.7s\n",
            "[CV] END class_weight={0: 1, 1: 1}, max_depth=80, min_samples_leaf=3, min_samples_split=7; total time=   0.7s\n",
            "[CV] END class_weight={0: 1, 1: 1}, max_depth=90, min_samples_leaf=1, min_samples_split=7; total time=   0.7s\n",
            "[CV] END class_weight={0: 1, 1: 1}, max_depth=90, min_samples_leaf=1, min_samples_split=7; total time=   0.6s\n",
            "[CV] END class_weight={0: 1, 1: 1}, max_depth=90, min_samples_leaf=1, min_samples_split=7; total time=   0.7s\n",
            "[CV] END class_weight={0: 1, 1: 1}, max_depth=90, min_samples_leaf=1, min_samples_split=7; total time=   0.7s\n",
            "[CV] END class_weight={0: 1, 1: 10000}, max_depth=60, min_samples_leaf=3, min_samples_split=7; total time=   0.6s\n",
            "[CV] END class_weight={0: 1, 1: 1000000}, max_depth=80, min_samples_leaf=1, min_samples_split=7; total time=   0.9s\n",
            "[CV] END class_weight={0: 1, 1: 1000000}, max_depth=80, min_samples_leaf=1, min_samples_split=7; total time=   0.8s[CV] END class_weight={0: 1, 1: 1000000}, max_depth=80, min_samples_leaf=1, min_samples_split=7; total time=   0.9s\n",
            "\n",
            "[CV] END class_weight={0: 1, 1: 10000}, max_depth=60, min_samples_leaf=3, min_samples_split=7; total time=   0.7s\n",
            "[CV] END class_weight={0: 1, 1: 10000}, max_depth=60, min_samples_leaf=3, min_samples_split=7; total time=   0.7s\n",
            "[CV] END class_weight={0: 1, 1: 10000}, max_depth=60, min_samples_leaf=3, min_samples_split=7; total time=   0.8s\n",
            "[CV] END class_weight={0: 1, 1: 10000}, max_depth=60, min_samples_leaf=3, min_samples_split=7; total time=   0.7s\n",
            "[CV] END class_weight={0: 1, 1: 1000000}, max_depth=80, min_samples_leaf=1, min_samples_split=7; total time=   1.0s\n",
            "[CV] END class_weight={0: 1, 1: 1000000}, max_depth=80, min_samples_leaf=1, min_samples_split=7; total time=   1.0s\n",
            "[CV] END class_weight={0: 1, 1: 1000}, max_depth=70, min_samples_leaf=1, min_samples_split=2; total time=   0.4s\n",
            "[CV] END class_weight={0: 1, 1: 1000}, max_depth=70, min_samples_leaf=1, min_samples_split=2; total time=   0.4s\n",
            "[CV] END class_weight={0: 1, 1: 1000}, max_depth=70, min_samples_leaf=1, min_samples_split=2; total time=   0.5s\n",
            "[CV] END class_weight={0: 1, 1: 100000}, max_depth=90, min_samples_leaf=3, min_samples_split=7; total time=   0.8s\n",
            "[CV] END class_weight={0: 1, 1: 1000}, max_depth=70, min_samples_leaf=1, min_samples_split=2; total time=   0.5s\n",
            "[CV] END class_weight={0: 1, 1: 100000}, max_depth=90, min_samples_leaf=3, min_samples_split=7; total time=   0.8s\n",
            "[CV] END class_weight={0: 1, 1: 1000}, max_depth=70, min_samples_leaf=1, min_samples_split=2; total time=   0.5s\n",
            "[CV] END class_weight={0: 1, 1: 100000}, max_depth=90, min_samples_leaf=3, min_samples_split=7; total time=   0.8s\n",
            "[CV] END class_weight={0: 1, 1: 100000}, max_depth=90, min_samples_leaf=3, min_samples_split=7; total time=   0.8s\n",
            "[CV] END class_weight={0: 1, 1: 1000}, max_depth=40, min_samples_leaf=3, min_samples_split=2; total time=   0.3s\n",
            "[CV] END class_weight={0: 1, 1: 1000}, max_depth=40, min_samples_leaf=3, min_samples_split=2; total time=   0.4s\n",
            "[CV] END class_weight={0: 1, 1: 100000}, max_depth=90, min_samples_leaf=3, min_samples_split=7; total time=   0.9s\n",
            "[CV] END class_weight={0: 1, 1: 1000}, max_depth=40, min_samples_leaf=3, min_samples_split=2; total time=   0.4s\n",
            "[CV] END class_weight={0: 1, 1: 1000}, max_depth=40, min_samples_leaf=3, min_samples_split=2; total time=   0.5s\n",
            "[CV] END class_weight={0: 1, 1: 1000}, max_depth=40, min_samples_leaf=3, min_samples_split=2; total time=   0.5s\n",
            "[CV] END class_weight={0: 1, 1: 1000000}, max_depth=10, min_samples_leaf=1, min_samples_split=2; total time=   0.3s\n",
            "[CV] END class_weight={0: 1, 1: 1000000}, max_depth=10, min_samples_leaf=1, min_samples_split=2; total time=   0.2s\n",
            "[CV] END class_weight={0: 1, 1: 1000000}, max_depth=10, min_samples_leaf=1, min_samples_split=2; total time=   0.2s\n",
            "[CV] END class_weight={0: 1, 1: 1000000}, max_depth=10, min_samples_leaf=1, min_samples_split=2; total time=   0.3s\n",
            "[CV] END class_weight={0: 1, 1: 1000000}, max_depth=10, min_samples_leaf=1, min_samples_split=2; total time=   0.3s\n",
            "[CV] END class_weight={0: 1, 1: 100}, max_depth=30, min_samples_leaf=3, min_samples_split=2; total time=   0.3s\n",
            "[CV] END class_weight={0: 1, 1: 100}, max_depth=30, min_samples_leaf=3, min_samples_split=2; total time=   0.3s\n",
            "[CV] END class_weight={0: 1, 1: 100}, max_depth=30, min_samples_leaf=3, min_samples_split=2; total time=   0.3s\n",
            "[CV] END class_weight={0: 1, 1: 1000000}, max_depth=100, min_samples_leaf=3, min_samples_split=7; total time=   0.8s\n",
            "[CV] END class_weight={0: 1, 1: 1000000}, max_depth=100, min_samples_leaf=3, min_samples_split=7; total time=   0.8s\n",
            "[CV] END class_weight={0: 1, 1: 1000000}, max_depth=100, min_samples_leaf=3, min_samples_split=7; total time=   0.9s\n",
            "[CV] END class_weight={0: 1, 1: 100}, max_depth=30, min_samples_leaf=3, min_samples_split=2; total time=   0.2s\n",
            "[CV] END class_weight={0: 1, 1: 1000000}, max_depth=100, min_samples_leaf=3, min_samples_split=7; total time=   0.8s\n",
            "[CV] END class_weight={0: 1, 1: 1000000}, max_depth=100, min_samples_leaf=3, min_samples_split=7; total time=   0.8s\n",
            "[CV] END class_weight={0: 1, 1: 100}, max_depth=30, min_samples_leaf=3, min_samples_split=2; total time=   0.3s\n",
            "[CV] END class_weight={0: 1, 1: 10000}, max_depth=60, min_samples_leaf=3, min_samples_split=2; total time=   0.6s\n",
            "[CV] END class_weight={0: 1, 1: 100000}, max_depth=20, min_samples_leaf=1, min_samples_split=7; total time=   0.4s\n",
            "[CV] END class_weight={0: 1, 1: 10000}, max_depth=60, min_samples_leaf=3, min_samples_split=2; total time=   0.6s\n",
            "[CV] END class_weight={0: 1, 1: 100000}, max_depth=20, min_samples_leaf=1, min_samples_split=7; total time=   0.5s\n",
            "[CV] END class_weight={0: 1, 1: 100000}, max_depth=20, min_samples_leaf=1, min_samples_split=7; total time=   0.4s\n",
            "[CV] END class_weight={0: 1, 1: 100000}, max_depth=20, min_samples_leaf=1, min_samples_split=7; total time=   0.4s\n",
            "[CV] END class_weight={0: 1, 1: 100000}, max_depth=20, min_samples_leaf=1, min_samples_split=7; total time=   0.5s\n",
            "[CV] END class_weight={0: 1, 1: 10000}, max_depth=60, min_samples_leaf=3, min_samples_split=2; total time=   0.6s\n",
            "[CV] END class_weight={0: 1, 1: 10000}, max_depth=60, min_samples_leaf=3, min_samples_split=2; total time=   0.6s\n",
            "[CV] END class_weight={0: 1, 1: 10000}, max_depth=60, min_samples_leaf=3, min_samples_split=2; total time=   0.7s\n",
            "[CV] END class_weight={0: 1, 1: 1000000}, max_depth=60, min_samples_leaf=3, min_samples_split=7; total time=   0.7s\n",
            "[CV] END class_weight={0: 1, 1: 1000000}, max_depth=60, min_samples_leaf=3, min_samples_split=7; total time=   0.7s\n",
            "[CV] END class_weight={0: 1, 1: 1000000}, max_depth=60, min_samples_leaf=3, min_samples_split=7; total time=   0.7s\n",
            "[CV] END class_weight={0: 1, 1: 1000000}, max_depth=60, min_samples_leaf=3, min_samples_split=7; total time=   0.8s\n",
            "[CV] END class_weight={0: 1, 1: 1000000}, max_depth=60, min_samples_leaf=3, min_samples_split=7; total time=   0.8s\n",
            "[CV] END class_weight={0: 1, 1: 1000000}, max_depth=100, min_samples_leaf=1, min_samples_split=2; total time=   0.9s\n",
            "[CV] END class_weight={0: 1, 1: 1000000}, max_depth=100, min_samples_leaf=1, min_samples_split=2; total time=   1.0s\n",
            "[CV] END class_weight={0: 1, 1: 1000000}, max_depth=100, min_samples_leaf=1, min_samples_split=2; total time=   1.0s\n",
            "[CV] END class_weight={0: 1, 1: 100000}, max_depth=20, min_samples_leaf=3, min_samples_split=2; total time=   0.4s\n",
            "[CV] END class_weight={0: 1, 1: 1000000}, max_depth=100, min_samples_leaf=1, min_samples_split=2; total time=   1.0s\n",
            "[CV] END class_weight={0: 1, 1: 100000}, max_depth=20, min_samples_leaf=3, min_samples_split=2; total time=   0.3s\n",
            "[CV] END class_weight={0: 1, 1: 100000}, max_depth=20, min_samples_leaf=3, min_samples_split=2; total time=   0.4s\n",
            "[CV] END class_weight={0: 1, 1: 100000}, max_depth=20, min_samples_leaf=3, min_samples_split=2; total time=   0.4s\n",
            "[CV] END class_weight={0: 1, 1: 1000000}, max_depth=100, min_samples_leaf=1, min_samples_split=2; total time=   1.0s\n",
            "[CV] END class_weight={0: 1, 1: 100}, max_depth=10, min_samples_leaf=1, min_samples_split=2; total time=   0.2s\n",
            "[CV] END class_weight={0: 1, 1: 100}, max_depth=10, min_samples_leaf=1, min_samples_split=2; total time=   0.2s\n",
            "[CV] END class_weight={0: 1, 1: 100000}, max_depth=20, min_samples_leaf=3, min_samples_split=2; total time=   0.4s\n",
            "[CV] END class_weight={0: 1, 1: 100}, max_depth=10, min_samples_leaf=1, min_samples_split=2; total time=   0.2s\n",
            "[CV] END class_weight={0: 1, 1: 100}, max_depth=10, min_samples_leaf=1, min_samples_split=2; total time=   0.2s\n",
            "[CV] END class_weight={0: 1, 1: 100}, max_depth=10, min_samples_leaf=1, min_samples_split=2; total time=   0.3s\n",
            "[CV] END class_weight={0: 1, 1: 10000}, max_depth=20, min_samples_leaf=3, min_samples_split=2; total time=   0.3s\n",
            "[CV] END class_weight={0: 1, 1: 10000}, max_depth=20, min_samples_leaf=3, min_samples_split=2; total time=   0.4s\n",
            "[CV] END class_weight={0: 1, 1: 10000}, max_depth=20, min_samples_leaf=3, min_samples_split=2; total time=   0.3s\n",
            "[CV] END class_weight={0: 1, 1: 10000}, max_depth=20, min_samples_leaf=3, min_samples_split=2; total time=   0.4s\n",
            "[CV] END class_weight={0: 1, 1: 10000}, max_depth=20, min_samples_leaf=3, min_samples_split=2; total time=   0.4s\n",
            "[CV] END class_weight={0: 1, 1: 10000}, max_depth=50, min_samples_leaf=1, min_samples_split=2; total time=   0.6s\n",
            "[CV] END class_weight={0: 1, 1: 10000}, max_depth=50, min_samples_leaf=1, min_samples_split=2; total time=   0.6s\n",
            "[CV] END class_weight={0: 1, 1: 10000}, max_depth=20, min_samples_leaf=1, min_samples_split=7; total time=   0.3s\n",
            "[CV] END class_weight={0: 1, 1: 10000}, max_depth=20, min_samples_leaf=1, min_samples_split=7; total time=   0.5s\n",
            "[CV] END class_weight={0: 1, 1: 10000}, max_depth=20, min_samples_leaf=1, min_samples_split=7; total time=   0.4s\n",
            "[CV] END class_weight={0: 1, 1: 10000}, max_depth=20, min_samples_leaf=1, min_samples_split=7; total time=   0.4s\n",
            "[CV] END class_weight={0: 1, 1: 10000}, max_depth=50, min_samples_leaf=1, min_samples_split=2; total time=   0.7s\n",
            "[CV] END class_weight={0: 1, 1: 10000}, max_depth=50, min_samples_leaf=1, min_samples_split=2; total time=   0.7s\n",
            "[CV] END class_weight={0: 1, 1: 10000}, max_depth=50, min_samples_leaf=1, min_samples_split=2; total time=   0.7s\n",
            "[CV] END class_weight={0: 1, 1: 10000}, max_depth=20, min_samples_leaf=1, min_samples_split=7; total time=   0.4s\n",
            "[CV] END class_weight={0: 1, 1: 100000}, max_depth=10, min_samples_leaf=3, min_samples_split=7; total time=   0.2s\n",
            "[CV] END class_weight={0: 1, 1: 100000}, max_depth=10, min_samples_leaf=3, min_samples_split=7; total time=   0.2s\n",
            "[CV] END class_weight={0: 1, 1: 100000}, max_depth=10, min_samples_leaf=3, min_samples_split=7; total time=   0.2s\n",
            "[CV] END class_weight={0: 1, 1: 100000}, max_depth=10, min_samples_leaf=3, min_samples_split=7; total time=   0.3s\n",
            "[CV] END class_weight={0: 1, 1: 100000}, max_depth=10, min_samples_leaf=3, min_samples_split=7; total time=   0.3s\n",
            "[CV] END class_weight={0: 1, 1: 1}, max_depth=80, min_samples_leaf=3, min_samples_split=2; total time=   0.6s\n",
            "[CV] END class_weight={0: 1, 1: 1}, max_depth=80, min_samples_leaf=3, min_samples_split=2; total time=   0.6s\n",
            "[CV] END class_weight={0: 1, 1: 1}, max_depth=80, min_samples_leaf=3, min_samples_split=2; total time=   0.6s\n",
            "[CV] END class_weight={0: 1, 1: 1}, max_depth=80, min_samples_leaf=3, min_samples_split=2; total time=   0.7s\n",
            "[CV] END class_weight={0: 1, 1: 1}, max_depth=80, min_samples_leaf=3, min_samples_split=2; total time=   0.8s\n",
            "[CV] END class_weight={0: 1, 1: 1000000}, max_depth=50, min_samples_leaf=1, min_samples_split=2; total time=   0.7s\n",
            "[CV] END class_weight={0: 1, 1: 1000000}, max_depth=50, min_samples_leaf=1, min_samples_split=2; total time=   0.8s\n",
            "[CV] END class_weight={0: 1, 1: 1000000}, max_depth=50, min_samples_leaf=1, min_samples_split=2; total time=   0.8s\n",
            "[CV] END class_weight={0: 1, 1: 1000000}, max_depth=50, min_samples_leaf=1, min_samples_split=2; total time=   0.8s\n",
            "[CV] END class_weight={0: 1, 1: 1000000}, max_depth=50, min_samples_leaf=1, min_samples_split=2; total time=   0.9s\n",
            "[CV] END class_weight={0: 1, 1: 1000000}, max_depth=70, min_samples_leaf=3, min_samples_split=7; total time=   0.8s\n",
            "[CV] END class_weight={0: 1, 1: 1000000}, max_depth=70, min_samples_leaf=3, min_samples_split=7; total time=   0.8s\n",
            "[CV] END class_weight={0: 1, 1: 1000000}, max_depth=70, min_samples_leaf=3, min_samples_split=7; total time=   0.8s\n",
            "[CV] END class_weight={0: 1, 1: 1000000}, max_depth=70, min_samples_leaf=3, min_samples_split=7; total time=   0.8s\n",
            "[CV] END class_weight={0: 1, 1: 1000000}, max_depth=70, min_samples_leaf=3, min_samples_split=7; total time=   0.8s\n",
            "[CV] END class_weight={0: 1, 1: 10}, max_depth=40, min_samples_leaf=3, min_samples_split=7; total time=   0.5s\n",
            "[CV] END class_weight={0: 1, 1: 1000000}, max_depth=70, min_samples_leaf=1, min_samples_split=2; total time=   0.9s\n",
            "[CV] END class_weight={0: 1, 1: 10}, max_depth=40, min_samples_leaf=3, min_samples_split=7; total time=   0.6s\n",
            "[CV] END class_weight={0: 1, 1: 1000000}, max_depth=70, min_samples_leaf=1, min_samples_split=2; total time=   0.9s\n",
            "[CV] END class_weight={0: 1, 1: 10}, max_depth=40, min_samples_leaf=3, min_samples_split=7; total time=   0.6s\n",
            "[CV] END class_weight={0: 1, 1: 1000000}, max_depth=70, min_samples_leaf=1, min_samples_split=2; total time=   1.0s\n",
            "[CV] END class_weight={0: 1, 1: 1000000}, max_depth=70, min_samples_leaf=1, min_samples_split=2; total time=   1.0s\n",
            "[CV] END class_weight={0: 1, 1: 10}, max_depth=40, min_samples_leaf=3, min_samples_split=7; total time=   0.6s\n",
            "[CV] END class_weight={0: 1, 1: 10}, max_depth=40, min_samples_leaf=3, min_samples_split=7; total time=   0.6s\n",
            "[CV] END class_weight={0: 1, 1: 1000000}, max_depth=70, min_samples_leaf=1, min_samples_split=2; total time=   1.1s\n",
            "[CV] END class_weight={0: 1, 1: 100000}, max_depth=100, min_samples_leaf=1, min_samples_split=7; total time=   1.2s\n",
            "[CV] END class_weight={0: 1, 1: 10000}, max_depth=80, min_samples_leaf=1, min_samples_split=7; total time=   0.8s\n",
            "[CV] END class_weight={0: 1, 1: 100000}, max_depth=100, min_samples_leaf=1, min_samples_split=7; total time=   1.0s\n",
            "[CV] END class_weight={0: 1, 1: 100000}, max_depth=100, min_samples_leaf=1, min_samples_split=7; total time=   0.9s\n",
            "[CV] END class_weight={0: 1, 1: 10000}, max_depth=80, min_samples_leaf=1, min_samples_split=7; total time=   0.8s\n",
            "[CV] END class_weight={0: 1, 1: 10000}, max_depth=80, min_samples_leaf=1, min_samples_split=7; total time=   0.9s\n",
            "[CV] END class_weight={0: 1, 1: 10000}, max_depth=80, min_samples_leaf=1, min_samples_split=7; total time=   0.7s\n",
            "[CV] END class_weight={0: 1, 1: 100000}, max_depth=100, min_samples_leaf=1, min_samples_split=7; total time=   1.0s\n",
            "[CV] END class_weight={0: 1, 1: 10000}, max_depth=80, min_samples_leaf=1, min_samples_split=7; total time=   0.9s\n",
            "[CV] END class_weight={0: 1, 1: 100000}, max_depth=100, min_samples_leaf=1, min_samples_split=7; total time=   1.1s\n",
            "[CV] END class_weight={0: 1, 1: 100000}, max_depth=70, min_samples_leaf=1, min_samples_split=2; total time=   0.8s\n",
            "[CV] END class_weight={0: 1, 1: 10000}, max_depth=80, min_samples_leaf=3, min_samples_split=2; total time=   0.6s\n",
            "[CV] END class_weight={0: 1, 1: 100000}, max_depth=70, min_samples_leaf=1, min_samples_split=2; total time=   0.8s\n",
            "[CV] END class_weight={0: 1, 1: 10000}, max_depth=80, min_samples_leaf=3, min_samples_split=2; total time=   0.7s\n",
            "[CV] END class_weight={0: 1, 1: 10000}, max_depth=80, min_samples_leaf=3, min_samples_split=2; total time=   0.6s\n",
            "[CV] END class_weight={0: 1, 1: 100000}, max_depth=70, min_samples_leaf=1, min_samples_split=2; total time=   0.9s\n",
            "[CV] END class_weight={0: 1, 1: 10000}, max_depth=80, min_samples_leaf=3, min_samples_split=2; total time=   0.8s\n",
            "[CV] END class_weight={0: 1, 1: 10000}, max_depth=80, min_samples_leaf=3, min_samples_split=2; total time=   0.7s\n",
            "[CV] END class_weight={0: 1, 1: 100000}, max_depth=70, min_samples_leaf=1, min_samples_split=2; total time=   1.0s\n",
            "[CV] END class_weight={0: 1, 1: 100000}, max_depth=70, min_samples_leaf=1, min_samples_split=2; total time=   0.9s\n",
            "[CV] END class_weight={0: 1, 1: 10}, max_depth=50, min_samples_leaf=3, min_samples_split=7; total time=   0.5s\n",
            "[CV] END class_weight={0: 1, 1: 10}, max_depth=50, min_samples_leaf=3, min_samples_split=7; total time=   0.5s\n",
            "[CV] END class_weight={0: 1, 1: 10}, max_depth=50, min_samples_leaf=3, min_samples_split=7; total time=   0.5s\n",
            "[CV] END class_weight={0: 1, 1: 10}, max_depth=50, min_samples_leaf=3, min_samples_split=7; total time=   0.6s\n",
            "[CV] END class_weight={0: 1, 1: 10}, max_depth=50, min_samples_leaf=3, min_samples_split=7; total time=   0.6s\n",
            "[CV] END class_weight={0: 1, 1: 100000}, max_depth=30, min_samples_leaf=3, min_samples_split=7; total time=   0.5s\n",
            "[CV] END class_weight={0: 1, 1: 100000}, max_depth=30, min_samples_leaf=3, min_samples_split=7; total time=   0.6s\n",
            "[CV] END class_weight={0: 1, 1: 100000}, max_depth=30, min_samples_leaf=3, min_samples_split=7; total time=   0.6s\n",
            "[CV] END class_weight={0: 1, 1: 100000}, max_depth=30, min_samples_leaf=3, min_samples_split=7; total time=   0.6s\n",
            "[CV] END class_weight={0: 1, 1: 100000}, max_depth=30, min_samples_leaf=3, min_samples_split=7; total time=   0.6s\n",
            "[CV] END class_weight={0: 1, 1: 10000}, max_depth=50, min_samples_leaf=1, min_samples_split=7; total time=   0.6s\n",
            "[CV] END class_weight={0: 1, 1: 10000}, max_depth=50, min_samples_leaf=1, min_samples_split=7; total time=   0.6s\n",
            "[CV] END class_weight={0: 1, 1: 10000}, max_depth=50, min_samples_leaf=1, min_samples_split=7; total time=   0.7s\n",
            "[CV] END class_weight={0: 1, 1: 10000}, max_depth=60, min_samples_leaf=1, min_samples_split=2; total time=   0.6s\n",
            "[CV] END class_weight={0: 1, 1: 10000}, max_depth=50, min_samples_leaf=1, min_samples_split=7; total time=   0.7s\n",
            "[CV] END class_weight={0: 1, 1: 10000}, max_depth=60, min_samples_leaf=1, min_samples_split=2; total time=   0.7s\n",
            "[CV] END class_weight={0: 1, 1: 10000}, max_depth=50, min_samples_leaf=1, min_samples_split=7; total time=   0.7s\n",
            "[CV] END class_weight={0: 1, 1: 10000}, max_depth=60, min_samples_leaf=1, min_samples_split=2; total time=   0.7s\n",
            "[CV] END class_weight={0: 1, 1: 10000}, max_depth=60, min_samples_leaf=1, min_samples_split=2; total time=   0.8s\n",
            "[CV] END class_weight={0: 1, 1: 10000}, max_depth=60, min_samples_leaf=1, min_samples_split=2; total time=   0.8s\n",
            "[CV] END class_weight={0: 1, 1: 10000}, max_depth=40, min_samples_leaf=1, min_samples_split=2; total time=   0.6s\n",
            "[CV] END class_weight={0: 1, 1: 10000}, max_depth=40, min_samples_leaf=1, min_samples_split=2; total time=   0.6s\n",
            "[CV] END class_weight={0: 1, 1: 10000}, max_depth=40, min_samples_leaf=1, min_samples_split=2; total time=   0.6s\n",
            "[CV] END class_weight={0: 1, 1: 10000}, max_depth=40, min_samples_leaf=1, min_samples_split=2; total time=   0.6s\n",
            "[CV] END class_weight={0: 1, 1: 10000}, max_depth=40, min_samples_leaf=1, min_samples_split=2; total time=   0.6s\n",
            "[CV] END class_weight={0: 1, 1: 1000000}, max_depth=50, min_samples_leaf=1, min_samples_split=7; total time=   0.7s\n",
            "[CV] END class_weight={0: 1, 1: 1000000}, max_depth=50, min_samples_leaf=1, min_samples_split=7; total time=   0.9s\n",
            "[CV] END class_weight={0: 1, 1: 1000000}, max_depth=50, min_samples_leaf=1, min_samples_split=7; total time=   0.8s\n",
            "[CV] END class_weight={0: 1, 1: 1}, max_depth=20, min_samples_leaf=1, min_samples_split=7; total time=   0.6s\n",
            "[CV] END class_weight={0: 1, 1: 1000000}, max_depth=50, min_samples_leaf=1, min_samples_split=7; total time=   0.7s\n",
            "[CV] END class_weight={0: 1, 1: 1}, max_depth=20, min_samples_leaf=1, min_samples_split=7; total time=   0.6s\n",
            "[CV] END class_weight={0: 1, 1: 1}, max_depth=20, min_samples_leaf=1, min_samples_split=7; total time=   0.5s\n",
            "[CV] END class_weight={0: 1, 1: 1}, max_depth=20, min_samples_leaf=1, min_samples_split=7; total time=   0.7s\n",
            "[CV] END class_weight={0: 1, 1: 1000000}, max_depth=50, min_samples_leaf=1, min_samples_split=7; total time=   0.9s\n",
            "[CV] END class_weight={0: 1, 1: 1}, max_depth=20, min_samples_leaf=1, min_samples_split=7; total time=   0.6s\n",
            "[CV] END class_weight={0: 1, 1: 100000}, max_depth=40, min_samples_leaf=1, min_samples_split=2; total time=   0.6s\n",
            "[CV] END class_weight={0: 1, 1: 10}, max_depth=70, min_samples_leaf=1, min_samples_split=2; total time=   0.5s\n",
            "[CV] END class_weight={0: 1, 1: 10}, max_depth=70, min_samples_leaf=1, min_samples_split=2; total time=   0.5s\n",
            "[CV] END class_weight={0: 1, 1: 100000}, max_depth=40, min_samples_leaf=1, min_samples_split=2; total time=   0.7s\n",
            "[CV] END class_weight={0: 1, 1: 10}, max_depth=70, min_samples_leaf=1, min_samples_split=2; total time=   0.5s\n",
            "[CV] END class_weight={0: 1, 1: 100000}, max_depth=40, min_samples_leaf=1, min_samples_split=2; total time=   0.7s\n",
            "[CV] END class_weight={0: 1, 1: 100000}, max_depth=40, min_samples_leaf=1, min_samples_split=2; total time=   0.7s\n",
            "[CV] END class_weight={0: 1, 1: 10}, max_depth=70, min_samples_leaf=1, min_samples_split=2; total time=   0.5s\n",
            "[CV] END class_weight={0: 1, 1: 100000}, max_depth=40, min_samples_leaf=1, min_samples_split=2; total time=   0.7s\n",
            "[CV] END class_weight={0: 1, 1: 100}, max_depth=100, min_samples_leaf=1, min_samples_split=7; total time=   0.3s\n",
            "[CV] END class_weight={0: 1, 1: 10}, max_depth=70, min_samples_leaf=1, min_samples_split=2; total time=   0.5s\n",
            "[CV] END class_weight={0: 1, 1: 100}, max_depth=100, min_samples_leaf=1, min_samples_split=7; total time=   0.3s\n",
            "[CV] END class_weight={0: 1, 1: 100}, max_depth=100, min_samples_leaf=1, min_samples_split=7; total time=   0.3s\n",
            "[CV] END class_weight={0: 1, 1: 100}, max_depth=100, min_samples_leaf=1, min_samples_split=7; total time=   0.3s\n",
            "[CV] END class_weight={0: 1, 1: 100}, max_depth=100, min_samples_leaf=1, min_samples_split=7; total time=   0.4s\n",
            "[CV] END class_weight={0: 1, 1: 1}, max_depth=60, min_samples_leaf=3, min_samples_split=7; total time=   0.5s\n",
            "[CV] END class_weight={0: 1, 1: 1}, max_depth=60, min_samples_leaf=3, min_samples_split=7; total time=   0.5s\n",
            "[CV] END class_weight={0: 1, 1: 1}, max_depth=60, min_samples_leaf=3, min_samples_split=7; total time=   0.6s\n",
            "[CV] END class_weight={0: 1, 1: 100000}, max_depth=30, min_samples_leaf=1, min_samples_split=2; total time=   0.6s\n",
            "[CV] END class_weight={0: 1, 1: 1}, max_depth=60, min_samples_leaf=3, min_samples_split=7; total time=   0.7s\n",
            "[CV] END class_weight={0: 1, 1: 1}, max_depth=60, min_samples_leaf=3, min_samples_split=7; total time=   0.7s\n",
            "[CV] END class_weight={0: 1, 1: 100000}, max_depth=30, min_samples_leaf=1, min_samples_split=2; total time=   0.5s\n",
            "[CV] END class_weight={0: 1, 1: 100000}, max_depth=30, min_samples_leaf=1, min_samples_split=2; total time=   0.6s\n",
            "[CV] END class_weight={0: 1, 1: 100000}, max_depth=30, min_samples_leaf=1, min_samples_split=2; total time=   0.5s\n",
            "[CV] END class_weight={0: 1, 1: 100}, max_depth=60, min_samples_leaf=1, min_samples_split=7; total time=   0.3s\n",
            "[CV] END class_weight={0: 1, 1: 100000}, max_depth=30, min_samples_leaf=1, min_samples_split=2; total time=   0.6s\n",
            "[CV] END class_weight={0: 1, 1: 100}, max_depth=60, min_samples_leaf=1, min_samples_split=7; total time=   0.3s\n",
            "[CV] END class_weight={0: 1, 1: 100}, max_depth=60, min_samples_leaf=1, min_samples_split=7; total time=   0.3s\n",
            "[CV] END class_weight={0: 1, 1: 100}, max_depth=60, min_samples_leaf=1, min_samples_split=7; total time=   0.3s\n",
            "[CV] END class_weight={0: 1, 1: 100}, max_depth=60, min_samples_leaf=1, min_samples_split=7; total time=   0.3s\n",
            "[CV] END class_weight={0: 1, 1: 1000}, max_depth=20, min_samples_leaf=1, min_samples_split=2; total time=   0.3s\n",
            "[CV] END class_weight={0: 1, 1: 1000}, max_depth=20, min_samples_leaf=1, min_samples_split=2; total time=   0.3s\n",
            "[CV] END class_weight={0: 1, 1: 1000}, max_depth=20, min_samples_leaf=1, min_samples_split=2; total time=   0.3s\n",
            "[CV] END class_weight={0: 1, 1: 1000}, max_depth=20, min_samples_leaf=1, min_samples_split=2; total time=   0.3s\n",
            "[CV] END class_weight={0: 1, 1: 1000}, max_depth=20, min_samples_leaf=1, min_samples_split=2; total time=   0.3s\n",
            "[CV] END class_weight={0: 1, 1: 10}, max_depth=20, min_samples_leaf=1, min_samples_split=2; total time=   0.5s\n",
            "[CV] END class_weight={0: 1, 1: 10}, max_depth=20, min_samples_leaf=1, min_samples_split=2; total time=   0.5s\n",
            "[CV] END class_weight={0: 1, 1: 10}, max_depth=20, min_samples_leaf=1, min_samples_split=2; total time=   0.5s\n",
            "[CV] END class_weight={0: 1, 1: 10}, max_depth=20, min_samples_leaf=1, min_samples_split=2; total time=   0.5s\n",
            "[CV] END class_weight={0: 1, 1: 10}, max_depth=20, min_samples_leaf=1, min_samples_split=2; total time=   0.6s\n",
            "[CV] END class_weight={0: 1, 1: 1}, max_depth=70, min_samples_leaf=1, min_samples_split=7; total time=   0.5s\n",
            "[CV] END class_weight={0: 1, 1: 1}, max_depth=70, min_samples_leaf=1, min_samples_split=7; total time=   0.6s\n",
            "[CV] END class_weight={0: 1, 1: 1}, max_depth=70, min_samples_leaf=1, min_samples_split=7; total time=   0.5s\n",
            "[CV] END class_weight={0: 1, 1: 1}, max_depth=70, min_samples_leaf=1, min_samples_split=7; total time=   0.6s\n",
            "[CV] END class_weight={0: 1, 1: 1}, max_depth=70, min_samples_leaf=1, min_samples_split=7; total time=   0.7s\n",
            "[CV] END class_weight={0: 1, 1: 10000}, max_depth=100, min_samples_leaf=3, min_samples_split=2; total time=   0.6s\n",
            "[CV] END class_weight={0: 1, 1: 10000}, max_depth=100, min_samples_leaf=3, min_samples_split=2; total time=   0.5s\n",
            "[CV] END class_weight={0: 1, 1: 10000}, max_depth=100, min_samples_leaf=3, min_samples_split=2; total time=   0.5s\n",
            "[CV] END class_weight={0: 1, 1: 10000}, max_depth=100, min_samples_leaf=3, min_samples_split=2; total time=   0.5s\n",
            "[CV] END class_weight={0: 1, 1: 10000}, max_depth=100, min_samples_leaf=3, min_samples_split=2; total time=   0.5s\n"
          ]
        },
        {
          "data": {
            "text/html": [
              "<style>#sk-container-id-9 {color: black;}#sk-container-id-9 pre{padding: 0;}#sk-container-id-9 div.sk-toggleable {background-color: white;}#sk-container-id-9 label.sk-toggleable__label {cursor: pointer;display: block;width: 100%;margin-bottom: 0;padding: 0.3em;box-sizing: border-box;text-align: center;}#sk-container-id-9 label.sk-toggleable__label-arrow:before {content: \"▸\";float: left;margin-right: 0.25em;color: #696969;}#sk-container-id-9 label.sk-toggleable__label-arrow:hover:before {color: black;}#sk-container-id-9 div.sk-estimator:hover label.sk-toggleable__label-arrow:before {color: black;}#sk-container-id-9 div.sk-toggleable__content {max-height: 0;max-width: 0;overflow: hidden;text-align: left;background-color: #f0f8ff;}#sk-container-id-9 div.sk-toggleable__content pre {margin: 0.2em;color: black;border-radius: 0.25em;background-color: #f0f8ff;}#sk-container-id-9 input.sk-toggleable__control:checked~div.sk-toggleable__content {max-height: 200px;max-width: 100%;overflow: auto;}#sk-container-id-9 input.sk-toggleable__control:checked~label.sk-toggleable__label-arrow:before {content: \"▾\";}#sk-container-id-9 div.sk-estimator input.sk-toggleable__control:checked~label.sk-toggleable__label {background-color: #d4ebff;}#sk-container-id-9 div.sk-label input.sk-toggleable__control:checked~label.sk-toggleable__label {background-color: #d4ebff;}#sk-container-id-9 input.sk-hidden--visually {border: 0;clip: rect(1px 1px 1px 1px);clip: rect(1px, 1px, 1px, 1px);height: 1px;margin: -1px;overflow: hidden;padding: 0;position: absolute;width: 1px;}#sk-container-id-9 div.sk-estimator {font-family: monospace;background-color: #f0f8ff;border: 1px dotted black;border-radius: 0.25em;box-sizing: border-box;margin-bottom: 0.5em;}#sk-container-id-9 div.sk-estimator:hover {background-color: #d4ebff;}#sk-container-id-9 div.sk-parallel-item::after {content: \"\";width: 100%;border-bottom: 1px solid gray;flex-grow: 1;}#sk-container-id-9 div.sk-label:hover label.sk-toggleable__label {background-color: #d4ebff;}#sk-container-id-9 div.sk-serial::before {content: \"\";position: absolute;border-left: 1px solid gray;box-sizing: border-box;top: 0;bottom: 0;left: 50%;z-index: 0;}#sk-container-id-9 div.sk-serial {display: flex;flex-direction: column;align-items: center;background-color: white;padding-right: 0.2em;padding-left: 0.2em;position: relative;}#sk-container-id-9 div.sk-item {position: relative;z-index: 1;}#sk-container-id-9 div.sk-parallel {display: flex;align-items: stretch;justify-content: center;background-color: white;position: relative;}#sk-container-id-9 div.sk-item::before, #sk-container-id-9 div.sk-parallel-item::before {content: \"\";position: absolute;border-left: 1px solid gray;box-sizing: border-box;top: 0;bottom: 0;left: 50%;z-index: -1;}#sk-container-id-9 div.sk-parallel-item {display: flex;flex-direction: column;z-index: 1;position: relative;background-color: white;}#sk-container-id-9 div.sk-parallel-item:first-child::after {align-self: flex-end;width: 50%;}#sk-container-id-9 div.sk-parallel-item:last-child::after {align-self: flex-start;width: 50%;}#sk-container-id-9 div.sk-parallel-item:only-child::after {width: 0;}#sk-container-id-9 div.sk-dashed-wrapped {border: 1px dashed gray;margin: 0 0.4em 0.5em 0.4em;box-sizing: border-box;padding-bottom: 0.4em;background-color: white;}#sk-container-id-9 div.sk-label label {font-family: monospace;font-weight: bold;display: inline-block;line-height: 1.2em;}#sk-container-id-9 div.sk-label-container {text-align: center;}#sk-container-id-9 div.sk-container {/* jupyter's `normalize.less` sets `[hidden] { display: none; }` but bootstrap.min.css set `[hidden] { display: none !important; }` so we also need the `!important` here to be able to override the default hidden behavior on the sphinx rendered scikit-learn.org. See: https://github.com/scikit-learn/scikit-learn/issues/21755 */display: inline-block !important;position: relative;}#sk-container-id-9 div.sk-text-repr-fallback {display: none;}</style><div id=\"sk-container-id-9\" class=\"sk-top-container\"><div class=\"sk-text-repr-fallback\"><pre>RandomizedSearchCV(cv=5, estimator=DecisionTreeClassifier(), n_iter=50,\n",
              "                   n_jobs=-1,\n",
              "                   param_distributions={&#x27;class_weight&#x27;: [{0: 1, 1: 1},\n",
              "                                                         {0: 1, 1: 10},\n",
              "                                                         {0: 1, 1: 100},\n",
              "                                                         {0: 1, 1: 1000},\n",
              "                                                         {0: 1, 1: 10000},\n",
              "                                                         {0: 1, 1: 100000},\n",
              "                                                         {0: 1, 1: 1000000}],\n",
              "                                        &#x27;max_depth&#x27;: [10, 20, 30, 40, 50, 60,\n",
              "                                                      70, 80, 90, 100],\n",
              "                                        &#x27;min_samples_leaf&#x27;: [1, 3],\n",
              "                                        &#x27;min_samples_split&#x27;: [2, 7]},\n",
              "                   random_state=61, scoring=&#x27;f1&#x27;, verbose=2)</pre><b>In a Jupyter environment, please rerun this cell to show the HTML representation or trust the notebook. <br />On GitHub, the HTML representation is unable to render, please try loading this page with nbviewer.org.</b></div><div class=\"sk-container\" hidden><div class=\"sk-item sk-dashed-wrapped\"><div class=\"sk-label-container\"><div class=\"sk-label sk-toggleable\"><input class=\"sk-toggleable__control sk-hidden--visually\" id=\"sk-estimator-id-25\" type=\"checkbox\" ><label for=\"sk-estimator-id-25\" class=\"sk-toggleable__label sk-toggleable__label-arrow\">RandomizedSearchCV</label><div class=\"sk-toggleable__content\"><pre>RandomizedSearchCV(cv=5, estimator=DecisionTreeClassifier(), n_iter=50,\n",
              "                   n_jobs=-1,\n",
              "                   param_distributions={&#x27;class_weight&#x27;: [{0: 1, 1: 1},\n",
              "                                                         {0: 1, 1: 10},\n",
              "                                                         {0: 1, 1: 100},\n",
              "                                                         {0: 1, 1: 1000},\n",
              "                                                         {0: 1, 1: 10000},\n",
              "                                                         {0: 1, 1: 100000},\n",
              "                                                         {0: 1, 1: 1000000}],\n",
              "                                        &#x27;max_depth&#x27;: [10, 20, 30, 40, 50, 60,\n",
              "                                                      70, 80, 90, 100],\n",
              "                                        &#x27;min_samples_leaf&#x27;: [1, 3],\n",
              "                                        &#x27;min_samples_split&#x27;: [2, 7]},\n",
              "                   random_state=61, scoring=&#x27;f1&#x27;, verbose=2)</pre></div></div></div><div class=\"sk-parallel\"><div class=\"sk-parallel-item\"><div class=\"sk-item\"><div class=\"sk-label-container\"><div class=\"sk-label sk-toggleable\"><input class=\"sk-toggleable__control sk-hidden--visually\" id=\"sk-estimator-id-26\" type=\"checkbox\" ><label for=\"sk-estimator-id-26\" class=\"sk-toggleable__label sk-toggleable__label-arrow\">estimator: DecisionTreeClassifier</label><div class=\"sk-toggleable__content\"><pre>DecisionTreeClassifier()</pre></div></div></div><div class=\"sk-serial\"><div class=\"sk-item\"><div class=\"sk-estimator sk-toggleable\"><input class=\"sk-toggleable__control sk-hidden--visually\" id=\"sk-estimator-id-27\" type=\"checkbox\" ><label for=\"sk-estimator-id-27\" class=\"sk-toggleable__label sk-toggleable__label-arrow\">DecisionTreeClassifier</label><div class=\"sk-toggleable__content\"><pre>DecisionTreeClassifier()</pre></div></div></div></div></div></div></div></div></div></div>"
            ],
            "text/plain": [
              "RandomizedSearchCV(cv=5, estimator=DecisionTreeClassifier(), n_iter=50,\n",
              "                   n_jobs=-1,\n",
              "                   param_distributions={'class_weight': [{0: 1, 1: 1},\n",
              "                                                         {0: 1, 1: 10},\n",
              "                                                         {0: 1, 1: 100},\n",
              "                                                         {0: 1, 1: 1000},\n",
              "                                                         {0: 1, 1: 10000},\n",
              "                                                         {0: 1, 1: 100000},\n",
              "                                                         {0: 1, 1: 1000000}],\n",
              "                                        'max_depth': [10, 20, 30, 40, 50, 60,\n",
              "                                                      70, 80, 90, 100],\n",
              "                                        'min_samples_leaf': [1, 3],\n",
              "                                        'min_samples_split': [2, 7]},\n",
              "                   random_state=61, scoring='f1', verbose=2)"
            ]
          },
          "execution_count": 73,
          "metadata": {},
          "output_type": "execute_result"
        }
      ],
      "source": [
        "# Decision Tree model\n",
        "from sklearn.tree import DecisionTreeClassifier\n",
        "\n",
        "# Maximum number of levels in tree\n",
        "max_depth = [int(x) for x in np.linspace(10, 100, num = 10)]\n",
        "\n",
        "# Minimum number of samples required to split a node\n",
        "min_samples_split = [2, 7]\n",
        "\n",
        "# Minimum number of samples required at each leaf node\n",
        "min_samples_leaf = [1, 3]\n",
        "\n",
        "# Define class weights\n",
        "class_weights = [{0:1, 1:1}, {0:1, 1:10}, {0:1, 1:100}, {0:1, 1:1000}, {0:1, 1:10000}, {0:1, 1:100000}, {0:1, 1:1000000}]\n",
        "\n",
        "# Create the random grid\n",
        "random_grid = {'max_depth': max_depth,\n",
        "               'min_samples_split': min_samples_split,\n",
        "               'min_samples_leaf': min_samples_leaf,\n",
        "                'class_weight': class_weights}\n",
        "\n",
        "# Use the random grid to search for best hyperparameters\n",
        "dt = DecisionTreeClassifier()\n",
        "\n",
        "# Random search of parameters, using 5 fold cross validation,\n",
        "# search across 100 different combinations, and use all available cores\n",
        "dt_random = RandomizedSearchCV(estimator = dt,\n",
        "                               param_distributions = random_grid,\n",
        "                               n_iter = 50,\n",
        "                               cv = 5,\n",
        "                               verbose=2,\n",
        "                               random_state=61,\n",
        "                               n_jobs = -1,\n",
        "                               scoring='f1')\n",
        "# Fit the random search model\n",
        "dt_random.fit(X_train, y_train)\n"
      ]
    },
    {
      "cell_type": "code",
      "execution_count": 77,
      "metadata": {
        "id": "WGNmat9w1koA"
      },
      "outputs": [
        {
          "name": "stdout",
          "output_type": "stream",
          "text": [
            "{'min_samples_split': 2, 'min_samples_leaf': 3, 'max_depth': 80, 'class_weight': {0: 1, 1: 1}}\n",
            "0.6680348986261089\n"
          ]
        }
      ],
      "source": [
        "# Get the best parameters\n",
        "print(dt_random.best_params_)\n",
        "\n",
        "# Get the best train performance\n",
        "print(dt_random.best_score_)"
      ]
    },
    {
      "cell_type": "code",
      "execution_count": 78,
      "metadata": {},
      "outputs": [
        {
          "name": "stdout",
          "output_type": "stream",
          "text": [
            "Accuracy:  0.9630872483221476\n",
            "Precision:  0.6580645161290323\n",
            "Recall:  0.56353591160221\n",
            "F1:  0.6071428571428572\n"
          ]
        }
      ],
      "source": [
        "# Get the performance metrics\n",
        "best_random = dt_random.best_estimator_\n",
        "y_pred = best_random.predict(X_test)\n",
        "print(\"Accuracy: \", accuracy_score(y_test, y_pred))\n",
        "print(\"Precision: \", precision_score(y_test, y_pred))\n",
        "print(\"Recall: \", recall_score(y_test, y_pred))\n",
        "print(\"F1: \", f1_score(y_test, y_pred))"
      ]
    },
    {
      "cell_type": "code",
      "execution_count": 79,
      "metadata": {},
      "outputs": [
        {
          "data": {
            "text/html": [
              "<div>\n",
              "<style scoped>\n",
              "    .dataframe tbody tr th:only-of-type {\n",
              "        vertical-align: middle;\n",
              "    }\n",
              "\n",
              "    .dataframe tbody tr th {\n",
              "        vertical-align: top;\n",
              "    }\n",
              "\n",
              "    .dataframe thead th {\n",
              "        text-align: right;\n",
              "    }\n",
              "</style>\n",
              "<table border=\"1\" class=\"dataframe\">\n",
              "  <thead>\n",
              "    <tr style=\"text-align: right;\">\n",
              "      <th></th>\n",
              "      <th>importance</th>\n",
              "    </tr>\n",
              "  </thead>\n",
              "  <tbody>\n",
              "    <tr>\n",
              "      <th>department_mean_target</th>\n",
              "      <td>0.269932</td>\n",
              "    </tr>\n",
              "    <tr>\n",
              "      <th>adjs_vs_length_company_profile</th>\n",
              "      <td>0.099695</td>\n",
              "    </tr>\n",
              "    <tr>\n",
              "      <th>country_ratio</th>\n",
              "      <td>0.048717</td>\n",
              "    </tr>\n",
              "    <tr>\n",
              "      <th>industry_frequency</th>\n",
              "      <td>0.047355</td>\n",
              "    </tr>\n",
              "    <tr>\n",
              "      <th>verbs_vs_words_company_profile</th>\n",
              "      <td>0.032276</td>\n",
              "    </tr>\n",
              "    <tr>\n",
              "      <th>num_of_verbs_description</th>\n",
              "      <td>0.029884</td>\n",
              "    </tr>\n",
              "    <tr>\n",
              "      <th>verbs_vs_length_description</th>\n",
              "      <td>0.023053</td>\n",
              "    </tr>\n",
              "    <tr>\n",
              "      <th>propns_vs_length_requirements</th>\n",
              "      <td>0.021320</td>\n",
              "    </tr>\n",
              "    <tr>\n",
              "      <th>function_frequency</th>\n",
              "      <td>0.020922</td>\n",
              "    </tr>\n",
              "    <tr>\n",
              "      <th>education_frequency</th>\n",
              "      <td>0.019887</td>\n",
              "    </tr>\n",
              "    <tr>\n",
              "      <th>adjs_vs_words_description</th>\n",
              "      <td>0.019878</td>\n",
              "    </tr>\n",
              "    <tr>\n",
              "      <th>num_of_nouns_description</th>\n",
              "      <td>0.019619</td>\n",
              "    </tr>\n",
              "    <tr>\n",
              "      <th>nouns_vs_length_description</th>\n",
              "      <td>0.019215</td>\n",
              "    </tr>\n",
              "    <tr>\n",
              "      <th>verbs_vs_words_benefits</th>\n",
              "      <td>0.018811</td>\n",
              "    </tr>\n",
              "    <tr>\n",
              "      <th>sentiment score_benefits</th>\n",
              "      <td>0.018697</td>\n",
              "    </tr>\n",
              "    <tr>\n",
              "      <th>adjs_vs_length_requirements</th>\n",
              "      <td>0.018511</td>\n",
              "    </tr>\n",
              "    <tr>\n",
              "      <th>num_of_nouns_benefits</th>\n",
              "      <td>0.017866</td>\n",
              "    </tr>\n",
              "    <tr>\n",
              "      <th>nouns_vs_words_company_profile</th>\n",
              "      <td>0.017830</td>\n",
              "    </tr>\n",
              "    <tr>\n",
              "      <th>num_of_propns_description</th>\n",
              "      <td>0.015816</td>\n",
              "    </tr>\n",
              "    <tr>\n",
              "      <th>propns_vs_length_description</th>\n",
              "      <td>0.014392</td>\n",
              "    </tr>\n",
              "  </tbody>\n",
              "</table>\n",
              "</div>"
            ],
            "text/plain": [
              "                                importance\n",
              "department_mean_target            0.269932\n",
              "adjs_vs_length_company_profile    0.099695\n",
              "country_ratio                     0.048717\n",
              "industry_frequency                0.047355\n",
              "verbs_vs_words_company_profile    0.032276\n",
              "num_of_verbs_description          0.029884\n",
              "verbs_vs_length_description       0.023053\n",
              "propns_vs_length_requirements     0.021320\n",
              "function_frequency                0.020922\n",
              "education_frequency               0.019887\n",
              "adjs_vs_words_description         0.019878\n",
              "num_of_nouns_description          0.019619\n",
              "nouns_vs_length_description       0.019215\n",
              "verbs_vs_words_benefits           0.018811\n",
              "sentiment score_benefits          0.018697\n",
              "adjs_vs_length_requirements       0.018511\n",
              "num_of_nouns_benefits             0.017866\n",
              "nouns_vs_words_company_profile    0.017830\n",
              "num_of_propns_description         0.015816\n",
              "propns_vs_length_description      0.014392"
            ]
          },
          "execution_count": 79,
          "metadata": {},
          "output_type": "execute_result"
        }
      ],
      "source": [
        "# Get the most important features of best random forest model\n",
        "feature_importances = pd.DataFrame(best_random.feature_importances_,\n",
        "                                      index = X_train.columns,\n",
        "                                      columns=['importance']).sort_values('importance', ascending=False)\n",
        "feature_importances.head(20)"
      ]
    },
    {
      "cell_type": "code",
      "execution_count": 80,
      "metadata": {},
      "outputs": [
        {
          "name": "stdout",
          "output_type": "stream",
          "text": [
            "Accuracy:  0.9614093959731543\n",
            "Precision:  0.6405228758169934\n",
            "Recall:  0.5414364640883977\n",
            "F1:  0.5868263473053892\n"
          ]
        }
      ],
      "source": [
        "# Keep the top 20 features\n",
        "top_20_features = feature_importances.head(20).index\n",
        "X_train_20 = X_train[top_20_features]\n",
        "X_test_20 = X_test[top_20_features]\n",
        "\n",
        "# Train the model with top 20 features\n",
        "dt_model_test = DecisionTreeClassifier(max_depth=80,\n",
        "                                        min_samples_split=2,\n",
        "                                        min_samples_leaf=3,\n",
        "                                        random_state=61,\n",
        "                                        class_weight={0:1, 1:1})\n",
        "\n",
        "dt_model_test.fit(X_train_20, y_train)\n",
        "\n",
        "y_pred = dt_model_test.predict(X_test_20)\n",
        "print(\"Accuracy: \", accuracy_score(y_test, y_pred))\n",
        "print(\"Precision: \", precision_score(y_test, y_pred))\n",
        "print(\"Recall: \", recall_score(y_test, y_pred))\n",
        "print(\"F1: \", f1_score(y_test, y_pred))"
      ]
    },
    {
      "cell_type": "markdown",
      "metadata": {
        "id": "DdDq9nXBMyT3"
      },
      "source": [
        "<h1> After Adding Embedded Features"
      ]
    },
    {
      "cell_type": "code",
      "execution_count": 81,
      "metadata": {
        "id": "UVwb2FSoM1Jg"
      },
      "outputs": [],
      "source": [
        "df = pd.read_csv('./Data/combined_train.csv', index_col=None)"
      ]
    },
    {
      "cell_type": "code",
      "execution_count": 82,
      "metadata": {
        "id": "TBFuF8byQYb_"
      },
      "outputs": [],
      "source": [
        "test = pd.read_csv('./Data/combined_test.csv', index_col=None)"
      ]
    },
    {
      "cell_type": "code",
      "execution_count": 85,
      "metadata": {
        "id": "vZ1b4VOCQjvb"
      },
      "outputs": [],
      "source": [
        "feature_importance = pd.read_csv('./Data/feature_importance.csv', index_col=None)"
      ]
    },
    {
      "cell_type": "code",
      "execution_count": 86,
      "metadata": {
        "id": "EOJT0NJiQtHa"
      },
      "outputs": [],
      "source": [
        "top_200_features = feature_importance[0:200]"
      ]
    },
    {
      "cell_type": "code",
      "execution_count": 87,
      "metadata": {
        "id": "KD2l8t7CQaS9"
      },
      "outputs": [],
      "source": [
        "X_train = df.drop('fraudulent',axis = 1)[top_200_features['Feature'].tolist()]\n",
        "y_train = df[['fraudulent']]\n",
        "X_test = test.drop('fraudulent',axis = 1)[top_200_features['Feature'].tolist()]\n",
        "y_test = test[['fraudulent']]"
      ]
    },
    {
      "cell_type": "code",
      "execution_count": 88,
      "metadata": {
        "id": "O0FEYMZRX42X"
      },
      "outputs": [],
      "source": [
        "# Calculate the correlation between each feature and the target\n",
        "correlation_with_target = X_train.apply(lambda col: col.corr(y_train['fraudulent']))\n",
        "correlation_df = pd.DataFrame(list(correlation_with_target.items()), columns=['Feature', 'Correlation'])\n",
        "correlation_df['abs_correlation'] = correlation_df['Correlation'].abs()\n",
        "# Sort the DataFrame by correlation values in descending order\n",
        "correlation_df = correlation_df.sort_values(by='abs_correlation', ascending=False)"
      ]
    },
    {
      "cell_type": "code",
      "execution_count": 89,
      "metadata": {
        "id": "1NxnYZFqX-8q"
      },
      "outputs": [],
      "source": [
        "X_train = df.drop('fraudulent',axis = 1)[correlation_df[0:200]['Feature'].tolist()]\n",
        "y_train = df[['fraudulent']]\n",
        "X_test = test.drop('fraudulent',axis = 1)[correlation_df[0:200]['Feature'].tolist()]\n",
        "y_test = test[['fraudulent']]"
      ]
    },
    {
      "cell_type": "markdown",
      "metadata": {
        "id": "llvZfgIvRfvO"
      },
      "source": [
        "<h1>Random Forest"
      ]
    },
    {
      "cell_type": "code",
      "execution_count": 90,
      "metadata": {
        "colab": {
          "base_uri": "https://localhost:8080/"
        },
        "id": "NCaFE6IKRccB",
        "outputId": "78d41cb7-0141-4b75-f4a2-834ca5e3f3c9"
      },
      "outputs": [
        {
          "name": "stdout",
          "output_type": "stream",
          "text": [
            "Fitting 5 folds for each of 50 candidates, totalling 250 fits\n"
          ]
        },
        {
          "name": "stderr",
          "output_type": "stream",
          "text": [
            "/Users/zhongyitong/Library/Python/3.11/lib/python/site-packages/sklearn/base.py:1152: DataConversionWarning: A column-vector y was passed when a 1d array was expected. Please change the shape of y to (n_samples,), for example using ravel().\n",
            "  return fit_method(estimator, *args, **kwargs)\n",
            "/Users/zhongyitong/Library/Python/3.11/lib/python/site-packages/sklearn/base.py:1152: DataConversionWarning: A column-vector y was passed when a 1d array was expected. Please change the shape of y to (n_samples,), for example using ravel().\n",
            "  return fit_method(estimator, *args, **kwargs)\n",
            "/Users/zhongyitong/Library/Python/3.11/lib/python/site-packages/sklearn/base.py:1152: DataConversionWarning: A column-vector y was passed when a 1d array was expected. Please change the shape of y to (n_samples,), for example using ravel().\n",
            "  return fit_method(estimator, *args, **kwargs)\n",
            "/Users/zhongyitong/Library/Python/3.11/lib/python/site-packages/sklearn/base.py:1152: DataConversionWarning: A column-vector y was passed when a 1d array was expected. Please change the shape of y to (n_samples,), for example using ravel().\n",
            "  return fit_method(estimator, *args, **kwargs)\n",
            "/Users/zhongyitong/Library/Python/3.11/lib/python/site-packages/sklearn/base.py:1152: DataConversionWarning: A column-vector y was passed when a 1d array was expected. Please change the shape of y to (n_samples,), for example using ravel().\n",
            "  return fit_method(estimator, *args, **kwargs)\n",
            "/Users/zhongyitong/Library/Python/3.11/lib/python/site-packages/sklearn/base.py:1152: DataConversionWarning: A column-vector y was passed when a 1d array was expected. Please change the shape of y to (n_samples,), for example using ravel().\n",
            "  return fit_method(estimator, *args, **kwargs)\n",
            "/Users/zhongyitong/Library/Python/3.11/lib/python/site-packages/sklearn/base.py:1152: DataConversionWarning: A column-vector y was passed when a 1d array was expected. Please change the shape of y to (n_samples,), for example using ravel().\n",
            "  return fit_method(estimator, *args, **kwargs)\n",
            "/Users/zhongyitong/Library/Python/3.11/lib/python/site-packages/sklearn/base.py:1152: DataConversionWarning: A column-vector y was passed when a 1d array was expected. Please change the shape of y to (n_samples,), for example using ravel().\n",
            "  return fit_method(estimator, *args, **kwargs)\n",
            "/Users/zhongyitong/Library/Python/3.11/lib/python/site-packages/sklearn/base.py:1152: DataConversionWarning: A column-vector y was passed when a 1d array was expected. Please change the shape of y to (n_samples,), for example using ravel().\n",
            "  return fit_method(estimator, *args, **kwargs)\n",
            "/Users/zhongyitong/Library/Python/3.11/lib/python/site-packages/sklearn/base.py:1152: DataConversionWarning: A column-vector y was passed when a 1d array was expected. Please change the shape of y to (n_samples,), for example using ravel().\n",
            "  return fit_method(estimator, *args, **kwargs)\n"
          ]
        },
        {
          "name": "stdout",
          "output_type": "stream",
          "text": [
            "[CV] END class_weight={0: 1, 1: 1000000}, max_depth=40, min_samples_leaf=3, min_samples_split=7, n_estimators=207; total time=  37.9s\n"
          ]
        },
        {
          "name": "stderr",
          "output_type": "stream",
          "text": [
            "/Users/zhongyitong/Library/Python/3.11/lib/python/site-packages/sklearn/base.py:1152: DataConversionWarning: A column-vector y was passed when a 1d array was expected. Please change the shape of y to (n_samples,), for example using ravel().\n",
            "  return fit_method(estimator, *args, **kwargs)\n"
          ]
        },
        {
          "name": "stdout",
          "output_type": "stream",
          "text": [
            "[CV] END class_weight={0: 1, 1: 1000000}, max_depth=40, min_samples_leaf=3, min_samples_split=7, n_estimators=207; total time=  38.8s\n"
          ]
        },
        {
          "name": "stderr",
          "output_type": "stream",
          "text": [
            "/Users/zhongyitong/Library/Python/3.11/lib/python/site-packages/sklearn/base.py:1152: DataConversionWarning: A column-vector y was passed when a 1d array was expected. Please change the shape of y to (n_samples,), for example using ravel().\n",
            "  return fit_method(estimator, *args, **kwargs)\n"
          ]
        },
        {
          "name": "stdout",
          "output_type": "stream",
          "text": [
            "[CV] END class_weight={0: 1, 1: 1000000}, max_depth=40, min_samples_leaf=3, min_samples_split=7, n_estimators=207; total time=  39.0s\n"
          ]
        },
        {
          "name": "stderr",
          "output_type": "stream",
          "text": [
            "/Users/zhongyitong/Library/Python/3.11/lib/python/site-packages/sklearn/base.py:1152: DataConversionWarning: A column-vector y was passed when a 1d array was expected. Please change the shape of y to (n_samples,), for example using ravel().\n",
            "  return fit_method(estimator, *args, **kwargs)\n"
          ]
        },
        {
          "name": "stdout",
          "output_type": "stream",
          "text": [
            "[CV] END class_weight={0: 1, 1: 1000000}, max_depth=40, min_samples_leaf=3, min_samples_split=7, n_estimators=207; total time=  39.4s\n",
            "[CV] END class_weight={0: 1, 1: 1000000}, max_depth=40, min_samples_leaf=3, min_samples_split=7, n_estimators=207; total time=  39.5s\n"
          ]
        },
        {
          "name": "stderr",
          "output_type": "stream",
          "text": [
            "/Users/zhongyitong/Library/Python/3.11/lib/python/site-packages/sklearn/base.py:1152: DataConversionWarning: A column-vector y was passed when a 1d array was expected. Please change the shape of y to (n_samples,), for example using ravel().\n",
            "  return fit_method(estimator, *args, **kwargs)\n",
            "/Users/zhongyitong/Library/Python/3.11/lib/python/site-packages/sklearn/base.py:1152: DataConversionWarning: A column-vector y was passed when a 1d array was expected. Please change the shape of y to (n_samples,), for example using ravel().\n",
            "  return fit_method(estimator, *args, **kwargs)\n"
          ]
        },
        {
          "name": "stdout",
          "output_type": "stream",
          "text": [
            "[CV] END class_weight={0: 1, 1: 100}, max_depth=20, min_samples_leaf=3, min_samples_split=2, n_estimators=405; total time=  27.9s\n"
          ]
        },
        {
          "name": "stderr",
          "output_type": "stream",
          "text": [
            "/Users/zhongyitong/Library/Python/3.11/lib/python/site-packages/sklearn/base.py:1152: DataConversionWarning: A column-vector y was passed when a 1d array was expected. Please change the shape of y to (n_samples,), for example using ravel().\n",
            "  return fit_method(estimator, *args, **kwargs)\n"
          ]
        },
        {
          "name": "stdout",
          "output_type": "stream",
          "text": [
            "[CV] END class_weight={0: 1, 1: 100}, max_depth=20, min_samples_leaf=3, min_samples_split=2, n_estimators=405; total time=  28.0s\n",
            "[CV] END class_weight={0: 1, 1: 100}, max_depth=20, min_samples_leaf=3, min_samples_split=2, n_estimators=405; total time=  27.8s\n"
          ]
        },
        {
          "name": "stderr",
          "output_type": "stream",
          "text": [
            "/Users/zhongyitong/Library/Python/3.11/lib/python/site-packages/sklearn/base.py:1152: DataConversionWarning: A column-vector y was passed when a 1d array was expected. Please change the shape of y to (n_samples,), for example using ravel().\n",
            "  return fit_method(estimator, *args, **kwargs)\n",
            "/Users/zhongyitong/Library/Python/3.11/lib/python/site-packages/sklearn/base.py:1152: DataConversionWarning: A column-vector y was passed when a 1d array was expected. Please change the shape of y to (n_samples,), for example using ravel().\n",
            "  return fit_method(estimator, *args, **kwargs)\n"
          ]
        },
        {
          "name": "stdout",
          "output_type": "stream",
          "text": [
            "[CV] END class_weight={0: 1, 1: 100}, max_depth=20, min_samples_leaf=3, min_samples_split=2, n_estimators=405; total time=  28.1s\n",
            "[CV] END class_weight={0: 1, 1: 100}, max_depth=20, min_samples_leaf=3, min_samples_split=2, n_estimators=405; total time=  28.2s\n"
          ]
        },
        {
          "name": "stderr",
          "output_type": "stream",
          "text": [
            "/Users/zhongyitong/Library/Python/3.11/lib/python/site-packages/sklearn/base.py:1152: DataConversionWarning: A column-vector y was passed when a 1d array was expected. Please change the shape of y to (n_samples,), for example using ravel().\n",
            "  return fit_method(estimator, *args, **kwargs)\n",
            "/Users/zhongyitong/Library/Python/3.11/lib/python/site-packages/sklearn/base.py:1152: DataConversionWarning: A column-vector y was passed when a 1d array was expected. Please change the shape of y to (n_samples,), for example using ravel().\n",
            "  return fit_method(estimator, *args, **kwargs)\n"
          ]
        },
        {
          "name": "stdout",
          "output_type": "stream",
          "text": [
            "[CV] END class_weight={0: 1, 1: 1000}, max_depth=100, min_samples_leaf=1, min_samples_split=2, n_estimators=602; total time= 1.6min\n"
          ]
        },
        {
          "name": "stderr",
          "output_type": "stream",
          "text": [
            "/Users/zhongyitong/Library/Python/3.11/lib/python/site-packages/sklearn/base.py:1152: DataConversionWarning: A column-vector y was passed when a 1d array was expected. Please change the shape of y to (n_samples,), for example using ravel().\n",
            "  return fit_method(estimator, *args, **kwargs)\n"
          ]
        },
        {
          "name": "stdout",
          "output_type": "stream",
          "text": [
            "[CV] END class_weight={0: 1, 1: 1000}, max_depth=100, min_samples_leaf=1, min_samples_split=2, n_estimators=602; total time= 1.7min\n"
          ]
        },
        {
          "name": "stderr",
          "output_type": "stream",
          "text": [
            "/Users/zhongyitong/Library/Python/3.11/lib/python/site-packages/sklearn/base.py:1152: DataConversionWarning: A column-vector y was passed when a 1d array was expected. Please change the shape of y to (n_samples,), for example using ravel().\n",
            "  return fit_method(estimator, *args, **kwargs)\n"
          ]
        },
        {
          "name": "stdout",
          "output_type": "stream",
          "text": [
            "[CV] END class_weight={0: 1, 1: 1000}, max_depth=100, min_samples_leaf=1, min_samples_split=2, n_estimators=602; total time= 1.7min\n"
          ]
        },
        {
          "name": "stderr",
          "output_type": "stream",
          "text": [
            "/Users/zhongyitong/Library/Python/3.11/lib/python/site-packages/sklearn/base.py:1152: DataConversionWarning: A column-vector y was passed when a 1d array was expected. Please change the shape of y to (n_samples,), for example using ravel().\n",
            "  return fit_method(estimator, *args, **kwargs)\n"
          ]
        },
        {
          "name": "stdout",
          "output_type": "stream",
          "text": [
            "[CV] END class_weight={0: 1, 1: 1000}, max_depth=100, min_samples_leaf=1, min_samples_split=2, n_estimators=602; total time= 1.8min\n"
          ]
        },
        {
          "name": "stderr",
          "output_type": "stream",
          "text": [
            "/Users/zhongyitong/Library/Python/3.11/lib/python/site-packages/sklearn/base.py:1152: DataConversionWarning: A column-vector y was passed when a 1d array was expected. Please change the shape of y to (n_samples,), for example using ravel().\n",
            "  return fit_method(estimator, *args, **kwargs)\n"
          ]
        },
        {
          "name": "stdout",
          "output_type": "stream",
          "text": [
            "[CV] END class_weight={0: 1, 1: 1000}, max_depth=100, min_samples_leaf=1, min_samples_split=2, n_estimators=602; total time= 1.8min\n"
          ]
        },
        {
          "name": "stderr",
          "output_type": "stream",
          "text": [
            "/Users/zhongyitong/Library/Python/3.11/lib/python/site-packages/sklearn/base.py:1152: DataConversionWarning: A column-vector y was passed when a 1d array was expected. Please change the shape of y to (n_samples,), for example using ravel().\n",
            "  return fit_method(estimator, *args, **kwargs)\n"
          ]
        },
        {
          "name": "stdout",
          "output_type": "stream",
          "text": [
            "[CV] END class_weight={0: 1, 1: 100}, max_depth=50, min_samples_leaf=1, min_samples_split=7, n_estimators=207; total time=  15.4s\n"
          ]
        },
        {
          "name": "stderr",
          "output_type": "stream",
          "text": [
            "/Users/zhongyitong/Library/Python/3.11/lib/python/site-packages/sklearn/base.py:1152: DataConversionWarning: A column-vector y was passed when a 1d array was expected. Please change the shape of y to (n_samples,), for example using ravel().\n",
            "  return fit_method(estimator, *args, **kwargs)\n"
          ]
        },
        {
          "name": "stdout",
          "output_type": "stream",
          "text": [
            "[CV] END class_weight={0: 1, 1: 100}, max_depth=50, min_samples_leaf=1, min_samples_split=7, n_estimators=207; total time=  13.1s\n",
            "[CV] END class_weight={0: 1, 1: 100}, max_depth=50, min_samples_leaf=1, min_samples_split=7, n_estimators=207; total time=  18.0s\n"
          ]
        },
        {
          "name": "stderr",
          "output_type": "stream",
          "text": [
            "/Users/zhongyitong/Library/Python/3.11/lib/python/site-packages/sklearn/base.py:1152: DataConversionWarning: A column-vector y was passed when a 1d array was expected. Please change the shape of y to (n_samples,), for example using ravel().\n",
            "  return fit_method(estimator, *args, **kwargs)\n",
            "/Users/zhongyitong/Library/Python/3.11/lib/python/site-packages/sklearn/base.py:1152: DataConversionWarning: A column-vector y was passed when a 1d array was expected. Please change the shape of y to (n_samples,), for example using ravel().\n",
            "  return fit_method(estimator, *args, **kwargs)\n"
          ]
        },
        {
          "name": "stdout",
          "output_type": "stream",
          "text": [
            "[CV] END class_weight={0: 1, 1: 100}, max_depth=50, min_samples_leaf=1, min_samples_split=7, n_estimators=207; total time=  18.7s\n"
          ]
        },
        {
          "name": "stderr",
          "output_type": "stream",
          "text": [
            "/Users/zhongyitong/Library/Python/3.11/lib/python/site-packages/sklearn/base.py:1152: DataConversionWarning: A column-vector y was passed when a 1d array was expected. Please change the shape of y to (n_samples,), for example using ravel().\n",
            "  return fit_method(estimator, *args, **kwargs)\n"
          ]
        },
        {
          "name": "stdout",
          "output_type": "stream",
          "text": [
            "[CV] END class_weight={0: 1, 1: 100}, max_depth=50, min_samples_leaf=1, min_samples_split=7, n_estimators=207; total time=  18.6s\n"
          ]
        },
        {
          "name": "stderr",
          "output_type": "stream",
          "text": [
            "/Users/zhongyitong/Library/Python/3.11/lib/python/site-packages/sklearn/base.py:1152: DataConversionWarning: A column-vector y was passed when a 1d array was expected. Please change the shape of y to (n_samples,), for example using ravel().\n",
            "  return fit_method(estimator, *args, **kwargs)\n"
          ]
        },
        {
          "name": "stdout",
          "output_type": "stream",
          "text": [
            "[CV] END class_weight={0: 1, 1: 1000}, max_depth=90, min_samples_leaf=3, min_samples_split=2, n_estimators=405; total time=  37.6s\n"
          ]
        },
        {
          "name": "stderr",
          "output_type": "stream",
          "text": [
            "/Users/zhongyitong/Library/Python/3.11/lib/python/site-packages/sklearn/base.py:1152: DataConversionWarning: A column-vector y was passed when a 1d array was expected. Please change the shape of y to (n_samples,), for example using ravel().\n",
            "  return fit_method(estimator, *args, **kwargs)\n"
          ]
        },
        {
          "name": "stdout",
          "output_type": "stream",
          "text": [
            "[CV] END class_weight={0: 1, 1: 1000}, max_depth=90, min_samples_leaf=3, min_samples_split=2, n_estimators=405; total time=  44.4s\n"
          ]
        },
        {
          "name": "stderr",
          "output_type": "stream",
          "text": [
            "/Users/zhongyitong/Library/Python/3.11/lib/python/site-packages/sklearn/base.py:1152: DataConversionWarning: A column-vector y was passed when a 1d array was expected. Please change the shape of y to (n_samples,), for example using ravel().\n",
            "  return fit_method(estimator, *args, **kwargs)\n"
          ]
        },
        {
          "name": "stdout",
          "output_type": "stream",
          "text": [
            "[CV] END class_weight={0: 1, 1: 1000}, max_depth=100, min_samples_leaf=3, min_samples_split=7, n_estimators=800; total time= 1.7min\n"
          ]
        },
        {
          "name": "stderr",
          "output_type": "stream",
          "text": [
            "/Users/zhongyitong/Library/Python/3.11/lib/python/site-packages/sklearn/base.py:1152: DataConversionWarning: A column-vector y was passed when a 1d array was expected. Please change the shape of y to (n_samples,), for example using ravel().\n",
            "  return fit_method(estimator, *args, **kwargs)\n"
          ]
        },
        {
          "name": "stdout",
          "output_type": "stream",
          "text": [
            "[CV] END class_weight={0: 1, 1: 1000}, max_depth=90, min_samples_leaf=3, min_samples_split=2, n_estimators=405; total time=  59.6s\n"
          ]
        },
        {
          "name": "stderr",
          "output_type": "stream",
          "text": [
            "/Users/zhongyitong/Library/Python/3.11/lib/python/site-packages/sklearn/base.py:1152: DataConversionWarning: A column-vector y was passed when a 1d array was expected. Please change the shape of y to (n_samples,), for example using ravel().\n",
            "  return fit_method(estimator, *args, **kwargs)\n"
          ]
        },
        {
          "name": "stdout",
          "output_type": "stream",
          "text": [
            "[CV] END class_weight={0: 1, 1: 1000}, max_depth=100, min_samples_leaf=3, min_samples_split=7, n_estimators=800; total time= 1.9min\n"
          ]
        },
        {
          "name": "stderr",
          "output_type": "stream",
          "text": [
            "/Users/zhongyitong/Library/Python/3.11/lib/python/site-packages/sklearn/base.py:1152: DataConversionWarning: A column-vector y was passed when a 1d array was expected. Please change the shape of y to (n_samples,), for example using ravel().\n",
            "  return fit_method(estimator, *args, **kwargs)\n"
          ]
        },
        {
          "name": "stdout",
          "output_type": "stream",
          "text": [
            "[CV] END class_weight={0: 1, 1: 100}, max_depth=30, min_samples_leaf=3, min_samples_split=2, n_estimators=602; total time=  32.6s\n"
          ]
        },
        {
          "name": "stderr",
          "output_type": "stream",
          "text": [
            "/Users/zhongyitong/Library/Python/3.11/lib/python/site-packages/sklearn/base.py:1152: DataConversionWarning: A column-vector y was passed when a 1d array was expected. Please change the shape of y to (n_samples,), for example using ravel().\n",
            "  return fit_method(estimator, *args, **kwargs)\n"
          ]
        },
        {
          "name": "stdout",
          "output_type": "stream",
          "text": [
            "[CV] END class_weight={0: 1, 1: 1000}, max_depth=100, min_samples_leaf=3, min_samples_split=7, n_estimators=800; total time= 1.9min\n"
          ]
        },
        {
          "name": "stderr",
          "output_type": "stream",
          "text": [
            "/Users/zhongyitong/Library/Python/3.11/lib/python/site-packages/sklearn/base.py:1152: DataConversionWarning: A column-vector y was passed when a 1d array was expected. Please change the shape of y to (n_samples,), for example using ravel().\n",
            "  return fit_method(estimator, *args, **kwargs)\n"
          ]
        },
        {
          "name": "stdout",
          "output_type": "stream",
          "text": [
            "[CV] END class_weight={0: 1, 1: 1000}, max_depth=90, min_samples_leaf=3, min_samples_split=2, n_estimators=405; total time= 1.1min\n"
          ]
        },
        {
          "name": "stderr",
          "output_type": "stream",
          "text": [
            "/Users/zhongyitong/Library/Python/3.11/lib/python/site-packages/sklearn/base.py:1152: DataConversionWarning: A column-vector y was passed when a 1d array was expected. Please change the shape of y to (n_samples,), for example using ravel().\n",
            "  return fit_method(estimator, *args, **kwargs)\n"
          ]
        },
        {
          "name": "stdout",
          "output_type": "stream",
          "text": [
            "[CV] END class_weight={0: 1, 1: 1000}, max_depth=90, min_samples_leaf=3, min_samples_split=2, n_estimators=405; total time=  59.6s\n"
          ]
        },
        {
          "name": "stderr",
          "output_type": "stream",
          "text": [
            "/Users/zhongyitong/Library/Python/3.11/lib/python/site-packages/sklearn/base.py:1152: DataConversionWarning: A column-vector y was passed when a 1d array was expected. Please change the shape of y to (n_samples,), for example using ravel().\n",
            "  return fit_method(estimator, *args, **kwargs)\n",
            "/Users/zhongyitong/Library/Python/3.11/lib/python/site-packages/sklearn/base.py:1152: DataConversionWarning: A column-vector y was passed when a 1d array was expected. Please change the shape of y to (n_samples,), for example using ravel().\n",
            "  return fit_method(estimator, *args, **kwargs)\n"
          ]
        },
        {
          "name": "stdout",
          "output_type": "stream",
          "text": [
            "[CV] END class_weight={0: 1, 1: 1000}, max_depth=100, min_samples_leaf=3, min_samples_split=7, n_estimators=800; total time= 2.0min\n",
            "[CV] END class_weight={0: 1, 1: 1000}, max_depth=100, min_samples_leaf=3, min_samples_split=7, n_estimators=800; total time= 2.1min\n"
          ]
        },
        {
          "name": "stderr",
          "output_type": "stream",
          "text": [
            "/Users/zhongyitong/Library/Python/3.11/lib/python/site-packages/sklearn/base.py:1152: DataConversionWarning: A column-vector y was passed when a 1d array was expected. Please change the shape of y to (n_samples,), for example using ravel().\n",
            "  return fit_method(estimator, *args, **kwargs)\n"
          ]
        },
        {
          "name": "stdout",
          "output_type": "stream",
          "text": [
            "[CV] END class_weight={0: 1, 1: 100}, max_depth=30, min_samples_leaf=3, min_samples_split=2, n_estimators=602; total time=  40.1s\n"
          ]
        },
        {
          "name": "stderr",
          "output_type": "stream",
          "text": [
            "/Users/zhongyitong/Library/Python/3.11/lib/python/site-packages/sklearn/base.py:1152: DataConversionWarning: A column-vector y was passed when a 1d array was expected. Please change the shape of y to (n_samples,), for example using ravel().\n",
            "  return fit_method(estimator, *args, **kwargs)\n"
          ]
        },
        {
          "name": "stdout",
          "output_type": "stream",
          "text": [
            "[CV] END class_weight={0: 1, 1: 100}, max_depth=30, min_samples_leaf=3, min_samples_split=2, n_estimators=602; total time=  40.5s\n"
          ]
        },
        {
          "name": "stderr",
          "output_type": "stream",
          "text": [
            "/Users/zhongyitong/Library/Python/3.11/lib/python/site-packages/sklearn/base.py:1152: DataConversionWarning: A column-vector y was passed when a 1d array was expected. Please change the shape of y to (n_samples,), for example using ravel().\n",
            "  return fit_method(estimator, *args, **kwargs)\n"
          ]
        },
        {
          "name": "stdout",
          "output_type": "stream",
          "text": [
            "[CV] END class_weight={0: 1, 1: 100}, max_depth=60, min_samples_leaf=1, min_samples_split=2, n_estimators=405; total time=  31.6s\n"
          ]
        },
        {
          "name": "stderr",
          "output_type": "stream",
          "text": [
            "/Users/zhongyitong/Library/Python/3.11/lib/python/site-packages/sklearn/base.py:1152: DataConversionWarning: A column-vector y was passed when a 1d array was expected. Please change the shape of y to (n_samples,), for example using ravel().\n",
            "  return fit_method(estimator, *args, **kwargs)\n"
          ]
        },
        {
          "name": "stdout",
          "output_type": "stream",
          "text": [
            "[CV] END class_weight={0: 1, 1: 100}, max_depth=60, min_samples_leaf=1, min_samples_split=2, n_estimators=405; total time=  32.6s\n"
          ]
        },
        {
          "name": "stderr",
          "output_type": "stream",
          "text": [
            "/Users/zhongyitong/Library/Python/3.11/lib/python/site-packages/sklearn/base.py:1152: DataConversionWarning: A column-vector y was passed when a 1d array was expected. Please change the shape of y to (n_samples,), for example using ravel().\n",
            "  return fit_method(estimator, *args, **kwargs)\n"
          ]
        },
        {
          "name": "stdout",
          "output_type": "stream",
          "text": [
            "[CV] END class_weight={0: 1, 1: 100}, max_depth=60, min_samples_leaf=1, min_samples_split=2, n_estimators=405; total time=  31.8s\n"
          ]
        },
        {
          "name": "stderr",
          "output_type": "stream",
          "text": [
            "/Users/zhongyitong/Library/Python/3.11/lib/python/site-packages/sklearn/base.py:1152: DataConversionWarning: A column-vector y was passed when a 1d array was expected. Please change the shape of y to (n_samples,), for example using ravel().\n",
            "  return fit_method(estimator, *args, **kwargs)\n"
          ]
        },
        {
          "name": "stdout",
          "output_type": "stream",
          "text": [
            "[CV] END class_weight={0: 1, 1: 100}, max_depth=60, min_samples_leaf=1, min_samples_split=2, n_estimators=405; total time=  32.3s\n"
          ]
        },
        {
          "name": "stderr",
          "output_type": "stream",
          "text": [
            "/Users/zhongyitong/Library/Python/3.11/lib/python/site-packages/sklearn/base.py:1152: DataConversionWarning: A column-vector y was passed when a 1d array was expected. Please change the shape of y to (n_samples,), for example using ravel().\n",
            "  return fit_method(estimator, *args, **kwargs)\n"
          ]
        },
        {
          "name": "stdout",
          "output_type": "stream",
          "text": [
            "[CV] END class_weight={0: 1, 1: 100}, max_depth=30, min_samples_leaf=3, min_samples_split=2, n_estimators=602; total time=  39.7s\n",
            "[CV] END class_weight={0: 1, 1: 1000}, max_depth=80, min_samples_leaf=1, min_samples_split=2, n_estimators=207; total time=  26.3s\n"
          ]
        },
        {
          "name": "stderr",
          "output_type": "stream",
          "text": [
            "/Users/zhongyitong/Library/Python/3.11/lib/python/site-packages/sklearn/base.py:1152: DataConversionWarning: A column-vector y was passed when a 1d array was expected. Please change the shape of y to (n_samples,), for example using ravel().\n",
            "  return fit_method(estimator, *args, **kwargs)\n",
            "/Users/zhongyitong/Library/Python/3.11/lib/python/site-packages/sklearn/base.py:1152: DataConversionWarning: A column-vector y was passed when a 1d array was expected. Please change the shape of y to (n_samples,), for example using ravel().\n",
            "  return fit_method(estimator, *args, **kwargs)\n"
          ]
        },
        {
          "name": "stdout",
          "output_type": "stream",
          "text": [
            "[CV] END class_weight={0: 1, 1: 100}, max_depth=30, min_samples_leaf=3, min_samples_split=2, n_estimators=602; total time=  48.2s\n"
          ]
        },
        {
          "name": "stderr",
          "output_type": "stream",
          "text": [
            "/Users/zhongyitong/Library/Python/3.11/lib/python/site-packages/sklearn/base.py:1152: DataConversionWarning: A column-vector y was passed when a 1d array was expected. Please change the shape of y to (n_samples,), for example using ravel().\n",
            "  return fit_method(estimator, *args, **kwargs)\n"
          ]
        },
        {
          "name": "stdout",
          "output_type": "stream",
          "text": [
            "[CV] END class_weight={0: 1, 1: 1000}, max_depth=80, min_samples_leaf=1, min_samples_split=2, n_estimators=207; total time=  27.5s\n"
          ]
        },
        {
          "name": "stderr",
          "output_type": "stream",
          "text": [
            "/Users/zhongyitong/Library/Python/3.11/lib/python/site-packages/sklearn/base.py:1152: DataConversionWarning: A column-vector y was passed when a 1d array was expected. Please change the shape of y to (n_samples,), for example using ravel().\n",
            "  return fit_method(estimator, *args, **kwargs)\n"
          ]
        },
        {
          "name": "stdout",
          "output_type": "stream",
          "text": [
            "[CV] END class_weight={0: 1, 1: 100}, max_depth=60, min_samples_leaf=1, min_samples_split=2, n_estimators=405; total time=  51.8s\n"
          ]
        },
        {
          "name": "stderr",
          "output_type": "stream",
          "text": [
            "/Users/zhongyitong/Library/Python/3.11/lib/python/site-packages/sklearn/base.py:1152: DataConversionWarning: A column-vector y was passed when a 1d array was expected. Please change the shape of y to (n_samples,), for example using ravel().\n",
            "  return fit_method(estimator, *args, **kwargs)\n"
          ]
        },
        {
          "name": "stdout",
          "output_type": "stream",
          "text": [
            "[CV] END class_weight={0: 1, 1: 1000}, max_depth=80, min_samples_leaf=1, min_samples_split=2, n_estimators=207; total time=  27.3s\n"
          ]
        },
        {
          "name": "stderr",
          "output_type": "stream",
          "text": [
            "/Users/zhongyitong/Library/Python/3.11/lib/python/site-packages/sklearn/base.py:1152: DataConversionWarning: A column-vector y was passed when a 1d array was expected. Please change the shape of y to (n_samples,), for example using ravel().\n",
            "  return fit_method(estimator, *args, **kwargs)\n"
          ]
        },
        {
          "name": "stdout",
          "output_type": "stream",
          "text": [
            "[CV] END class_weight={0: 1, 1: 1000}, max_depth=80, min_samples_leaf=1, min_samples_split=2, n_estimators=207; total time=  29.3s\n"
          ]
        },
        {
          "name": "stderr",
          "output_type": "stream",
          "text": [
            "/Users/zhongyitong/Library/Python/3.11/lib/python/site-packages/sklearn/base.py:1152: DataConversionWarning: A column-vector y was passed when a 1d array was expected. Please change the shape of y to (n_samples,), for example using ravel().\n",
            "  return fit_method(estimator, *args, **kwargs)\n"
          ]
        },
        {
          "name": "stdout",
          "output_type": "stream",
          "text": [
            "[CV] END class_weight={0: 1, 1: 100}, max_depth=40, min_samples_leaf=3, min_samples_split=2, n_estimators=602; total time=  39.0s\n"
          ]
        },
        {
          "name": "stderr",
          "output_type": "stream",
          "text": [
            "/Users/zhongyitong/Library/Python/3.11/lib/python/site-packages/sklearn/base.py:1152: DataConversionWarning: A column-vector y was passed when a 1d array was expected. Please change the shape of y to (n_samples,), for example using ravel().\n",
            "  return fit_method(estimator, *args, **kwargs)\n"
          ]
        },
        {
          "name": "stdout",
          "output_type": "stream",
          "text": [
            "[CV] END class_weight={0: 1, 1: 100}, max_depth=40, min_samples_leaf=3, min_samples_split=2, n_estimators=602; total time=  39.2s\n"
          ]
        },
        {
          "name": "stderr",
          "output_type": "stream",
          "text": [
            "/Users/zhongyitong/Library/Python/3.11/lib/python/site-packages/sklearn/base.py:1152: DataConversionWarning: A column-vector y was passed when a 1d array was expected. Please change the shape of y to (n_samples,), for example using ravel().\n",
            "  return fit_method(estimator, *args, **kwargs)\n"
          ]
        },
        {
          "name": "stdout",
          "output_type": "stream",
          "text": [
            "[CV] END class_weight={0: 1, 1: 100}, max_depth=40, min_samples_leaf=3, min_samples_split=2, n_estimators=602; total time=  40.5s\n",
            "[CV] END class_weight={0: 1, 1: 100}, max_depth=40, min_samples_leaf=3, min_samples_split=2, n_estimators=602; total time=  40.5s\n"
          ]
        },
        {
          "name": "stderr",
          "output_type": "stream",
          "text": [
            "/Users/zhongyitong/Library/Python/3.11/lib/python/site-packages/sklearn/base.py:1152: DataConversionWarning: A column-vector y was passed when a 1d array was expected. Please change the shape of y to (n_samples,), for example using ravel().\n",
            "  return fit_method(estimator, *args, **kwargs)\n",
            "/Users/zhongyitong/Library/Python/3.11/lib/python/site-packages/sklearn/base.py:1152: DataConversionWarning: A column-vector y was passed when a 1d array was expected. Please change the shape of y to (n_samples,), for example using ravel().\n",
            "  return fit_method(estimator, *args, **kwargs)\n"
          ]
        },
        {
          "name": "stdout",
          "output_type": "stream",
          "text": [
            "[CV] END class_weight={0: 1, 1: 1000}, max_depth=80, min_samples_leaf=1, min_samples_split=2, n_estimators=207; total time=  48.6s\n"
          ]
        },
        {
          "name": "stderr",
          "output_type": "stream",
          "text": [
            "/Users/zhongyitong/Library/Python/3.11/lib/python/site-packages/sklearn/base.py:1152: DataConversionWarning: A column-vector y was passed when a 1d array was expected. Please change the shape of y to (n_samples,), for example using ravel().\n",
            "  return fit_method(estimator, *args, **kwargs)\n"
          ]
        },
        {
          "name": "stdout",
          "output_type": "stream",
          "text": [
            "[CV] END class_weight={0: 1, 1: 100}, max_depth=40, min_samples_leaf=3, min_samples_split=2, n_estimators=602; total time=  41.0s\n"
          ]
        },
        {
          "name": "stderr",
          "output_type": "stream",
          "text": [
            "/Users/zhongyitong/Library/Python/3.11/lib/python/site-packages/sklearn/base.py:1152: DataConversionWarning: A column-vector y was passed when a 1d array was expected. Please change the shape of y to (n_samples,), for example using ravel().\n",
            "  return fit_method(estimator, *args, **kwargs)\n"
          ]
        },
        {
          "name": "stdout",
          "output_type": "stream",
          "text": [
            "[CV] END class_weight={0: 1, 1: 10000}, max_depth=90, min_samples_leaf=3, min_samples_split=7, n_estimators=207; total time=  52.4s\n"
          ]
        },
        {
          "name": "stderr",
          "output_type": "stream",
          "text": [
            "/Users/zhongyitong/Library/Python/3.11/lib/python/site-packages/sklearn/base.py:1152: DataConversionWarning: A column-vector y was passed when a 1d array was expected. Please change the shape of y to (n_samples,), for example using ravel().\n",
            "  return fit_method(estimator, *args, **kwargs)\n"
          ]
        },
        {
          "name": "stdout",
          "output_type": "stream",
          "text": [
            "[CV] END class_weight={0: 1, 1: 10000}, max_depth=90, min_samples_leaf=3, min_samples_split=7, n_estimators=207; total time=  52.4s\n"
          ]
        },
        {
          "name": "stderr",
          "output_type": "stream",
          "text": [
            "/Users/zhongyitong/Library/Python/3.11/lib/python/site-packages/sklearn/base.py:1152: DataConversionWarning: A column-vector y was passed when a 1d array was expected. Please change the shape of y to (n_samples,), for example using ravel().\n",
            "  return fit_method(estimator, *args, **kwargs)\n"
          ]
        },
        {
          "name": "stdout",
          "output_type": "stream",
          "text": [
            "[CV] END class_weight={0: 1, 1: 10000}, max_depth=90, min_samples_leaf=3, min_samples_split=7, n_estimators=207; total time=  53.9s\n"
          ]
        },
        {
          "name": "stderr",
          "output_type": "stream",
          "text": [
            "/Users/zhongyitong/Library/Python/3.11/lib/python/site-packages/sklearn/base.py:1152: DataConversionWarning: A column-vector y was passed when a 1d array was expected. Please change the shape of y to (n_samples,), for example using ravel().\n",
            "  return fit_method(estimator, *args, **kwargs)\n"
          ]
        },
        {
          "name": "stdout",
          "output_type": "stream",
          "text": [
            "[CV] END class_weight={0: 1, 1: 10000}, max_depth=90, min_samples_leaf=3, min_samples_split=7, n_estimators=207; total time=  53.6s\n"
          ]
        },
        {
          "name": "stderr",
          "output_type": "stream",
          "text": [
            "/Users/zhongyitong/Library/Python/3.11/lib/python/site-packages/sklearn/base.py:1152: DataConversionWarning: A column-vector y was passed when a 1d array was expected. Please change the shape of y to (n_samples,), for example using ravel().\n",
            "  return fit_method(estimator, *args, **kwargs)\n"
          ]
        },
        {
          "name": "stdout",
          "output_type": "stream",
          "text": [
            "[CV] END class_weight={0: 1, 1: 1000000}, max_depth=50, min_samples_leaf=1, min_samples_split=2, n_estimators=207; total time=  37.8s\n"
          ]
        },
        {
          "name": "stderr",
          "output_type": "stream",
          "text": [
            "/Users/zhongyitong/Library/Python/3.11/lib/python/site-packages/sklearn/base.py:1152: DataConversionWarning: A column-vector y was passed when a 1d array was expected. Please change the shape of y to (n_samples,), for example using ravel().\n",
            "  return fit_method(estimator, *args, **kwargs)\n"
          ]
        },
        {
          "name": "stdout",
          "output_type": "stream",
          "text": [
            "[CV] END class_weight={0: 1, 1: 1000000}, max_depth=50, min_samples_leaf=1, min_samples_split=2, n_estimators=207; total time=  37.3s\n"
          ]
        },
        {
          "name": "stderr",
          "output_type": "stream",
          "text": [
            "/Users/zhongyitong/Library/Python/3.11/lib/python/site-packages/sklearn/base.py:1152: DataConversionWarning: A column-vector y was passed when a 1d array was expected. Please change the shape of y to (n_samples,), for example using ravel().\n",
            "  return fit_method(estimator, *args, **kwargs)\n"
          ]
        },
        {
          "name": "stdout",
          "output_type": "stream",
          "text": [
            "[CV] END class_weight={0: 1, 1: 1000000}, max_depth=50, min_samples_leaf=1, min_samples_split=2, n_estimators=207; total time=  39.1s\n"
          ]
        },
        {
          "name": "stderr",
          "output_type": "stream",
          "text": [
            "/Users/zhongyitong/Library/Python/3.11/lib/python/site-packages/sklearn/base.py:1152: DataConversionWarning: A column-vector y was passed when a 1d array was expected. Please change the shape of y to (n_samples,), for example using ravel().\n",
            "  return fit_method(estimator, *args, **kwargs)\n"
          ]
        },
        {
          "name": "stdout",
          "output_type": "stream",
          "text": [
            "[CV] END class_weight={0: 1, 1: 10000}, max_depth=90, min_samples_leaf=3, min_samples_split=7, n_estimators=207; total time= 1.5min\n"
          ]
        },
        {
          "name": "stderr",
          "output_type": "stream",
          "text": [
            "/Users/zhongyitong/Library/Python/3.11/lib/python/site-packages/sklearn/base.py:1152: DataConversionWarning: A column-vector y was passed when a 1d array was expected. Please change the shape of y to (n_samples,), for example using ravel().\n",
            "  return fit_method(estimator, *args, **kwargs)\n"
          ]
        },
        {
          "name": "stdout",
          "output_type": "stream",
          "text": [
            "[CV] END class_weight={0: 1, 1: 1000000}, max_depth=50, min_samples_leaf=1, min_samples_split=2, n_estimators=207; total time=  37.1s\n"
          ]
        },
        {
          "name": "stderr",
          "output_type": "stream",
          "text": [
            "/Users/zhongyitong/Library/Python/3.11/lib/python/site-packages/sklearn/base.py:1152: DataConversionWarning: A column-vector y was passed when a 1d array was expected. Please change the shape of y to (n_samples,), for example using ravel().\n",
            "  return fit_method(estimator, *args, **kwargs)\n"
          ]
        },
        {
          "name": "stdout",
          "output_type": "stream",
          "text": [
            "[CV] END class_weight={0: 1, 1: 1000000}, max_depth=50, min_samples_leaf=1, min_samples_split=2, n_estimators=207; total time=  37.6s\n"
          ]
        },
        {
          "name": "stderr",
          "output_type": "stream",
          "text": [
            "/Users/zhongyitong/Library/Python/3.11/lib/python/site-packages/sklearn/base.py:1152: DataConversionWarning: A column-vector y was passed when a 1d array was expected. Please change the shape of y to (n_samples,), for example using ravel().\n",
            "  return fit_method(estimator, *args, **kwargs)\n"
          ]
        },
        {
          "name": "stdout",
          "output_type": "stream",
          "text": [
            "[CV] END class_weight={0: 1, 1: 10}, max_depth=90, min_samples_leaf=3, min_samples_split=7, n_estimators=602; total time=  39.0s\n",
            "[CV] END class_weight={0: 1, 1: 10}, max_depth=90, min_samples_leaf=3, min_samples_split=7, n_estimators=602; total time=  39.6s\n"
          ]
        },
        {
          "name": "stderr",
          "output_type": "stream",
          "text": [
            "/Users/zhongyitong/Library/Python/3.11/lib/python/site-packages/sklearn/base.py:1152: DataConversionWarning: A column-vector y was passed when a 1d array was expected. Please change the shape of y to (n_samples,), for example using ravel().\n",
            "  return fit_method(estimator, *args, **kwargs)\n",
            "/Users/zhongyitong/Library/Python/3.11/lib/python/site-packages/sklearn/base.py:1152: DataConversionWarning: A column-vector y was passed when a 1d array was expected. Please change the shape of y to (n_samples,), for example using ravel().\n",
            "  return fit_method(estimator, *args, **kwargs)\n"
          ]
        },
        {
          "name": "stdout",
          "output_type": "stream",
          "text": [
            "[CV] END class_weight={0: 1, 1: 10}, max_depth=90, min_samples_leaf=3, min_samples_split=7, n_estimators=602; total time=  39.2s\n"
          ]
        },
        {
          "name": "stderr",
          "output_type": "stream",
          "text": [
            "/Users/zhongyitong/Library/Python/3.11/lib/python/site-packages/sklearn/base.py:1152: DataConversionWarning: A column-vector y was passed when a 1d array was expected. Please change the shape of y to (n_samples,), for example using ravel().\n",
            "  return fit_method(estimator, *args, **kwargs)\n"
          ]
        },
        {
          "name": "stdout",
          "output_type": "stream",
          "text": [
            "[CV] END class_weight={0: 1, 1: 1000000}, max_depth=100, min_samples_leaf=1, min_samples_split=2, n_estimators=602; total time= 3.1min\n"
          ]
        },
        {
          "name": "stderr",
          "output_type": "stream",
          "text": [
            "/Users/zhongyitong/Library/Python/3.11/lib/python/site-packages/sklearn/base.py:1152: DataConversionWarning: A column-vector y was passed when a 1d array was expected. Please change the shape of y to (n_samples,), for example using ravel().\n",
            "  return fit_method(estimator, *args, **kwargs)\n"
          ]
        },
        {
          "name": "stdout",
          "output_type": "stream",
          "text": [
            "[CV] END class_weight={0: 1, 1: 1000000}, max_depth=100, min_samples_leaf=1, min_samples_split=2, n_estimators=602; total time= 3.0min\n"
          ]
        },
        {
          "name": "stderr",
          "output_type": "stream",
          "text": [
            "/Users/zhongyitong/Library/Python/3.11/lib/python/site-packages/sklearn/base.py:1152: DataConversionWarning: A column-vector y was passed when a 1d array was expected. Please change the shape of y to (n_samples,), for example using ravel().\n",
            "  return fit_method(estimator, *args, **kwargs)\n"
          ]
        },
        {
          "name": "stdout",
          "output_type": "stream",
          "text": [
            "[CV] END class_weight={0: 1, 1: 1000000}, max_depth=100, min_samples_leaf=1, min_samples_split=2, n_estimators=602; total time= 2.9min\n"
          ]
        },
        {
          "name": "stderr",
          "output_type": "stream",
          "text": [
            "/Users/zhongyitong/Library/Python/3.11/lib/python/site-packages/sklearn/base.py:1152: DataConversionWarning: A column-vector y was passed when a 1d array was expected. Please change the shape of y to (n_samples,), for example using ravel().\n",
            "  return fit_method(estimator, *args, **kwargs)\n"
          ]
        },
        {
          "name": "stdout",
          "output_type": "stream",
          "text": [
            "[CV] END class_weight={0: 1, 1: 10}, max_depth=90, min_samples_leaf=3, min_samples_split=7, n_estimators=602; total time= 1.2min\n"
          ]
        },
        {
          "name": "stderr",
          "output_type": "stream",
          "text": [
            "/Users/zhongyitong/Library/Python/3.11/lib/python/site-packages/sklearn/base.py:1152: DataConversionWarning: A column-vector y was passed when a 1d array was expected. Please change the shape of y to (n_samples,), for example using ravel().\n",
            "  return fit_method(estimator, *args, **kwargs)\n"
          ]
        },
        {
          "name": "stdout",
          "output_type": "stream",
          "text": [
            "[CV] END class_weight={0: 1, 1: 10}, max_depth=90, min_samples_leaf=3, min_samples_split=7, n_estimators=602; total time=  39.8s\n"
          ]
        },
        {
          "name": "stderr",
          "output_type": "stream",
          "text": [
            "/Users/zhongyitong/Library/Python/3.11/lib/python/site-packages/sklearn/base.py:1152: DataConversionWarning: A column-vector y was passed when a 1d array was expected. Please change the shape of y to (n_samples,), for example using ravel().\n",
            "  return fit_method(estimator, *args, **kwargs)\n"
          ]
        },
        {
          "name": "stdout",
          "output_type": "stream",
          "text": [
            "[CV] END class_weight={0: 1, 1: 100000}, max_depth=90, min_samples_leaf=3, min_samples_split=7, n_estimators=10; total time=   3.0s\n"
          ]
        },
        {
          "name": "stderr",
          "output_type": "stream",
          "text": [
            "/Users/zhongyitong/Library/Python/3.11/lib/python/site-packages/sklearn/base.py:1152: DataConversionWarning: A column-vector y was passed when a 1d array was expected. Please change the shape of y to (n_samples,), for example using ravel().\n",
            "  return fit_method(estimator, *args, **kwargs)\n"
          ]
        },
        {
          "name": "stdout",
          "output_type": "stream",
          "text": [
            "[CV] END class_weight={0: 1, 1: 100000}, max_depth=90, min_samples_leaf=3, min_samples_split=7, n_estimators=10; total time=   2.8s\n"
          ]
        },
        {
          "name": "stderr",
          "output_type": "stream",
          "text": [
            "/Users/zhongyitong/Library/Python/3.11/lib/python/site-packages/sklearn/base.py:1152: DataConversionWarning: A column-vector y was passed when a 1d array was expected. Please change the shape of y to (n_samples,), for example using ravel().\n",
            "  return fit_method(estimator, *args, **kwargs)\n"
          ]
        },
        {
          "name": "stdout",
          "output_type": "stream",
          "text": [
            "[CV] END class_weight={0: 1, 1: 100000}, max_depth=90, min_samples_leaf=3, min_samples_split=7, n_estimators=10; total time=   2.8s\n",
            "[CV] END class_weight={0: 1, 1: 100000}, max_depth=90, min_samples_leaf=3, min_samples_split=7, n_estimators=10; total time=   5.2s\n"
          ]
        },
        {
          "name": "stderr",
          "output_type": "stream",
          "text": [
            "/Users/zhongyitong/Library/Python/3.11/lib/python/site-packages/sklearn/base.py:1152: DataConversionWarning: A column-vector y was passed when a 1d array was expected. Please change the shape of y to (n_samples,), for example using ravel().\n",
            "  return fit_method(estimator, *args, **kwargs)\n",
            "/Users/zhongyitong/Library/Python/3.11/lib/python/site-packages/sklearn/base.py:1152: DataConversionWarning: A column-vector y was passed when a 1d array was expected. Please change the shape of y to (n_samples,), for example using ravel().\n",
            "  return fit_method(estimator, *args, **kwargs)\n"
          ]
        },
        {
          "name": "stdout",
          "output_type": "stream",
          "text": [
            "[CV] END class_weight={0: 1, 1: 1}, max_depth=40, min_samples_leaf=1, min_samples_split=2, n_estimators=10; total time=   1.1s\n"
          ]
        },
        {
          "name": "stderr",
          "output_type": "stream",
          "text": [
            "/Users/zhongyitong/Library/Python/3.11/lib/python/site-packages/sklearn/base.py:1152: DataConversionWarning: A column-vector y was passed when a 1d array was expected. Please change the shape of y to (n_samples,), for example using ravel().\n",
            "  return fit_method(estimator, *args, **kwargs)\n"
          ]
        },
        {
          "name": "stdout",
          "output_type": "stream",
          "text": [
            "[CV] END class_weight={0: 1, 1: 1}, max_depth=40, min_samples_leaf=1, min_samples_split=2, n_estimators=10; total time=   1.8s\n",
            "[CV] END class_weight={0: 1, 1: 100000}, max_depth=90, min_samples_leaf=3, min_samples_split=7, n_estimators=10; total time=   2.8s\n",
            "[CV] END class_weight={0: 1, 1: 1}, max_depth=40, min_samples_leaf=1, min_samples_split=2, n_estimators=10; total time=   1.0s\n"
          ]
        },
        {
          "name": "stderr",
          "output_type": "stream",
          "text": [
            "/Users/zhongyitong/Library/Python/3.11/lib/python/site-packages/sklearn/base.py:1152: DataConversionWarning: A column-vector y was passed when a 1d array was expected. Please change the shape of y to (n_samples,), for example using ravel().\n",
            "  return fit_method(estimator, *args, **kwargs)\n",
            "/Users/zhongyitong/Library/Python/3.11/lib/python/site-packages/sklearn/base.py:1152: DataConversionWarning: A column-vector y was passed when a 1d array was expected. Please change the shape of y to (n_samples,), for example using ravel().\n",
            "  return fit_method(estimator, *args, **kwargs)\n",
            "/Users/zhongyitong/Library/Python/3.11/lib/python/site-packages/sklearn/base.py:1152: DataConversionWarning: A column-vector y was passed when a 1d array was expected. Please change the shape of y to (n_samples,), for example using ravel().\n",
            "  return fit_method(estimator, *args, **kwargs)\n"
          ]
        },
        {
          "name": "stdout",
          "output_type": "stream",
          "text": [
            "[CV] END class_weight={0: 1, 1: 1}, max_depth=40, min_samples_leaf=1, min_samples_split=2, n_estimators=10; total time=   1.0s\n"
          ]
        },
        {
          "name": "stderr",
          "output_type": "stream",
          "text": [
            "/Users/zhongyitong/Library/Python/3.11/lib/python/site-packages/sklearn/base.py:1152: DataConversionWarning: A column-vector y was passed when a 1d array was expected. Please change the shape of y to (n_samples,), for example using ravel().\n",
            "  return fit_method(estimator, *args, **kwargs)\n"
          ]
        },
        {
          "name": "stdout",
          "output_type": "stream",
          "text": [
            "[CV] END class_weight={0: 1, 1: 1}, max_depth=40, min_samples_leaf=1, min_samples_split=2, n_estimators=10; total time=   1.8s\n"
          ]
        },
        {
          "name": "stderr",
          "output_type": "stream",
          "text": [
            "/Users/zhongyitong/Library/Python/3.11/lib/python/site-packages/sklearn/base.py:1152: DataConversionWarning: A column-vector y was passed when a 1d array was expected. Please change the shape of y to (n_samples,), for example using ravel().\n",
            "  return fit_method(estimator, *args, **kwargs)\n"
          ]
        },
        {
          "name": "stdout",
          "output_type": "stream",
          "text": [
            "[CV] END class_weight={0: 1, 1: 1000000}, max_depth=100, min_samples_leaf=1, min_samples_split=2, n_estimators=602; total time= 3.1min\n"
          ]
        },
        {
          "name": "stderr",
          "output_type": "stream",
          "text": [
            "/Users/zhongyitong/Library/Python/3.11/lib/python/site-packages/sklearn/base.py:1152: DataConversionWarning: A column-vector y was passed when a 1d array was expected. Please change the shape of y to (n_samples,), for example using ravel().\n",
            "  return fit_method(estimator, *args, **kwargs)\n"
          ]
        },
        {
          "name": "stdout",
          "output_type": "stream",
          "text": [
            "[CV] END class_weight={0: 1, 1: 10}, max_depth=30, min_samples_leaf=3, min_samples_split=7, n_estimators=800; total time=  52.5s\n"
          ]
        },
        {
          "name": "stderr",
          "output_type": "stream",
          "text": [
            "/Users/zhongyitong/Library/Python/3.11/lib/python/site-packages/sklearn/base.py:1152: DataConversionWarning: A column-vector y was passed when a 1d array was expected. Please change the shape of y to (n_samples,), for example using ravel().\n",
            "  return fit_method(estimator, *args, **kwargs)\n"
          ]
        },
        {
          "name": "stdout",
          "output_type": "stream",
          "text": [
            "[CV] END class_weight={0: 1, 1: 10}, max_depth=30, min_samples_leaf=3, min_samples_split=7, n_estimators=800; total time=  53.0s\n"
          ]
        },
        {
          "name": "stderr",
          "output_type": "stream",
          "text": [
            "/Users/zhongyitong/Library/Python/3.11/lib/python/site-packages/sklearn/base.py:1152: DataConversionWarning: A column-vector y was passed when a 1d array was expected. Please change the shape of y to (n_samples,), for example using ravel().\n",
            "  return fit_method(estimator, *args, **kwargs)\n"
          ]
        },
        {
          "name": "stdout",
          "output_type": "stream",
          "text": [
            "[CV] END class_weight={0: 1, 1: 10}, max_depth=30, min_samples_leaf=3, min_samples_split=7, n_estimators=800; total time=  54.5s\n"
          ]
        },
        {
          "name": "stderr",
          "output_type": "stream",
          "text": [
            "/Users/zhongyitong/Library/Python/3.11/lib/python/site-packages/sklearn/base.py:1152: DataConversionWarning: A column-vector y was passed when a 1d array was expected. Please change the shape of y to (n_samples,), for example using ravel().\n",
            "  return fit_method(estimator, *args, **kwargs)\n"
          ]
        },
        {
          "name": "stdout",
          "output_type": "stream",
          "text": [
            "[CV] END class_weight={0: 1, 1: 1000}, max_depth=10, min_samples_leaf=3, min_samples_split=7, n_estimators=602; total time=  29.4s\n"
          ]
        },
        {
          "name": "stderr",
          "output_type": "stream",
          "text": [
            "/Users/zhongyitong/Library/Python/3.11/lib/python/site-packages/sklearn/base.py:1152: DataConversionWarning: A column-vector y was passed when a 1d array was expected. Please change the shape of y to (n_samples,), for example using ravel().\n",
            "  return fit_method(estimator, *args, **kwargs)\n"
          ]
        },
        {
          "name": "stdout",
          "output_type": "stream",
          "text": [
            "[CV] END class_weight={0: 1, 1: 1000}, max_depth=10, min_samples_leaf=3, min_samples_split=7, n_estimators=602; total time=  29.4s\n"
          ]
        },
        {
          "name": "stderr",
          "output_type": "stream",
          "text": [
            "/Users/zhongyitong/Library/Python/3.11/lib/python/site-packages/sklearn/base.py:1152: DataConversionWarning: A column-vector y was passed when a 1d array was expected. Please change the shape of y to (n_samples,), for example using ravel().\n",
            "  return fit_method(estimator, *args, **kwargs)\n"
          ]
        },
        {
          "name": "stdout",
          "output_type": "stream",
          "text": [
            "[CV] END class_weight={0: 1, 1: 10}, max_depth=30, min_samples_leaf=3, min_samples_split=7, n_estimators=800; total time=  52.2s\n"
          ]
        },
        {
          "name": "stderr",
          "output_type": "stream",
          "text": [
            "/Users/zhongyitong/Library/Python/3.11/lib/python/site-packages/sklearn/base.py:1152: DataConversionWarning: A column-vector y was passed when a 1d array was expected. Please change the shape of y to (n_samples,), for example using ravel().\n",
            "  return fit_method(estimator, *args, **kwargs)\n"
          ]
        },
        {
          "name": "stdout",
          "output_type": "stream",
          "text": [
            "[CV] END class_weight={0: 1, 1: 10}, max_depth=30, min_samples_leaf=3, min_samples_split=7, n_estimators=800; total time=  53.2s\n"
          ]
        },
        {
          "name": "stderr",
          "output_type": "stream",
          "text": [
            "/Users/zhongyitong/Library/Python/3.11/lib/python/site-packages/sklearn/base.py:1152: DataConversionWarning: A column-vector y was passed when a 1d array was expected. Please change the shape of y to (n_samples,), for example using ravel().\n",
            "  return fit_method(estimator, *args, **kwargs)\n"
          ]
        },
        {
          "name": "stdout",
          "output_type": "stream",
          "text": [
            "[CV] END class_weight={0: 1, 1: 1000}, max_depth=10, min_samples_leaf=3, min_samples_split=7, n_estimators=602; total time=  28.8s\n"
          ]
        },
        {
          "name": "stderr",
          "output_type": "stream",
          "text": [
            "/Users/zhongyitong/Library/Python/3.11/lib/python/site-packages/sklearn/base.py:1152: DataConversionWarning: A column-vector y was passed when a 1d array was expected. Please change the shape of y to (n_samples,), for example using ravel().\n",
            "  return fit_method(estimator, *args, **kwargs)\n"
          ]
        },
        {
          "name": "stdout",
          "output_type": "stream",
          "text": [
            "[CV] END class_weight={0: 1, 1: 1000}, max_depth=10, min_samples_leaf=3, min_samples_split=7, n_estimators=602; total time=  28.3s\n"
          ]
        },
        {
          "name": "stderr",
          "output_type": "stream",
          "text": [
            "/Users/zhongyitong/Library/Python/3.11/lib/python/site-packages/sklearn/base.py:1152: DataConversionWarning: A column-vector y was passed when a 1d array was expected. Please change the shape of y to (n_samples,), for example using ravel().\n",
            "  return fit_method(estimator, *args, **kwargs)\n"
          ]
        },
        {
          "name": "stdout",
          "output_type": "stream",
          "text": [
            "[CV] END class_weight={0: 1, 1: 1000}, max_depth=10, min_samples_leaf=1, min_samples_split=2, n_estimators=207; total time=   9.0s\n"
          ]
        },
        {
          "name": "stderr",
          "output_type": "stream",
          "text": [
            "/Users/zhongyitong/Library/Python/3.11/lib/python/site-packages/sklearn/base.py:1152: DataConversionWarning: A column-vector y was passed when a 1d array was expected. Please change the shape of y to (n_samples,), for example using ravel().\n",
            "  return fit_method(estimator, *args, **kwargs)\n"
          ]
        },
        {
          "name": "stdout",
          "output_type": "stream",
          "text": [
            "[CV] END class_weight={0: 1, 1: 1000}, max_depth=10, min_samples_leaf=1, min_samples_split=2, n_estimators=207; total time=   9.0s\n"
          ]
        },
        {
          "name": "stderr",
          "output_type": "stream",
          "text": [
            "/Users/zhongyitong/Library/Python/3.11/lib/python/site-packages/sklearn/base.py:1152: DataConversionWarning: A column-vector y was passed when a 1d array was expected. Please change the shape of y to (n_samples,), for example using ravel().\n",
            "  return fit_method(estimator, *args, **kwargs)\n"
          ]
        },
        {
          "name": "stdout",
          "output_type": "stream",
          "text": [
            "[CV] END class_weight={0: 1, 1: 1000}, max_depth=10, min_samples_leaf=1, min_samples_split=2, n_estimators=207; total time=   8.9s\n"
          ]
        },
        {
          "name": "stderr",
          "output_type": "stream",
          "text": [
            "/Users/zhongyitong/Library/Python/3.11/lib/python/site-packages/sklearn/base.py:1152: DataConversionWarning: A column-vector y was passed when a 1d array was expected. Please change the shape of y to (n_samples,), for example using ravel().\n",
            "  return fit_method(estimator, *args, **kwargs)\n"
          ]
        },
        {
          "name": "stdout",
          "output_type": "stream",
          "text": [
            "[CV] END class_weight={0: 1, 1: 1000}, max_depth=10, min_samples_leaf=3, min_samples_split=7, n_estimators=602; total time=  48.9s\n"
          ]
        },
        {
          "name": "stderr",
          "output_type": "stream",
          "text": [
            "/Users/zhongyitong/Library/Python/3.11/lib/python/site-packages/sklearn/base.py:1152: DataConversionWarning: A column-vector y was passed when a 1d array was expected. Please change the shape of y to (n_samples,), for example using ravel().\n",
            "  return fit_method(estimator, *args, **kwargs)\n"
          ]
        },
        {
          "name": "stdout",
          "output_type": "stream",
          "text": [
            "[CV] END class_weight={0: 1, 1: 1000}, max_depth=10, min_samples_leaf=1, min_samples_split=2, n_estimators=207; total time=   9.0s\n"
          ]
        },
        {
          "name": "stderr",
          "output_type": "stream",
          "text": [
            "/Users/zhongyitong/Library/Python/3.11/lib/python/site-packages/sklearn/base.py:1152: DataConversionWarning: A column-vector y was passed when a 1d array was expected. Please change the shape of y to (n_samples,), for example using ravel().\n",
            "  return fit_method(estimator, *args, **kwargs)\n"
          ]
        },
        {
          "name": "stdout",
          "output_type": "stream",
          "text": [
            "[CV] END class_weight={0: 1, 1: 1000}, max_depth=10, min_samples_leaf=1, min_samples_split=2, n_estimators=207; total time=   9.2s\n"
          ]
        },
        {
          "name": "stderr",
          "output_type": "stream",
          "text": [
            "/Users/zhongyitong/Library/Python/3.11/lib/python/site-packages/sklearn/base.py:1152: DataConversionWarning: A column-vector y was passed when a 1d array was expected. Please change the shape of y to (n_samples,), for example using ravel().\n",
            "  return fit_method(estimator, *args, **kwargs)\n"
          ]
        },
        {
          "name": "stdout",
          "output_type": "stream",
          "text": [
            "[CV] END class_weight={0: 1, 1: 1000000}, max_depth=10, min_samples_leaf=3, min_samples_split=2, n_estimators=405; total time=  19.6s\n"
          ]
        },
        {
          "name": "stderr",
          "output_type": "stream",
          "text": [
            "/Users/zhongyitong/Library/Python/3.11/lib/python/site-packages/sklearn/base.py:1152: DataConversionWarning: A column-vector y was passed when a 1d array was expected. Please change the shape of y to (n_samples,), for example using ravel().\n",
            "  return fit_method(estimator, *args, **kwargs)\n"
          ]
        },
        {
          "name": "stdout",
          "output_type": "stream",
          "text": [
            "[CV] END class_weight={0: 1, 1: 1000000}, max_depth=10, min_samples_leaf=3, min_samples_split=2, n_estimators=405; total time=  19.2s\n"
          ]
        },
        {
          "name": "stderr",
          "output_type": "stream",
          "text": [
            "/Users/zhongyitong/Library/Python/3.11/lib/python/site-packages/sklearn/base.py:1152: DataConversionWarning: A column-vector y was passed when a 1d array was expected. Please change the shape of y to (n_samples,), for example using ravel().\n",
            "  return fit_method(estimator, *args, **kwargs)\n"
          ]
        },
        {
          "name": "stdout",
          "output_type": "stream",
          "text": [
            "[CV] END class_weight={0: 1, 1: 1000000}, max_depth=10, min_samples_leaf=3, min_samples_split=2, n_estimators=405; total time=  18.8s\n"
          ]
        },
        {
          "name": "stderr",
          "output_type": "stream",
          "text": [
            "/Users/zhongyitong/Library/Python/3.11/lib/python/site-packages/sklearn/base.py:1152: DataConversionWarning: A column-vector y was passed when a 1d array was expected. Please change the shape of y to (n_samples,), for example using ravel().\n",
            "  return fit_method(estimator, *args, **kwargs)\n"
          ]
        },
        {
          "name": "stdout",
          "output_type": "stream",
          "text": [
            "[CV] END class_weight={0: 1, 1: 1000000}, max_depth=10, min_samples_leaf=3, min_samples_split=2, n_estimators=405; total time=  33.2s\n"
          ]
        },
        {
          "name": "stderr",
          "output_type": "stream",
          "text": [
            "/Users/zhongyitong/Library/Python/3.11/lib/python/site-packages/sklearn/base.py:1152: DataConversionWarning: A column-vector y was passed when a 1d array was expected. Please change the shape of y to (n_samples,), for example using ravel().\n",
            "  return fit_method(estimator, *args, **kwargs)\n"
          ]
        },
        {
          "name": "stdout",
          "output_type": "stream",
          "text": [
            "[CV] END class_weight={0: 1, 1: 1000000}, max_depth=10, min_samples_leaf=3, min_samples_split=2, n_estimators=405; total time=  19.3s\n"
          ]
        },
        {
          "name": "stderr",
          "output_type": "stream",
          "text": [
            "/Users/zhongyitong/Library/Python/3.11/lib/python/site-packages/sklearn/base.py:1152: DataConversionWarning: A column-vector y was passed when a 1d array was expected. Please change the shape of y to (n_samples,), for example using ravel().\n",
            "  return fit_method(estimator, *args, **kwargs)\n"
          ]
        },
        {
          "name": "stdout",
          "output_type": "stream",
          "text": [
            "[CV] END class_weight={0: 1, 1: 1000}, max_depth=80, min_samples_leaf=1, min_samples_split=2, n_estimators=602; total time= 1.2min\n"
          ]
        },
        {
          "name": "stderr",
          "output_type": "stream",
          "text": [
            "/Users/zhongyitong/Library/Python/3.11/lib/python/site-packages/sklearn/base.py:1152: DataConversionWarning: A column-vector y was passed when a 1d array was expected. Please change the shape of y to (n_samples,), for example using ravel().\n",
            "  return fit_method(estimator, *args, **kwargs)\n"
          ]
        },
        {
          "name": "stdout",
          "output_type": "stream",
          "text": [
            "[CV] END class_weight={0: 1, 1: 1000000}, max_depth=100, min_samples_leaf=1, min_samples_split=2, n_estimators=602; total time= 5.0min\n"
          ]
        },
        {
          "name": "stderr",
          "output_type": "stream",
          "text": [
            "/Users/zhongyitong/Library/Python/3.11/lib/python/site-packages/sklearn/base.py:1152: DataConversionWarning: A column-vector y was passed when a 1d array was expected. Please change the shape of y to (n_samples,), for example using ravel().\n",
            "  return fit_method(estimator, *args, **kwargs)\n"
          ]
        },
        {
          "name": "stdout",
          "output_type": "stream",
          "text": [
            "[CV] END class_weight={0: 1, 1: 10000}, max_depth=50, min_samples_leaf=1, min_samples_split=7, n_estimators=207; total time=  31.3s\n"
          ]
        },
        {
          "name": "stderr",
          "output_type": "stream",
          "text": [
            "/Users/zhongyitong/Library/Python/3.11/lib/python/site-packages/sklearn/base.py:1152: DataConversionWarning: A column-vector y was passed when a 1d array was expected. Please change the shape of y to (n_samples,), for example using ravel().\n",
            "  return fit_method(estimator, *args, **kwargs)\n"
          ]
        },
        {
          "name": "stdout",
          "output_type": "stream",
          "text": [
            "[CV] END class_weight={0: 1, 1: 10000}, max_depth=50, min_samples_leaf=1, min_samples_split=7, n_estimators=207; total time=  31.4s\n"
          ]
        },
        {
          "name": "stderr",
          "output_type": "stream",
          "text": [
            "/Users/zhongyitong/Library/Python/3.11/lib/python/site-packages/sklearn/base.py:1152: DataConversionWarning: A column-vector y was passed when a 1d array was expected. Please change the shape of y to (n_samples,), for example using ravel().\n",
            "  return fit_method(estimator, *args, **kwargs)\n"
          ]
        },
        {
          "name": "stdout",
          "output_type": "stream",
          "text": [
            "[CV] END class_weight={0: 1, 1: 1000}, max_depth=80, min_samples_leaf=1, min_samples_split=2, n_estimators=602; total time= 1.2min\n"
          ]
        },
        {
          "name": "stderr",
          "output_type": "stream",
          "text": [
            "/Users/zhongyitong/Library/Python/3.11/lib/python/site-packages/sklearn/base.py:1152: DataConversionWarning: A column-vector y was passed when a 1d array was expected. Please change the shape of y to (n_samples,), for example using ravel().\n",
            "  return fit_method(estimator, *args, **kwargs)\n"
          ]
        },
        {
          "name": "stdout",
          "output_type": "stream",
          "text": [
            "[CV] END class_weight={0: 1, 1: 1000}, max_depth=80, min_samples_leaf=1, min_samples_split=2, n_estimators=602; total time= 1.6min\n"
          ]
        },
        {
          "name": "stderr",
          "output_type": "stream",
          "text": [
            "/Users/zhongyitong/Library/Python/3.11/lib/python/site-packages/sklearn/base.py:1152: DataConversionWarning: A column-vector y was passed when a 1d array was expected. Please change the shape of y to (n_samples,), for example using ravel().\n",
            "  return fit_method(estimator, *args, **kwargs)\n"
          ]
        },
        {
          "name": "stdout",
          "output_type": "stream",
          "text": [
            "[CV] END class_weight={0: 1, 1: 10000}, max_depth=50, min_samples_leaf=1, min_samples_split=7, n_estimators=207; total time=  31.5s\n"
          ]
        },
        {
          "name": "stderr",
          "output_type": "stream",
          "text": [
            "/Users/zhongyitong/Library/Python/3.11/lib/python/site-packages/sklearn/base.py:1152: DataConversionWarning: A column-vector y was passed when a 1d array was expected. Please change the shape of y to (n_samples,), for example using ravel().\n",
            "  return fit_method(estimator, *args, **kwargs)\n"
          ]
        },
        {
          "name": "stdout",
          "output_type": "stream",
          "text": [
            "[CV] END class_weight={0: 1, 1: 1000}, max_depth=80, min_samples_leaf=1, min_samples_split=2, n_estimators=602; total time= 1.8min\n"
          ]
        },
        {
          "name": "stderr",
          "output_type": "stream",
          "text": [
            "/Users/zhongyitong/Library/Python/3.11/lib/python/site-packages/sklearn/base.py:1152: DataConversionWarning: A column-vector y was passed when a 1d array was expected. Please change the shape of y to (n_samples,), for example using ravel().\n",
            "  return fit_method(estimator, *args, **kwargs)\n"
          ]
        },
        {
          "name": "stdout",
          "output_type": "stream",
          "text": [
            "[CV] END class_weight={0: 1, 1: 1000}, max_depth=80, min_samples_leaf=1, min_samples_split=2, n_estimators=602; total time= 1.6min\n"
          ]
        },
        {
          "name": "stderr",
          "output_type": "stream",
          "text": [
            "/Users/zhongyitong/Library/Python/3.11/lib/python/site-packages/sklearn/base.py:1152: DataConversionWarning: A column-vector y was passed when a 1d array was expected. Please change the shape of y to (n_samples,), for example using ravel().\n",
            "  return fit_method(estimator, *args, **kwargs)\n"
          ]
        },
        {
          "name": "stdout",
          "output_type": "stream",
          "text": [
            "[CV] END class_weight={0: 1, 1: 10000}, max_depth=50, min_samples_leaf=1, min_samples_split=7, n_estimators=207; total time=  47.5s\n"
          ]
        },
        {
          "name": "stderr",
          "output_type": "stream",
          "text": [
            "/Users/zhongyitong/Library/Python/3.11/lib/python/site-packages/sklearn/base.py:1152: DataConversionWarning: A column-vector y was passed when a 1d array was expected. Please change the shape of y to (n_samples,), for example using ravel().\n",
            "  return fit_method(estimator, *args, **kwargs)\n"
          ]
        },
        {
          "name": "stdout",
          "output_type": "stream",
          "text": [
            "[CV] END class_weight={0: 1, 1: 1000}, max_depth=20, min_samples_leaf=3, min_samples_split=2, n_estimators=602; total time=  35.6s\n"
          ]
        },
        {
          "name": "stderr",
          "output_type": "stream",
          "text": [
            "/Users/zhongyitong/Library/Python/3.11/lib/python/site-packages/sklearn/base.py:1152: DataConversionWarning: A column-vector y was passed when a 1d array was expected. Please change the shape of y to (n_samples,), for example using ravel().\n",
            "  return fit_method(estimator, *args, **kwargs)\n"
          ]
        },
        {
          "name": "stdout",
          "output_type": "stream",
          "text": [
            "[CV] END class_weight={0: 1, 1: 1000}, max_depth=20, min_samples_leaf=3, min_samples_split=2, n_estimators=602; total time=  36.4s\n"
          ]
        },
        {
          "name": "stderr",
          "output_type": "stream",
          "text": [
            "/Users/zhongyitong/Library/Python/3.11/lib/python/site-packages/sklearn/base.py:1152: DataConversionWarning: A column-vector y was passed when a 1d array was expected. Please change the shape of y to (n_samples,), for example using ravel().\n",
            "  return fit_method(estimator, *args, **kwargs)\n"
          ]
        },
        {
          "name": "stdout",
          "output_type": "stream",
          "text": [
            "[CV] END class_weight={0: 1, 1: 1000}, max_depth=20, min_samples_leaf=3, min_samples_split=2, n_estimators=602; total time=  37.4s\n"
          ]
        },
        {
          "name": "stderr",
          "output_type": "stream",
          "text": [
            "/Users/zhongyitong/Library/Python/3.11/lib/python/site-packages/sklearn/base.py:1152: DataConversionWarning: A column-vector y was passed when a 1d array was expected. Please change the shape of y to (n_samples,), for example using ravel().\n",
            "  return fit_method(estimator, *args, **kwargs)\n"
          ]
        },
        {
          "name": "stdout",
          "output_type": "stream",
          "text": [
            "[CV] END class_weight={0: 1, 1: 10000}, max_depth=50, min_samples_leaf=1, min_samples_split=7, n_estimators=207; total time=  48.3s\n"
          ]
        },
        {
          "name": "stderr",
          "output_type": "stream",
          "text": [
            "/Users/zhongyitong/Library/Python/3.11/lib/python/site-packages/sklearn/base.py:1152: DataConversionWarning: A column-vector y was passed when a 1d array was expected. Please change the shape of y to (n_samples,), for example using ravel().\n",
            "  return fit_method(estimator, *args, **kwargs)\n"
          ]
        },
        {
          "name": "stdout",
          "output_type": "stream",
          "text": [
            "[CV] END class_weight={0: 1, 1: 1000}, max_depth=20, min_samples_leaf=3, min_samples_split=2, n_estimators=602; total time=  54.7s\n"
          ]
        },
        {
          "name": "stderr",
          "output_type": "stream",
          "text": [
            "/Users/zhongyitong/Library/Python/3.11/lib/python/site-packages/sklearn/base.py:1152: DataConversionWarning: A column-vector y was passed when a 1d array was expected. Please change the shape of y to (n_samples,), for example using ravel().\n",
            "  return fit_method(estimator, *args, **kwargs)\n"
          ]
        },
        {
          "name": "stdout",
          "output_type": "stream",
          "text": [
            "[CV] END class_weight={0: 1, 1: 1}, max_depth=100, min_samples_leaf=1, min_samples_split=7, n_estimators=207; total time=  18.2s\n"
          ]
        },
        {
          "name": "stderr",
          "output_type": "stream",
          "text": [
            "/Users/zhongyitong/Library/Python/3.11/lib/python/site-packages/sklearn/base.py:1152: DataConversionWarning: A column-vector y was passed when a 1d array was expected. Please change the shape of y to (n_samples,), for example using ravel().\n",
            "  return fit_method(estimator, *args, **kwargs)\n"
          ]
        },
        {
          "name": "stdout",
          "output_type": "stream",
          "text": [
            "[CV] END class_weight={0: 1, 1: 1}, max_depth=10, min_samples_leaf=3, min_samples_split=2, n_estimators=800; total time=  42.3s\n"
          ]
        },
        {
          "name": "stderr",
          "output_type": "stream",
          "text": [
            "/Users/zhongyitong/Library/Python/3.11/lib/python/site-packages/sklearn/base.py:1152: DataConversionWarning: A column-vector y was passed when a 1d array was expected. Please change the shape of y to (n_samples,), for example using ravel().\n",
            "  return fit_method(estimator, *args, **kwargs)\n"
          ]
        },
        {
          "name": "stdout",
          "output_type": "stream",
          "text": [
            "[CV] END class_weight={0: 1, 1: 1}, max_depth=100, min_samples_leaf=1, min_samples_split=7, n_estimators=207; total time=  17.9s\n"
          ]
        },
        {
          "name": "stderr",
          "output_type": "stream",
          "text": [
            "/Users/zhongyitong/Library/Python/3.11/lib/python/site-packages/sklearn/base.py:1152: DataConversionWarning: A column-vector y was passed when a 1d array was expected. Please change the shape of y to (n_samples,), for example using ravel().\n",
            "  return fit_method(estimator, *args, **kwargs)\n"
          ]
        },
        {
          "name": "stdout",
          "output_type": "stream",
          "text": [
            "[CV] END class_weight={0: 1, 1: 1000}, max_depth=20, min_samples_leaf=3, min_samples_split=2, n_estimators=602; total time=  57.1s\n"
          ]
        },
        {
          "name": "stderr",
          "output_type": "stream",
          "text": [
            "/Users/zhongyitong/Library/Python/3.11/lib/python/site-packages/sklearn/base.py:1152: DataConversionWarning: A column-vector y was passed when a 1d array was expected. Please change the shape of y to (n_samples,), for example using ravel().\n",
            "  return fit_method(estimator, *args, **kwargs)\n"
          ]
        },
        {
          "name": "stdout",
          "output_type": "stream",
          "text": [
            "[CV] END class_weight={0: 1, 1: 1}, max_depth=100, min_samples_leaf=1, min_samples_split=7, n_estimators=207; total time=  30.2s\n"
          ]
        },
        {
          "name": "stderr",
          "output_type": "stream",
          "text": [
            "/Users/zhongyitong/Library/Python/3.11/lib/python/site-packages/sklearn/base.py:1152: DataConversionWarning: A column-vector y was passed when a 1d array was expected. Please change the shape of y to (n_samples,), for example using ravel().\n",
            "  return fit_method(estimator, *args, **kwargs)\n"
          ]
        },
        {
          "name": "stdout",
          "output_type": "stream",
          "text": [
            "[CV] END class_weight={0: 1, 1: 1}, max_depth=100, min_samples_leaf=1, min_samples_split=7, n_estimators=207; total time=  19.3s\n"
          ]
        },
        {
          "name": "stderr",
          "output_type": "stream",
          "text": [
            "/Users/zhongyitong/Library/Python/3.11/lib/python/site-packages/sklearn/base.py:1152: DataConversionWarning: A column-vector y was passed when a 1d array was expected. Please change the shape of y to (n_samples,), for example using ravel().\n",
            "  return fit_method(estimator, *args, **kwargs)\n"
          ]
        },
        {
          "name": "stdout",
          "output_type": "stream",
          "text": [
            "[CV] END class_weight={0: 1, 1: 1}, max_depth=100, min_samples_leaf=1, min_samples_split=7, n_estimators=207; total time=  22.8s\n"
          ]
        },
        {
          "name": "stderr",
          "output_type": "stream",
          "text": [
            "/Users/zhongyitong/Library/Python/3.11/lib/python/site-packages/sklearn/base.py:1152: DataConversionWarning: A column-vector y was passed when a 1d array was expected. Please change the shape of y to (n_samples,), for example using ravel().\n",
            "  return fit_method(estimator, *args, **kwargs)\n"
          ]
        },
        {
          "name": "stdout",
          "output_type": "stream",
          "text": [
            "[CV] END class_weight={0: 1, 1: 1}, max_depth=10, min_samples_leaf=3, min_samples_split=2, n_estimators=800; total time=  58.5s\n",
            "[CV] END class_weight={0: 1, 1: 1}, max_depth=10, min_samples_leaf=3, min_samples_split=2, n_estimators=800; total time=  44.7s\n"
          ]
        },
        {
          "name": "stderr",
          "output_type": "stream",
          "text": [
            "/Users/zhongyitong/Library/Python/3.11/lib/python/site-packages/sklearn/base.py:1152: DataConversionWarning: A column-vector y was passed when a 1d array was expected. Please change the shape of y to (n_samples,), for example using ravel().\n",
            "  return fit_method(estimator, *args, **kwargs)\n",
            "/Users/zhongyitong/Library/Python/3.11/lib/python/site-packages/sklearn/base.py:1152: DataConversionWarning: A column-vector y was passed when a 1d array was expected. Please change the shape of y to (n_samples,), for example using ravel().\n",
            "  return fit_method(estimator, *args, **kwargs)\n"
          ]
        },
        {
          "name": "stdout",
          "output_type": "stream",
          "text": [
            "[CV] END class_weight={0: 1, 1: 1}, max_depth=10, min_samples_leaf=3, min_samples_split=2, n_estimators=800; total time= 1.2min\n"
          ]
        },
        {
          "name": "stderr",
          "output_type": "stream",
          "text": [
            "/Users/zhongyitong/Library/Python/3.11/lib/python/site-packages/sklearn/base.py:1152: DataConversionWarning: A column-vector y was passed when a 1d array was expected. Please change the shape of y to (n_samples,), for example using ravel().\n",
            "  return fit_method(estimator, *args, **kwargs)\n"
          ]
        },
        {
          "name": "stdout",
          "output_type": "stream",
          "text": [
            "[CV] END class_weight={0: 1, 1: 1}, max_depth=10, min_samples_leaf=3, min_samples_split=2, n_estimators=800; total time= 1.2min\n"
          ]
        },
        {
          "name": "stderr",
          "output_type": "stream",
          "text": [
            "/Users/zhongyitong/Library/Python/3.11/lib/python/site-packages/sklearn/base.py:1152: DataConversionWarning: A column-vector y was passed when a 1d array was expected. Please change the shape of y to (n_samples,), for example using ravel().\n",
            "  return fit_method(estimator, *args, **kwargs)\n"
          ]
        },
        {
          "name": "stdout",
          "output_type": "stream",
          "text": [
            "[CV] END class_weight={0: 1, 1: 10000}, max_depth=10, min_samples_leaf=1, min_samples_split=7, n_estimators=602; total time=  28.8s\n"
          ]
        },
        {
          "name": "stderr",
          "output_type": "stream",
          "text": [
            "/Users/zhongyitong/Library/Python/3.11/lib/python/site-packages/sklearn/base.py:1152: DataConversionWarning: A column-vector y was passed when a 1d array was expected. Please change the shape of y to (n_samples,), for example using ravel().\n",
            "  return fit_method(estimator, *args, **kwargs)\n"
          ]
        },
        {
          "name": "stdout",
          "output_type": "stream",
          "text": [
            "[CV] END class_weight={0: 1, 1: 10000}, max_depth=10, min_samples_leaf=1, min_samples_split=7, n_estimators=602; total time=  29.2s\n",
            "[CV] END class_weight={0: 1, 1: 10000}, max_depth=10, min_samples_leaf=1, min_samples_split=7, n_estimators=602; total time=  29.5s\n"
          ]
        },
        {
          "name": "stderr",
          "output_type": "stream",
          "text": [
            "/Users/zhongyitong/Library/Python/3.11/lib/python/site-packages/sklearn/base.py:1152: DataConversionWarning: A column-vector y was passed when a 1d array was expected. Please change the shape of y to (n_samples,), for example using ravel().\n",
            "  return fit_method(estimator, *args, **kwargs)\n",
            "/Users/zhongyitong/Library/Python/3.11/lib/python/site-packages/sklearn/base.py:1152: DataConversionWarning: A column-vector y was passed when a 1d array was expected. Please change the shape of y to (n_samples,), for example using ravel().\n",
            "  return fit_method(estimator, *args, **kwargs)\n"
          ]
        },
        {
          "name": "stdout",
          "output_type": "stream",
          "text": [
            "[CV] END class_weight={0: 1, 1: 10000}, max_depth=10, min_samples_leaf=1, min_samples_split=7, n_estimators=602; total time=  48.3s\n"
          ]
        },
        {
          "name": "stderr",
          "output_type": "stream",
          "text": [
            "/Users/zhongyitong/Library/Python/3.11/lib/python/site-packages/sklearn/base.py:1152: DataConversionWarning: A column-vector y was passed when a 1d array was expected. Please change the shape of y to (n_samples,), for example using ravel().\n",
            "  return fit_method(estimator, *args, **kwargs)\n"
          ]
        },
        {
          "name": "stdout",
          "output_type": "stream",
          "text": [
            "[CV] END class_weight={0: 1, 1: 10000}, max_depth=10, min_samples_leaf=1, min_samples_split=7, n_estimators=602; total time=  47.7s\n"
          ]
        },
        {
          "name": "stderr",
          "output_type": "stream",
          "text": [
            "/Users/zhongyitong/Library/Python/3.11/lib/python/site-packages/sklearn/base.py:1152: DataConversionWarning: A column-vector y was passed when a 1d array was expected. Please change the shape of y to (n_samples,), for example using ravel().\n",
            "  return fit_method(estimator, *args, **kwargs)\n"
          ]
        },
        {
          "name": "stdout",
          "output_type": "stream",
          "text": [
            "[CV] END class_weight={0: 1, 1: 10000}, max_depth=70, min_samples_leaf=1, min_samples_split=2, n_estimators=602; total time= 2.0min\n"
          ]
        },
        {
          "name": "stderr",
          "output_type": "stream",
          "text": [
            "/Users/zhongyitong/Library/Python/3.11/lib/python/site-packages/sklearn/base.py:1152: DataConversionWarning: A column-vector y was passed when a 1d array was expected. Please change the shape of y to (n_samples,), for example using ravel().\n",
            "  return fit_method(estimator, *args, **kwargs)\n"
          ]
        },
        {
          "name": "stdout",
          "output_type": "stream",
          "text": [
            "[CV] END class_weight={0: 1, 1: 10000}, max_depth=70, min_samples_leaf=1, min_samples_split=2, n_estimators=602; total time= 2.0min\n"
          ]
        },
        {
          "name": "stderr",
          "output_type": "stream",
          "text": [
            "/Users/zhongyitong/Library/Python/3.11/lib/python/site-packages/sklearn/base.py:1152: DataConversionWarning: A column-vector y was passed when a 1d array was expected. Please change the shape of y to (n_samples,), for example using ravel().\n",
            "  return fit_method(estimator, *args, **kwargs)\n"
          ]
        },
        {
          "name": "stdout",
          "output_type": "stream",
          "text": [
            "[CV] END class_weight={0: 1, 1: 1}, max_depth=50, min_samples_leaf=1, min_samples_split=7, n_estimators=800; total time= 1.3min\n"
          ]
        },
        {
          "name": "stderr",
          "output_type": "stream",
          "text": [
            "/Users/zhongyitong/Library/Python/3.11/lib/python/site-packages/sklearn/base.py:1152: DataConversionWarning: A column-vector y was passed when a 1d array was expected. Please change the shape of y to (n_samples,), for example using ravel().\n",
            "  return fit_method(estimator, *args, **kwargs)\n"
          ]
        },
        {
          "name": "stdout",
          "output_type": "stream",
          "text": [
            "[CV] END class_weight={0: 1, 1: 1}, max_depth=50, min_samples_leaf=1, min_samples_split=7, n_estimators=800; total time= 1.2min\n"
          ]
        },
        {
          "name": "stderr",
          "output_type": "stream",
          "text": [
            "/Users/zhongyitong/Library/Python/3.11/lib/python/site-packages/sklearn/base.py:1152: DataConversionWarning: A column-vector y was passed when a 1d array was expected. Please change the shape of y to (n_samples,), for example using ravel().\n",
            "  return fit_method(estimator, *args, **kwargs)\n"
          ]
        },
        {
          "name": "stdout",
          "output_type": "stream",
          "text": [
            "[CV] END class_weight={0: 1, 1: 1}, max_depth=50, min_samples_leaf=1, min_samples_split=7, n_estimators=800; total time= 1.3min\n"
          ]
        },
        {
          "name": "stderr",
          "output_type": "stream",
          "text": [
            "/Users/zhongyitong/Library/Python/3.11/lib/python/site-packages/sklearn/base.py:1152: DataConversionWarning: A column-vector y was passed when a 1d array was expected. Please change the shape of y to (n_samples,), for example using ravel().\n",
            "  return fit_method(estimator, *args, **kwargs)\n"
          ]
        },
        {
          "name": "stdout",
          "output_type": "stream",
          "text": [
            "[CV] END class_weight={0: 1, 1: 10000}, max_depth=70, min_samples_leaf=1, min_samples_split=2, n_estimators=602; total time= 2.0min\n"
          ]
        },
        {
          "name": "stderr",
          "output_type": "stream",
          "text": [
            "/Users/zhongyitong/Library/Python/3.11/lib/python/site-packages/sklearn/base.py:1152: DataConversionWarning: A column-vector y was passed when a 1d array was expected. Please change the shape of y to (n_samples,), for example using ravel().\n",
            "  return fit_method(estimator, *args, **kwargs)\n"
          ]
        },
        {
          "name": "stdout",
          "output_type": "stream",
          "text": [
            "[CV] END class_weight={0: 1, 1: 100000}, max_depth=20, min_samples_leaf=1, min_samples_split=2, n_estimators=602; total time=  50.6s\n"
          ]
        },
        {
          "name": "stderr",
          "output_type": "stream",
          "text": [
            "/Users/zhongyitong/Library/Python/3.11/lib/python/site-packages/sklearn/base.py:1152: DataConversionWarning: A column-vector y was passed when a 1d array was expected. Please change the shape of y to (n_samples,), for example using ravel().\n",
            "  return fit_method(estimator, *args, **kwargs)\n"
          ]
        },
        {
          "name": "stdout",
          "output_type": "stream",
          "text": [
            "[CV] END class_weight={0: 1, 1: 100000}, max_depth=20, min_samples_leaf=1, min_samples_split=2, n_estimators=602; total time=  50.9s\n"
          ]
        },
        {
          "name": "stderr",
          "output_type": "stream",
          "text": [
            "/Users/zhongyitong/Library/Python/3.11/lib/python/site-packages/sklearn/base.py:1152: DataConversionWarning: A column-vector y was passed when a 1d array was expected. Please change the shape of y to (n_samples,), for example using ravel().\n",
            "  return fit_method(estimator, *args, **kwargs)\n"
          ]
        },
        {
          "name": "stdout",
          "output_type": "stream",
          "text": [
            "[CV] END class_weight={0: 1, 1: 100000}, max_depth=20, min_samples_leaf=1, min_samples_split=2, n_estimators=602; total time=  50.0s\n"
          ]
        },
        {
          "name": "stderr",
          "output_type": "stream",
          "text": [
            "/Users/zhongyitong/Library/Python/3.11/lib/python/site-packages/sklearn/base.py:1152: DataConversionWarning: A column-vector y was passed when a 1d array was expected. Please change the shape of y to (n_samples,), for example using ravel().\n",
            "  return fit_method(estimator, *args, **kwargs)\n"
          ]
        },
        {
          "name": "stdout",
          "output_type": "stream",
          "text": [
            "[CV] END class_weight={0: 1, 1: 100000}, max_depth=20, min_samples_leaf=1, min_samples_split=2, n_estimators=602; total time=  50.2s\n"
          ]
        },
        {
          "name": "stderr",
          "output_type": "stream",
          "text": [
            "/Users/zhongyitong/Library/Python/3.11/lib/python/site-packages/sklearn/base.py:1152: DataConversionWarning: A column-vector y was passed when a 1d array was expected. Please change the shape of y to (n_samples,), for example using ravel().\n",
            "  return fit_method(estimator, *args, **kwargs)\n"
          ]
        },
        {
          "name": "stdout",
          "output_type": "stream",
          "text": [
            "[CV] END class_weight={0: 1, 1: 100000}, max_depth=20, min_samples_leaf=1, min_samples_split=2, n_estimators=602; total time=  50.5s\n"
          ]
        },
        {
          "name": "stderr",
          "output_type": "stream",
          "text": [
            "/Users/zhongyitong/Library/Python/3.11/lib/python/site-packages/sklearn/base.py:1152: DataConversionWarning: A column-vector y was passed when a 1d array was expected. Please change the shape of y to (n_samples,), for example using ravel().\n",
            "  return fit_method(estimator, *args, **kwargs)\n"
          ]
        },
        {
          "name": "stdout",
          "output_type": "stream",
          "text": [
            "[CV] END class_weight={0: 1, 1: 10}, max_depth=90, min_samples_leaf=3, min_samples_split=2, n_estimators=800; total time=  47.4s\n"
          ]
        },
        {
          "name": "stderr",
          "output_type": "stream",
          "text": [
            "/Users/zhongyitong/Library/Python/3.11/lib/python/site-packages/sklearn/base.py:1152: DataConversionWarning: A column-vector y was passed when a 1d array was expected. Please change the shape of y to (n_samples,), for example using ravel().\n",
            "  return fit_method(estimator, *args, **kwargs)\n"
          ]
        },
        {
          "name": "stdout",
          "output_type": "stream",
          "text": [
            "[CV] END class_weight={0: 1, 1: 10000}, max_depth=70, min_samples_leaf=1, min_samples_split=2, n_estimators=602; total time= 3.2min\n"
          ]
        },
        {
          "name": "stderr",
          "output_type": "stream",
          "text": [
            "/Users/zhongyitong/Library/Python/3.11/lib/python/site-packages/sklearn/base.py:1152: DataConversionWarning: A column-vector y was passed when a 1d array was expected. Please change the shape of y to (n_samples,), for example using ravel().\n",
            "  return fit_method(estimator, *args, **kwargs)\n"
          ]
        },
        {
          "name": "stdout",
          "output_type": "stream",
          "text": [
            "[CV] END class_weight={0: 1, 1: 1}, max_depth=50, min_samples_leaf=1, min_samples_split=7, n_estimators=800; total time= 2.0min\n"
          ]
        },
        {
          "name": "stderr",
          "output_type": "stream",
          "text": [
            "/Users/zhongyitong/Library/Python/3.11/lib/python/site-packages/sklearn/base.py:1152: DataConversionWarning: A column-vector y was passed when a 1d array was expected. Please change the shape of y to (n_samples,), for example using ravel().\n",
            "  return fit_method(estimator, *args, **kwargs)\n"
          ]
        },
        {
          "name": "stdout",
          "output_type": "stream",
          "text": [
            "[CV] END class_weight={0: 1, 1: 1}, max_depth=50, min_samples_leaf=1, min_samples_split=7, n_estimators=800; total time= 2.1min\n"
          ]
        },
        {
          "name": "stderr",
          "output_type": "stream",
          "text": [
            "/Users/zhongyitong/Library/Python/3.11/lib/python/site-packages/sklearn/base.py:1152: DataConversionWarning: A column-vector y was passed when a 1d array was expected. Please change the shape of y to (n_samples,), for example using ravel().\n",
            "  return fit_method(estimator, *args, **kwargs)\n"
          ]
        },
        {
          "name": "stdout",
          "output_type": "stream",
          "text": [
            "[CV] END class_weight={0: 1, 1: 10000}, max_depth=70, min_samples_leaf=1, min_samples_split=2, n_estimators=602; total time= 3.3min\n"
          ]
        },
        {
          "name": "stderr",
          "output_type": "stream",
          "text": [
            "/Users/zhongyitong/Library/Python/3.11/lib/python/site-packages/sklearn/base.py:1152: DataConversionWarning: A column-vector y was passed when a 1d array was expected. Please change the shape of y to (n_samples,), for example using ravel().\n",
            "  return fit_method(estimator, *args, **kwargs)\n"
          ]
        },
        {
          "name": "stdout",
          "output_type": "stream",
          "text": [
            "[CV] END class_weight={0: 1, 1: 10}, max_depth=90, min_samples_leaf=3, min_samples_split=2, n_estimators=800; total time=  46.1s\n"
          ]
        },
        {
          "name": "stderr",
          "output_type": "stream",
          "text": [
            "/Users/zhongyitong/Library/Python/3.11/lib/python/site-packages/sklearn/base.py:1152: DataConversionWarning: A column-vector y was passed when a 1d array was expected. Please change the shape of y to (n_samples,), for example using ravel().\n",
            "  return fit_method(estimator, *args, **kwargs)\n"
          ]
        },
        {
          "name": "stdout",
          "output_type": "stream",
          "text": [
            "[CV] END class_weight={0: 1, 1: 10}, max_depth=90, min_samples_leaf=3, min_samples_split=2, n_estimators=800; total time=  47.0s\n"
          ]
        },
        {
          "name": "stderr",
          "output_type": "stream",
          "text": [
            "/Users/zhongyitong/Library/Python/3.11/lib/python/site-packages/sklearn/base.py:1152: DataConversionWarning: A column-vector y was passed when a 1d array was expected. Please change the shape of y to (n_samples,), for example using ravel().\n",
            "  return fit_method(estimator, *args, **kwargs)\n"
          ]
        },
        {
          "name": "stdout",
          "output_type": "stream",
          "text": [
            "[CV] END class_weight={0: 1, 1: 1000}, max_depth=70, min_samples_leaf=3, min_samples_split=7, n_estimators=405; total time=  37.5s\n"
          ]
        },
        {
          "name": "stderr",
          "output_type": "stream",
          "text": [
            "/Users/zhongyitong/Library/Python/3.11/lib/python/site-packages/sklearn/base.py:1152: DataConversionWarning: A column-vector y was passed when a 1d array was expected. Please change the shape of y to (n_samples,), for example using ravel().\n",
            "  return fit_method(estimator, *args, **kwargs)\n"
          ]
        },
        {
          "name": "stdout",
          "output_type": "stream",
          "text": [
            "[CV] END class_weight={0: 1, 1: 10}, max_depth=90, min_samples_leaf=3, min_samples_split=2, n_estimators=800; total time=  45.0s\n"
          ]
        },
        {
          "name": "stderr",
          "output_type": "stream",
          "text": [
            "/Users/zhongyitong/Library/Python/3.11/lib/python/site-packages/sklearn/base.py:1152: DataConversionWarning: A column-vector y was passed when a 1d array was expected. Please change the shape of y to (n_samples,), for example using ravel().\n",
            "  return fit_method(estimator, *args, **kwargs)\n"
          ]
        },
        {
          "name": "stdout",
          "output_type": "stream",
          "text": [
            "[CV] END class_weight={0: 1, 1: 10}, max_depth=90, min_samples_leaf=3, min_samples_split=2, n_estimators=800; total time=  46.7s\n"
          ]
        },
        {
          "name": "stderr",
          "output_type": "stream",
          "text": [
            "/Users/zhongyitong/Library/Python/3.11/lib/python/site-packages/sklearn/base.py:1152: DataConversionWarning: A column-vector y was passed when a 1d array was expected. Please change the shape of y to (n_samples,), for example using ravel().\n",
            "  return fit_method(estimator, *args, **kwargs)\n"
          ]
        },
        {
          "name": "stdout",
          "output_type": "stream",
          "text": [
            "[CV] END class_weight={0: 1, 1: 1000}, max_depth=70, min_samples_leaf=3, min_samples_split=7, n_estimators=405; total time=  54.1s\n"
          ]
        },
        {
          "name": "stderr",
          "output_type": "stream",
          "text": [
            "/Users/zhongyitong/Library/Python/3.11/lib/python/site-packages/sklearn/base.py:1152: DataConversionWarning: A column-vector y was passed when a 1d array was expected. Please change the shape of y to (n_samples,), for example using ravel().\n",
            "  return fit_method(estimator, *args, **kwargs)\n"
          ]
        },
        {
          "name": "stdout",
          "output_type": "stream",
          "text": [
            "[CV] END class_weight={0: 1, 1: 1}, max_depth=20, min_samples_leaf=1, min_samples_split=2, n_estimators=207; total time=  17.3s\n"
          ]
        },
        {
          "name": "stderr",
          "output_type": "stream",
          "text": [
            "/Users/zhongyitong/Library/Python/3.11/lib/python/site-packages/sklearn/base.py:1152: DataConversionWarning: A column-vector y was passed when a 1d array was expected. Please change the shape of y to (n_samples,), for example using ravel().\n",
            "  return fit_method(estimator, *args, **kwargs)\n"
          ]
        },
        {
          "name": "stdout",
          "output_type": "stream",
          "text": [
            "[CV] END class_weight={0: 1, 1: 10000}, max_depth=10, min_samples_leaf=1, min_samples_split=7, n_estimators=800; total time=  36.9s\n"
          ]
        },
        {
          "name": "stderr",
          "output_type": "stream",
          "text": [
            "/Users/zhongyitong/Library/Python/3.11/lib/python/site-packages/sklearn/base.py:1152: DataConversionWarning: A column-vector y was passed when a 1d array was expected. Please change the shape of y to (n_samples,), for example using ravel().\n",
            "  return fit_method(estimator, *args, **kwargs)\n"
          ]
        },
        {
          "name": "stdout",
          "output_type": "stream",
          "text": [
            "[CV] END class_weight={0: 1, 1: 10000}, max_depth=10, min_samples_leaf=1, min_samples_split=7, n_estimators=800; total time=  36.4s\n"
          ]
        },
        {
          "name": "stderr",
          "output_type": "stream",
          "text": [
            "/Users/zhongyitong/Library/Python/3.11/lib/python/site-packages/sklearn/base.py:1152: DataConversionWarning: A column-vector y was passed when a 1d array was expected. Please change the shape of y to (n_samples,), for example using ravel().\n",
            "  return fit_method(estimator, *args, **kwargs)\n"
          ]
        },
        {
          "name": "stdout",
          "output_type": "stream",
          "text": [
            "[CV] END class_weight={0: 1, 1: 10000}, max_depth=10, min_samples_leaf=1, min_samples_split=7, n_estimators=800; total time=  37.0s\n"
          ]
        },
        {
          "name": "stderr",
          "output_type": "stream",
          "text": [
            "/Users/zhongyitong/Library/Python/3.11/lib/python/site-packages/sklearn/base.py:1152: DataConversionWarning: A column-vector y was passed when a 1d array was expected. Please change the shape of y to (n_samples,), for example using ravel().\n",
            "  return fit_method(estimator, *args, **kwargs)\n"
          ]
        },
        {
          "name": "stdout",
          "output_type": "stream",
          "text": [
            "[CV] END class_weight={0: 1, 1: 10}, max_depth=60, min_samples_leaf=1, min_samples_split=2, n_estimators=10; total time=   0.7s\n"
          ]
        },
        {
          "name": "stderr",
          "output_type": "stream",
          "text": [
            "/Users/zhongyitong/Library/Python/3.11/lib/python/site-packages/sklearn/base.py:1152: DataConversionWarning: A column-vector y was passed when a 1d array was expected. Please change the shape of y to (n_samples,), for example using ravel().\n",
            "  return fit_method(estimator, *args, **kwargs)\n"
          ]
        },
        {
          "name": "stdout",
          "output_type": "stream",
          "text": [
            "[CV] END class_weight={0: 1, 1: 10000}, max_depth=10, min_samples_leaf=1, min_samples_split=7, n_estimators=800; total time=  37.2s\n"
          ]
        },
        {
          "name": "stderr",
          "output_type": "stream",
          "text": [
            "/Users/zhongyitong/Library/Python/3.11/lib/python/site-packages/sklearn/base.py:1152: DataConversionWarning: A column-vector y was passed when a 1d array was expected. Please change the shape of y to (n_samples,), for example using ravel().\n",
            "  return fit_method(estimator, *args, **kwargs)\n"
          ]
        },
        {
          "name": "stdout",
          "output_type": "stream",
          "text": [
            "[CV] END class_weight={0: 1, 1: 10}, max_depth=60, min_samples_leaf=1, min_samples_split=2, n_estimators=10; total time=   0.6s\n"
          ]
        },
        {
          "name": "stderr",
          "output_type": "stream",
          "text": [
            "/Users/zhongyitong/Library/Python/3.11/lib/python/site-packages/sklearn/base.py:1152: DataConversionWarning: A column-vector y was passed when a 1d array was expected. Please change the shape of y to (n_samples,), for example using ravel().\n",
            "  return fit_method(estimator, *args, **kwargs)\n"
          ]
        },
        {
          "name": "stdout",
          "output_type": "stream",
          "text": [
            "[CV] END class_weight={0: 1, 1: 10}, max_depth=60, min_samples_leaf=1, min_samples_split=2, n_estimators=10; total time=   0.6s\n"
          ]
        },
        {
          "name": "stderr",
          "output_type": "stream",
          "text": [
            "/Users/zhongyitong/Library/Python/3.11/lib/python/site-packages/sklearn/base.py:1152: DataConversionWarning: A column-vector y was passed when a 1d array was expected. Please change the shape of y to (n_samples,), for example using ravel().\n",
            "  return fit_method(estimator, *args, **kwargs)\n"
          ]
        },
        {
          "name": "stdout",
          "output_type": "stream",
          "text": [
            "[CV] END class_weight={0: 1, 1: 10}, max_depth=60, min_samples_leaf=1, min_samples_split=2, n_estimators=10; total time=   0.6s\n"
          ]
        },
        {
          "name": "stderr",
          "output_type": "stream",
          "text": [
            "/Users/zhongyitong/Library/Python/3.11/lib/python/site-packages/sklearn/base.py:1152: DataConversionWarning: A column-vector y was passed when a 1d array was expected. Please change the shape of y to (n_samples,), for example using ravel().\n",
            "  return fit_method(estimator, *args, **kwargs)\n"
          ]
        },
        {
          "name": "stdout",
          "output_type": "stream",
          "text": [
            "[CV] END class_weight={0: 1, 1: 10}, max_depth=60, min_samples_leaf=1, min_samples_split=2, n_estimators=10; total time=   0.6s\n"
          ]
        },
        {
          "name": "stderr",
          "output_type": "stream",
          "text": [
            "/Users/zhongyitong/Library/Python/3.11/lib/python/site-packages/sklearn/base.py:1152: DataConversionWarning: A column-vector y was passed when a 1d array was expected. Please change the shape of y to (n_samples,), for example using ravel().\n",
            "  return fit_method(estimator, *args, **kwargs)\n"
          ]
        },
        {
          "name": "stdout",
          "output_type": "stream",
          "text": [
            "[CV] END class_weight={0: 1, 1: 1000}, max_depth=70, min_samples_leaf=3, min_samples_split=7, n_estimators=405; total time= 1.1min\n",
            "[CV] END class_weight={0: 1, 1: 1}, max_depth=20, min_samples_leaf=1, min_samples_split=2, n_estimators=207; total time=  17.3s\n"
          ]
        },
        {
          "name": "stderr",
          "output_type": "stream",
          "text": [
            "/Users/zhongyitong/Library/Python/3.11/lib/python/site-packages/sklearn/base.py:1152: DataConversionWarning: A column-vector y was passed when a 1d array was expected. Please change the shape of y to (n_samples,), for example using ravel().\n",
            "  return fit_method(estimator, *args, **kwargs)\n",
            "/Users/zhongyitong/Library/Python/3.11/lib/python/site-packages/sklearn/base.py:1152: DataConversionWarning: A column-vector y was passed when a 1d array was expected. Please change the shape of y to (n_samples,), for example using ravel().\n",
            "  return fit_method(estimator, *args, **kwargs)\n"
          ]
        },
        {
          "name": "stdout",
          "output_type": "stream",
          "text": [
            "[CV] END class_weight={0: 1, 1: 1}, max_depth=20, min_samples_leaf=1, min_samples_split=2, n_estimators=207; total time=  28.1s\n"
          ]
        },
        {
          "name": "stderr",
          "output_type": "stream",
          "text": [
            "/Users/zhongyitong/Library/Python/3.11/lib/python/site-packages/sklearn/base.py:1152: DataConversionWarning: A column-vector y was passed when a 1d array was expected. Please change the shape of y to (n_samples,), for example using ravel().\n",
            "  return fit_method(estimator, *args, **kwargs)\n"
          ]
        },
        {
          "name": "stdout",
          "output_type": "stream",
          "text": [
            "[CV] END class_weight={0: 1, 1: 1}, max_depth=20, min_samples_leaf=1, min_samples_split=2, n_estimators=207; total time=  17.5s\n"
          ]
        },
        {
          "name": "stderr",
          "output_type": "stream",
          "text": [
            "/Users/zhongyitong/Library/Python/3.11/lib/python/site-packages/sklearn/base.py:1152: DataConversionWarning: A column-vector y was passed when a 1d array was expected. Please change the shape of y to (n_samples,), for example using ravel().\n",
            "  return fit_method(estimator, *args, **kwargs)\n"
          ]
        },
        {
          "name": "stdout",
          "output_type": "stream",
          "text": [
            "[CV] END class_weight={0: 1, 1: 1}, max_depth=20, min_samples_leaf=1, min_samples_split=2, n_estimators=207; total time=  17.7s\n"
          ]
        },
        {
          "name": "stderr",
          "output_type": "stream",
          "text": [
            "/Users/zhongyitong/Library/Python/3.11/lib/python/site-packages/sklearn/base.py:1152: DataConversionWarning: A column-vector y was passed when a 1d array was expected. Please change the shape of y to (n_samples,), for example using ravel().\n",
            "  return fit_method(estimator, *args, **kwargs)\n"
          ]
        },
        {
          "name": "stdout",
          "output_type": "stream",
          "text": [
            "[CV] END class_weight={0: 1, 1: 10000}, max_depth=10, min_samples_leaf=1, min_samples_split=7, n_estimators=800; total time=  58.8s\n"
          ]
        },
        {
          "name": "stderr",
          "output_type": "stream",
          "text": [
            "/Users/zhongyitong/Library/Python/3.11/lib/python/site-packages/sklearn/base.py:1152: DataConversionWarning: A column-vector y was passed when a 1d array was expected. Please change the shape of y to (n_samples,), for example using ravel().\n",
            "  return fit_method(estimator, *args, **kwargs)\n"
          ]
        },
        {
          "name": "stdout",
          "output_type": "stream",
          "text": [
            "[CV] END class_weight={0: 1, 1: 1000}, max_depth=70, min_samples_leaf=3, min_samples_split=7, n_estimators=405; total time= 1.1min\n"
          ]
        },
        {
          "name": "stderr",
          "output_type": "stream",
          "text": [
            "/Users/zhongyitong/Library/Python/3.11/lib/python/site-packages/sklearn/base.py:1152: DataConversionWarning: A column-vector y was passed when a 1d array was expected. Please change the shape of y to (n_samples,), for example using ravel().\n",
            "  return fit_method(estimator, *args, **kwargs)\n"
          ]
        },
        {
          "name": "stdout",
          "output_type": "stream",
          "text": [
            "[CV] END class_weight={0: 1, 1: 1000}, max_depth=70, min_samples_leaf=3, min_samples_split=7, n_estimators=405; total time= 1.2min\n"
          ]
        },
        {
          "name": "stderr",
          "output_type": "stream",
          "text": [
            "/Users/zhongyitong/Library/Python/3.11/lib/python/site-packages/sklearn/base.py:1152: DataConversionWarning: A column-vector y was passed when a 1d array was expected. Please change the shape of y to (n_samples,), for example using ravel().\n",
            "  return fit_method(estimator, *args, **kwargs)\n"
          ]
        },
        {
          "name": "stdout",
          "output_type": "stream",
          "text": [
            "[CV] END class_weight={0: 1, 1: 100000}, max_depth=70, min_samples_leaf=3, min_samples_split=7, n_estimators=207; total time=  40.9s\n"
          ]
        },
        {
          "name": "stderr",
          "output_type": "stream",
          "text": [
            "/Users/zhongyitong/Library/Python/3.11/lib/python/site-packages/sklearn/base.py:1152: DataConversionWarning: A column-vector y was passed when a 1d array was expected. Please change the shape of y to (n_samples,), for example using ravel().\n",
            "  return fit_method(estimator, *args, **kwargs)\n"
          ]
        },
        {
          "name": "stdout",
          "output_type": "stream",
          "text": [
            "[CV] END class_weight={0: 1, 1: 100000}, max_depth=70, min_samples_leaf=3, min_samples_split=7, n_estimators=207; total time=  40.1s\n"
          ]
        },
        {
          "name": "stderr",
          "output_type": "stream",
          "text": [
            "/Users/zhongyitong/Library/Python/3.11/lib/python/site-packages/sklearn/base.py:1152: DataConversionWarning: A column-vector y was passed when a 1d array was expected. Please change the shape of y to (n_samples,), for example using ravel().\n",
            "  return fit_method(estimator, *args, **kwargs)\n"
          ]
        },
        {
          "name": "stdout",
          "output_type": "stream",
          "text": [
            "[CV] END class_weight={0: 1, 1: 100000}, max_depth=70, min_samples_leaf=3, min_samples_split=7, n_estimators=207; total time=  41.7s\n"
          ]
        },
        {
          "name": "stderr",
          "output_type": "stream",
          "text": [
            "/Users/zhongyitong/Library/Python/3.11/lib/python/site-packages/sklearn/base.py:1152: DataConversionWarning: A column-vector y was passed when a 1d array was expected. Please change the shape of y to (n_samples,), for example using ravel().\n",
            "  return fit_method(estimator, *args, **kwargs)\n"
          ]
        },
        {
          "name": "stdout",
          "output_type": "stream",
          "text": [
            "[CV] END class_weight={0: 1, 1: 100000}, max_depth=70, min_samples_leaf=3, min_samples_split=7, n_estimators=207; total time= 1.1min\n"
          ]
        },
        {
          "name": "stderr",
          "output_type": "stream",
          "text": [
            "/Users/zhongyitong/Library/Python/3.11/lib/python/site-packages/sklearn/base.py:1152: DataConversionWarning: A column-vector y was passed when a 1d array was expected. Please change the shape of y to (n_samples,), for example using ravel().\n",
            "  return fit_method(estimator, *args, **kwargs)\n"
          ]
        },
        {
          "name": "stdout",
          "output_type": "stream",
          "text": [
            "[CV] END class_weight={0: 1, 1: 10}, max_depth=20, min_samples_leaf=3, min_samples_split=2, n_estimators=602; total time=  33.9s\n",
            "[CV] END class_weight={0: 1, 1: 10}, max_depth=20, min_samples_leaf=3, min_samples_split=2, n_estimators=602; total time=  34.5s\n",
            "[CV] END class_weight={0: 1, 1: 100000}, max_depth=70, min_samples_leaf=3, min_samples_split=7, n_estimators=207; total time= 1.1min\n"
          ]
        },
        {
          "name": "stderr",
          "output_type": "stream",
          "text": [
            "/Users/zhongyitong/Library/Python/3.11/lib/python/site-packages/sklearn/base.py:1152: DataConversionWarning: A column-vector y was passed when a 1d array was expected. Please change the shape of y to (n_samples,), for example using ravel().\n",
            "  return fit_method(estimator, *args, **kwargs)\n",
            "/Users/zhongyitong/Library/Python/3.11/lib/python/site-packages/sklearn/base.py:1152: DataConversionWarning: A column-vector y was passed when a 1d array was expected. Please change the shape of y to (n_samples,), for example using ravel().\n",
            "  return fit_method(estimator, *args, **kwargs)\n",
            "/Users/zhongyitong/Library/Python/3.11/lib/python/site-packages/sklearn/base.py:1152: DataConversionWarning: A column-vector y was passed when a 1d array was expected. Please change the shape of y to (n_samples,), for example using ravel().\n",
            "  return fit_method(estimator, *args, **kwargs)\n"
          ]
        },
        {
          "name": "stdout",
          "output_type": "stream",
          "text": [
            "[CV] END class_weight={0: 1, 1: 10}, max_depth=20, min_samples_leaf=3, min_samples_split=2, n_estimators=602; total time=  34.9s\n"
          ]
        },
        {
          "name": "stderr",
          "output_type": "stream",
          "text": [
            "/Users/zhongyitong/Library/Python/3.11/lib/python/site-packages/sklearn/base.py:1152: DataConversionWarning: A column-vector y was passed when a 1d array was expected. Please change the shape of y to (n_samples,), for example using ravel().\n",
            "  return fit_method(estimator, *args, **kwargs)\n"
          ]
        },
        {
          "name": "stdout",
          "output_type": "stream",
          "text": [
            "[CV] END class_weight={0: 1, 1: 1000}, max_depth=90, min_samples_leaf=3, min_samples_split=2, n_estimators=207; total time=  20.1s\n"
          ]
        },
        {
          "name": "stderr",
          "output_type": "stream",
          "text": [
            "/Users/zhongyitong/Library/Python/3.11/lib/python/site-packages/sklearn/base.py:1152: DataConversionWarning: A column-vector y was passed when a 1d array was expected. Please change the shape of y to (n_samples,), for example using ravel().\n",
            "  return fit_method(estimator, *args, **kwargs)\n"
          ]
        },
        {
          "name": "stdout",
          "output_type": "stream",
          "text": [
            "[CV] END class_weight={0: 1, 1: 1000}, max_depth=90, min_samples_leaf=3, min_samples_split=2, n_estimators=207; total time=  21.6s\n"
          ]
        },
        {
          "name": "stderr",
          "output_type": "stream",
          "text": [
            "/Users/zhongyitong/Library/Python/3.11/lib/python/site-packages/sklearn/base.py:1152: DataConversionWarning: A column-vector y was passed when a 1d array was expected. Please change the shape of y to (n_samples,), for example using ravel().\n",
            "  return fit_method(estimator, *args, **kwargs)\n"
          ]
        },
        {
          "name": "stdout",
          "output_type": "stream",
          "text": [
            "[CV] END class_weight={0: 1, 1: 1000}, max_depth=90, min_samples_leaf=3, min_samples_split=2, n_estimators=207; total time=  35.2s\n",
            "[CV] END class_weight={0: 1, 1: 1000000}, max_depth=90, min_samples_leaf=3, min_samples_split=7, n_estimators=405; total time= 1.7min\n"
          ]
        },
        {
          "name": "stderr",
          "output_type": "stream",
          "text": [
            "/Users/zhongyitong/Library/Python/3.11/lib/python/site-packages/sklearn/base.py:1152: DataConversionWarning: A column-vector y was passed when a 1d array was expected. Please change the shape of y to (n_samples,), for example using ravel().\n",
            "  return fit_method(estimator, *args, **kwargs)\n",
            "/Users/zhongyitong/Library/Python/3.11/lib/python/site-packages/sklearn/base.py:1152: DataConversionWarning: A column-vector y was passed when a 1d array was expected. Please change the shape of y to (n_samples,), for example using ravel().\n",
            "  return fit_method(estimator, *args, **kwargs)\n"
          ]
        },
        {
          "name": "stdout",
          "output_type": "stream",
          "text": [
            "[CV] END class_weight={0: 1, 1: 10}, max_depth=20, min_samples_leaf=3, min_samples_split=2, n_estimators=602; total time=  46.8s\n"
          ]
        },
        {
          "name": "stderr",
          "output_type": "stream",
          "text": [
            "/Users/zhongyitong/Library/Python/3.11/lib/python/site-packages/sklearn/base.py:1152: DataConversionWarning: A column-vector y was passed when a 1d array was expected. Please change the shape of y to (n_samples,), for example using ravel().\n",
            "  return fit_method(estimator, *args, **kwargs)\n"
          ]
        },
        {
          "name": "stdout",
          "output_type": "stream",
          "text": [
            "[CV] END class_weight={0: 1, 1: 10}, max_depth=20, min_samples_leaf=3, min_samples_split=2, n_estimators=602; total time=  36.9s\n"
          ]
        },
        {
          "name": "stderr",
          "output_type": "stream",
          "text": [
            "/Users/zhongyitong/Library/Python/3.11/lib/python/site-packages/sklearn/base.py:1152: DataConversionWarning: A column-vector y was passed when a 1d array was expected. Please change the shape of y to (n_samples,), for example using ravel().\n",
            "  return fit_method(estimator, *args, **kwargs)\n"
          ]
        },
        {
          "name": "stdout",
          "output_type": "stream",
          "text": [
            "[CV] END class_weight={0: 1, 1: 1000000}, max_depth=90, min_samples_leaf=3, min_samples_split=7, n_estimators=405; total time= 1.7min\n"
          ]
        },
        {
          "name": "stderr",
          "output_type": "stream",
          "text": [
            "/Users/zhongyitong/Library/Python/3.11/lib/python/site-packages/sklearn/base.py:1152: DataConversionWarning: A column-vector y was passed when a 1d array was expected. Please change the shape of y to (n_samples,), for example using ravel().\n",
            "  return fit_method(estimator, *args, **kwargs)\n"
          ]
        },
        {
          "name": "stdout",
          "output_type": "stream",
          "text": [
            "[CV] END class_weight={0: 1, 1: 1000}, max_depth=90, min_samples_leaf=3, min_samples_split=2, n_estimators=207; total time=  25.9s\n"
          ]
        },
        {
          "name": "stderr",
          "output_type": "stream",
          "text": [
            "/Users/zhongyitong/Library/Python/3.11/lib/python/site-packages/sklearn/base.py:1152: DataConversionWarning: A column-vector y was passed when a 1d array was expected. Please change the shape of y to (n_samples,), for example using ravel().\n",
            "  return fit_method(estimator, *args, **kwargs)\n"
          ]
        },
        {
          "name": "stdout",
          "output_type": "stream",
          "text": [
            "[CV] END class_weight={0: 1, 1: 1000}, max_depth=90, min_samples_leaf=3, min_samples_split=2, n_estimators=207; total time=  25.1s\n"
          ]
        },
        {
          "name": "stderr",
          "output_type": "stream",
          "text": [
            "/Users/zhongyitong/Library/Python/3.11/lib/python/site-packages/sklearn/base.py:1152: DataConversionWarning: A column-vector y was passed when a 1d array was expected. Please change the shape of y to (n_samples,), for example using ravel().\n",
            "  return fit_method(estimator, *args, **kwargs)\n"
          ]
        },
        {
          "name": "stdout",
          "output_type": "stream",
          "text": [
            "[CV] END class_weight={0: 1, 1: 1000000}, max_depth=90, min_samples_leaf=3, min_samples_split=7, n_estimators=405; total time= 2.1min\n"
          ]
        },
        {
          "name": "stderr",
          "output_type": "stream",
          "text": [
            "/Users/zhongyitong/Library/Python/3.11/lib/python/site-packages/sklearn/base.py:1152: DataConversionWarning: A column-vector y was passed when a 1d array was expected. Please change the shape of y to (n_samples,), for example using ravel().\n",
            "  return fit_method(estimator, *args, **kwargs)\n"
          ]
        },
        {
          "name": "stdout",
          "output_type": "stream",
          "text": [
            "[CV] END class_weight={0: 1, 1: 1000}, max_depth=40, min_samples_leaf=3, min_samples_split=7, n_estimators=405; total time=  36.7s\n",
            "[CV] END class_weight={0: 1, 1: 1000}, max_depth=40, min_samples_leaf=3, min_samples_split=7, n_estimators=405; total time=  35.9s\n"
          ]
        },
        {
          "name": "stderr",
          "output_type": "stream",
          "text": [
            "/Users/zhongyitong/Library/Python/3.11/lib/python/site-packages/sklearn/base.py:1152: DataConversionWarning: A column-vector y was passed when a 1d array was expected. Please change the shape of y to (n_samples,), for example using ravel().\n",
            "  return fit_method(estimator, *args, **kwargs)\n",
            "/Users/zhongyitong/Library/Python/3.11/lib/python/site-packages/sklearn/base.py:1152: DataConversionWarning: A column-vector y was passed when a 1d array was expected. Please change the shape of y to (n_samples,), for example using ravel().\n",
            "  return fit_method(estimator, *args, **kwargs)\n"
          ]
        },
        {
          "name": "stdout",
          "output_type": "stream",
          "text": [
            "[CV] END class_weight={0: 1, 1: 1000000}, max_depth=90, min_samples_leaf=3, min_samples_split=7, n_estimators=405; total time= 2.1min\n"
          ]
        },
        {
          "name": "stderr",
          "output_type": "stream",
          "text": [
            "/Users/zhongyitong/Library/Python/3.11/lib/python/site-packages/sklearn/base.py:1152: DataConversionWarning: A column-vector y was passed when a 1d array was expected. Please change the shape of y to (n_samples,), for example using ravel().\n",
            "  return fit_method(estimator, *args, **kwargs)\n"
          ]
        },
        {
          "name": "stdout",
          "output_type": "stream",
          "text": [
            "[CV] END class_weight={0: 1, 1: 1000}, max_depth=40, min_samples_leaf=3, min_samples_split=7, n_estimators=405; total time=  38.9s\n"
          ]
        },
        {
          "name": "stderr",
          "output_type": "stream",
          "text": [
            "/Users/zhongyitong/Library/Python/3.11/lib/python/site-packages/sklearn/base.py:1152: DataConversionWarning: A column-vector y was passed when a 1d array was expected. Please change the shape of y to (n_samples,), for example using ravel().\n",
            "  return fit_method(estimator, *args, **kwargs)\n"
          ]
        },
        {
          "name": "stdout",
          "output_type": "stream",
          "text": [
            "[CV] END class_weight={0: 1, 1: 1000}, max_depth=40, min_samples_leaf=3, min_samples_split=7, n_estimators=405; total time=  37.8s\n"
          ]
        },
        {
          "name": "stderr",
          "output_type": "stream",
          "text": [
            "/Users/zhongyitong/Library/Python/3.11/lib/python/site-packages/sklearn/base.py:1152: DataConversionWarning: A column-vector y was passed when a 1d array was expected. Please change the shape of y to (n_samples,), for example using ravel().\n",
            "  return fit_method(estimator, *args, **kwargs)\n"
          ]
        },
        {
          "name": "stdout",
          "output_type": "stream",
          "text": [
            "[CV] END class_weight={0: 1, 1: 1000}, max_depth=40, min_samples_leaf=3, min_samples_split=7, n_estimators=405; total time= 1.1min\n"
          ]
        },
        {
          "name": "stderr",
          "output_type": "stream",
          "text": [
            "/Users/zhongyitong/Library/Python/3.11/lib/python/site-packages/sklearn/base.py:1152: DataConversionWarning: A column-vector y was passed when a 1d array was expected. Please change the shape of y to (n_samples,), for example using ravel().\n",
            "  return fit_method(estimator, *args, **kwargs)\n"
          ]
        },
        {
          "name": "stdout",
          "output_type": "stream",
          "text": [
            "[CV] END class_weight={0: 1, 1: 1000000}, max_depth=90, min_samples_leaf=3, min_samples_split=7, n_estimators=405; total time= 2.8min\n"
          ]
        },
        {
          "name": "stderr",
          "output_type": "stream",
          "text": [
            "/Users/zhongyitong/Library/Python/3.11/lib/python/site-packages/sklearn/base.py:1152: DataConversionWarning: A column-vector y was passed when a 1d array was expected. Please change the shape of y to (n_samples,), for example using ravel().\n",
            "  return fit_method(estimator, *args, **kwargs)\n"
          ]
        },
        {
          "name": "stdout",
          "output_type": "stream",
          "text": [
            "[CV] END class_weight={0: 1, 1: 1000000}, max_depth=80, min_samples_leaf=1, min_samples_split=7, n_estimators=800; total time= 3.3min\n"
          ]
        },
        {
          "name": "stderr",
          "output_type": "stream",
          "text": [
            "/Users/zhongyitong/Library/Python/3.11/lib/python/site-packages/sklearn/base.py:1152: DataConversionWarning: A column-vector y was passed when a 1d array was expected. Please change the shape of y to (n_samples,), for example using ravel().\n",
            "  return fit_method(estimator, *args, **kwargs)\n"
          ]
        },
        {
          "name": "stdout",
          "output_type": "stream",
          "text": [
            "[CV] END class_weight={0: 1, 1: 1000000}, max_depth=80, min_samples_leaf=1, min_samples_split=7, n_estimators=800; total time= 3.4min\n"
          ]
        },
        {
          "name": "stderr",
          "output_type": "stream",
          "text": [
            "/Users/zhongyitong/Library/Python/3.11/lib/python/site-packages/sklearn/base.py:1152: DataConversionWarning: A column-vector y was passed when a 1d array was expected. Please change the shape of y to (n_samples,), for example using ravel().\n",
            "  return fit_method(estimator, *args, **kwargs)\n"
          ]
        },
        {
          "name": "stdout",
          "output_type": "stream",
          "text": [
            "[CV] END class_weight={0: 1, 1: 1000000}, max_depth=70, min_samples_leaf=3, min_samples_split=2, n_estimators=800; total time= 3.0min\n",
            "[CV] END class_weight={0: 1, 1: 1000000}, max_depth=70, min_samples_leaf=3, min_samples_split=2, n_estimators=800; total time= 3.0min\n"
          ]
        },
        {
          "name": "stderr",
          "output_type": "stream",
          "text": [
            "/Users/zhongyitong/Library/Python/3.11/lib/python/site-packages/sklearn/base.py:1152: DataConversionWarning: A column-vector y was passed when a 1d array was expected. Please change the shape of y to (n_samples,), for example using ravel().\n",
            "  return fit_method(estimator, *args, **kwargs)\n",
            "/Users/zhongyitong/Library/Python/3.11/lib/python/site-packages/sklearn/base.py:1152: DataConversionWarning: A column-vector y was passed when a 1d array was expected. Please change the shape of y to (n_samples,), for example using ravel().\n",
            "  return fit_method(estimator, *args, **kwargs)\n"
          ]
        },
        {
          "name": "stdout",
          "output_type": "stream",
          "text": [
            "[CV] END class_weight={0: 1, 1: 1000000}, max_depth=80, min_samples_leaf=1, min_samples_split=7, n_estimators=800; total time= 3.2min\n"
          ]
        },
        {
          "name": "stderr",
          "output_type": "stream",
          "text": [
            "/Users/zhongyitong/Library/Python/3.11/lib/python/site-packages/sklearn/base.py:1152: DataConversionWarning: A column-vector y was passed when a 1d array was expected. Please change the shape of y to (n_samples,), for example using ravel().\n",
            "  return fit_method(estimator, *args, **kwargs)\n"
          ]
        },
        {
          "name": "stdout",
          "output_type": "stream",
          "text": [
            "[CV] END class_weight={0: 1, 1: 1000000}, max_depth=70, min_samples_leaf=3, min_samples_split=2, n_estimators=800; total time= 3.1min\n"
          ]
        },
        {
          "name": "stderr",
          "output_type": "stream",
          "text": [
            "/Users/zhongyitong/Library/Python/3.11/lib/python/site-packages/sklearn/base.py:1152: DataConversionWarning: A column-vector y was passed when a 1d array was expected. Please change the shape of y to (n_samples,), for example using ravel().\n",
            "  return fit_method(estimator, *args, **kwargs)\n"
          ]
        },
        {
          "name": "stdout",
          "output_type": "stream",
          "text": [
            "[CV] END class_weight={0: 1, 1: 100000}, max_depth=40, min_samples_leaf=3, min_samples_split=7, n_estimators=10; total time=   1.6s\n"
          ]
        },
        {
          "name": "stderr",
          "output_type": "stream",
          "text": [
            "/Users/zhongyitong/Library/Python/3.11/lib/python/site-packages/sklearn/base.py:1152: DataConversionWarning: A column-vector y was passed when a 1d array was expected. Please change the shape of y to (n_samples,), for example using ravel().\n",
            "  return fit_method(estimator, *args, **kwargs)\n"
          ]
        },
        {
          "name": "stdout",
          "output_type": "stream",
          "text": [
            "[CV] END class_weight={0: 1, 1: 100000}, max_depth=40, min_samples_leaf=3, min_samples_split=7, n_estimators=10; total time=   1.4s\n"
          ]
        },
        {
          "name": "stderr",
          "output_type": "stream",
          "text": [
            "/Users/zhongyitong/Library/Python/3.11/lib/python/site-packages/sklearn/base.py:1152: DataConversionWarning: A column-vector y was passed when a 1d array was expected. Please change the shape of y to (n_samples,), for example using ravel().\n",
            "  return fit_method(estimator, *args, **kwargs)\n"
          ]
        },
        {
          "name": "stdout",
          "output_type": "stream",
          "text": [
            "[CV] END class_weight={0: 1, 1: 100000}, max_depth=40, min_samples_leaf=3, min_samples_split=7, n_estimators=10; total time=   1.5s\n"
          ]
        },
        {
          "name": "stderr",
          "output_type": "stream",
          "text": [
            "/Users/zhongyitong/Library/Python/3.11/lib/python/site-packages/sklearn/base.py:1152: DataConversionWarning: A column-vector y was passed when a 1d array was expected. Please change the shape of y to (n_samples,), for example using ravel().\n",
            "  return fit_method(estimator, *args, **kwargs)\n"
          ]
        },
        {
          "name": "stdout",
          "output_type": "stream",
          "text": [
            "[CV] END class_weight={0: 1, 1: 100000}, max_depth=40, min_samples_leaf=3, min_samples_split=7, n_estimators=10; total time=   1.6s\n"
          ]
        },
        {
          "name": "stderr",
          "output_type": "stream",
          "text": [
            "/Users/zhongyitong/Library/Python/3.11/lib/python/site-packages/sklearn/base.py:1152: DataConversionWarning: A column-vector y was passed when a 1d array was expected. Please change the shape of y to (n_samples,), for example using ravel().\n",
            "  return fit_method(estimator, *args, **kwargs)\n"
          ]
        },
        {
          "name": "stdout",
          "output_type": "stream",
          "text": [
            "[CV] END class_weight={0: 1, 1: 1000000}, max_depth=80, min_samples_leaf=1, min_samples_split=7, n_estimators=800; total time= 3.3min\n"
          ]
        },
        {
          "name": "stderr",
          "output_type": "stream",
          "text": [
            "/Users/zhongyitong/Library/Python/3.11/lib/python/site-packages/sklearn/base.py:1152: DataConversionWarning: A column-vector y was passed when a 1d array was expected. Please change the shape of y to (n_samples,), for example using ravel().\n",
            "  return fit_method(estimator, *args, **kwargs)\n"
          ]
        },
        {
          "name": "stdout",
          "output_type": "stream",
          "text": [
            "[CV] END class_weight={0: 1, 1: 100000}, max_depth=40, min_samples_leaf=3, min_samples_split=7, n_estimators=10; total time=   1.6s\n"
          ]
        },
        {
          "name": "stderr",
          "output_type": "stream",
          "text": [
            "/Users/zhongyitong/Library/Python/3.11/lib/python/site-packages/sklearn/base.py:1152: DataConversionWarning: A column-vector y was passed when a 1d array was expected. Please change the shape of y to (n_samples,), for example using ravel().\n",
            "  return fit_method(estimator, *args, **kwargs)\n"
          ]
        },
        {
          "name": "stdout",
          "output_type": "stream",
          "text": [
            "[CV] END class_weight={0: 1, 1: 1000000}, max_depth=80, min_samples_leaf=1, min_samples_split=7, n_estimators=800; total time= 3.4min\n"
          ]
        },
        {
          "name": "stderr",
          "output_type": "stream",
          "text": [
            "/Users/zhongyitong/Library/Python/3.11/lib/python/site-packages/sklearn/base.py:1152: DataConversionWarning: A column-vector y was passed when a 1d array was expected. Please change the shape of y to (n_samples,), for example using ravel().\n",
            "  return fit_method(estimator, *args, **kwargs)\n"
          ]
        },
        {
          "name": "stdout",
          "output_type": "stream",
          "text": [
            "[CV] END class_weight={0: 1, 1: 10000}, max_depth=30, min_samples_leaf=3, min_samples_split=7, n_estimators=800; total time= 1.6min\n"
          ]
        },
        {
          "name": "stderr",
          "output_type": "stream",
          "text": [
            "/Users/zhongyitong/Library/Python/3.11/lib/python/site-packages/sklearn/base.py:1152: DataConversionWarning: A column-vector y was passed when a 1d array was expected. Please change the shape of y to (n_samples,), for example using ravel().\n",
            "  return fit_method(estimator, *args, **kwargs)\n"
          ]
        },
        {
          "name": "stdout",
          "output_type": "stream",
          "text": [
            "[CV] END class_weight={0: 1, 1: 10000}, max_depth=30, min_samples_leaf=3, min_samples_split=7, n_estimators=800; total time= 1.6min\n"
          ]
        },
        {
          "name": "stderr",
          "output_type": "stream",
          "text": [
            "/Users/zhongyitong/Library/Python/3.11/lib/python/site-packages/sklearn/base.py:1152: DataConversionWarning: A column-vector y was passed when a 1d array was expected. Please change the shape of y to (n_samples,), for example using ravel().\n",
            "  return fit_method(estimator, *args, **kwargs)\n"
          ]
        },
        {
          "name": "stdout",
          "output_type": "stream",
          "text": [
            "[CV] END class_weight={0: 1, 1: 10000}, max_depth=30, min_samples_leaf=3, min_samples_split=7, n_estimators=800; total time= 1.6min\n"
          ]
        },
        {
          "name": "stderr",
          "output_type": "stream",
          "text": [
            "/Users/zhongyitong/Library/Python/3.11/lib/python/site-packages/sklearn/base.py:1152: DataConversionWarning: A column-vector y was passed when a 1d array was expected. Please change the shape of y to (n_samples,), for example using ravel().\n",
            "  return fit_method(estimator, *args, **kwargs)\n"
          ]
        },
        {
          "name": "stdout",
          "output_type": "stream",
          "text": [
            "[CV] END class_weight={0: 1, 1: 10000}, max_depth=50, min_samples_leaf=3, min_samples_split=7, n_estimators=800; total time= 2.3min\n"
          ]
        },
        {
          "name": "stderr",
          "output_type": "stream",
          "text": [
            "/Users/zhongyitong/Library/Python/3.11/lib/python/site-packages/sklearn/base.py:1152: DataConversionWarning: A column-vector y was passed when a 1d array was expected. Please change the shape of y to (n_samples,), for example using ravel().\n",
            "  return fit_method(estimator, *args, **kwargs)\n"
          ]
        },
        {
          "name": "stdout",
          "output_type": "stream",
          "text": [
            "[CV] END class_weight={0: 1, 1: 10000}, max_depth=50, min_samples_leaf=3, min_samples_split=7, n_estimators=800; total time= 2.3min\n"
          ]
        },
        {
          "name": "stderr",
          "output_type": "stream",
          "text": [
            "/Users/zhongyitong/Library/Python/3.11/lib/python/site-packages/sklearn/base.py:1152: DataConversionWarning: A column-vector y was passed when a 1d array was expected. Please change the shape of y to (n_samples,), for example using ravel().\n",
            "  return fit_method(estimator, *args, **kwargs)\n"
          ]
        },
        {
          "name": "stdout",
          "output_type": "stream",
          "text": [
            "[CV] END class_weight={0: 1, 1: 10000}, max_depth=50, min_samples_leaf=3, min_samples_split=7, n_estimators=800; total time= 2.2min\n"
          ]
        },
        {
          "name": "stderr",
          "output_type": "stream",
          "text": [
            "/Users/zhongyitong/Library/Python/3.11/lib/python/site-packages/sklearn/base.py:1152: DataConversionWarning: A column-vector y was passed when a 1d array was expected. Please change the shape of y to (n_samples,), for example using ravel().\n",
            "  return fit_method(estimator, *args, **kwargs)\n"
          ]
        },
        {
          "name": "stdout",
          "output_type": "stream",
          "text": [
            "[CV] END class_weight={0: 1, 1: 10000}, max_depth=50, min_samples_leaf=3, min_samples_split=7, n_estimators=800; total time= 2.3min\n"
          ]
        },
        {
          "name": "stderr",
          "output_type": "stream",
          "text": [
            "/Users/zhongyitong/Library/Python/3.11/lib/python/site-packages/sklearn/base.py:1152: DataConversionWarning: A column-vector y was passed when a 1d array was expected. Please change the shape of y to (n_samples,), for example using ravel().\n",
            "  return fit_method(estimator, *args, **kwargs)\n"
          ]
        },
        {
          "name": "stdout",
          "output_type": "stream",
          "text": [
            "[CV] END class_weight={0: 1, 1: 10000}, max_depth=50, min_samples_leaf=3, min_samples_split=7, n_estimators=800; total time= 2.3min\n"
          ]
        },
        {
          "name": "stderr",
          "output_type": "stream",
          "text": [
            "/Users/zhongyitong/Library/Python/3.11/lib/python/site-packages/sklearn/base.py:1152: DataConversionWarning: A column-vector y was passed when a 1d array was expected. Please change the shape of y to (n_samples,), for example using ravel().\n",
            "  return fit_method(estimator, *args, **kwargs)\n"
          ]
        },
        {
          "name": "stdout",
          "output_type": "stream",
          "text": [
            "[CV] END class_weight={0: 1, 1: 1000000}, max_depth=10, min_samples_leaf=1, min_samples_split=2, n_estimators=602; total time=  32.3s\n"
          ]
        },
        {
          "name": "stderr",
          "output_type": "stream",
          "text": [
            "/Users/zhongyitong/Library/Python/3.11/lib/python/site-packages/sklearn/base.py:1152: DataConversionWarning: A column-vector y was passed when a 1d array was expected. Please change the shape of y to (n_samples,), for example using ravel().\n",
            "  return fit_method(estimator, *args, **kwargs)\n"
          ]
        },
        {
          "name": "stdout",
          "output_type": "stream",
          "text": [
            "[CV] END class_weight={0: 1, 1: 1000000}, max_depth=70, min_samples_leaf=3, min_samples_split=2, n_estimators=800; total time= 5.2min\n"
          ]
        },
        {
          "name": "stderr",
          "output_type": "stream",
          "text": [
            "/Users/zhongyitong/Library/Python/3.11/lib/python/site-packages/sklearn/base.py:1152: DataConversionWarning: A column-vector y was passed when a 1d array was expected. Please change the shape of y to (n_samples,), for example using ravel().\n",
            "  return fit_method(estimator, *args, **kwargs)\n"
          ]
        },
        {
          "name": "stdout",
          "output_type": "stream",
          "text": [
            "[CV] END class_weight={0: 1, 1: 1000000}, max_depth=10, min_samples_leaf=1, min_samples_split=2, n_estimators=602; total time=  33.5s\n"
          ]
        },
        {
          "name": "stderr",
          "output_type": "stream",
          "text": [
            "/Users/zhongyitong/Library/Python/3.11/lib/python/site-packages/sklearn/base.py:1152: DataConversionWarning: A column-vector y was passed when a 1d array was expected. Please change the shape of y to (n_samples,), for example using ravel().\n",
            "  return fit_method(estimator, *args, **kwargs)\n"
          ]
        },
        {
          "name": "stdout",
          "output_type": "stream",
          "text": [
            "[CV] END class_weight={0: 1, 1: 1000000}, max_depth=10, min_samples_leaf=1, min_samples_split=2, n_estimators=602; total time=  34.1s\n"
          ]
        },
        {
          "name": "stderr",
          "output_type": "stream",
          "text": [
            "/Users/zhongyitong/Library/Python/3.11/lib/python/site-packages/sklearn/base.py:1152: DataConversionWarning: A column-vector y was passed when a 1d array was expected. Please change the shape of y to (n_samples,), for example using ravel().\n",
            "  return fit_method(estimator, *args, **kwargs)\n"
          ]
        },
        {
          "name": "stdout",
          "output_type": "stream",
          "text": [
            "[CV] END class_weight={0: 1, 1: 1000000}, max_depth=10, min_samples_leaf=1, min_samples_split=2, n_estimators=602; total time=  33.6s\n"
          ]
        },
        {
          "name": "stderr",
          "output_type": "stream",
          "text": [
            "/Users/zhongyitong/Library/Python/3.11/lib/python/site-packages/sklearn/base.py:1152: DataConversionWarning: A column-vector y was passed when a 1d array was expected. Please change the shape of y to (n_samples,), for example using ravel().\n",
            "  return fit_method(estimator, *args, **kwargs)\n"
          ]
        },
        {
          "name": "stdout",
          "output_type": "stream",
          "text": [
            "[CV] END class_weight={0: 1, 1: 1000000}, max_depth=10, min_samples_leaf=1, min_samples_split=2, n_estimators=602; total time=  34.2s\n"
          ]
        },
        {
          "name": "stderr",
          "output_type": "stream",
          "text": [
            "/Users/zhongyitong/Library/Python/3.11/lib/python/site-packages/sklearn/base.py:1152: DataConversionWarning: A column-vector y was passed when a 1d array was expected. Please change the shape of y to (n_samples,), for example using ravel().\n",
            "  return fit_method(estimator, *args, **kwargs)\n"
          ]
        },
        {
          "name": "stdout",
          "output_type": "stream",
          "text": [
            "[CV] END class_weight={0: 1, 1: 10000}, max_depth=10, min_samples_leaf=3, min_samples_split=2, n_estimators=207; total time=  11.2s\n"
          ]
        },
        {
          "name": "stderr",
          "output_type": "stream",
          "text": [
            "/Users/zhongyitong/Library/Python/3.11/lib/python/site-packages/sklearn/base.py:1152: DataConversionWarning: A column-vector y was passed when a 1d array was expected. Please change the shape of y to (n_samples,), for example using ravel().\n",
            "  return fit_method(estimator, *args, **kwargs)\n"
          ]
        },
        {
          "name": "stdout",
          "output_type": "stream",
          "text": [
            "[CV] END class_weight={0: 1, 1: 10000}, max_depth=10, min_samples_leaf=3, min_samples_split=2, n_estimators=207; total time=  11.2s\n"
          ]
        },
        {
          "name": "stderr",
          "output_type": "stream",
          "text": [
            "/Users/zhongyitong/Library/Python/3.11/lib/python/site-packages/sklearn/base.py:1152: DataConversionWarning: A column-vector y was passed when a 1d array was expected. Please change the shape of y to (n_samples,), for example using ravel().\n",
            "  return fit_method(estimator, *args, **kwargs)\n"
          ]
        },
        {
          "name": "stdout",
          "output_type": "stream",
          "text": [
            "[CV] END class_weight={0: 1, 1: 10000}, max_depth=10, min_samples_leaf=3, min_samples_split=2, n_estimators=207; total time=  11.0s\n"
          ]
        },
        {
          "name": "stderr",
          "output_type": "stream",
          "text": [
            "/Users/zhongyitong/Library/Python/3.11/lib/python/site-packages/sklearn/base.py:1152: DataConversionWarning: A column-vector y was passed when a 1d array was expected. Please change the shape of y to (n_samples,), for example using ravel().\n",
            "  return fit_method(estimator, *args, **kwargs)\n"
          ]
        },
        {
          "name": "stdout",
          "output_type": "stream",
          "text": [
            "[CV] END class_weight={0: 1, 1: 1000000}, max_depth=70, min_samples_leaf=3, min_samples_split=2, n_estimators=800; total time= 5.6min\n"
          ]
        },
        {
          "name": "stderr",
          "output_type": "stream",
          "text": [
            "/Users/zhongyitong/Library/Python/3.11/lib/python/site-packages/sklearn/base.py:1152: DataConversionWarning: A column-vector y was passed when a 1d array was expected. Please change the shape of y to (n_samples,), for example using ravel().\n",
            "  return fit_method(estimator, *args, **kwargs)\n"
          ]
        },
        {
          "name": "stdout",
          "output_type": "stream",
          "text": [
            "[CV] END class_weight={0: 1, 1: 10000}, max_depth=10, min_samples_leaf=3, min_samples_split=2, n_estimators=207; total time=  11.3s\n"
          ]
        },
        {
          "name": "stderr",
          "output_type": "stream",
          "text": [
            "/Users/zhongyitong/Library/Python/3.11/lib/python/site-packages/sklearn/base.py:1152: DataConversionWarning: A column-vector y was passed when a 1d array was expected. Please change the shape of y to (n_samples,), for example using ravel().\n",
            "  return fit_method(estimator, *args, **kwargs)\n"
          ]
        },
        {
          "name": "stdout",
          "output_type": "stream",
          "text": [
            "[CV] END class_weight={0: 1, 1: 10000}, max_depth=10, min_samples_leaf=3, min_samples_split=2, n_estimators=207; total time=  11.1s\n"
          ]
        },
        {
          "name": "stderr",
          "output_type": "stream",
          "text": [
            "/Users/zhongyitong/Library/Python/3.11/lib/python/site-packages/sklearn/base.py:1152: DataConversionWarning: A column-vector y was passed when a 1d array was expected. Please change the shape of y to (n_samples,), for example using ravel().\n",
            "  return fit_method(estimator, *args, **kwargs)\n"
          ]
        },
        {
          "name": "stdout",
          "output_type": "stream",
          "text": [
            "[CV] END class_weight={0: 1, 1: 10000}, max_depth=30, min_samples_leaf=3, min_samples_split=7, n_estimators=800; total time= 1.6min\n"
          ]
        },
        {
          "name": "stderr",
          "output_type": "stream",
          "text": [
            "/Users/zhongyitong/Library/Python/3.11/lib/python/site-packages/sklearn/base.py:1152: DataConversionWarning: A column-vector y was passed when a 1d array was expected. Please change the shape of y to (n_samples,), for example using ravel().\n",
            "  return fit_method(estimator, *args, **kwargs)\n"
          ]
        },
        {
          "name": "stdout",
          "output_type": "stream",
          "text": [
            "[CV] END class_weight={0: 1, 1: 10000}, max_depth=30, min_samples_leaf=3, min_samples_split=7, n_estimators=800; total time= 1.6min\n"
          ]
        },
        {
          "name": "stderr",
          "output_type": "stream",
          "text": [
            "/Users/zhongyitong/Library/Python/3.11/lib/python/site-packages/sklearn/base.py:1152: DataConversionWarning: A column-vector y was passed when a 1d array was expected. Please change the shape of y to (n_samples,), for example using ravel().\n",
            "  return fit_method(estimator, *args, **kwargs)\n"
          ]
        },
        {
          "name": "stdout",
          "output_type": "stream",
          "text": [
            "[CV] END class_weight={0: 1, 1: 1000000}, max_depth=100, min_samples_leaf=3, min_samples_split=2, n_estimators=207; total time= 1.1min\n"
          ]
        },
        {
          "name": "stderr",
          "output_type": "stream",
          "text": [
            "/Users/zhongyitong/Library/Python/3.11/lib/python/site-packages/sklearn/base.py:1152: DataConversionWarning: A column-vector y was passed when a 1d array was expected. Please change the shape of y to (n_samples,), for example using ravel().\n",
            "  return fit_method(estimator, *args, **kwargs)\n"
          ]
        },
        {
          "name": "stdout",
          "output_type": "stream",
          "text": [
            "[CV] END class_weight={0: 1, 1: 1000000}, max_depth=100, min_samples_leaf=3, min_samples_split=2, n_estimators=207; total time= 1.1min\n"
          ]
        },
        {
          "name": "stderr",
          "output_type": "stream",
          "text": [
            "/Users/zhongyitong/Library/Python/3.11/lib/python/site-packages/sklearn/base.py:1152: DataConversionWarning: A column-vector y was passed when a 1d array was expected. Please change the shape of y to (n_samples,), for example using ravel().\n",
            "  return fit_method(estimator, *args, **kwargs)\n"
          ]
        },
        {
          "name": "stdout",
          "output_type": "stream",
          "text": [
            "[CV] END class_weight={0: 1, 1: 1000000}, max_depth=100, min_samples_leaf=3, min_samples_split=2, n_estimators=207; total time= 1.0min\n"
          ]
        },
        {
          "name": "stderr",
          "output_type": "stream",
          "text": [
            "/Users/zhongyitong/Library/Python/3.11/lib/python/site-packages/sklearn/base.py:1152: DataConversionWarning: A column-vector y was passed when a 1d array was expected. Please change the shape of y to (n_samples,), for example using ravel().\n",
            "  return fit_method(estimator, *args, **kwargs)\n"
          ]
        },
        {
          "name": "stdout",
          "output_type": "stream",
          "text": [
            "[CV] END class_weight={0: 1, 1: 1000000}, max_depth=100, min_samples_leaf=3, min_samples_split=2, n_estimators=207; total time= 1.1min\n"
          ]
        },
        {
          "name": "stderr",
          "output_type": "stream",
          "text": [
            "/Users/zhongyitong/Library/Python/3.11/lib/python/site-packages/sklearn/base.py:1152: DataConversionWarning: A column-vector y was passed when a 1d array was expected. Please change the shape of y to (n_samples,), for example using ravel().\n",
            "  return fit_method(estimator, *args, **kwargs)\n"
          ]
        },
        {
          "name": "stdout",
          "output_type": "stream",
          "text": [
            "[CV] END class_weight={0: 1, 1: 10}, max_depth=70, min_samples_leaf=1, min_samples_split=2, n_estimators=602; total time=  43.0s\n"
          ]
        },
        {
          "name": "stderr",
          "output_type": "stream",
          "text": [
            "/Users/zhongyitong/Library/Python/3.11/lib/python/site-packages/sklearn/base.py:1152: DataConversionWarning: A column-vector y was passed when a 1d array was expected. Please change the shape of y to (n_samples,), for example using ravel().\n",
            "  return fit_method(estimator, *args, **kwargs)\n"
          ]
        },
        {
          "name": "stdout",
          "output_type": "stream",
          "text": [
            "[CV] END class_weight={0: 1, 1: 1000000}, max_depth=100, min_samples_leaf=3, min_samples_split=2, n_estimators=207; total time= 1.8min\n"
          ]
        },
        {
          "name": "stderr",
          "output_type": "stream",
          "text": [
            "/Users/zhongyitong/Library/Python/3.11/lib/python/site-packages/sklearn/base.py:1152: DataConversionWarning: A column-vector y was passed when a 1d array was expected. Please change the shape of y to (n_samples,), for example using ravel().\n",
            "  return fit_method(estimator, *args, **kwargs)\n"
          ]
        },
        {
          "name": "stdout",
          "output_type": "stream",
          "text": [
            "[CV] END class_weight={0: 1, 1: 10}, max_depth=70, min_samples_leaf=1, min_samples_split=2, n_estimators=602; total time=  42.8s\n"
          ]
        },
        {
          "name": "stderr",
          "output_type": "stream",
          "text": [
            "/Users/zhongyitong/Library/Python/3.11/lib/python/site-packages/sklearn/base.py:1152: DataConversionWarning: A column-vector y was passed when a 1d array was expected. Please change the shape of y to (n_samples,), for example using ravel().\n",
            "  return fit_method(estimator, *args, **kwargs)\n"
          ]
        },
        {
          "name": "stdout",
          "output_type": "stream",
          "text": [
            "[CV] END class_weight={0: 1, 1: 1000000}, max_depth=30, min_samples_leaf=1, min_samples_split=7, n_estimators=10; total time=   2.6s\n"
          ]
        },
        {
          "name": "stderr",
          "output_type": "stream",
          "text": [
            "/Users/zhongyitong/Library/Python/3.11/lib/python/site-packages/sklearn/base.py:1152: DataConversionWarning: A column-vector y was passed when a 1d array was expected. Please change the shape of y to (n_samples,), for example using ravel().\n",
            "  return fit_method(estimator, *args, **kwargs)\n"
          ]
        },
        {
          "name": "stdout",
          "output_type": "stream",
          "text": [
            "[CV] END class_weight={0: 1, 1: 1000000}, max_depth=30, min_samples_leaf=1, min_samples_split=7, n_estimators=10; total time=   1.4s\n"
          ]
        },
        {
          "name": "stderr",
          "output_type": "stream",
          "text": [
            "/Users/zhongyitong/Library/Python/3.11/lib/python/site-packages/sklearn/base.py:1152: DataConversionWarning: A column-vector y was passed when a 1d array was expected. Please change the shape of y to (n_samples,), for example using ravel().\n",
            "  return fit_method(estimator, *args, **kwargs)\n"
          ]
        },
        {
          "name": "stdout",
          "output_type": "stream",
          "text": [
            "[CV] END class_weight={0: 1, 1: 1000000}, max_depth=30, min_samples_leaf=1, min_samples_split=7, n_estimators=10; total time=   2.2s\n"
          ]
        },
        {
          "name": "stderr",
          "output_type": "stream",
          "text": [
            "/Users/zhongyitong/Library/Python/3.11/lib/python/site-packages/sklearn/base.py:1152: DataConversionWarning: A column-vector y was passed when a 1d array was expected. Please change the shape of y to (n_samples,), for example using ravel().\n",
            "  return fit_method(estimator, *args, **kwargs)\n"
          ]
        },
        {
          "name": "stdout",
          "output_type": "stream",
          "text": [
            "[CV] END class_weight={0: 1, 1: 1000000}, max_depth=30, min_samples_leaf=1, min_samples_split=7, n_estimators=10; total time=   1.5s\n",
            "[CV] END class_weight={0: 1, 1: 10}, max_depth=70, min_samples_leaf=1, min_samples_split=2, n_estimators=602; total time=  42.7s\n",
            "[CV] END class_weight={0: 1, 1: 1000000}, max_depth=30, min_samples_leaf=1, min_samples_split=7, n_estimators=10; total time=   2.4s\n",
            "[CV] END class_weight={0: 1, 1: 10}, max_depth=70, min_samples_leaf=1, min_samples_split=2, n_estimators=602; total time=  40.6s\n",
            "[CV] END class_weight={0: 1, 1: 1000000}, max_depth=60, min_samples_leaf=1, min_samples_split=2, n_estimators=800; total time= 2.8min\n",
            "[CV] END class_weight={0: 1, 1: 1000000}, max_depth=60, min_samples_leaf=1, min_samples_split=2, n_estimators=800; total time= 2.9min\n",
            "[CV] END class_weight={0: 1, 1: 1000000}, max_depth=60, min_samples_leaf=1, min_samples_split=2, n_estimators=800; total time= 2.7min\n",
            "[CV] END class_weight={0: 1, 1: 1000000}, max_depth=60, min_samples_leaf=1, min_samples_split=2, n_estimators=800; total time= 2.7min\n",
            "[CV] END class_weight={0: 1, 1: 1000000}, max_depth=60, min_samples_leaf=1, min_samples_split=2, n_estimators=800; total time= 2.7min\n",
            "[CV] END class_weight={0: 1, 1: 10}, max_depth=70, min_samples_leaf=1, min_samples_split=2, n_estimators=602; total time=  33.2s\n"
          ]
        },
        {
          "data": {
            "text/html": [
              "<style>#sk-container-id-10 {color: black;}#sk-container-id-10 pre{padding: 0;}#sk-container-id-10 div.sk-toggleable {background-color: white;}#sk-container-id-10 label.sk-toggleable__label {cursor: pointer;display: block;width: 100%;margin-bottom: 0;padding: 0.3em;box-sizing: border-box;text-align: center;}#sk-container-id-10 label.sk-toggleable__label-arrow:before {content: \"▸\";float: left;margin-right: 0.25em;color: #696969;}#sk-container-id-10 label.sk-toggleable__label-arrow:hover:before {color: black;}#sk-container-id-10 div.sk-estimator:hover label.sk-toggleable__label-arrow:before {color: black;}#sk-container-id-10 div.sk-toggleable__content {max-height: 0;max-width: 0;overflow: hidden;text-align: left;background-color: #f0f8ff;}#sk-container-id-10 div.sk-toggleable__content pre {margin: 0.2em;color: black;border-radius: 0.25em;background-color: #f0f8ff;}#sk-container-id-10 input.sk-toggleable__control:checked~div.sk-toggleable__content {max-height: 200px;max-width: 100%;overflow: auto;}#sk-container-id-10 input.sk-toggleable__control:checked~label.sk-toggleable__label-arrow:before {content: \"▾\";}#sk-container-id-10 div.sk-estimator input.sk-toggleable__control:checked~label.sk-toggleable__label {background-color: #d4ebff;}#sk-container-id-10 div.sk-label input.sk-toggleable__control:checked~label.sk-toggleable__label {background-color: #d4ebff;}#sk-container-id-10 input.sk-hidden--visually {border: 0;clip: rect(1px 1px 1px 1px);clip: rect(1px, 1px, 1px, 1px);height: 1px;margin: -1px;overflow: hidden;padding: 0;position: absolute;width: 1px;}#sk-container-id-10 div.sk-estimator {font-family: monospace;background-color: #f0f8ff;border: 1px dotted black;border-radius: 0.25em;box-sizing: border-box;margin-bottom: 0.5em;}#sk-container-id-10 div.sk-estimator:hover {background-color: #d4ebff;}#sk-container-id-10 div.sk-parallel-item::after {content: \"\";width: 100%;border-bottom: 1px solid gray;flex-grow: 1;}#sk-container-id-10 div.sk-label:hover label.sk-toggleable__label {background-color: #d4ebff;}#sk-container-id-10 div.sk-serial::before {content: \"\";position: absolute;border-left: 1px solid gray;box-sizing: border-box;top: 0;bottom: 0;left: 50%;z-index: 0;}#sk-container-id-10 div.sk-serial {display: flex;flex-direction: column;align-items: center;background-color: white;padding-right: 0.2em;padding-left: 0.2em;position: relative;}#sk-container-id-10 div.sk-item {position: relative;z-index: 1;}#sk-container-id-10 div.sk-parallel {display: flex;align-items: stretch;justify-content: center;background-color: white;position: relative;}#sk-container-id-10 div.sk-item::before, #sk-container-id-10 div.sk-parallel-item::before {content: \"\";position: absolute;border-left: 1px solid gray;box-sizing: border-box;top: 0;bottom: 0;left: 50%;z-index: -1;}#sk-container-id-10 div.sk-parallel-item {display: flex;flex-direction: column;z-index: 1;position: relative;background-color: white;}#sk-container-id-10 div.sk-parallel-item:first-child::after {align-self: flex-end;width: 50%;}#sk-container-id-10 div.sk-parallel-item:last-child::after {align-self: flex-start;width: 50%;}#sk-container-id-10 div.sk-parallel-item:only-child::after {width: 0;}#sk-container-id-10 div.sk-dashed-wrapped {border: 1px dashed gray;margin: 0 0.4em 0.5em 0.4em;box-sizing: border-box;padding-bottom: 0.4em;background-color: white;}#sk-container-id-10 div.sk-label label {font-family: monospace;font-weight: bold;display: inline-block;line-height: 1.2em;}#sk-container-id-10 div.sk-label-container {text-align: center;}#sk-container-id-10 div.sk-container {/* jupyter's `normalize.less` sets `[hidden] { display: none; }` but bootstrap.min.css set `[hidden] { display: none !important; }` so we also need the `!important` here to be able to override the default hidden behavior on the sphinx rendered scikit-learn.org. See: https://github.com/scikit-learn/scikit-learn/issues/21755 */display: inline-block !important;position: relative;}#sk-container-id-10 div.sk-text-repr-fallback {display: none;}</style><div id=\"sk-container-id-10\" class=\"sk-top-container\"><div class=\"sk-text-repr-fallback\"><pre>RandomizedSearchCV(cv=5, estimator=RandomForestClassifier(), n_iter=50,\n",
              "                   n_jobs=-1,\n",
              "                   param_distributions={&#x27;class_weight&#x27;: [{0: 1, 1: 1},\n",
              "                                                         {0: 1, 1: 10},\n",
              "                                                         {0: 1, 1: 100},\n",
              "                                                         {0: 1, 1: 1000},\n",
              "                                                         {0: 1, 1: 10000},\n",
              "                                                         {0: 1, 1: 100000},\n",
              "                                                         {0: 1, 1: 1000000}],\n",
              "                                        &#x27;max_depth&#x27;: [10, 20, 30, 40, 50, 60,\n",
              "                                                      70, 80, 90, 100, None],\n",
              "                                        &#x27;min_samples_leaf&#x27;: [1, 3],\n",
              "                                        &#x27;min_samples_split&#x27;: [2, 7],\n",
              "                                        &#x27;n_estimators&#x27;: [10, 207, 405, 602,\n",
              "                                                         800]},\n",
              "                   random_state=61, scoring=&#x27;f1&#x27;, verbose=2)</pre><b>In a Jupyter environment, please rerun this cell to show the HTML representation or trust the notebook. <br />On GitHub, the HTML representation is unable to render, please try loading this page with nbviewer.org.</b></div><div class=\"sk-container\" hidden><div class=\"sk-item sk-dashed-wrapped\"><div class=\"sk-label-container\"><div class=\"sk-label sk-toggleable\"><input class=\"sk-toggleable__control sk-hidden--visually\" id=\"sk-estimator-id-28\" type=\"checkbox\" ><label for=\"sk-estimator-id-28\" class=\"sk-toggleable__label sk-toggleable__label-arrow\">RandomizedSearchCV</label><div class=\"sk-toggleable__content\"><pre>RandomizedSearchCV(cv=5, estimator=RandomForestClassifier(), n_iter=50,\n",
              "                   n_jobs=-1,\n",
              "                   param_distributions={&#x27;class_weight&#x27;: [{0: 1, 1: 1},\n",
              "                                                         {0: 1, 1: 10},\n",
              "                                                         {0: 1, 1: 100},\n",
              "                                                         {0: 1, 1: 1000},\n",
              "                                                         {0: 1, 1: 10000},\n",
              "                                                         {0: 1, 1: 100000},\n",
              "                                                         {0: 1, 1: 1000000}],\n",
              "                                        &#x27;max_depth&#x27;: [10, 20, 30, 40, 50, 60,\n",
              "                                                      70, 80, 90, 100, None],\n",
              "                                        &#x27;min_samples_leaf&#x27;: [1, 3],\n",
              "                                        &#x27;min_samples_split&#x27;: [2, 7],\n",
              "                                        &#x27;n_estimators&#x27;: [10, 207, 405, 602,\n",
              "                                                         800]},\n",
              "                   random_state=61, scoring=&#x27;f1&#x27;, verbose=2)</pre></div></div></div><div class=\"sk-parallel\"><div class=\"sk-parallel-item\"><div class=\"sk-item\"><div class=\"sk-label-container\"><div class=\"sk-label sk-toggleable\"><input class=\"sk-toggleable__control sk-hidden--visually\" id=\"sk-estimator-id-29\" type=\"checkbox\" ><label for=\"sk-estimator-id-29\" class=\"sk-toggleable__label sk-toggleable__label-arrow\">estimator: RandomForestClassifier</label><div class=\"sk-toggleable__content\"><pre>RandomForestClassifier()</pre></div></div></div><div class=\"sk-serial\"><div class=\"sk-item\"><div class=\"sk-estimator sk-toggleable\"><input class=\"sk-toggleable__control sk-hidden--visually\" id=\"sk-estimator-id-30\" type=\"checkbox\" ><label for=\"sk-estimator-id-30\" class=\"sk-toggleable__label sk-toggleable__label-arrow\">RandomForestClassifier</label><div class=\"sk-toggleable__content\"><pre>RandomForestClassifier()</pre></div></div></div></div></div></div></div></div></div></div>"
            ],
            "text/plain": [
              "RandomizedSearchCV(cv=5, estimator=RandomForestClassifier(), n_iter=50,\n",
              "                   n_jobs=-1,\n",
              "                   param_distributions={'class_weight': [{0: 1, 1: 1},\n",
              "                                                         {0: 1, 1: 10},\n",
              "                                                         {0: 1, 1: 100},\n",
              "                                                         {0: 1, 1: 1000},\n",
              "                                                         {0: 1, 1: 10000},\n",
              "                                                         {0: 1, 1: 100000},\n",
              "                                                         {0: 1, 1: 1000000}],\n",
              "                                        'max_depth': [10, 20, 30, 40, 50, 60,\n",
              "                                                      70, 80, 90, 100, None],\n",
              "                                        'min_samples_leaf': [1, 3],\n",
              "                                        'min_samples_split': [2, 7],\n",
              "                                        'n_estimators': [10, 207, 405, 602,\n",
              "                                                         800]},\n",
              "                   random_state=61, scoring='f1', verbose=2)"
            ]
          },
          "execution_count": 90,
          "metadata": {},
          "output_type": "execute_result"
        }
      ],
      "source": [
        "# Number of trees in random forest\n",
        "n_estimators = [int(x) for x in np.linspace(start = 10, stop = 800, num = 5)]\n",
        "\n",
        "# Maximum number of levels in tree\n",
        "max_depth = [int(x) for x in np.linspace(10, 100, num = 10)]\n",
        "max_depth.append(None)\n",
        "\n",
        "# Minimum number of samples required to split a node\n",
        "min_samples_split = [2, 7]\n",
        "\n",
        "# Minimum number of samples required at each leaf node\n",
        "min_samples_leaf = [1, 3]\n",
        "\n",
        "# Define class weights\n",
        "class_weights = [{0:1, 1:1}, {0:1, 1:10}, {0:1, 1:100}, {0:1, 1:1000}, {0:1, 1:10000}, {0:1, 1:100000}, {0:1, 1:1000000}]\n",
        "\n",
        "# Create the random grid \n",
        "random_grid = {'n_estimators': n_estimators,\n",
        "               'max_depth': max_depth,\n",
        "               'min_samples_split': min_samples_split,\n",
        "               'min_samples_leaf': min_samples_leaf,\n",
        "                'class_weight': class_weights}\n",
        "\n",
        "# Use the random grid to search for best hyperparameters\n",
        "rf = RandomForestClassifier()\n",
        "\n",
        "# Random search of parameters, using 5 fold cross validation,\n",
        "# search across 100 different combinations, and use all available cores\n",
        "rf_random = RandomizedSearchCV(estimator = rf,\n",
        "                               param_distributions = random_grid,\n",
        "                               n_iter = 50,\n",
        "                               cv = 5,\n",
        "                               verbose=2,\n",
        "                               random_state=61,\n",
        "                               n_jobs = -1,\n",
        "                               scoring='f1')\n",
        "# Fit the random search model\n",
        "rf_random.fit(X_train, y_train)"
      ]
    },
    {
      "cell_type": "code",
      "execution_count": 91,
      "metadata": {
        "colab": {
          "base_uri": "https://localhost:8080/"
        },
        "id": "_L0kFsGwRhWW",
        "outputId": "5d7fe08c-1157-4707-a7f6-e48faab031da"
      },
      "outputs": [
        {
          "data": {
            "text/plain": [
              "{'n_estimators': 207,\n",
              " 'min_samples_split': 2,\n",
              " 'min_samples_leaf': 1,\n",
              " 'max_depth': 20,\n",
              " 'class_weight': {0: 1, 1: 1}}"
            ]
          },
          "execution_count": 91,
          "metadata": {},
          "output_type": "execute_result"
        }
      ],
      "source": [
        "# Get the best parameters\n",
        "rf_random.best_params_"
      ]
    },
    {
      "cell_type": "code",
      "execution_count": 92,
      "metadata": {},
      "outputs": [
        {
          "data": {
            "text/plain": [
              "0.5463325393599847"
            ]
          },
          "execution_count": 92,
          "metadata": {},
          "output_type": "execute_result"
        }
      ],
      "source": [
        "# Get the best train performance\n",
        "rf_random.best_score_"
      ]
    },
    {
      "cell_type": "code",
      "execution_count": 93,
      "metadata": {},
      "outputs": [
        {
          "name": "stdout",
          "output_type": "stream",
          "text": [
            "Accuracy:  0.964765100671141\n",
            "Precision:  1.0\n",
            "Recall:  0.30386740331491713\n",
            "F1:  0.4661016949152542\n"
          ]
        }
      ],
      "source": [
        "# Get the performance metrics\n",
        "best_random = rf_random.best_estimator_\n",
        "y_pred = best_random.predict(X_test)\n",
        "print(\"Accuracy: \", accuracy_score(y_test, y_pred))\n",
        "print(\"Precision: \", precision_score(y_test, y_pred))\n",
        "print(\"Recall: \", recall_score(y_test, y_pred))\n",
        "print(\"F1: \", f1_score(y_test, y_pred))"
      ]
    },
    {
      "cell_type": "code",
      "execution_count": 94,
      "metadata": {},
      "outputs": [
        {
          "name": "stdout",
          "output_type": "stream",
          "text": [
            "Accuracy:  0.9116331096196868\n",
            "Precision:  0.3076923076923077\n",
            "Recall:  0.5966850828729282\n",
            "F1:  0.40601503759398494\n"
          ]
        }
      ],
      "source": [
        "rf_model_test = RandomForestClassifier(n_estimators=207,\n",
        "                                        min_samples_split=2,\n",
        "                                        min_samples_leaf=1,\n",
        "                                        max_depth=20,\n",
        "                                        random_state=61,\n",
        "                                        class_weight={0:1, 1:100})\n",
        "\n",
        "rf_model_test.fit(X_train, y_train)\n",
        "\n",
        "y_pred = rf_model_test.predict(X_test)\n",
        "print(\"Accuracy: \", accuracy_score(y_test, y_pred))\n",
        "print(\"Precision: \", precision_score(y_test, y_pred))\n",
        "print(\"Recall: \", recall_score(y_test, y_pred))\n",
        "print(\"F1: \", f1_score(y_test, y_pred))"
      ]
    },
    {
      "cell_type": "markdown",
      "metadata": {
        "id": "IDp_87AXSM9y"
      },
      "source": [
        "<h1>Decision Tree"
      ]
    },
    {
      "cell_type": "code",
      "execution_count": 95,
      "metadata": {
        "id": "eutsAVnGRlRN"
      },
      "outputs": [
        {
          "name": "stdout",
          "output_type": "stream",
          "text": [
            "Fitting 5 folds for each of 50 candidates, totalling 250 fits\n",
            "[CV] END class_weight={0: 1, 1: 1000}, max_depth=70, min_samples_leaf=1, min_samples_split=7; total time=   2.8s\n",
            "[CV] END class_weight={0: 1, 1: 1000}, max_depth=70, min_samples_leaf=1, min_samples_split=7; total time=   3.2s\n",
            "[CV] END class_weight={0: 1, 1: 1000}, max_depth=70, min_samples_leaf=1, min_samples_split=7; total time=   3.5s\n",
            "[CV] END class_weight={0: 1, 1: 1000}, max_depth=70, min_samples_leaf=1, min_samples_split=7; total time=   3.8s\n",
            "[CV] END class_weight={0: 1, 1: 100}, max_depth=50, min_samples_leaf=1, min_samples_split=7; total time=   1.7s\n",
            "[CV] END class_weight={0: 1, 1: 10000}, max_depth=90, min_samples_leaf=3, min_samples_split=2; total time=   5.3s\n",
            "[CV] END class_weight={0: 1, 1: 10000}, max_depth=90, min_samples_leaf=3, min_samples_split=2; total time=   5.4s\n",
            "[CV] END class_weight={0: 1, 1: 10000}, max_depth=90, min_samples_leaf=3, min_samples_split=2; total time=   5.4s\n",
            "[CV] END class_weight={0: 1, 1: 10000}, max_depth=90, min_samples_leaf=3, min_samples_split=2; total time=   5.7s\n",
            "[CV] END class_weight={0: 1, 1: 100}, max_depth=50, min_samples_leaf=1, min_samples_split=7; total time=   2.9s\n",
            "[CV] END class_weight={0: 1, 1: 10000}, max_depth=90, min_samples_leaf=3, min_samples_split=2; total time=   5.9s\n",
            "[CV] END class_weight={0: 1, 1: 1000}, max_depth=70, min_samples_leaf=1, min_samples_split=7; total time=   6.2s\n",
            "[CV] END class_weight={0: 1, 1: 100}, max_depth=50, min_samples_leaf=1, min_samples_split=7; total time=   2.6s\n",
            "[CV] END class_weight={0: 1, 1: 100}, max_depth=50, min_samples_leaf=1, min_samples_split=7; total time=   2.5s\n",
            "[CV] END class_weight={0: 1, 1: 1}, max_depth=10, min_samples_leaf=3, min_samples_split=2; total time=   1.3s\n",
            "[CV] END class_weight={0: 1, 1: 1}, max_depth=10, min_samples_leaf=3, min_samples_split=2; total time=   1.3s\n",
            "[CV] END class_weight={0: 1, 1: 1}, max_depth=10, min_samples_leaf=3, min_samples_split=2; total time=   1.5s\n",
            "[CV] END class_weight={0: 1, 1: 100}, max_depth=50, min_samples_leaf=1, min_samples_split=7; total time=   2.4s\n",
            "[CV] END class_weight={0: 1, 1: 1}, max_depth=10, min_samples_leaf=3, min_samples_split=2; total time=   1.6s\n",
            "[CV] END class_weight={0: 1, 1: 1}, max_depth=10, min_samples_leaf=3, min_samples_split=2; total time=   2.5s\n",
            "[CV] END class_weight={0: 1, 1: 1}, max_depth=80, min_samples_leaf=3, min_samples_split=7; total time=   2.9s\n",
            "[CV] END class_weight={0: 1, 1: 1}, max_depth=90, min_samples_leaf=1, min_samples_split=7; total time=   3.0s\n",
            "[CV] END class_weight={0: 1, 1: 1}, max_depth=80, min_samples_leaf=3, min_samples_split=7; total time=   4.1s\n",
            "[CV] END class_weight={0: 1, 1: 1}, max_depth=80, min_samples_leaf=3, min_samples_split=7; total time=   4.2s\n",
            "[CV] END class_weight={0: 1, 1: 1}, max_depth=80, min_samples_leaf=3, min_samples_split=7; total time=   4.2s\n",
            "[CV] END class_weight={0: 1, 1: 1}, max_depth=90, min_samples_leaf=1, min_samples_split=7; total time=   3.7s\n",
            "[CV] END class_weight={0: 1, 1: 1}, max_depth=80, min_samples_leaf=3, min_samples_split=7; total time=   4.6s\n",
            "[CV] END class_weight={0: 1, 1: 1}, max_depth=90, min_samples_leaf=1, min_samples_split=7; total time=   4.8s\n",
            "[CV] END class_weight={0: 1, 1: 1}, max_depth=90, min_samples_leaf=1, min_samples_split=7; total time=   4.7s\n",
            "[CV] END class_weight={0: 1, 1: 1}, max_depth=90, min_samples_leaf=1, min_samples_split=7; total time=   3.8s\n",
            "[CV] END class_weight={0: 1, 1: 10000}, max_depth=60, min_samples_leaf=3, min_samples_split=7; total time=   4.9s\n",
            "[CV] END class_weight={0: 1, 1: 10000}, max_depth=60, min_samples_leaf=3, min_samples_split=7; total time=   4.9s\n",
            "[CV] END class_weight={0: 1, 1: 1000000}, max_depth=80, min_samples_leaf=1, min_samples_split=7; total time=   7.1s\n",
            "[CV] END class_weight={0: 1, 1: 10000}, max_depth=60, min_samples_leaf=3, min_samples_split=7; total time=   5.1s\n",
            "[CV] END class_weight={0: 1, 1: 1000000}, max_depth=80, min_samples_leaf=1, min_samples_split=7; total time=   6.5s\n",
            "[CV] END class_weight={0: 1, 1: 1000000}, max_depth=80, min_samples_leaf=1, min_samples_split=7; total time=   7.0s\n",
            "[CV] END class_weight={0: 1, 1: 1000000}, max_depth=80, min_samples_leaf=1, min_samples_split=7; total time=   6.6s\n",
            "[CV] END class_weight={0: 1, 1: 10000}, max_depth=60, min_samples_leaf=3, min_samples_split=7; total time=   4.8s\n",
            "[CV] END class_weight={0: 1, 1: 10000}, max_depth=60, min_samples_leaf=3, min_samples_split=7; total time=   5.3s\n",
            "[CV] END class_weight={0: 1, 1: 1000000}, max_depth=80, min_samples_leaf=1, min_samples_split=7; total time=   7.1s\n",
            "[CV] END class_weight={0: 1, 1: 1000}, max_depth=70, min_samples_leaf=1, min_samples_split=2; total time=   2.9s\n",
            "[CV] END class_weight={0: 1, 1: 1000}, max_depth=70, min_samples_leaf=1, min_samples_split=2; total time=   3.0s\n",
            "[CV] END class_weight={0: 1, 1: 1000}, max_depth=70, min_samples_leaf=1, min_samples_split=2; total time=   3.2s\n",
            "[CV] END class_weight={0: 1, 1: 1000}, max_depth=70, min_samples_leaf=1, min_samples_split=2; total time=   4.1s\n",
            "[CV] END class_weight={0: 1, 1: 1000}, max_depth=70, min_samples_leaf=1, min_samples_split=2; total time=   3.6s\n",
            "[CV] END class_weight={0: 1, 1: 1000}, max_depth=40, min_samples_leaf=3, min_samples_split=2; total time=   2.1s\n",
            "[CV] END class_weight={0: 1, 1: 1000}, max_depth=40, min_samples_leaf=3, min_samples_split=2; total time=   2.1s\n",
            "[CV] END class_weight={0: 1, 1: 1000}, max_depth=40, min_samples_leaf=3, min_samples_split=2; total time=   2.1s\n",
            "[CV] END class_weight={0: 1, 1: 100000}, max_depth=90, min_samples_leaf=3, min_samples_split=7; total time=   7.0s\n",
            "[CV] END class_weight={0: 1, 1: 100000}, max_depth=90, min_samples_leaf=3, min_samples_split=7; total time=   7.7s\n",
            "[CV] END class_weight={0: 1, 1: 100000}, max_depth=90, min_samples_leaf=3, min_samples_split=7; total time=   7.7s\n",
            "[CV] END class_weight={0: 1, 1: 100000}, max_depth=90, min_samples_leaf=3, min_samples_split=7; total time=   7.6s\n",
            "[CV] END class_weight={0: 1, 1: 100000}, max_depth=90, min_samples_leaf=3, min_samples_split=7; total time=   7.5s\n",
            "[CV] END class_weight={0: 1, 1: 1000}, max_depth=40, min_samples_leaf=3, min_samples_split=2; total time=   2.7s\n",
            "[CV] END class_weight={0: 1, 1: 1000}, max_depth=40, min_samples_leaf=3, min_samples_split=2; total time=   3.2s\n",
            "[CV] END class_weight={0: 1, 1: 1000000}, max_depth=10, min_samples_leaf=1, min_samples_split=2; total time=   1.1s\n",
            "[CV] END class_weight={0: 1, 1: 1000000}, max_depth=10, min_samples_leaf=1, min_samples_split=2; total time=   1.1s\n",
            "[CV] END class_weight={0: 1, 1: 1000000}, max_depth=10, min_samples_leaf=1, min_samples_split=2; total time=   1.1s\n",
            "[CV] END class_weight={0: 1, 1: 1000000}, max_depth=10, min_samples_leaf=1, min_samples_split=2; total time=   1.2s\n",
            "[CV] END class_weight={0: 1, 1: 1000000}, max_depth=10, min_samples_leaf=1, min_samples_split=2; total time=   1.1s\n",
            "[CV] END class_weight={0: 1, 1: 100}, max_depth=30, min_samples_leaf=3, min_samples_split=2; total time=   1.7s\n",
            "[CV] END class_weight={0: 1, 1: 100}, max_depth=30, min_samples_leaf=3, min_samples_split=2; total time=   1.4s\n",
            "[CV] END class_weight={0: 1, 1: 100}, max_depth=30, min_samples_leaf=3, min_samples_split=2; total time=   1.4s\n",
            "[CV] END class_weight={0: 1, 1: 100}, max_depth=30, min_samples_leaf=3, min_samples_split=2; total time=   1.5s\n",
            "[CV] END class_weight={0: 1, 1: 100}, max_depth=30, min_samples_leaf=3, min_samples_split=2; total time=   1.3s\n",
            "[CV] END class_weight={0: 1, 1: 1000000}, max_depth=100, min_samples_leaf=3, min_samples_split=7; total time=   8.0s\n",
            "[CV] END class_weight={0: 1, 1: 1000000}, max_depth=100, min_samples_leaf=3, min_samples_split=7; total time=   7.9s\n",
            "[CV] END class_weight={0: 1, 1: 1000000}, max_depth=100, min_samples_leaf=3, min_samples_split=7; total time=   8.1s\n",
            "[CV] END class_weight={0: 1, 1: 1000000}, max_depth=100, min_samples_leaf=3, min_samples_split=7; total time=   7.9s\n",
            "[CV] END class_weight={0: 1, 1: 10000}, max_depth=60, min_samples_leaf=3, min_samples_split=2; total time=   4.9s\n",
            "[CV] END class_weight={0: 1, 1: 10000}, max_depth=60, min_samples_leaf=3, min_samples_split=2; total time=   4.6s\n",
            "[CV] END class_weight={0: 1, 1: 10000}, max_depth=60, min_samples_leaf=3, min_samples_split=2; total time=   4.8s\n",
            "[CV] END class_weight={0: 1, 1: 10000}, max_depth=60, min_samples_leaf=3, min_samples_split=2; total time=   4.6s\n",
            "[CV] END class_weight={0: 1, 1: 1000000}, max_depth=100, min_samples_leaf=3, min_samples_split=7; total time=   8.2s\n",
            "[CV] END class_weight={0: 1, 1: 100000}, max_depth=20, min_samples_leaf=1, min_samples_split=7; total time=   2.1s\n",
            "[CV] END class_weight={0: 1, 1: 100000}, max_depth=20, min_samples_leaf=1, min_samples_split=7; total time=   2.0s\n",
            "[CV] END class_weight={0: 1, 1: 10000}, max_depth=60, min_samples_leaf=3, min_samples_split=2; total time=   5.3s\n",
            "[CV] END class_weight={0: 1, 1: 100000}, max_depth=20, min_samples_leaf=1, min_samples_split=7; total time=   2.0s\n",
            "[CV] END class_weight={0: 1, 1: 100000}, max_depth=20, min_samples_leaf=1, min_samples_split=7; total time=   2.0s\n",
            "[CV] END class_weight={0: 1, 1: 100000}, max_depth=20, min_samples_leaf=1, min_samples_split=7; total time=   2.1s\n",
            "[CV] END class_weight={0: 1, 1: 1000000}, max_depth=60, min_samples_leaf=3, min_samples_split=7; total time=   5.1s\n",
            "[CV] END class_weight={0: 1, 1: 1000000}, max_depth=60, min_samples_leaf=3, min_samples_split=7; total time=   5.3s\n",
            "[CV] END class_weight={0: 1, 1: 1000000}, max_depth=60, min_samples_leaf=3, min_samples_split=7; total time=   5.3s\n",
            "[CV] END class_weight={0: 1, 1: 1000000}, max_depth=60, min_samples_leaf=3, min_samples_split=7; total time=   5.5s\n",
            "[CV] END class_weight={0: 1, 1: 1000000}, max_depth=60, min_samples_leaf=3, min_samples_split=7; total time=   5.4s\n",
            "[CV] END class_weight={0: 1, 1: 100000}, max_depth=20, min_samples_leaf=3, min_samples_split=2; total time=   2.0s\n",
            "[CV] END class_weight={0: 1, 1: 100000}, max_depth=20, min_samples_leaf=3, min_samples_split=2; total time=   2.0s\n",
            "[CV] END class_weight={0: 1, 1: 100000}, max_depth=20, min_samples_leaf=3, min_samples_split=2; total time=   2.0s\n",
            "[CV] END class_weight={0: 1, 1: 100000}, max_depth=20, min_samples_leaf=3, min_samples_split=2; total time=   2.0s\n",
            "[CV] END class_weight={0: 1, 1: 100000}, max_depth=20, min_samples_leaf=3, min_samples_split=2; total time=   2.0s\n",
            "[CV] END class_weight={0: 1, 1: 100}, max_depth=10, min_samples_leaf=1, min_samples_split=2; total time=   1.0s\n",
            "[CV] END class_weight={0: 1, 1: 1000000}, max_depth=100, min_samples_leaf=1, min_samples_split=2; total time=   7.6s\n",
            "[CV] END class_weight={0: 1, 1: 100}, max_depth=10, min_samples_leaf=1, min_samples_split=2; total time=   1.2s\n",
            "[CV] END class_weight={0: 1, 1: 100}, max_depth=10, min_samples_leaf=1, min_samples_split=2; total time=   1.2s\n",
            "[CV] END class_weight={0: 1, 1: 100}, max_depth=10, min_samples_leaf=1, min_samples_split=2; total time=   0.9s\n",
            "[CV] END class_weight={0: 1, 1: 100}, max_depth=10, min_samples_leaf=1, min_samples_split=2; total time=   1.0s\n",
            "[CV] END class_weight={0: 1, 1: 1000000}, max_depth=100, min_samples_leaf=1, min_samples_split=2; total time=   8.3s\n",
            "[CV] END class_weight={0: 1, 1: 1000000}, max_depth=100, min_samples_leaf=1, min_samples_split=2; total time=   8.3s\n",
            "[CV] END class_weight={0: 1, 1: 1000000}, max_depth=100, min_samples_leaf=1, min_samples_split=2; total time=   7.8s\n",
            "[CV] END class_weight={0: 1, 1: 10000}, max_depth=20, min_samples_leaf=3, min_samples_split=2; total time=   2.1s\n",
            "[CV] END class_weight={0: 1, 1: 10000}, max_depth=20, min_samples_leaf=3, min_samples_split=2; total time=   2.0s\n",
            "[CV] END class_weight={0: 1, 1: 10000}, max_depth=20, min_samples_leaf=3, min_samples_split=2; total time=   2.0s\n",
            "[CV] END class_weight={0: 1, 1: 10000}, max_depth=20, min_samples_leaf=3, min_samples_split=2; total time=   2.0s\n",
            "[CV] END class_weight={0: 1, 1: 1000000}, max_depth=100, min_samples_leaf=1, min_samples_split=2; total time=   8.8s\n",
            "[CV] END class_weight={0: 1, 1: 10000}, max_depth=20, min_samples_leaf=3, min_samples_split=2; total time=   2.3s\n",
            "[CV] END class_weight={0: 1, 1: 10000}, max_depth=50, min_samples_leaf=1, min_samples_split=2; total time=   2.9s\n",
            "[CV] END class_weight={0: 1, 1: 10000}, max_depth=50, min_samples_leaf=1, min_samples_split=2; total time=   3.0s\n",
            "[CV] END class_weight={0: 1, 1: 10000}, max_depth=20, min_samples_leaf=1, min_samples_split=7; total time=   1.5s\n",
            "[CV] END class_weight={0: 1, 1: 10000}, max_depth=20, min_samples_leaf=1, min_samples_split=7; total time=   1.5s\n",
            "[CV] END class_weight={0: 1, 1: 10000}, max_depth=20, min_samples_leaf=1, min_samples_split=7; total time=   2.4s\n",
            "[CV] END class_weight={0: 1, 1: 10000}, max_depth=20, min_samples_leaf=1, min_samples_split=7; total time=   2.9s\n",
            "[CV] END class_weight={0: 1, 1: 10000}, max_depth=20, min_samples_leaf=1, min_samples_split=7; total time=   2.6s\n",
            "[CV] END class_weight={0: 1, 1: 10000}, max_depth=50, min_samples_leaf=1, min_samples_split=2; total time=   4.7s\n",
            "[CV] END class_weight={0: 1, 1: 10000}, max_depth=50, min_samples_leaf=1, min_samples_split=2; total time=   5.4s\n",
            "[CV] END class_weight={0: 1, 1: 1}, max_depth=80, min_samples_leaf=3, min_samples_split=2; total time=   2.9s\n",
            "[CV] END class_weight={0: 1, 1: 100000}, max_depth=10, min_samples_leaf=3, min_samples_split=7; total time=   1.5s\n",
            "[CV] END class_weight={0: 1, 1: 100000}, max_depth=10, min_samples_leaf=3, min_samples_split=7; total time=   1.4s\n",
            "[CV] END class_weight={0: 1, 1: 1}, max_depth=80, min_samples_leaf=3, min_samples_split=2; total time=   3.3s\n",
            "[CV] END class_weight={0: 1, 1: 100000}, max_depth=10, min_samples_leaf=3, min_samples_split=7; total time=   1.4s\n",
            "[CV] END class_weight={0: 1, 1: 1}, max_depth=80, min_samples_leaf=3, min_samples_split=2; total time=   3.1s\n",
            "[CV] END class_weight={0: 1, 1: 10000}, max_depth=50, min_samples_leaf=1, min_samples_split=2; total time=   5.2s\n",
            "[CV] END class_weight={0: 1, 1: 1}, max_depth=80, min_samples_leaf=3, min_samples_split=2; total time=   3.3s\n",
            "[CV] END class_weight={0: 1, 1: 100000}, max_depth=10, min_samples_leaf=3, min_samples_split=7; total time=   1.3s\n",
            "[CV] END class_weight={0: 1, 1: 100000}, max_depth=10, min_samples_leaf=3, min_samples_split=7; total time=   1.3s\n",
            "[CV] END class_weight={0: 1, 1: 1}, max_depth=80, min_samples_leaf=3, min_samples_split=2; total time=   4.5s\n",
            "[CV] END class_weight={0: 1, 1: 1000000}, max_depth=50, min_samples_leaf=1, min_samples_split=2; total time=   4.6s\n",
            "[CV] END class_weight={0: 1, 1: 1000000}, max_depth=50, min_samples_leaf=1, min_samples_split=2; total time=   4.5s\n",
            "[CV] END class_weight={0: 1, 1: 1000000}, max_depth=50, min_samples_leaf=1, min_samples_split=2; total time=   4.7s\n",
            "[CV] END class_weight={0: 1, 1: 1000000}, max_depth=50, min_samples_leaf=1, min_samples_split=2; total time=   4.8s\n",
            "[CV] END class_weight={0: 1, 1: 1000000}, max_depth=50, min_samples_leaf=1, min_samples_split=2; total time=   4.7s\n",
            "[CV] END class_weight={0: 1, 1: 1000000}, max_depth=70, min_samples_leaf=3, min_samples_split=7; total time=   5.8s\n",
            "[CV] END class_weight={0: 1, 1: 1000000}, max_depth=70, min_samples_leaf=3, min_samples_split=7; total time=   6.3s\n",
            "[CV] END class_weight={0: 1, 1: 1000000}, max_depth=70, min_samples_leaf=3, min_samples_split=7; total time=   6.0s\n",
            "[CV] END class_weight={0: 1, 1: 1000000}, max_depth=70, min_samples_leaf=3, min_samples_split=7; total time=   6.3s\n",
            "[CV] END class_weight={0: 1, 1: 1000000}, max_depth=70, min_samples_leaf=3, min_samples_split=7; total time=   6.1s\n",
            "[CV] END class_weight={0: 1, 1: 10}, max_depth=40, min_samples_leaf=3, min_samples_split=7; total time=   2.2s\n",
            "[CV] END class_weight={0: 1, 1: 10}, max_depth=40, min_samples_leaf=3, min_samples_split=7; total time=   2.4s\n",
            "[CV] END class_weight={0: 1, 1: 10}, max_depth=40, min_samples_leaf=3, min_samples_split=7; total time=   2.5s\n",
            "[CV] END class_weight={0: 1, 1: 10}, max_depth=40, min_samples_leaf=3, min_samples_split=7; total time=   3.0s\n",
            "[CV] END class_weight={0: 1, 1: 1000000}, max_depth=70, min_samples_leaf=1, min_samples_split=2; total time=   5.9s\n",
            "[CV] END class_weight={0: 1, 1: 1000000}, max_depth=70, min_samples_leaf=1, min_samples_split=2; total time=   6.0s\n",
            "[CV] END class_weight={0: 1, 1: 1000000}, max_depth=70, min_samples_leaf=1, min_samples_split=2; total time=   5.9s\n",
            "[CV] END class_weight={0: 1, 1: 1000000}, max_depth=70, min_samples_leaf=1, min_samples_split=2; total time=   5.9s\n",
            "[CV] END class_weight={0: 1, 1: 10}, max_depth=40, min_samples_leaf=3, min_samples_split=7; total time=   2.6s\n",
            "[CV] END class_weight={0: 1, 1: 1000000}, max_depth=70, min_samples_leaf=1, min_samples_split=2; total time=   6.2s\n",
            "[CV] END class_weight={0: 1, 1: 10000}, max_depth=80, min_samples_leaf=1, min_samples_split=7; total time=   5.8s\n",
            "[CV] END class_weight={0: 1, 1: 10000}, max_depth=80, min_samples_leaf=1, min_samples_split=7; total time=   5.8s\n",
            "[CV] END class_weight={0: 1, 1: 10000}, max_depth=80, min_samples_leaf=1, min_samples_split=7; total time=   6.0s\n",
            "[CV] END class_weight={0: 1, 1: 10000}, max_depth=80, min_samples_leaf=1, min_samples_split=7; total time=   5.9s\n",
            "[CV] END class_weight={0: 1, 1: 100000}, max_depth=100, min_samples_leaf=1, min_samples_split=7; total time=   8.5s\n",
            "[CV] END class_weight={0: 1, 1: 100000}, max_depth=100, min_samples_leaf=1, min_samples_split=7; total time=   8.3s\n",
            "[CV] END class_weight={0: 1, 1: 100000}, max_depth=100, min_samples_leaf=1, min_samples_split=7; total time=   8.1s\n",
            "[CV] END class_weight={0: 1, 1: 10000}, max_depth=80, min_samples_leaf=1, min_samples_split=7; total time=   6.5s\n",
            "[CV] END class_weight={0: 1, 1: 100000}, max_depth=100, min_samples_leaf=1, min_samples_split=7; total time=   7.8s\n",
            "[CV] END class_weight={0: 1, 1: 100000}, max_depth=100, min_samples_leaf=1, min_samples_split=7; total time=   8.3s\n",
            "[CV] END class_weight={0: 1, 1: 100000}, max_depth=70, min_samples_leaf=1, min_samples_split=2; total time=   5.8s\n",
            "[CV] END class_weight={0: 1, 1: 100000}, max_depth=70, min_samples_leaf=1, min_samples_split=2; total time=   5.9s\n",
            "[CV] END class_weight={0: 1, 1: 100000}, max_depth=70, min_samples_leaf=1, min_samples_split=2; total time=   6.1s\n",
            "[CV] END class_weight={0: 1, 1: 100000}, max_depth=70, min_samples_leaf=1, min_samples_split=2; total time=   5.8s\n",
            "[CV] END class_weight={0: 1, 1: 10000}, max_depth=80, min_samples_leaf=3, min_samples_split=2; total time=   5.7s\n",
            "[CV] END class_weight={0: 1, 1: 10000}, max_depth=80, min_samples_leaf=3, min_samples_split=2; total time=   5.7s\n",
            "[CV] END class_weight={0: 1, 1: 10000}, max_depth=80, min_samples_leaf=3, min_samples_split=2; total time=   5.8s\n",
            "[CV] END class_weight={0: 1, 1: 100000}, max_depth=70, min_samples_leaf=1, min_samples_split=2; total time=   5.9s\n",
            "[CV] END class_weight={0: 1, 1: 10000}, max_depth=80, min_samples_leaf=3, min_samples_split=2; total time=   6.2s\n",
            "[CV] END class_weight={0: 1, 1: 10}, max_depth=50, min_samples_leaf=3, min_samples_split=7; total time=   2.3s\n",
            "[CV] END class_weight={0: 1, 1: 10000}, max_depth=80, min_samples_leaf=3, min_samples_split=2; total time=   6.3s\n",
            "[CV] END class_weight={0: 1, 1: 10}, max_depth=50, min_samples_leaf=3, min_samples_split=7; total time=   2.6s\n",
            "[CV] END class_weight={0: 1, 1: 100000}, max_depth=30, min_samples_leaf=3, min_samples_split=7; total time=   2.1s\n",
            "[CV] END class_weight={0: 1, 1: 10}, max_depth=50, min_samples_leaf=3, min_samples_split=7; total time=   2.8s\n",
            "[CV] END class_weight={0: 1, 1: 100000}, max_depth=30, min_samples_leaf=3, min_samples_split=7; total time=   2.0s\n",
            "[CV] END class_weight={0: 1, 1: 10}, max_depth=50, min_samples_leaf=3, min_samples_split=7; total time=   3.4s\n",
            "[CV] END class_weight={0: 1, 1: 10}, max_depth=50, min_samples_leaf=3, min_samples_split=7; total time=   2.7s\n",
            "[CV] END class_weight={0: 1, 1: 100000}, max_depth=30, min_samples_leaf=3, min_samples_split=7; total time=   2.8s\n",
            "[CV] END class_weight={0: 1, 1: 100000}, max_depth=30, min_samples_leaf=3, min_samples_split=7; total time=   3.1s\n",
            "[CV] END class_weight={0: 1, 1: 100000}, max_depth=30, min_samples_leaf=3, min_samples_split=7; total time=   3.0s\n",
            "[CV] END class_weight={0: 1, 1: 10000}, max_depth=50, min_samples_leaf=1, min_samples_split=7; total time=   3.0s\n",
            "[CV] END class_weight={0: 1, 1: 10000}, max_depth=50, min_samples_leaf=1, min_samples_split=7; total time=   3.0s\n",
            "[CV] END class_weight={0: 1, 1: 10000}, max_depth=50, min_samples_leaf=1, min_samples_split=7; total time=   4.5s\n",
            "[CV] END class_weight={0: 1, 1: 10000}, max_depth=50, min_samples_leaf=1, min_samples_split=7; total time=   4.6s\n",
            "[CV] END class_weight={0: 1, 1: 10000}, max_depth=50, min_samples_leaf=1, min_samples_split=7; total time=   4.5s\n",
            "[CV] END class_weight={0: 1, 1: 10000}, max_depth=40, min_samples_leaf=1, min_samples_split=2; total time=   2.7s\n",
            "[CV] END class_weight={0: 1, 1: 10000}, max_depth=60, min_samples_leaf=1, min_samples_split=2; total time=   5.2s\n",
            "[CV] END class_weight={0: 1, 1: 10000}, max_depth=60, min_samples_leaf=1, min_samples_split=2; total time=   5.3s\n",
            "[CV] END class_weight={0: 1, 1: 10000}, max_depth=60, min_samples_leaf=1, min_samples_split=2; total time=   5.4s\n",
            "[CV] END class_weight={0: 1, 1: 10000}, max_depth=40, min_samples_leaf=1, min_samples_split=2; total time=   2.6s\n",
            "[CV] END class_weight={0: 1, 1: 10000}, max_depth=60, min_samples_leaf=1, min_samples_split=2; total time=   5.4s\n",
            "[CV] END class_weight={0: 1, 1: 10000}, max_depth=60, min_samples_leaf=1, min_samples_split=2; total time=   5.7s\n",
            "[CV] END class_weight={0: 1, 1: 10000}, max_depth=40, min_samples_leaf=1, min_samples_split=2; total time=   4.1s\n",
            "[CV] END class_weight={0: 1, 1: 10000}, max_depth=40, min_samples_leaf=1, min_samples_split=2; total time=   4.3s\n",
            "[CV] END class_weight={0: 1, 1: 10000}, max_depth=40, min_samples_leaf=1, min_samples_split=2; total time=   4.1s\n",
            "[CV] END class_weight={0: 1, 1: 1000000}, max_depth=50, min_samples_leaf=1, min_samples_split=7; total time=   3.5s\n",
            "[CV] END class_weight={0: 1, 1: 1000000}, max_depth=50, min_samples_leaf=1, min_samples_split=7; total time=   3.5s\n",
            "[CV] END class_weight={0: 1, 1: 1}, max_depth=20, min_samples_leaf=1, min_samples_split=7; total time=   3.3s\n",
            "[CV] END class_weight={0: 1, 1: 1000000}, max_depth=50, min_samples_leaf=1, min_samples_split=7; total time=   4.8s\n",
            "[CV] END class_weight={0: 1, 1: 1000000}, max_depth=50, min_samples_leaf=1, min_samples_split=7; total time=   4.9s\n",
            "[CV] END class_weight={0: 1, 1: 1000000}, max_depth=50, min_samples_leaf=1, min_samples_split=7; total time=   5.1s\n",
            "[CV] END class_weight={0: 1, 1: 1}, max_depth=20, min_samples_leaf=1, min_samples_split=7; total time=   3.2s\n",
            "[CV] END class_weight={0: 1, 1: 1}, max_depth=20, min_samples_leaf=1, min_samples_split=7; total time=   2.3s\n",
            "[CV] END class_weight={0: 1, 1: 1}, max_depth=20, min_samples_leaf=1, min_samples_split=7; total time=   3.5s\n",
            "[CV] END class_weight={0: 1, 1: 100000}, max_depth=40, min_samples_leaf=1, min_samples_split=2; total time=   2.6s\n",
            "[CV] END class_weight={0: 1, 1: 1}, max_depth=20, min_samples_leaf=1, min_samples_split=7; total time=   3.3s\n",
            "[CV] END class_weight={0: 1, 1: 100000}, max_depth=40, min_samples_leaf=1, min_samples_split=2; total time=   2.6s\n",
            "[CV] END class_weight={0: 1, 1: 10}, max_depth=70, min_samples_leaf=1, min_samples_split=2; total time=   2.5s\n",
            "[CV] END class_weight={0: 1, 1: 100000}, max_depth=40, min_samples_leaf=1, min_samples_split=2; total time=   3.8s\n",
            "[CV] END class_weight={0: 1, 1: 100}, max_depth=100, min_samples_leaf=1, min_samples_split=7; total time=   1.7s\n",
            "[CV] END class_weight={0: 1, 1: 10}, max_depth=70, min_samples_leaf=1, min_samples_split=2; total time=   2.7s\n",
            "[CV] END class_weight={0: 1, 1: 100}, max_depth=100, min_samples_leaf=1, min_samples_split=7; total time=   2.3s\n",
            "[CV] END class_weight={0: 1, 1: 10}, max_depth=70, min_samples_leaf=1, min_samples_split=2; total time=   2.4s\n",
            "[CV] END class_weight={0: 1, 1: 10}, max_depth=70, min_samples_leaf=1, min_samples_split=2; total time=   2.9s\n",
            "[CV] END class_weight={0: 1, 1: 10}, max_depth=70, min_samples_leaf=1, min_samples_split=2; total time=   2.8s\n",
            "[CV] END class_weight={0: 1, 1: 100000}, max_depth=40, min_samples_leaf=1, min_samples_split=2; total time=   3.6s\n",
            "[CV] END class_weight={0: 1, 1: 100000}, max_depth=40, min_samples_leaf=1, min_samples_split=2; total time=   3.6s\n",
            "[CV] END class_weight={0: 1, 1: 100}, max_depth=100, min_samples_leaf=1, min_samples_split=7; total time=   1.7s\n",
            "[CV] END class_weight={0: 1, 1: 100}, max_depth=100, min_samples_leaf=1, min_samples_split=7; total time=   2.3s\n",
            "[CV] END class_weight={0: 1, 1: 100}, max_depth=100, min_samples_leaf=1, min_samples_split=7; total time=   2.1s\n",
            "[CV] END class_weight={0: 1, 1: 1}, max_depth=60, min_samples_leaf=3, min_samples_split=7; total time=   3.3s\n",
            "[CV] END class_weight={0: 1, 1: 100000}, max_depth=30, min_samples_leaf=1, min_samples_split=2; total time=   2.9s\n",
            "[CV] END class_weight={0: 1, 1: 100000}, max_depth=30, min_samples_leaf=1, min_samples_split=2; total time=   3.0s\n",
            "[CV] END class_weight={0: 1, 1: 1}, max_depth=60, min_samples_leaf=3, min_samples_split=7; total time=   3.5s\n",
            "[CV] END class_weight={0: 1, 1: 1}, max_depth=60, min_samples_leaf=3, min_samples_split=7; total time=   3.6s\n",
            "[CV] END class_weight={0: 1, 1: 1}, max_depth=60, min_samples_leaf=3, min_samples_split=7; total time=   3.7s\n",
            "[CV] END class_weight={0: 1, 1: 1}, max_depth=60, min_samples_leaf=3, min_samples_split=7; total time=   3.8s\n",
            "[CV] END class_weight={0: 1, 1: 100000}, max_depth=30, min_samples_leaf=1, min_samples_split=2; total time=   2.8s\n",
            "[CV] END class_weight={0: 1, 1: 100000}, max_depth=30, min_samples_leaf=1, min_samples_split=2; total time=   2.3s\n",
            "[CV] END class_weight={0: 1, 1: 100000}, max_depth=30, min_samples_leaf=1, min_samples_split=2; total time=   2.9s\n",
            "[CV] END class_weight={0: 1, 1: 100}, max_depth=60, min_samples_leaf=1, min_samples_split=7; total time=   1.6s\n",
            "[CV] END class_weight={0: 1, 1: 100}, max_depth=60, min_samples_leaf=1, min_samples_split=7; total time=   2.2s\n",
            "[CV] END class_weight={0: 1, 1: 1000}, max_depth=20, min_samples_leaf=1, min_samples_split=2; total time=   1.3s\n",
            "[CV] END class_weight={0: 1, 1: 1000}, max_depth=20, min_samples_leaf=1, min_samples_split=2; total time=   1.2s\n",
            "[CV] END class_weight={0: 1, 1: 100}, max_depth=60, min_samples_leaf=1, min_samples_split=7; total time=   1.8s\n",
            "[CV] END class_weight={0: 1, 1: 100}, max_depth=60, min_samples_leaf=1, min_samples_split=7; total time=   1.6s\n",
            "[CV] END class_weight={0: 1, 1: 1000}, max_depth=20, min_samples_leaf=1, min_samples_split=2; total time=   1.4s\n",
            "[CV] END class_weight={0: 1, 1: 100}, max_depth=60, min_samples_leaf=1, min_samples_split=7; total time=   2.0s\n",
            "[CV] END class_weight={0: 1, 1: 1000}, max_depth=20, min_samples_leaf=1, min_samples_split=2; total time=   1.5s\n",
            "[CV] END class_weight={0: 1, 1: 1000}, max_depth=20, min_samples_leaf=1, min_samples_split=2; total time=   1.9s\n",
            "[CV] END class_weight={0: 1, 1: 10}, max_depth=20, min_samples_leaf=1, min_samples_split=2; total time=   1.8s\n",
            "[CV] END class_weight={0: 1, 1: 10}, max_depth=20, min_samples_leaf=1, min_samples_split=2; total time=   2.9s\n",
            "[CV] END class_weight={0: 1, 1: 10}, max_depth=20, min_samples_leaf=1, min_samples_split=2; total time=   3.1s\n",
            "[CV] END class_weight={0: 1, 1: 10}, max_depth=20, min_samples_leaf=1, min_samples_split=2; total time=   3.1s\n",
            "[CV] END class_weight={0: 1, 1: 1}, max_depth=70, min_samples_leaf=1, min_samples_split=7; total time=   3.1s\n",
            "[CV] END class_weight={0: 1, 1: 10}, max_depth=20, min_samples_leaf=1, min_samples_split=2; total time=   3.4s\n",
            "[CV] END class_weight={0: 1, 1: 1}, max_depth=70, min_samples_leaf=1, min_samples_split=7; total time=   3.3s\n",
            "[CV] END class_weight={0: 1, 1: 1}, max_depth=70, min_samples_leaf=1, min_samples_split=7; total time=   4.7s\n",
            "[CV] END class_weight={0: 1, 1: 1}, max_depth=70, min_samples_leaf=1, min_samples_split=7; total time=   5.0s\n",
            "[CV] END class_weight={0: 1, 1: 1}, max_depth=70, min_samples_leaf=1, min_samples_split=7; total time=   4.4s\n",
            "[CV] END class_weight={0: 1, 1: 10000}, max_depth=100, min_samples_leaf=3, min_samples_split=2; total time=   6.3s\n",
            "[CV] END class_weight={0: 1, 1: 10000}, max_depth=100, min_samples_leaf=3, min_samples_split=2; total time=   5.7s\n",
            "[CV] END class_weight={0: 1, 1: 10000}, max_depth=100, min_samples_leaf=3, min_samples_split=2; total time=   5.5s\n",
            "[CV] END class_weight={0: 1, 1: 10000}, max_depth=100, min_samples_leaf=3, min_samples_split=2; total time=   5.3s\n",
            "[CV] END class_weight={0: 1, 1: 10000}, max_depth=100, min_samples_leaf=3, min_samples_split=2; total time=   5.7s\n"
          ]
        },
        {
          "data": {
            "text/html": [
              "<style>#sk-container-id-11 {color: black;}#sk-container-id-11 pre{padding: 0;}#sk-container-id-11 div.sk-toggleable {background-color: white;}#sk-container-id-11 label.sk-toggleable__label {cursor: pointer;display: block;width: 100%;margin-bottom: 0;padding: 0.3em;box-sizing: border-box;text-align: center;}#sk-container-id-11 label.sk-toggleable__label-arrow:before {content: \"▸\";float: left;margin-right: 0.25em;color: #696969;}#sk-container-id-11 label.sk-toggleable__label-arrow:hover:before {color: black;}#sk-container-id-11 div.sk-estimator:hover label.sk-toggleable__label-arrow:before {color: black;}#sk-container-id-11 div.sk-toggleable__content {max-height: 0;max-width: 0;overflow: hidden;text-align: left;background-color: #f0f8ff;}#sk-container-id-11 div.sk-toggleable__content pre {margin: 0.2em;color: black;border-radius: 0.25em;background-color: #f0f8ff;}#sk-container-id-11 input.sk-toggleable__control:checked~div.sk-toggleable__content {max-height: 200px;max-width: 100%;overflow: auto;}#sk-container-id-11 input.sk-toggleable__control:checked~label.sk-toggleable__label-arrow:before {content: \"▾\";}#sk-container-id-11 div.sk-estimator input.sk-toggleable__control:checked~label.sk-toggleable__label {background-color: #d4ebff;}#sk-container-id-11 div.sk-label input.sk-toggleable__control:checked~label.sk-toggleable__label {background-color: #d4ebff;}#sk-container-id-11 input.sk-hidden--visually {border: 0;clip: rect(1px 1px 1px 1px);clip: rect(1px, 1px, 1px, 1px);height: 1px;margin: -1px;overflow: hidden;padding: 0;position: absolute;width: 1px;}#sk-container-id-11 div.sk-estimator {font-family: monospace;background-color: #f0f8ff;border: 1px dotted black;border-radius: 0.25em;box-sizing: border-box;margin-bottom: 0.5em;}#sk-container-id-11 div.sk-estimator:hover {background-color: #d4ebff;}#sk-container-id-11 div.sk-parallel-item::after {content: \"\";width: 100%;border-bottom: 1px solid gray;flex-grow: 1;}#sk-container-id-11 div.sk-label:hover label.sk-toggleable__label {background-color: #d4ebff;}#sk-container-id-11 div.sk-serial::before {content: \"\";position: absolute;border-left: 1px solid gray;box-sizing: border-box;top: 0;bottom: 0;left: 50%;z-index: 0;}#sk-container-id-11 div.sk-serial {display: flex;flex-direction: column;align-items: center;background-color: white;padding-right: 0.2em;padding-left: 0.2em;position: relative;}#sk-container-id-11 div.sk-item {position: relative;z-index: 1;}#sk-container-id-11 div.sk-parallel {display: flex;align-items: stretch;justify-content: center;background-color: white;position: relative;}#sk-container-id-11 div.sk-item::before, #sk-container-id-11 div.sk-parallel-item::before {content: \"\";position: absolute;border-left: 1px solid gray;box-sizing: border-box;top: 0;bottom: 0;left: 50%;z-index: -1;}#sk-container-id-11 div.sk-parallel-item {display: flex;flex-direction: column;z-index: 1;position: relative;background-color: white;}#sk-container-id-11 div.sk-parallel-item:first-child::after {align-self: flex-end;width: 50%;}#sk-container-id-11 div.sk-parallel-item:last-child::after {align-self: flex-start;width: 50%;}#sk-container-id-11 div.sk-parallel-item:only-child::after {width: 0;}#sk-container-id-11 div.sk-dashed-wrapped {border: 1px dashed gray;margin: 0 0.4em 0.5em 0.4em;box-sizing: border-box;padding-bottom: 0.4em;background-color: white;}#sk-container-id-11 div.sk-label label {font-family: monospace;font-weight: bold;display: inline-block;line-height: 1.2em;}#sk-container-id-11 div.sk-label-container {text-align: center;}#sk-container-id-11 div.sk-container {/* jupyter's `normalize.less` sets `[hidden] { display: none; }` but bootstrap.min.css set `[hidden] { display: none !important; }` so we also need the `!important` here to be able to override the default hidden behavior on the sphinx rendered scikit-learn.org. See: https://github.com/scikit-learn/scikit-learn/issues/21755 */display: inline-block !important;position: relative;}#sk-container-id-11 div.sk-text-repr-fallback {display: none;}</style><div id=\"sk-container-id-11\" class=\"sk-top-container\"><div class=\"sk-text-repr-fallback\"><pre>RandomizedSearchCV(cv=5, estimator=DecisionTreeClassifier(), n_iter=50,\n",
              "                   n_jobs=-1,\n",
              "                   param_distributions={&#x27;class_weight&#x27;: [{0: 1, 1: 1},\n",
              "                                                         {0: 1, 1: 10},\n",
              "                                                         {0: 1, 1: 100},\n",
              "                                                         {0: 1, 1: 1000},\n",
              "                                                         {0: 1, 1: 10000},\n",
              "                                                         {0: 1, 1: 100000},\n",
              "                                                         {0: 1, 1: 1000000}],\n",
              "                                        &#x27;max_depth&#x27;: [10, 20, 30, 40, 50, 60,\n",
              "                                                      70, 80, 90, 100],\n",
              "                                        &#x27;min_samples_leaf&#x27;: [1, 3],\n",
              "                                        &#x27;min_samples_split&#x27;: [2, 7]},\n",
              "                   random_state=61, scoring=&#x27;f1&#x27;, verbose=2)</pre><b>In a Jupyter environment, please rerun this cell to show the HTML representation or trust the notebook. <br />On GitHub, the HTML representation is unable to render, please try loading this page with nbviewer.org.</b></div><div class=\"sk-container\" hidden><div class=\"sk-item sk-dashed-wrapped\"><div class=\"sk-label-container\"><div class=\"sk-label sk-toggleable\"><input class=\"sk-toggleable__control sk-hidden--visually\" id=\"sk-estimator-id-31\" type=\"checkbox\" ><label for=\"sk-estimator-id-31\" class=\"sk-toggleable__label sk-toggleable__label-arrow\">RandomizedSearchCV</label><div class=\"sk-toggleable__content\"><pre>RandomizedSearchCV(cv=5, estimator=DecisionTreeClassifier(), n_iter=50,\n",
              "                   n_jobs=-1,\n",
              "                   param_distributions={&#x27;class_weight&#x27;: [{0: 1, 1: 1},\n",
              "                                                         {0: 1, 1: 10},\n",
              "                                                         {0: 1, 1: 100},\n",
              "                                                         {0: 1, 1: 1000},\n",
              "                                                         {0: 1, 1: 10000},\n",
              "                                                         {0: 1, 1: 100000},\n",
              "                                                         {0: 1, 1: 1000000}],\n",
              "                                        &#x27;max_depth&#x27;: [10, 20, 30, 40, 50, 60,\n",
              "                                                      70, 80, 90, 100],\n",
              "                                        &#x27;min_samples_leaf&#x27;: [1, 3],\n",
              "                                        &#x27;min_samples_split&#x27;: [2, 7]},\n",
              "                   random_state=61, scoring=&#x27;f1&#x27;, verbose=2)</pre></div></div></div><div class=\"sk-parallel\"><div class=\"sk-parallel-item\"><div class=\"sk-item\"><div class=\"sk-label-container\"><div class=\"sk-label sk-toggleable\"><input class=\"sk-toggleable__control sk-hidden--visually\" id=\"sk-estimator-id-32\" type=\"checkbox\" ><label for=\"sk-estimator-id-32\" class=\"sk-toggleable__label sk-toggleable__label-arrow\">estimator: DecisionTreeClassifier</label><div class=\"sk-toggleable__content\"><pre>DecisionTreeClassifier()</pre></div></div></div><div class=\"sk-serial\"><div class=\"sk-item\"><div class=\"sk-estimator sk-toggleable\"><input class=\"sk-toggleable__control sk-hidden--visually\" id=\"sk-estimator-id-33\" type=\"checkbox\" ><label for=\"sk-estimator-id-33\" class=\"sk-toggleable__label sk-toggleable__label-arrow\">DecisionTreeClassifier</label><div class=\"sk-toggleable__content\"><pre>DecisionTreeClassifier()</pre></div></div></div></div></div></div></div></div></div></div>"
            ],
            "text/plain": [
              "RandomizedSearchCV(cv=5, estimator=DecisionTreeClassifier(), n_iter=50,\n",
              "                   n_jobs=-1,\n",
              "                   param_distributions={'class_weight': [{0: 1, 1: 1},\n",
              "                                                         {0: 1, 1: 10},\n",
              "                                                         {0: 1, 1: 100},\n",
              "                                                         {0: 1, 1: 1000},\n",
              "                                                         {0: 1, 1: 10000},\n",
              "                                                         {0: 1, 1: 100000},\n",
              "                                                         {0: 1, 1: 1000000}],\n",
              "                                        'max_depth': [10, 20, 30, 40, 50, 60,\n",
              "                                                      70, 80, 90, 100],\n",
              "                                        'min_samples_leaf': [1, 3],\n",
              "                                        'min_samples_split': [2, 7]},\n",
              "                   random_state=61, scoring='f1', verbose=2)"
            ]
          },
          "execution_count": 95,
          "metadata": {},
          "output_type": "execute_result"
        }
      ],
      "source": [
        "# Decision Tree model\n",
        "from sklearn.tree import DecisionTreeClassifier\n",
        "\n",
        "# Maximum number of levels in tree\n",
        "max_depth = [int(x) for x in np.linspace(10, 100, num = 10)]\n",
        "\n",
        "# Minimum number of samples required to split a node\n",
        "min_samples_split = [2, 7]\n",
        "\n",
        "# Minimum number of samples required at each leaf node\n",
        "min_samples_leaf = [1, 3]\n",
        "\n",
        "# Define class weights\n",
        "class_weights = [{0:1, 1:1}, {0:1, 1:10}, {0:1, 1:100}, {0:1, 1:1000}, {0:1, 1:10000}, {0:1, 1:100000}, {0:1, 1:1000000}]\n",
        "\n",
        "# Create the random grid\n",
        "random_grid = {'max_depth': max_depth,\n",
        "               'min_samples_split': min_samples_split,\n",
        "               'min_samples_leaf': min_samples_leaf,\n",
        "                'class_weight': class_weights}\n",
        "\n",
        "# Use the random grid to search for best hyperparameters\n",
        "dt = DecisionTreeClassifier()\n",
        "\n",
        "# Random search of parameters, using 5 fold cross validation,\n",
        "# search across 100 different combinations, and use all available cores\n",
        "dt_random = RandomizedSearchCV(estimator = dt,\n",
        "                               param_distributions = random_grid,\n",
        "                               n_iter = 50,\n",
        "                               cv = 5,\n",
        "                               verbose=2,\n",
        "                               random_state=61,\n",
        "                               n_jobs = -1,\n",
        "                               scoring='f1')\n",
        "# Fit the random search model\n",
        "dt_random.fit(X_train, y_train)"
      ]
    },
    {
      "cell_type": "code",
      "execution_count": 96,
      "metadata": {
        "colab": {
          "base_uri": "https://localhost:8080/"
        },
        "id": "tKaQyUyVSR-n",
        "outputId": "3ca85447-871d-443a-ea32-166111885c46"
      },
      "outputs": [
        {
          "name": "stdout",
          "output_type": "stream",
          "text": [
            "{'min_samples_split': 2, 'min_samples_leaf': 3, 'max_depth': 10, 'class_weight': {0: 1, 1: 1}}\n",
            "0.5584118823387515\n"
          ]
        }
      ],
      "source": [
        "# Get the best parameters\n",
        "print(dt_random.best_params_)\n",
        "\n",
        "# Get the best train performance\n",
        "print(dt_random.best_score_)"
      ]
    },
    {
      "cell_type": "code",
      "execution_count": 97,
      "metadata": {},
      "outputs": [
        {
          "name": "stdout",
          "output_type": "stream",
          "text": [
            "Accuracy:  0.95917225950783\n",
            "Precision:  0.6923076923076923\n",
            "Recall:  0.34806629834254144\n",
            "F1:  0.46323529411764713\n"
          ]
        }
      ],
      "source": [
        "# Get the performance metrics\n",
        "best_random = dt_random.best_estimator_\n",
        "y_pred = best_random.predict(X_test)\n",
        "print(\"Accuracy: \", accuracy_score(y_test, y_pred))\n",
        "print(\"Precision: \", precision_score(y_test, y_pred))\n",
        "print(\"Recall: \", recall_score(y_test, y_pred))\n",
        "print(\"F1: \", f1_score(y_test, y_pred))"
      ]
    },
    {
      "cell_type": "code",
      "execution_count": 98,
      "metadata": {},
      "outputs": [
        {
          "data": {
            "text/html": [
              "<div>\n",
              "<style scoped>\n",
              "    .dataframe tbody tr th:only-of-type {\n",
              "        vertical-align: middle;\n",
              "    }\n",
              "\n",
              "    .dataframe tbody tr th {\n",
              "        vertical-align: top;\n",
              "    }\n",
              "\n",
              "    .dataframe thead th {\n",
              "        text-align: right;\n",
              "    }\n",
              "</style>\n",
              "<table border=\"1\" class=\"dataframe\">\n",
              "  <thead>\n",
              "    <tr style=\"text-align: right;\">\n",
              "      <th></th>\n",
              "      <th>importance</th>\n",
              "    </tr>\n",
              "  </thead>\n",
              "  <tbody>\n",
              "    <tr>\n",
              "      <th>department_mean_target</th>\n",
              "      <td>0.350392</td>\n",
              "    </tr>\n",
              "    <tr>\n",
              "      <th>adjs_vs_words_company_profile</th>\n",
              "      <td>0.095770</td>\n",
              "    </tr>\n",
              "    <tr>\n",
              "      <th>country_ratio</th>\n",
              "      <td>0.060538</td>\n",
              "    </tr>\n",
              "    <tr>\n",
              "      <th>industry_frequency</th>\n",
              "      <td>0.060017</td>\n",
              "    </tr>\n",
              "    <tr>\n",
              "      <th>adjs_vs_length_company_profile</th>\n",
              "      <td>0.040947</td>\n",
              "    </tr>\n",
              "    <tr>\n",
              "      <th>verbs_vs_words_company_profile</th>\n",
              "      <td>0.030477</td>\n",
              "    </tr>\n",
              "    <tr>\n",
              "      <th>education_frequency</th>\n",
              "      <td>0.026030</td>\n",
              "    </tr>\n",
              "    <tr>\n",
              "      <th>propns_vs_length_requirements</th>\n",
              "      <td>0.023983</td>\n",
              "    </tr>\n",
              "    <tr>\n",
              "      <th>nouns_vs_words_company_profile</th>\n",
              "      <td>0.023662</td>\n",
              "    </tr>\n",
              "    <tr>\n",
              "      <th>num_of_nouns_description</th>\n",
              "      <td>0.020040</td>\n",
              "    </tr>\n",
              "    <tr>\n",
              "      <th>adjs_vs_words_description</th>\n",
              "      <td>0.019666</td>\n",
              "    </tr>\n",
              "    <tr>\n",
              "      <th>verbs_vs_words_benefits</th>\n",
              "      <td>0.018288</td>\n",
              "    </tr>\n",
              "    <tr>\n",
              "      <th>verbs_vs_length_description</th>\n",
              "      <td>0.016767</td>\n",
              "    </tr>\n",
              "    <tr>\n",
              "      <th>adjs_vs_words_requirements</th>\n",
              "      <td>0.015959</td>\n",
              "    </tr>\n",
              "    <tr>\n",
              "      <th>propns_vs_length_benefits</th>\n",
              "      <td>0.013738</td>\n",
              "    </tr>\n",
              "    <tr>\n",
              "      <th>department_frequency</th>\n",
              "      <td>0.011977</td>\n",
              "    </tr>\n",
              "    <tr>\n",
              "      <th>has_company_logo</th>\n",
              "      <td>0.011795</td>\n",
              "    </tr>\n",
              "    <tr>\n",
              "      <th>nouns_vs_length_description</th>\n",
              "      <td>0.011513</td>\n",
              "    </tr>\n",
              "    <tr>\n",
              "      <th>num_of_nouns_benefits</th>\n",
              "      <td>0.010591</td>\n",
              "    </tr>\n",
              "    <tr>\n",
              "      <th>sentiment score_benefits</th>\n",
              "      <td>0.010232</td>\n",
              "    </tr>\n",
              "  </tbody>\n",
              "</table>\n",
              "</div>"
            ],
            "text/plain": [
              "                                importance\n",
              "department_mean_target            0.350392\n",
              "adjs_vs_words_company_profile     0.095770\n",
              "country_ratio                     0.060538\n",
              "industry_frequency                0.060017\n",
              "adjs_vs_length_company_profile    0.040947\n",
              "verbs_vs_words_company_profile    0.030477\n",
              "education_frequency               0.026030\n",
              "propns_vs_length_requirements     0.023983\n",
              "nouns_vs_words_company_profile    0.023662\n",
              "num_of_nouns_description          0.020040\n",
              "adjs_vs_words_description         0.019666\n",
              "verbs_vs_words_benefits           0.018288\n",
              "verbs_vs_length_description       0.016767\n",
              "adjs_vs_words_requirements        0.015959\n",
              "propns_vs_length_benefits         0.013738\n",
              "department_frequency              0.011977\n",
              "has_company_logo                  0.011795\n",
              "nouns_vs_length_description       0.011513\n",
              "num_of_nouns_benefits             0.010591\n",
              "sentiment score_benefits          0.010232"
            ]
          },
          "execution_count": 98,
          "metadata": {},
          "output_type": "execute_result"
        }
      ],
      "source": [
        "# Get the most important features of best random forest model\n",
        "feature_importances = pd.DataFrame(best_random.feature_importances_,\n",
        "                                      index = X_train.columns,\n",
        "                                      columns=['importance']).sort_values('importance', ascending=False)\n",
        "feature_importances.head(20)"
      ]
    },
    {
      "cell_type": "code",
      "execution_count": 99,
      "metadata": {},
      "outputs": [
        {
          "name": "stdout",
          "output_type": "stream",
          "text": [
            "Accuracy:  0.9642058165548099\n",
            "Precision:  0.7572815533980582\n",
            "Recall:  0.430939226519337\n",
            "F1:  0.5492957746478873\n"
          ]
        }
      ],
      "source": [
        "# Keep the top 20 features\n",
        "top_20_features = feature_importances.head(20).index\n",
        "X_train_20 = X_train[top_20_features]\n",
        "X_test_20 = X_test[top_20_features]\n",
        "\n",
        "# Train the model with top 20 features\n",
        "dt_model_test = DecisionTreeClassifier(max_depth=10,\n",
        "                                        min_samples_split=2,\n",
        "                                        min_samples_leaf=3,\n",
        "                                        random_state=61,\n",
        "                                        class_weight={0:1, 1:1})\n",
        "\n",
        "dt_model_test.fit(X_train_20, y_train)\n",
        "\n",
        "y_pred = dt_model_test.predict(X_test_20)\n",
        "print(\"Accuracy: \", accuracy_score(y_test, y_pred))\n",
        "print(\"Precision: \", precision_score(y_test, y_pred))\n",
        "print(\"Recall: \", recall_score(y_test, y_pred))\n",
        "print(\"F1: \", f1_score(y_test, y_pred))"
      ]
    }
  ],
  "metadata": {
    "colab": {
      "provenance": []
    },
    "kernelspec": {
      "display_name": "Python 3",
      "name": "python3"
    },
    "language_info": {
      "codemirror_mode": {
        "name": "ipython",
        "version": 3
      },
      "file_extension": ".py",
      "mimetype": "text/x-python",
      "name": "python",
      "nbconvert_exporter": "python",
      "pygments_lexer": "ipython3",
      "version": "3.11.3"
    }
  },
  "nbformat": 4,
  "nbformat_minor": 0
}
